{
 "cells": [
  {
   "cell_type": "markdown",
   "metadata": {},
   "source": [
    "## Daily Fetch\n",
    "* This appends a player's existing individual dataset with all the new games up to real-time. \n",
    "* Ideally this will be run every day, but minimum every season. "
   ]
  },
  {
   "cell_type": "code",
   "execution_count": 7,
   "metadata": {},
   "outputs": [],
   "source": [
    "import requests\n",
    "from bs4 import BeautifulSoup\n",
    "import pandas as pd\n",
    "import pprint\n",
    "import re\n",
    "from dateutil import parser\n",
    "import time\n",
    "from datetime import datetime\n",
    "import os"
   ]
  },
  {
   "cell_type": "code",
   "execution_count": 2,
   "metadata": {},
   "outputs": [],
   "source": [
    "def fetch_b_game_log(player_id, year):\n",
    "    # Construct the URL for the batter's game log for the given year\n",
    "    url = f'https://www.baseball-reference.com/players/gl.fcgi?id={player_id}&t=b&year={year}'\n",
    "    response = requests.get(url)\n",
    "    \n",
    "    # Check if the request was successful\n",
    "    if response.status_code != 200:\n",
    "        print(f\" BAD - Failed to fetch data for batter {player_id} in {year}\")\n",
    "        return None\n",
    "    \n",
    "    # Parse the HTML content using BeautifulSoup\n",
    "    soup = BeautifulSoup(response.content, 'html.parser')\n",
    "    # Find the table containing the game logs\n",
    "    table = soup.find('table', {'id': 'batting_gamelogs'})\n",
    "    \n",
    "    # Check if the table is found\n",
    "    if table is None:\n",
    "        print(f\"No data found for batter {player_id} in {year} - OK\")\n",
    "        return None\n",
    "    \n",
    "    # Read the table into a pandas DataFrame\n",
    "    df = pd.read_html(str(table))[0]\n",
    "    \n",
    "    # Remove rows where 'Rk' is not a number (header rows that repeat in the table)\n",
    "    df = df[pd.to_numeric(df['Rk'], errors='coerce').notnull()]\n",
    "    \n",
    "    # Add the year to the 'Date' column if the year is not already present\n",
    "    df['Date'] = df['Date'].apply(lambda x: f\"{x}, {year}\" if '(' not in x else x)\n",
    "    \n",
    "    # Extract the value from parentheses (if present) and assign it to a new column 'dbl'\n",
    "    df['dbl'] = df['Date'].str.extract(r'\\((\\d+)\\)').astype(float)\n",
    "    \n",
    "    # Add the year to the 'Date' column for doubleheader dates\n",
    "    df.loc[df['dbl'].notnull(), 'Date'] = df['Date'] + ', ' + str(year)\n",
    "    \n",
    "    # Format 'Date' to 'game_date' in YYYY-MM-DD format\n",
    "    df['game_date'] = pd.to_datetime(df['Date'], errors='coerce').dt.strftime('%Y-%m-%d')\n",
    "    \n",
    "    return df\n"
   ]
  },
  {
   "cell_type": "code",
   "execution_count": 3,
   "metadata": {},
   "outputs": [],
   "source": [
    "def fetch_p_game_log(player_id, year):\n",
    "    # Construct the URL for the pitcher's game log for the given year\n",
    "    url = f'https://www.baseball-reference.com/players/gl.fcgi?id={player_id}&t=p&year={year}'\n",
    "    response = requests.get(url)\n",
    "    \n",
    "    # Check if the request was successful\n",
    "    if response.status_code != 200:\n",
    "        print(f\" BAD - Failed to fetch data for pitcher {player_id} in {year}\")\n",
    "        return None\n",
    "    \n",
    "    # Parse the HTML content using BeautifulSoup\n",
    "    soup = BeautifulSoup(response.content, 'html.parser')\n",
    "    # Find the table containing the game logs\n",
    "    table = soup.find('table', {'id': 'pitching_gamelogs'})\n",
    "    \n",
    "    # Check if the table is found\n",
    "    if table is None:\n",
    "        print(f\"No data found for pitcher {player_id} in {year} - OK\")\n",
    "        return None\n",
    "    \n",
    "    # Read the table into a pandas DataFrame\n",
    "    df = pd.read_html(str(table))[0]\n",
    "    \n",
    "    # Remove rows where 'Rk' is not a number (header rows that repeat in the table)\n",
    "    df = df[pd.to_numeric(df['Rk'], errors='coerce').notnull()]\n",
    "    \n",
    "    # Add the year to the 'Date' column if the year is not already present\n",
    "    df['Date'] = df['Date'].apply(lambda x: f\"{x}, {year}\" if '(' not in x else x)\n",
    "    \n",
    "    # Extract the value from parentheses (if present) and assign it to a new column 'dbl'\n",
    "    df['dbl'] = df['Date'].str.extract(r'\\((\\d+)\\)').astype(float)\n",
    "    \n",
    "    # Add the year to the 'Date' column for doubleheader dates\n",
    "    df.loc[df['dbl'].notnull(), 'Date'] = df['Date'] + ', ' + str(year)\n",
    "    \n",
    "    # Format 'Date' to 'game_date' in YYYY-MM-DD format\n",
    "    df['game_date'] = pd.to_datetime(df['Date'], errors='coerce').dt.strftime('%Y-%m-%d')\n",
    "    \n",
    "    return df"
   ]
  },
  {
   "cell_type": "code",
   "execution_count": 4,
   "metadata": {},
   "outputs": [],
   "source": [
    "# Function to clean and parse dates\n",
    "def clean_date(date_str, year):\n",
    "    try:\n",
    "        # Replace invisible characters like U+00A0 with a space\n",
    "        date_str = date_str.replace('\\xa0', ' ')\n",
    "        # Remove any null characters and non-printable characters\n",
    "        date_str = re.sub(r'[\\x00-\\x1f\\x7f-\\x9f]', '', date_str)\n",
    "        # Remove unwanted characters and extra text like \"(1)\" or \"susp\"\n",
    "        date_str = re.sub(r'\\(.*?\\)', '', date_str)  # Remove text inside parentheses\n",
    "        date_str = ''.join(char for char in date_str if char.isalnum() or char.isspace() or char == ',')\n",
    "        # Remove specific unwanted words like \"susp\"\n",
    "        date_str = date_str.replace('susp', '').strip()\n",
    "        # Parse the cleaned string to a date object\n",
    "        parsed_date = parser.parse(date_str)\n",
    "        # Force the year to be 2021\n",
    "        parsed_date = parsed_date.replace(year=year)\n",
    "        # Format the date to 'YYYY-MM-DD'\n",
    "        #print(parsed_date)\n",
    "        return parsed_date.strftime('%Y-%m-%d')\n",
    "    except Exception as e:\n",
    "        # Print the error for debugging purposes\n",
    "        print(f\"Error parsing date '{date_str}': {e}\")\n",
    "        # Handle any parsing errors by returning None\n",
    "        return None"
   ]
  },
  {
   "cell_type": "markdown",
   "metadata": {},
   "source": [
    "### For all BATTERS"
   ]
  },
  {
   "cell_type": "code",
   "execution_count": 11,
   "metadata": {},
   "outputs": [
    {
     "name": "stdout",
     "output_type": "stream",
     "text": [
      "No data found for batter abbotco01 in 2024 - OK\n"
     ]
    },
    {
     "name": "stderr",
     "output_type": "stream",
     "text": [
      "C:\\Users\\kesse\\AppData\\Local\\Temp\\ipykernel_15612\\1191361702.py:22: FutureWarning: Passing literal html to 'read_html' is deprecated and will be removed in a future version. To read from a literal string, wrap it in a 'StringIO' object.\n",
      "  df = pd.read_html(str(table))[0]\n",
      "C:\\Users\\kesse\\AppData\\Local\\Temp\\ipykernel_15612\\1191361702.py:22: FutureWarning: Passing literal html to 'read_html' is deprecated and will be removed in a future version. To read from a literal string, wrap it in a 'StringIO' object.\n",
      "  df = pd.read_html(str(table))[0]\n",
      "C:\\Users\\kesse\\AppData\\Local\\Temp\\ipykernel_15612\\1191361702.py:22: FutureWarning: Passing literal html to 'read_html' is deprecated and will be removed in a future version. To read from a literal string, wrap it in a 'StringIO' object.\n",
      "  df = pd.read_html(str(table))[0]\n",
      "C:\\Users\\kesse\\AppData\\Local\\Temp\\ipykernel_15612\\1191361702.py:22: FutureWarning: Passing literal html to 'read_html' is deprecated and will be removed in a future version. To read from a literal string, wrap it in a 'StringIO' object.\n",
      "  df = pd.read_html(str(table))[0]\n",
      "C:\\Users\\kesse\\AppData\\Local\\Temp\\ipykernel_15612\\1191361702.py:22: FutureWarning: Passing literal html to 'read_html' is deprecated and will be removed in a future version. To read from a literal string, wrap it in a 'StringIO' object.\n",
      "  df = pd.read_html(str(table))[0]\n"
     ]
    },
    {
     "name": "stdout",
     "output_type": "stream",
     "text": [
      "No data found for batter adamsjo03 in 2024 - OK\n",
      "No data found for batter adamsma01 in 2024 - OK\n"
     ]
    },
    {
     "name": "stderr",
     "output_type": "stream",
     "text": [
      "C:\\Users\\kesse\\AppData\\Local\\Temp\\ipykernel_15612\\1191361702.py:22: FutureWarning: Passing literal html to 'read_html' is deprecated and will be removed in a future version. To read from a literal string, wrap it in a 'StringIO' object.\n",
      "  df = pd.read_html(str(table))[0]\n",
      "C:\\Users\\kesse\\AppData\\Local\\Temp\\ipykernel_15612\\1191361702.py:22: FutureWarning: Passing literal html to 'read_html' is deprecated and will be removed in a future version. To read from a literal string, wrap it in a 'StringIO' object.\n",
      "  df = pd.read_html(str(table))[0]\n"
     ]
    },
    {
     "name": "stdout",
     "output_type": "stream",
     "text": [
      "No data found for batter adonjo01 in 2024 - OK\n"
     ]
    },
    {
     "name": "stderr",
     "output_type": "stream",
     "text": [
      "C:\\Users\\kesse\\AppData\\Local\\Temp\\ipykernel_15612\\1191361702.py:22: FutureWarning: Passing literal html to 'read_html' is deprecated and will be removed in a future version. To read from a literal string, wrap it in a 'StringIO' object.\n",
      "  df = pd.read_html(str(table))[0]\n"
     ]
    },
    {
     "name": "stdout",
     "output_type": "stream",
     "text": [
      "No data found for batter aguilje01 in 2024 - OK\n",
      "No data found for batter aguilry01 in 2024 - OK\n"
     ]
    },
    {
     "name": "stderr",
     "output_type": "stream",
     "text": [
      "C:\\Users\\kesse\\AppData\\Local\\Temp\\ipykernel_15612\\1191361702.py:22: FutureWarning: Passing literal html to 'read_html' is deprecated and will be removed in a future version. To read from a literal string, wrap it in a 'StringIO' object.\n",
      "  df = pd.read_html(str(table))[0]\n"
     ]
    },
    {
     "name": "stdout",
     "output_type": "stream",
     "text": [
      "No data found for batter akinke01 in 2024 - OK\n",
      "No data found for batter akiyash01 in 2024 - OK\n",
      "No data found for batter alanirj01 in 2024 - OK\n",
      "No data found for batter alberha01 in 2024 - OK\n"
     ]
    },
    {
     "name": "stderr",
     "output_type": "stream",
     "text": [
      "C:\\Users\\kesse\\AppData\\Local\\Temp\\ipykernel_15612\\1191361702.py:22: FutureWarning: Passing literal html to 'read_html' is deprecated and will be removed in a future version. To read from a literal string, wrap it in a 'StringIO' object.\n",
      "  df = pd.read_html(str(table))[0]\n"
     ]
    },
    {
     "name": "stdout",
     "output_type": "stream",
     "text": [
      "No data found for batter alcansa01 in 2024 - OK\n",
      "No data found for batter alcanse01 in 2024 - OK\n"
     ]
    },
    {
     "name": "stderr",
     "output_type": "stream",
     "text": [
      "C:\\Users\\kesse\\AppData\\Local\\Temp\\ipykernel_15612\\1191361702.py:22: FutureWarning: Passing literal html to 'read_html' is deprecated and will be removed in a future version. To read from a literal string, wrap it in a 'StringIO' object.\n",
      "  df = pd.read_html(str(table))[0]\n"
     ]
    },
    {
     "name": "stdout",
     "output_type": "stream",
     "text": [
      "No data found for batter alexaty01 in 2024 - OK\n"
     ]
    },
    {
     "ename": "KeyboardInterrupt",
     "evalue": "",
     "output_type": "error",
     "traceback": [
      "\u001b[1;31m---------------------------------------------------------------------------\u001b[0m",
      "\u001b[1;31mKeyboardInterrupt\u001b[0m                         Traceback (most recent call last)",
      "Cell \u001b[1;32mIn[11], line 56\u001b[0m\n\u001b[0;32m     54\u001b[0m \u001b[38;5;66;03m# Fetch data for the current year\u001b[39;00m\n\u001b[0;32m     55\u001b[0m new_data_df \u001b[38;5;241m=\u001b[39m fetch_b_game_log(\u001b[38;5;28mid\u001b[39m, current_year)\n\u001b[1;32m---> 56\u001b[0m \u001b[43mtime\u001b[49m\u001b[38;5;241;43m.\u001b[39;49m\u001b[43msleep\u001b[49m\u001b[43m(\u001b[49m\u001b[38;5;241;43m1\u001b[39;49m\u001b[43m)\u001b[49m\n\u001b[0;32m     58\u001b[0m \u001b[38;5;66;03m# Check if the fetched dataframe is None or empty\u001b[39;00m\n\u001b[0;32m     59\u001b[0m \u001b[38;5;28;01mif\u001b[39;00m new_data_df \u001b[38;5;129;01mis\u001b[39;00m \u001b[38;5;28;01mNone\u001b[39;00m \u001b[38;5;129;01mor\u001b[39;00m new_data_df\u001b[38;5;241m.\u001b[39mempty:\n",
      "\u001b[1;31mKeyboardInterrupt\u001b[0m: "
     ]
    }
   ],
   "source": [
    "idlist = pd.read_csv('batter_ids.csv')\n",
    "batter_ids = idlist.key_bbref\n",
    "\n",
    "game_pks = pd.read_csv('game_pks.csv')\n",
    "\n",
    "# Define the mapping from abbreviated team names to full team names\n",
    "team_id_mapping = {\n",
    "    'WSN': 120,\n",
    "    'MIA': 146,\n",
    "    'TBR': 139,\n",
    "    'ATL' : 144,\n",
    "    'TEX' : 140,\n",
    "    'HOU' : 117,\n",
    "    'SD' : 135,\n",
    "    'SDP' : 135,\n",
    "    'PHI' : 143,\n",
    "    'BAL' : 110,\n",
    "    'SEA' : 136,\n",
    "    'NYM' : 121,\n",
    "    'ARI' : 109,\n",
    "    'LAA' : 108,\n",
    "    'OAK' : 133,\n",
    "    'TOR' : 141,\n",
    "    'CLE' : 114,\n",
    "    'STL' : 138,\n",
    "    'MIN' : 142,\n",
    "    'DET' : 116,\n",
    "    'NYY' : 147,\n",
    "    'SFG' : 137,\n",
    "    'KCR' : 118,\n",
    "    'CWS' : 145,\n",
    "    'CHW' : 145,\n",
    "    'COL' : 115,\n",
    "    'BOS' : 111,\n",
    "    'LAD' : 119,\n",
    "    'CHC' : 112,\n",
    "    'MIL' : 158,\n",
    "    'CIN' : 113,\n",
    "    'PIT' : 134\n",
    "}\n",
    "\n",
    "# Define the current year\n",
    "current_year = 2024\n",
    "\n",
    "# Loop through each batter ID\n",
    "for id in batter_ids:\n",
    "    # Load the existing player data if it exists\n",
    "    player_file_path = f'batters/{id}_batting.csv'\n",
    "    if os.path.exists(player_file_path):\n",
    "        player_df = pd.read_csv(player_file_path)\n",
    "    else:\n",
    "        player_df = pd.DataFrame()\n",
    "\n",
    "    # Fetch data for the current year\n",
    "    new_data_df = fetch_b_game_log(id, current_year)\n",
    "    time.sleep(1)\n",
    "\n",
    "    # Check if the fetched dataframe is None or empty\n",
    "    if new_data_df is None or new_data_df.empty:\n",
    "        continue  # Skip if no data available\n",
    "    \n",
    "    # Apply the function to the date_column and create a new column\n",
    "    new_data_df['game_date'] = new_data_df['Date'].apply(lambda date: clean_date(date, current_year))\n",
    "    new_data_df['Date'] = new_data_df['game_date']\n",
    "\n",
    "    # Ensure the 'Date' column in new_data_df and 'game_date' column in game_pks are in datetime format\n",
    "    new_data_df['Date'] = pd.to_datetime(new_data_df['Date'])\n",
    "    game_pks['game_date'] = pd.to_datetime(game_pks['game_date'])\n",
    "\n",
    "    # Map the team abbreviations to full team names\n",
    "    new_data_df['team_id'] = new_data_df['Tm'].map(team_id_mapping)\n",
    "    new_data_df['opp_id'] = new_data_df['Opp'].map(team_id_mapping)\n",
    "\n",
    "    # Initialize a new column in new_data_df for game_id\n",
    "    new_data_df['game_id'] = None\n",
    "\n",
    "    # Iterate over the rows in new_data_df to find the corresponding game_id in game_pks\n",
    "    for index, row in new_data_df.iterrows():\n",
    "        # Filter the game_pks for the matching date and teams\n",
    "        game_day_matches = game_pks[\n",
    "            (game_pks['game_date'] == row['Date']) &\n",
    "            (\n",
    "                ((game_pks['home_id'] == row['team_id']) & (game_pks['away_id'] == row['opp_id'])) |\n",
    "                ((game_pks['home_id'] == row['opp_id']) & (game_pks['away_id'] == row['team_id']))\n",
    "            )\n",
    "        ]\n",
    "\n",
    "        # Check the 'dbl' column to assign the correct game_id\n",
    "        if not game_day_matches.empty:\n",
    "            if row['dbl'] == 1:\n",
    "                # For the first game of a double-header\n",
    "                game_id = game_day_matches.iloc[0]['game_id']\n",
    "            elif row['dbl'] == 2:\n",
    "                # For the second game of a double-header\n",
    "                if len(game_day_matches) > 1:\n",
    "                    game_id = game_day_matches.iloc[1]['game_id']\n",
    "                else:\n",
    "                    game_id = game_day_matches.iloc[0]['game_id']\n",
    "            else:\n",
    "                # For days without double-headers or unmarked double-headers, take the first game\n",
    "                game_id = game_day_matches.iloc[0]['game_id']\n",
    "            new_data_df.at[index, 'game_id'] = game_id\n",
    "        else:\n",
    "            print(f\"BAD - NO GAME MATCHES FOUND for {id} on {row['Date']}\")\n",
    "\n",
    "    # Concatenate the new data with the existing data, ensuring no duplicates\n",
    "    if not player_df.empty:\n",
    "        combined_df = pd.concat([player_df, new_data_df]).drop_duplicates(subset=['game_id'])\n",
    "    else:\n",
    "        combined_df = new_data_df\n",
    "\n",
    "    # Save the updated player data to a CSV file\n",
    "    combined_df.to_csv(player_file_path, index=False)"
   ]
  },
  {
   "cell_type": "markdown",
   "metadata": {},
   "source": [
    "## For all PITCHERS"
   ]
  },
  {
   "cell_type": "code",
   "execution_count": 13,
   "metadata": {},
   "outputs": [
    {
     "name": "stdout",
     "output_type": "stream",
     "text": [
      "No data found for pitcher abadfe01 in 2024 - OK\n"
     ]
    },
    {
     "name": "stderr",
     "output_type": "stream",
     "text": [
      "C:\\Users\\kesse\\AppData\\Local\\Temp\\ipykernel_15612\\3193811986.py:22: FutureWarning: Passing literal html to 'read_html' is deprecated and will be removed in a future version. To read from a literal string, wrap it in a 'StringIO' object.\n",
      "  df = pd.read_html(str(table))[0]\n"
     ]
    },
    {
     "name": "stdout",
     "output_type": "stream",
     "text": [
      "No data found for pitcher abbotco01 in 2024 - OK\n",
      "No data found for pitcher abreual01 in 2024 - OK\n"
     ]
    },
    {
     "name": "stderr",
     "output_type": "stream",
     "text": [
      "C:\\Users\\kesse\\AppData\\Local\\Temp\\ipykernel_15612\\3193811986.py:22: FutureWarning: Passing literal html to 'read_html' is deprecated and will be removed in a future version. To read from a literal string, wrap it in a 'StringIO' object.\n",
      "  df = pd.read_html(str(table))[0]\n"
     ]
    },
    {
     "name": "stdout",
     "output_type": "stream",
     "text": [
      "No data found for pitcher acevedo01 in 2024 - OK\n",
      "No data found for pitcher actonga01 in 2024 - OK\n"
     ]
    },
    {
     "name": "stderr",
     "output_type": "stream",
     "text": [
      "C:\\Users\\kesse\\AppData\\Local\\Temp\\ipykernel_15612\\3193811986.py:22: FutureWarning: Passing literal html to 'read_html' is deprecated and will be removed in a future version. To read from a literal string, wrap it in a 'StringIO' object.\n",
      "  df = pd.read_html(str(table))[0]\n",
      "C:\\Users\\kesse\\AppData\\Local\\Temp\\ipykernel_15612\\3193811986.py:22: FutureWarning: Passing literal html to 'read_html' is deprecated and will be removed in a future version. To read from a literal string, wrap it in a 'StringIO' object.\n",
      "  df = pd.read_html(str(table))[0]\n"
     ]
    },
    {
     "name": "stdout",
     "output_type": "stream",
     "text": [
      "No data found for pitcher adcocty01 in 2024 - OK\n"
     ]
    },
    {
     "name": "stderr",
     "output_type": "stream",
     "text": [
      "C:\\Users\\kesse\\AppData\\Local\\Temp\\ipykernel_15612\\3193811986.py:22: FutureWarning: Passing literal html to 'read_html' is deprecated and will be removed in a future version. To read from a literal string, wrap it in a 'StringIO' object.\n",
      "  df = pd.read_html(str(table))[0]\n",
      "C:\\Users\\kesse\\AppData\\Local\\Temp\\ipykernel_15612\\220016017.py:108: FutureWarning: The behavior of DataFrame concatenation with empty or all-NA entries is deprecated. In a future version, this will no longer exclude empty or all-NA columns when determining the result dtypes. To retain the old behavior, exclude the relevant entries before the concat operation.\n",
      "  combined_df = pd.concat([player_df, new_data_df]).drop_duplicates(subset=['game_id'])\n"
     ]
    },
    {
     "name": "stdout",
     "output_type": "stream",
     "text": [
      "No data found for pitcher adriaeh01 in 2024 - OK\n",
      "No data found for pitcher aguilmi01 in 2024 - OK\n"
     ]
    },
    {
     "name": "stderr",
     "output_type": "stream",
     "text": [
      "C:\\Users\\kesse\\AppData\\Local\\Temp\\ipykernel_15612\\3193811986.py:22: FutureWarning: Passing literal html to 'read_html' is deprecated and will be removed in a future version. To read from a literal string, wrap it in a 'StringIO' object.\n",
      "  df = pd.read_html(str(table))[0]\n"
     ]
    },
    {
     "name": "stdout",
     "output_type": "stream",
     "text": [
      "No data found for pitcher alanirj01 in 2024 - OK\n",
      "No data found for pitcher alberan01 in 2024 - OK\n",
      "No data found for pitcher alberha01 in 2024 - OK\n"
     ]
    },
    {
     "name": "stderr",
     "output_type": "stream",
     "text": [
      "C:\\Users\\kesse\\AppData\\Local\\Temp\\ipykernel_15612\\3193811986.py:22: FutureWarning: Passing literal html to 'read_html' is deprecated and will be removed in a future version. To read from a literal string, wrap it in a 'StringIO' object.\n",
      "  df = pd.read_html(str(table))[0]\n"
     ]
    },
    {
     "name": "stdout",
     "output_type": "stream",
     "text": [
      "No data found for pitcher alcansa01 in 2024 - OK\n",
      "No data found for pitcher alcanse01 in 2024 - OK\n",
      "No data found for pitcher alexaja01 in 2024 - OK\n"
     ]
    },
    {
     "name": "stderr",
     "output_type": "stream",
     "text": [
      "C:\\Users\\kesse\\AppData\\Local\\Temp\\ipykernel_15612\\3193811986.py:22: FutureWarning: Passing literal html to 'read_html' is deprecated and will be removed in a future version. To read from a literal string, wrap it in a 'StringIO' object.\n",
      "  df = pd.read_html(str(table))[0]\n",
      "C:\\Users\\kesse\\AppData\\Local\\Temp\\ipykernel_15612\\3193811986.py:22: FutureWarning: Passing literal html to 'read_html' is deprecated and will be removed in a future version. To read from a literal string, wrap it in a 'StringIO' object.\n",
      "  df = pd.read_html(str(table))[0]\n"
     ]
    },
    {
     "name": "stdout",
     "output_type": "stream",
     "text": [
      "No data found for pitcher alexyaj01 in 2024 - OK\n",
      "No data found for pitcher allarko01 in 2024 - OK\n",
      "No data found for pitcher alldrca01 in 2024 - OK\n"
     ]
    },
    {
     "name": "stderr",
     "output_type": "stream",
     "text": [
      "C:\\Users\\kesse\\AppData\\Local\\Temp\\ipykernel_15612\\3193811986.py:22: FutureWarning: Passing literal html to 'read_html' is deprecated and will be removed in a future version. To read from a literal string, wrap it in a 'StringIO' object.\n",
      "  df = pd.read_html(str(table))[0]\n",
      "C:\\Users\\kesse\\AppData\\Local\\Temp\\ipykernel_15612\\3193811986.py:22: FutureWarning: Passing literal html to 'read_html' is deprecated and will be removed in a future version. To read from a literal string, wrap it in a 'StringIO' object.\n",
      "  df = pd.read_html(str(table))[0]\n"
     ]
    },
    {
     "ename": "KeyboardInterrupt",
     "evalue": "",
     "output_type": "error",
     "traceback": [
      "\u001b[1;31m---------------------------------------------------------------------------\u001b[0m",
      "\u001b[1;31mKeyboardInterrupt\u001b[0m                         Traceback (most recent call last)",
      "Cell \u001b[1;32mIn[13], line 56\u001b[0m\n\u001b[0;32m     54\u001b[0m \u001b[38;5;66;03m# Fetch data for the current year\u001b[39;00m\n\u001b[0;32m     55\u001b[0m new_data_df \u001b[38;5;241m=\u001b[39m fetch_p_game_log(\u001b[38;5;28mid\u001b[39m, current_year)\n\u001b[1;32m---> 56\u001b[0m \u001b[43mtime\u001b[49m\u001b[38;5;241;43m.\u001b[39;49m\u001b[43msleep\u001b[49m\u001b[43m(\u001b[49m\u001b[38;5;241;43m1\u001b[39;49m\u001b[43m)\u001b[49m\n\u001b[0;32m     58\u001b[0m \u001b[38;5;66;03m# Check if the fetched dataframe is None or empty\u001b[39;00m\n\u001b[0;32m     59\u001b[0m \u001b[38;5;28;01mif\u001b[39;00m new_data_df \u001b[38;5;129;01mis\u001b[39;00m \u001b[38;5;28;01mNone\u001b[39;00m \u001b[38;5;129;01mor\u001b[39;00m new_data_df\u001b[38;5;241m.\u001b[39mempty:\n",
      "\u001b[1;31mKeyboardInterrupt\u001b[0m: "
     ]
    }
   ],
   "source": [
    "idlist = pd.read_csv('pitcher_ids.csv')\n",
    "pitcher_ids = idlist.key_bbref\n",
    "\n",
    "game_pks = pd.read_csv('game_pks.csv')\n",
    "\n",
    "# Define the mapping from abbreviated team names to full team names\n",
    "team_id_mapping = {\n",
    "    'WSN': 120,\n",
    "    'MIA': 146,\n",
    "    'TBR': 139,\n",
    "    'ATL' : 144,\n",
    "    'TEX' : 140,\n",
    "    'HOU' : 117,\n",
    "    'SD' : 135,\n",
    "    'SDP' : 135,\n",
    "    'PHI' : 143,\n",
    "    'BAL' : 110,\n",
    "    'SEA' : 136,\n",
    "    'NYM' : 121,\n",
    "    'ARI' : 109,\n",
    "    'LAA' : 108,\n",
    "    'OAK' : 133,\n",
    "    'TOR' : 141,\n",
    "    'CLE' : 114,\n",
    "    'STL' : 138,\n",
    "    'MIN' : 142,\n",
    "    'DET' : 116,\n",
    "    'NYY' : 147,\n",
    "    'SFG' : 137,\n",
    "    'KCR' : 118,\n",
    "    'CWS' : 145,\n",
    "    'CHW' : 145,\n",
    "    'COL' : 115,\n",
    "    'BOS' : 111,\n",
    "    'LAD' : 119,\n",
    "    'CHC' : 112,\n",
    "    'MIL' : 158,\n",
    "    'CIN' : 113,\n",
    "    'PIT' : 134\n",
    "}\n",
    "\n",
    "# Define the current year\n",
    "current_year = 2024\n",
    "\n",
    "# Loop through each batter ID\n",
    "for id in pitcher_ids:\n",
    "    # Load the existing player data if it exists\n",
    "    player_file_path = f'pitchers/{id}_pitching.csv'\n",
    "    if os.path.exists(player_file_path):\n",
    "        player_df = pd.read_csv(player_file_path)\n",
    "    else:\n",
    "        player_df = pd.DataFrame()\n",
    "\n",
    "    # Fetch data for the current year\n",
    "    new_data_df = fetch_p_game_log(id, current_year)\n",
    "    time.sleep(1)\n",
    "\n",
    "    # Check if the fetched dataframe is None or empty\n",
    "    if new_data_df is None or new_data_df.empty:\n",
    "        continue  # Skip if no data available\n",
    "    \n",
    "    # Apply the function to the date_column and create a new column\n",
    "    new_data_df['game_date'] = new_data_df['Date'].apply(lambda date: clean_date(date, current_year))\n",
    "    new_data_df['Date'] = new_data_df['game_date']\n",
    "\n",
    "    # Ensure the 'Date' column in new_data_df and 'game_date' column in game_pks are in datetime format\n",
    "    new_data_df['Date'] = pd.to_datetime(new_data_df['Date'])\n",
    "    game_pks['game_date'] = pd.to_datetime(game_pks['game_date'])\n",
    "\n",
    "    # Map the team abbreviations to full team names\n",
    "    new_data_df['team_id'] = new_data_df['Tm'].map(team_id_mapping)\n",
    "    new_data_df['opp_id'] = new_data_df['Opp'].map(team_id_mapping)\n",
    "\n",
    "    # Initialize a new column in new_data_df for game_id\n",
    "    new_data_df['game_id'] = None\n",
    "\n",
    "    # Iterate over the rows in new_data_df to find the corresponding game_id in game_pks\n",
    "    for index, row in new_data_df.iterrows():\n",
    "        # Filter the game_pks for the matching date and teams\n",
    "        game_day_matches = game_pks[\n",
    "            (game_pks['game_date'] == row['Date']) &\n",
    "            (\n",
    "                ((game_pks['home_id'] == row['team_id']) & (game_pks['away_id'] == row['opp_id'])) |\n",
    "                ((game_pks['home_id'] == row['opp_id']) & (game_pks['away_id'] == row['team_id']))\n",
    "            )\n",
    "        ]\n",
    "\n",
    "        # Check the 'dbl' column to assign the correct game_id\n",
    "        if not game_day_matches.empty:\n",
    "            if row['dbl'] == 1:\n",
    "                # For the first game of a double-header\n",
    "                game_id = game_day_matches.iloc[0]['game_id']\n",
    "            elif row['dbl'] == 2:\n",
    "                # For the second game of a double-header\n",
    "                if len(game_day_matches) > 1:\n",
    "                    game_id = game_day_matches.iloc[1]['game_id']\n",
    "                else:\n",
    "                    game_id = game_day_matches.iloc[0]['game_id']\n",
    "            else:\n",
    "                # For days without double-headers or unmarked double-headers, take the first game\n",
    "                game_id = game_day_matches.iloc[0]['game_id']\n",
    "            new_data_df.at[index, 'game_id'] = game_id\n",
    "        else:\n",
    "            print(f\"BAD - NO GAME MATCHES FOUND for {id} on {row['Date']}\")\n",
    "\n",
    "    # Concatenate the new data with the existing data, ensuring no duplicates\n",
    "    if not player_df.empty:\n",
    "        combined_df = pd.concat([player_df, new_data_df]).drop_duplicates(subset=['game_id'])\n",
    "    else:\n",
    "        combined_df = new_data_df\n",
    "\n",
    "    # Save the updated player data to a CSV file\n",
    "    combined_df.to_csv(player_file_path, index=False)"
   ]
  },
  {
   "cell_type": "code",
   "execution_count": null,
   "metadata": {},
   "outputs": [],
   "source": []
  }
 ],
 "metadata": {
  "kernelspec": {
   "display_name": "MLBpy",
   "language": "python",
   "name": "python3"
  },
  "language_info": {
   "codemirror_mode": {
    "name": "ipython",
    "version": 3
   },
   "file_extension": ".py",
   "mimetype": "text/x-python",
   "name": "python",
   "nbconvert_exporter": "python",
   "pygments_lexer": "ipython3",
   "version": "3.12.2"
  }
 },
 "nbformat": 4,
 "nbformat_minor": 2
}
