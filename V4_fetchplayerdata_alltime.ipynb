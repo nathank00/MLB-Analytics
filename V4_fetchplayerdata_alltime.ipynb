{
 "cells": [
  {
   "cell_type": "markdown",
   "metadata": {},
   "source": [
    "# This file fetches data and creates each players individual stats dataset\n",
    "###     batting & pitching\n",
    "\n",
    "* stored in 'batters/' and 'pitchers/' \n",
    "* filenames = player ID "
   ]
  },
  {
   "cell_type": "code",
   "execution_count": 14,
   "metadata": {},
   "outputs": [],
   "source": [
    "import requests\n",
    "from bs4 import BeautifulSoup\n",
    "import pandas as pd\n",
    "import pprint\n",
    "import re\n",
    "from dateutil import parser\n",
    "import time\n",
    "import os"
   ]
  },
  {
   "cell_type": "markdown",
   "metadata": {},
   "source": [
    "### 'Fetch b Game Log' Function\n",
    "* This function reads the html content for any batting ID for any year using the baseball-reference site"
   ]
  },
  {
   "cell_type": "code",
   "execution_count": 15,
   "metadata": {},
   "outputs": [],
   "source": [
    "def fetch_b_game_log(player_id, year):\n",
    "    # Construct the URL for the batter's game log for the given year\n",
    "    url = f'https://www.baseball-reference.com/players/gl.fcgi?id={player_id}&t=b&year={year}'\n",
    "    response = requests.get(url)\n",
    "    \n",
    "    # Check if the request was successful\n",
    "    if response.status_code != 200:\n",
    "        print(f\" BAD - Failed to fetch data for batter {player_id} in {year}\")\n",
    "        return None\n",
    "    \n",
    "    # Parse the HTML content using BeautifulSoup\n",
    "    soup = BeautifulSoup(response.content, 'html.parser')\n",
    "    # Find the table containing the game logs\n",
    "    table = soup.find('table', {'id': 'players_standard_batting'})\n",
    "    \n",
    "    # Check if the table is found\n",
    "    if table is None:\n",
    "        print(f\"No data found for batter {player_id} in {year} - OK\")\n",
    "        return None\n",
    "    \n",
    "    # Read the table into a pandas DataFrame\n",
    "    df = pd.read_html(str(table))[0]\n",
    "    \n",
    "    # Remove rows where 'Rk' is not a number (header rows that repeat in the table)\n",
    "    df = df[pd.to_numeric(df['Rk'], errors='coerce').notnull()]\n",
    "    \n",
    "    # Add the year to the 'Date' column if the year is not already present\n",
    "    df['Date'] = df['Date'].apply(lambda x: f\"{x}, {year}\" if '(' not in x else x)\n",
    "    \n",
    "    # Extract the value from parentheses (if present) and assign it to a new column 'dbl'\n",
    "    df['dbl'] = df['Date'].str.extract(r'\\((\\d+)\\)').astype(float)\n",
    "    \n",
    "    # Add the year to the 'Date' column for doubleheader dates\n",
    "    df.loc[df['dbl'].notnull(), 'Date'] = df['Date'] + ', ' + str(year)\n",
    "    \n",
    "    # Format 'Date' to 'game_date' in YYYY-MM-DD format\n",
    "    df['game_date'] = pd.to_datetime(df['Date'], errors='coerce').dt.strftime('%Y-%m-%d')\n",
    "    \n",
    "    return df\n"
   ]
  },
  {
   "cell_type": "markdown",
   "metadata": {},
   "source": [
    "### 'Fetch p Game Log' Function\n",
    "* This function reads the html content for any pitching ID for any year using the baseball-reference site"
   ]
  },
  {
   "cell_type": "code",
   "execution_count": 16,
   "metadata": {},
   "outputs": [],
   "source": [
    "def fetch_p_game_log(player_id, year):\n",
    "    # Construct the URL for the pitcher's game log for the given year\n",
    "    url = f'https://www.baseball-reference.com/players/gl.fcgi?id={player_id}&t=p&year={year}'\n",
    "    response = requests.get(url)\n",
    "    \n",
    "    # Check if the request was successful\n",
    "    if response.status_code != 200:\n",
    "        print(f\"\\n\\n\\n\\n\\n\\n\\n BAD - Failed to fetch data for pitcher {player_id} in {year}\\n\\n\\n\\n\\n\\n\\n\\n\\n\\n\\n\")\n",
    "        return None\n",
    "    \n",
    "    # Parse the HTML content using BeautifulSoup\n",
    "    soup = BeautifulSoup(response.content, 'html.parser')\n",
    "    # Find the table containing the game logs\n",
    "    table = soup.find('table', {'id': 'pitching_gamelogs'})\n",
    "    \n",
    "    # Check if the table is found\n",
    "    if table is None:\n",
    "        print(f\"No data found for pitcher {player_id} in {year} - OK\")\n",
    "        return None\n",
    "    \n",
    "    # Read the table into a pandas DataFrame\n",
    "    df = pd.read_html(str(table))[0]\n",
    "    \n",
    "    # Remove rows where 'Rk' is not a number (header rows that repeat in the table)\n",
    "    df = df[pd.to_numeric(df['Rk'], errors='coerce').notnull()]\n",
    "    \n",
    "    # Add the year to the 'Date' column if the year is not already present\n",
    "    df['Date'] = df['Date'].apply(lambda x: f\"{x}, {year}\" if '(' not in x else x)\n",
    "    \n",
    "    # Extract the value from parentheses (if present) and assign it to a new column 'dbl'\n",
    "    df['dbl'] = df['Date'].str.extract(r'\\((\\d+)\\)').astype(float)\n",
    "    \n",
    "    # Add the year to the 'Date' column for doubleheader dates\n",
    "    df.loc[df['dbl'].notnull(), 'Date'] = df['Date'] + ', ' + str(year)\n",
    "    \n",
    "    # Format 'Date' to 'game_date' in YYYY-MM-DD format\n",
    "    df['game_date'] = pd.to_datetime(df['Date'], errors='coerce').dt.strftime('%Y-%m-%d')\n",
    "    \n",
    "    return df\n"
   ]
  },
  {
   "cell_type": "markdown",
   "metadata": {},
   "source": [
    "### 'Clean_date' Function\n",
    "* This function cleans the dates in the fetched data"
   ]
  },
  {
   "cell_type": "code",
   "execution_count": 17,
   "metadata": {},
   "outputs": [],
   "source": [
    "# Function to clean and parse dates\n",
    "def clean_date(date_str, year):\n",
    "    try:\n",
    "        # Replace invisible characters like U+00A0 with a space\n",
    "        date_str = date_str.replace('\\xa0', ' ')\n",
    "        # Remove any null characters and non-printable characters\n",
    "        date_str = re.sub(r'[\\x00-\\x1f\\x7f-\\x9f]', '', date_str)\n",
    "        # Remove unwanted characters and extra text like \"(1)\" or \"susp\"\n",
    "        date_str = re.sub(r'\\(.*?\\)', '', date_str)  # Remove text inside parentheses\n",
    "        date_str = ''.join(char for char in date_str if char.isalnum() or char.isspace() or char == ',')\n",
    "        # Remove specific unwanted words like \"susp\"\n",
    "        date_str = date_str.replace('susp', '').strip()\n",
    "        # Parse the cleaned string to a date object\n",
    "        parsed_date = parser.parse(date_str)\n",
    "        # Force the year to be 2021\n",
    "        parsed_date = parsed_date.replace(year=year)\n",
    "        # Format the date to 'YYYY-MM-DD'\n",
    "        #print(parsed_date)\n",
    "        return parsed_date.strftime('%Y-%m-%d')\n",
    "    except Exception as e:\n",
    "        # Print the error for debugging purposes\n",
    "        print(f\"Error parsing date '{date_str}': {e}\")\n",
    "        # Handle any parsing errors by returning None\n",
    "        return None"
   ]
  },
  {
   "cell_type": "markdown",
   "metadata": {},
   "source": [
    "## Fetch BATTING Data\n",
    "* and concatenate into one dataset (per player)\n",
    "* store in 'batters/...'"
   ]
  },
  {
   "cell_type": "code",
   "execution_count": null,
   "metadata": {},
   "outputs": [
    {
     "name": "stdout",
     "output_type": "stream",
     "text": [
      "No data found for batter soderty01 in 2021 - OK\n",
      "No data found for batter soderty01 in 2022 - OK\n"
     ]
    },
    {
     "name": "stderr",
     "output_type": "stream",
     "text": [
      "/var/folders/5h/v8qm6jqd52q00q39r0ym2qhw0000gn/T/ipykernel_60021/3143823277.py:22: FutureWarning: Passing literal html to 'read_html' is deprecated and will be removed in a future version. To read from a literal string, wrap it in a 'StringIO' object.\n",
      "  df = pd.read_html(str(table))[0]\n",
      "/var/folders/5h/v8qm6jqd52q00q39r0ym2qhw0000gn/T/ipykernel_60021/3143823277.py:22: FutureWarning: Passing literal html to 'read_html' is deprecated and will be removed in a future version. To read from a literal string, wrap it in a 'StringIO' object.\n",
      "  df = pd.read_html(str(table))[0]\n",
      "/var/folders/5h/v8qm6jqd52q00q39r0ym2qhw0000gn/T/ipykernel_60021/3143823277.py:37: UserWarning: Could not infer format, so each element will be parsed individually, falling back to `dateutil`. To ensure parsing is consistent and as-expected, please specify a format.\n",
      "  df['game_date'] = pd.to_datetime(df['Date'], errors='coerce').dt.strftime('%Y-%m-%d')\n"
     ]
    },
    {
     "name": "stdout",
     "output_type": "stream",
     "text": [
      "No data found for batter soderty01 in 2025 - OK\n"
     ]
    },
    {
     "name": "stderr",
     "output_type": "stream",
     "text": [
      "/var/folders/5h/v8qm6jqd52q00q39r0ym2qhw0000gn/T/ipykernel_60021/3143823277.py:22: FutureWarning: Passing literal html to 'read_html' is deprecated and will be removed in a future version. To read from a literal string, wrap it in a 'StringIO' object.\n",
      "  df = pd.read_html(str(table))[0]\n"
     ]
    },
    {
     "name": "stdout",
     "output_type": "stream",
     "text": [
      "No data found for batter sogarer01 in 2022 - OK\n",
      "No data found for batter sogarer01 in 2023 - OK\n",
      "No data found for batter sogarer01 in 2024 - OK\n",
      "No data found for batter sogarer01 in 2025 - OK\n",
      "No data found for batter sogarni01 in 2021 - OK\n",
      "No data found for batter sogarni01 in 2022 - OK\n",
      "No data found for batter sogarni01 in 2023 - OK\n"
     ]
    },
    {
     "name": "stderr",
     "output_type": "stream",
     "text": [
      "/var/folders/5h/v8qm6jqd52q00q39r0ym2qhw0000gn/T/ipykernel_60021/3143823277.py:22: FutureWarning: Passing literal html to 'read_html' is deprecated and will be removed in a future version. To read from a literal string, wrap it in a 'StringIO' object.\n",
      "  df = pd.read_html(str(table))[0]\n"
     ]
    },
    {
     "name": "stdout",
     "output_type": "stream",
     "text": [
      "No data found for batter sogarni01 in 2025 - OK\n"
     ]
    },
    {
     "name": "stderr",
     "output_type": "stream",
     "text": [
      "/var/folders/5h/v8qm6jqd52q00q39r0ym2qhw0000gn/T/ipykernel_60021/3143823277.py:22: FutureWarning: Passing literal html to 'read_html' is deprecated and will be removed in a future version. To read from a literal string, wrap it in a 'StringIO' object.\n",
      "  df = pd.read_html(str(table))[0]\n",
      "/var/folders/5h/v8qm6jqd52q00q39r0ym2qhw0000gn/T/ipykernel_60021/3143823277.py:22: FutureWarning: Passing literal html to 'read_html' is deprecated and will be removed in a future version. To read from a literal string, wrap it in a 'StringIO' object.\n",
      "  df = pd.read_html(str(table))[0]\n",
      "/var/folders/5h/v8qm6jqd52q00q39r0ym2qhw0000gn/T/ipykernel_60021/3143823277.py:22: FutureWarning: Passing literal html to 'read_html' is deprecated and will be removed in a future version. To read from a literal string, wrap it in a 'StringIO' object.\n",
      "  df = pd.read_html(str(table))[0]\n"
     ]
    },
    {
     "name": "stdout",
     "output_type": "stream",
     "text": [
      "No data found for batter solakni01 in 2024 - OK\n",
      "No data found for batter solakni01 in 2025 - OK\n"
     ]
    },
    {
     "name": "stderr",
     "output_type": "stream",
     "text": [
      "/var/folders/5h/v8qm6jqd52q00q39r0ym2qhw0000gn/T/ipykernel_60021/3143823277.py:22: FutureWarning: Passing literal html to 'read_html' is deprecated and will be removed in a future version. To read from a literal string, wrap it in a 'StringIO' object.\n",
      "  df = pd.read_html(str(table))[0]\n",
      "/var/folders/5h/v8qm6jqd52q00q39r0ym2qhw0000gn/T/ipykernel_60021/3143823277.py:22: FutureWarning: Passing literal html to 'read_html' is deprecated and will be removed in a future version. To read from a literal string, wrap it in a 'StringIO' object.\n",
      "  df = pd.read_html(str(table))[0]\n",
      "/var/folders/5h/v8qm6jqd52q00q39r0ym2qhw0000gn/T/ipykernel_60021/3143823277.py:22: FutureWarning: Passing literal html to 'read_html' is deprecated and will be removed in a future version. To read from a literal string, wrap it in a 'StringIO' object.\n",
      "  df = pd.read_html(str(table))[0]\n",
      "/var/folders/5h/v8qm6jqd52q00q39r0ym2qhw0000gn/T/ipykernel_60021/3143823277.py:22: FutureWarning: Passing literal html to 'read_html' is deprecated and will be removed in a future version. To read from a literal string, wrap it in a 'StringIO' object.\n",
      "  df = pd.read_html(str(table))[0]\n"
     ]
    },
    {
     "name": "stdout",
     "output_type": "stream",
     "text": [
      "No data found for batter solando01 in 2025 - OK\n"
     ]
    },
    {
     "name": "stderr",
     "output_type": "stream",
     "text": [
      "/var/folders/5h/v8qm6jqd52q00q39r0ym2qhw0000gn/T/ipykernel_60021/3143823277.py:22: FutureWarning: Passing literal html to 'read_html' is deprecated and will be removed in a future version. To read from a literal string, wrap it in a 'StringIO' object.\n",
      "  df = pd.read_html(str(table))[0]\n",
      "/var/folders/5h/v8qm6jqd52q00q39r0ym2qhw0000gn/T/ipykernel_60021/3143823277.py:22: FutureWarning: Passing literal html to 'read_html' is deprecated and will be removed in a future version. To read from a literal string, wrap it in a 'StringIO' object.\n",
      "  df = pd.read_html(str(table))[0]\n",
      "/var/folders/5h/v8qm6jqd52q00q39r0ym2qhw0000gn/T/ipykernel_60021/3143823277.py:22: FutureWarning: Passing literal html to 'read_html' is deprecated and will be removed in a future version. To read from a literal string, wrap it in a 'StringIO' object.\n",
      "  df = pd.read_html(str(table))[0]\n",
      "/var/folders/5h/v8qm6jqd52q00q39r0ym2qhw0000gn/T/ipykernel_60021/3143823277.py:22: FutureWarning: Passing literal html to 'read_html' is deprecated and will be removed in a future version. To read from a literal string, wrap it in a 'StringIO' object.\n",
      "  df = pd.read_html(str(table))[0]\n"
     ]
    },
    {
     "name": "stdout",
     "output_type": "stream",
     "text": [
      "No data found for batter solerjo01 in 2025 - OK\n"
     ]
    },
    {
     "name": "stderr",
     "output_type": "stream",
     "text": [
      "/var/folders/5h/v8qm6jqd52q00q39r0ym2qhw0000gn/T/ipykernel_60021/3143823277.py:22: FutureWarning: Passing literal html to 'read_html' is deprecated and will be removed in a future version. To read from a literal string, wrap it in a 'StringIO' object.\n",
      "  df = pd.read_html(str(table))[0]\n",
      "/var/folders/5h/v8qm6jqd52q00q39r0ym2qhw0000gn/T/ipykernel_60021/3143823277.py:22: FutureWarning: Passing literal html to 'read_html' is deprecated and will be removed in a future version. To read from a literal string, wrap it in a 'StringIO' object.\n",
      "  df = pd.read_html(str(table))[0]\n",
      "/var/folders/5h/v8qm6jqd52q00q39r0ym2qhw0000gn/T/ipykernel_60021/3143823277.py:22: FutureWarning: Passing literal html to 'read_html' is deprecated and will be removed in a future version. To read from a literal string, wrap it in a 'StringIO' object.\n",
      "  df = pd.read_html(str(table))[0]\n",
      "/var/folders/5h/v8qm6jqd52q00q39r0ym2qhw0000gn/T/ipykernel_60021/3143823277.py:22: FutureWarning: Passing literal html to 'read_html' is deprecated and will be removed in a future version. To read from a literal string, wrap it in a 'StringIO' object.\n",
      "  df = pd.read_html(str(table))[0]\n"
     ]
    },
    {
     "name": "stdout",
     "output_type": "stream",
     "text": [
      "No data found for batter sosaed01 in 2025 - OK\n",
      "No data found for batter sosale01 in 2021 - OK\n"
     ]
    },
    {
     "name": "stderr",
     "output_type": "stream",
     "text": [
      "/var/folders/5h/v8qm6jqd52q00q39r0ym2qhw0000gn/T/ipykernel_60021/3143823277.py:22: FutureWarning: Passing literal html to 'read_html' is deprecated and will be removed in a future version. To read from a literal string, wrap it in a 'StringIO' object.\n",
      "  df = pd.read_html(str(table))[0]\n",
      "/var/folders/5h/v8qm6jqd52q00q39r0ym2qhw0000gn/T/ipykernel_60021/3143823277.py:22: FutureWarning: Passing literal html to 'read_html' is deprecated and will be removed in a future version. To read from a literal string, wrap it in a 'StringIO' object.\n",
      "  df = pd.read_html(str(table))[0]\n",
      "/var/folders/5h/v8qm6jqd52q00q39r0ym2qhw0000gn/T/ipykernel_60021/3143823277.py:22: FutureWarning: Passing literal html to 'read_html' is deprecated and will be removed in a future version. To read from a literal string, wrap it in a 'StringIO' object.\n",
      "  df = pd.read_html(str(table))[0]\n"
     ]
    },
    {
     "name": "stdout",
     "output_type": "stream",
     "text": [
      "No data found for batter sosale01 in 2025 - OK\n"
     ]
    },
    {
     "name": "stderr",
     "output_type": "stream",
     "text": [
      "/var/folders/5h/v8qm6jqd52q00q39r0ym2qhw0000gn/T/ipykernel_60021/3143823277.py:22: FutureWarning: Passing literal html to 'read_html' is deprecated and will be removed in a future version. To read from a literal string, wrap it in a 'StringIO' object.\n",
      "  df = pd.read_html(str(table))[0]\n",
      "/var/folders/5h/v8qm6jqd52q00q39r0ym2qhw0000gn/T/ipykernel_60021/3143823277.py:22: FutureWarning: Passing literal html to 'read_html' is deprecated and will be removed in a future version. To read from a literal string, wrap it in a 'StringIO' object.\n",
      "  df = pd.read_html(str(table))[0]\n",
      "/var/folders/5h/v8qm6jqd52q00q39r0ym2qhw0000gn/T/ipykernel_60021/3143823277.py:22: FutureWarning: Passing literal html to 'read_html' is deprecated and will be removed in a future version. To read from a literal string, wrap it in a 'StringIO' object.\n",
      "  df = pd.read_html(str(table))[0]\n",
      "/var/folders/5h/v8qm6jqd52q00q39r0ym2qhw0000gn/T/ipykernel_60021/3143823277.py:22: FutureWarning: Passing literal html to 'read_html' is deprecated and will be removed in a future version. To read from a literal string, wrap it in a 'StringIO' object.\n",
      "  df = pd.read_html(str(table))[0]\n"
     ]
    },
    {
     "name": "stdout",
     "output_type": "stream",
     "text": [
      "No data found for batter sotoju01 in 2025 - OK\n",
      "No data found for batter sotoli01 in 2021 - OK\n"
     ]
    },
    {
     "name": "stderr",
     "output_type": "stream",
     "text": [
      "/var/folders/5h/v8qm6jqd52q00q39r0ym2qhw0000gn/T/ipykernel_60021/3143823277.py:22: FutureWarning: Passing literal html to 'read_html' is deprecated and will be removed in a future version. To read from a literal string, wrap it in a 'StringIO' object.\n",
      "  df = pd.read_html(str(table))[0]\n",
      "/var/folders/5h/v8qm6jqd52q00q39r0ym2qhw0000gn/T/ipykernel_60021/3143823277.py:22: FutureWarning: Passing literal html to 'read_html' is deprecated and will be removed in a future version. To read from a literal string, wrap it in a 'StringIO' object.\n",
      "  df = pd.read_html(str(table))[0]\n",
      "/var/folders/5h/v8qm6jqd52q00q39r0ym2qhw0000gn/T/ipykernel_60021/3143823277.py:22: FutureWarning: Passing literal html to 'read_html' is deprecated and will be removed in a future version. To read from a literal string, wrap it in a 'StringIO' object.\n",
      "  df = pd.read_html(str(table))[0]\n"
     ]
    },
    {
     "name": "stdout",
     "output_type": "stream",
     "text": [
      "No data found for batter sotoli01 in 2025 - OK\n"
     ]
    },
    {
     "name": "stderr",
     "output_type": "stream",
     "text": [
      "/var/folders/5h/v8qm6jqd52q00q39r0ym2qhw0000gn/T/ipykernel_60021/3143823277.py:22: FutureWarning: Passing literal html to 'read_html' is deprecated and will be removed in a future version. To read from a literal string, wrap it in a 'StringIO' object.\n",
      "  df = pd.read_html(str(table))[0]\n",
      "/var/folders/5h/v8qm6jqd52q00q39r0ym2qhw0000gn/T/ipykernel_60021/3143823277.py:22: FutureWarning: Passing literal html to 'read_html' is deprecated and will be removed in a future version. To read from a literal string, wrap it in a 'StringIO' object.\n",
      "  df = pd.read_html(str(table))[0]\n"
     ]
    },
    {
     "name": "stdout",
     "output_type": "stream",
     "text": [
      "No data found for batter souzast01 in 2023 - OK\n",
      "No data found for batter souzast01 in 2024 - OK\n",
      "No data found for batter souzast01 in 2025 - OK\n",
      "No data found for batter spangco01 in 2021 - OK\n"
     ]
    },
    {
     "name": "stderr",
     "output_type": "stream",
     "text": [
      "/var/folders/5h/v8qm6jqd52q00q39r0ym2qhw0000gn/T/ipykernel_60021/3143823277.py:22: FutureWarning: Passing literal html to 'read_html' is deprecated and will be removed in a future version. To read from a literal string, wrap it in a 'StringIO' object.\n",
      "  df = pd.read_html(str(table))[0]\n"
     ]
    },
    {
     "name": "stdout",
     "output_type": "stream",
     "text": [
      "No data found for batter spangco01 in 2023 - OK\n",
      "No data found for batter spangco01 in 2024 - OK\n",
      "No data found for batter spangco01 in 2025 - OK\n"
     ]
    },
    {
     "name": "stderr",
     "output_type": "stream",
     "text": [
      "/var/folders/5h/v8qm6jqd52q00q39r0ym2qhw0000gn/T/ipykernel_60021/3143823277.py:22: FutureWarning: Passing literal html to 'read_html' is deprecated and will be removed in a future version. To read from a literal string, wrap it in a 'StringIO' object.\n",
      "  df = pd.read_html(str(table))[0]\n",
      "/var/folders/5h/v8qm6jqd52q00q39r0ym2qhw0000gn/T/ipykernel_60021/3143823277.py:22: FutureWarning: Passing literal html to 'read_html' is deprecated and will be removed in a future version. To read from a literal string, wrap it in a 'StringIO' object.\n",
      "  df = pd.read_html(str(table))[0]\n",
      "/var/folders/5h/v8qm6jqd52q00q39r0ym2qhw0000gn/T/ipykernel_60021/3143823277.py:22: FutureWarning: Passing literal html to 'read_html' is deprecated and will be removed in a future version. To read from a literal string, wrap it in a 'StringIO' object.\n",
      "  df = pd.read_html(str(table))[0]\n",
      "/var/folders/5h/v8qm6jqd52q00q39r0ym2qhw0000gn/T/ipykernel_60021/3143823277.py:22: FutureWarning: Passing literal html to 'read_html' is deprecated and will be removed in a future version. To read from a literal string, wrap it in a 'StringIO' object.\n",
      "  df = pd.read_html(str(table))[0]\n"
     ]
    },
    {
     "name": "stdout",
     "output_type": "stream",
     "text": [
      "No data found for batter springe01 in 2025 - OK\n"
     ]
    },
    {
     "name": "stderr",
     "output_type": "stream",
     "text": [
      "/var/folders/5h/v8qm6jqd52q00q39r0ym2qhw0000gn/T/ipykernel_60021/3143823277.py:22: FutureWarning: Passing literal html to 'read_html' is deprecated and will be removed in a future version. To read from a literal string, wrap it in a 'StringIO' object.\n",
      "  df = pd.read_html(str(table))[0]\n",
      "/var/folders/5h/v8qm6jqd52q00q39r0ym2qhw0000gn/T/ipykernel_60021/3143823277.py:22: FutureWarning: Passing literal html to 'read_html' is deprecated and will be removed in a future version. To read from a literal string, wrap it in a 'StringIO' object.\n",
      "  df = pd.read_html(str(table))[0]\n",
      "/var/folders/5h/v8qm6jqd52q00q39r0ym2qhw0000gn/T/ipykernel_60021/3143823277.py:22: FutureWarning: Passing literal html to 'read_html' is deprecated and will be removed in a future version. To read from a literal string, wrap it in a 'StringIO' object.\n",
      "  df = pd.read_html(str(table))[0]\n",
      "/var/folders/5h/v8qm6jqd52q00q39r0ym2qhw0000gn/T/ipykernel_60021/3143823277.py:22: FutureWarning: Passing literal html to 'read_html' is deprecated and will be removed in a future version. To read from a literal string, wrap it in a 'StringIO' object.\n",
      "  df = pd.read_html(str(table))[0]\n"
     ]
    },
    {
     "name": "stdout",
     "output_type": "stream",
     "text": [
      "No data found for batter stallja01 in 2025 - OK\n"
     ]
    },
    {
     "name": "stderr",
     "output_type": "stream",
     "text": [
      "/var/folders/5h/v8qm6jqd52q00q39r0ym2qhw0000gn/T/ipykernel_60021/3143823277.py:22: FutureWarning: Passing literal html to 'read_html' is deprecated and will be removed in a future version. To read from a literal string, wrap it in a 'StringIO' object.\n",
      "  df = pd.read_html(str(table))[0]\n",
      "/var/folders/5h/v8qm6jqd52q00q39r0ym2qhw0000gn/T/ipykernel_60021/3143823277.py:22: FutureWarning: Passing literal html to 'read_html' is deprecated and will be removed in a future version. To read from a literal string, wrap it in a 'StringIO' object.\n",
      "  df = pd.read_html(str(table))[0]\n"
     ]
    },
    {
     "name": "stdout",
     "output_type": "stream",
     "text": [
      "No data found for batter stammcr01 in 2023 - OK\n",
      "No data found for batter stammcr01 in 2024 - OK\n",
      "No data found for batter stammcr01 in 2025 - OK\n"
     ]
    },
    {
     "name": "stderr",
     "output_type": "stream",
     "text": [
      "/var/folders/5h/v8qm6jqd52q00q39r0ym2qhw0000gn/T/ipykernel_60021/3143823277.py:22: FutureWarning: Passing literal html to 'read_html' is deprecated and will be removed in a future version. To read from a literal string, wrap it in a 'StringIO' object.\n",
      "  df = pd.read_html(str(table))[0]\n",
      "/var/folders/5h/v8qm6jqd52q00q39r0ym2qhw0000gn/T/ipykernel_60021/3143823277.py:22: FutureWarning: Passing literal html to 'read_html' is deprecated and will be removed in a future version. To read from a literal string, wrap it in a 'StringIO' object.\n",
      "  df = pd.read_html(str(table))[0]\n",
      "/var/folders/5h/v8qm6jqd52q00q39r0ym2qhw0000gn/T/ipykernel_60021/3143823277.py:22: FutureWarning: Passing literal html to 'read_html' is deprecated and will be removed in a future version. To read from a literal string, wrap it in a 'StringIO' object.\n",
      "  df = pd.read_html(str(table))[0]\n",
      "/var/folders/5h/v8qm6jqd52q00q39r0ym2qhw0000gn/T/ipykernel_60021/3143823277.py:22: FutureWarning: Passing literal html to 'read_html' is deprecated and will be removed in a future version. To read from a literal string, wrap it in a 'StringIO' object.\n",
      "  df = pd.read_html(str(table))[0]\n"
     ]
    },
    {
     "name": "stdout",
     "output_type": "stream",
     "text": [
      "No data found for batter stantmi03 in 2025 - OK\n"
     ]
    },
    {
     "name": "stderr",
     "output_type": "stream",
     "text": [
      "/var/folders/5h/v8qm6jqd52q00q39r0ym2qhw0000gn/T/ipykernel_60021/3143823277.py:22: FutureWarning: Passing literal html to 'read_html' is deprecated and will be removed in a future version. To read from a literal string, wrap it in a 'StringIO' object.\n",
      "  df = pd.read_html(str(table))[0]\n",
      "/var/folders/5h/v8qm6jqd52q00q39r0ym2qhw0000gn/T/ipykernel_60021/3143823277.py:22: FutureWarning: Passing literal html to 'read_html' is deprecated and will be removed in a future version. To read from a literal string, wrap it in a 'StringIO' object.\n",
      "  df = pd.read_html(str(table))[0]\n"
     ]
    },
    {
     "name": "stdout",
     "output_type": "stream",
     "text": [
      "No data found for batter stassma01 in 2023 - OK\n",
      "No data found for batter stassma01 in 2024 - OK\n",
      "No data found for batter stassma01 in 2025 - OK\n"
     ]
    },
    {
     "name": "stderr",
     "output_type": "stream",
     "text": [
      "/var/folders/5h/v8qm6jqd52q00q39r0ym2qhw0000gn/T/ipykernel_60021/3143823277.py:22: FutureWarning: Passing literal html to 'read_html' is deprecated and will be removed in a future version. To read from a literal string, wrap it in a 'StringIO' object.\n",
      "  df = pd.read_html(str(table))[0]\n",
      "/var/folders/5h/v8qm6jqd52q00q39r0ym2qhw0000gn/T/ipykernel_60021/3143823277.py:22: FutureWarning: Passing literal html to 'read_html' is deprecated and will be removed in a future version. To read from a literal string, wrap it in a 'StringIO' object.\n",
      "  df = pd.read_html(str(table))[0]\n",
      "/var/folders/5h/v8qm6jqd52q00q39r0ym2qhw0000gn/T/ipykernel_60021/3143823277.py:22: FutureWarning: Passing literal html to 'read_html' is deprecated and will be removed in a future version. To read from a literal string, wrap it in a 'StringIO' object.\n",
      "  df = pd.read_html(str(table))[0]\n",
      "/var/folders/5h/v8qm6jqd52q00q39r0ym2qhw0000gn/T/ipykernel_60021/3143823277.py:22: FutureWarning: Passing literal html to 'read_html' is deprecated and will be removed in a future version. To read from a literal string, wrap it in a 'StringIO' object.\n",
      "  df = pd.read_html(str(table))[0]\n"
     ]
    },
    {
     "name": "stdout",
     "output_type": "stream",
     "text": [
      "No data found for batter steelju01 in 2025 - OK\n",
      "No data found for batter steersp01 in 2021 - OK\n"
     ]
    },
    {
     "name": "stderr",
     "output_type": "stream",
     "text": [
      "/var/folders/5h/v8qm6jqd52q00q39r0ym2qhw0000gn/T/ipykernel_60021/3143823277.py:22: FutureWarning: Passing literal html to 'read_html' is deprecated and will be removed in a future version. To read from a literal string, wrap it in a 'StringIO' object.\n",
      "  df = pd.read_html(str(table))[0]\n",
      "/var/folders/5h/v8qm6jqd52q00q39r0ym2qhw0000gn/T/ipykernel_60021/3143823277.py:22: FutureWarning: Passing literal html to 'read_html' is deprecated and will be removed in a future version. To read from a literal string, wrap it in a 'StringIO' object.\n",
      "  df = pd.read_html(str(table))[0]\n",
      "/var/folders/5h/v8qm6jqd52q00q39r0ym2qhw0000gn/T/ipykernel_60021/3143823277.py:22: FutureWarning: Passing literal html to 'read_html' is deprecated and will be removed in a future version. To read from a literal string, wrap it in a 'StringIO' object.\n",
      "  df = pd.read_html(str(table))[0]\n"
     ]
    },
    {
     "name": "stdout",
     "output_type": "stream",
     "text": [
      "No data found for batter steersp01 in 2025 - OK\n",
      "No data found for batter stefami01 in 2021 - OK\n"
     ]
    },
    {
     "name": "stderr",
     "output_type": "stream",
     "text": [
      "/var/folders/5h/v8qm6jqd52q00q39r0ym2qhw0000gn/T/ipykernel_60021/3143823277.py:22: FutureWarning: Passing literal html to 'read_html' is deprecated and will be removed in a future version. To read from a literal string, wrap it in a 'StringIO' object.\n",
      "  df = pd.read_html(str(table))[0]\n",
      "/var/folders/5h/v8qm6jqd52q00q39r0ym2qhw0000gn/T/ipykernel_60021/3143823277.py:22: FutureWarning: Passing literal html to 'read_html' is deprecated and will be removed in a future version. To read from a literal string, wrap it in a 'StringIO' object.\n",
      "  df = pd.read_html(str(table))[0]\n",
      "/var/folders/5h/v8qm6jqd52q00q39r0ym2qhw0000gn/T/ipykernel_60021/3143823277.py:22: FutureWarning: Passing literal html to 'read_html' is deprecated and will be removed in a future version. To read from a literal string, wrap it in a 'StringIO' object.\n",
      "  df = pd.read_html(str(table))[0]\n"
     ]
    },
    {
     "name": "stdout",
     "output_type": "stream",
     "text": [
      "No data found for batter stefami01 in 2025 - OK\n"
     ]
    },
    {
     "name": "stderr",
     "output_type": "stream",
     "text": [
      "/var/folders/5h/v8qm6jqd52q00q39r0ym2qhw0000gn/T/ipykernel_60021/3143823277.py:22: FutureWarning: Passing literal html to 'read_html' is deprecated and will be removed in a future version. To read from a literal string, wrap it in a 'StringIO' object.\n",
      "  df = pd.read_html(str(table))[0]\n",
      "/var/folders/5h/v8qm6jqd52q00q39r0ym2qhw0000gn/T/ipykernel_60021/3143823277.py:22: FutureWarning: Passing literal html to 'read_html' is deprecated and will be removed in a future version. To read from a literal string, wrap it in a 'StringIO' object.\n",
      "  df = pd.read_html(str(table))[0]\n",
      "/var/folders/5h/v8qm6jqd52q00q39r0ym2qhw0000gn/T/ipykernel_60021/3143823277.py:22: FutureWarning: Passing literal html to 'read_html' is deprecated and will be removed in a future version. To read from a literal string, wrap it in a 'StringIO' object.\n",
      "  df = pd.read_html(str(table))[0]\n",
      "/var/folders/5h/v8qm6jqd52q00q39r0ym2qhw0000gn/T/ipykernel_60021/3143823277.py:22: FutureWarning: Passing literal html to 'read_html' is deprecated and will be removed in a future version. To read from a literal string, wrap it in a 'StringIO' object.\n",
      "  df = pd.read_html(str(table))[0]\n"
     ]
    },
    {
     "name": "stdout",
     "output_type": "stream",
     "text": [
      "No data found for batter stephty01 in 2025 - OK\n"
     ]
    },
    {
     "name": "stderr",
     "output_type": "stream",
     "text": [
      "/var/folders/5h/v8qm6jqd52q00q39r0ym2qhw0000gn/T/ipykernel_60021/3143823277.py:22: FutureWarning: Passing literal html to 'read_html' is deprecated and will be removed in a future version. To read from a literal string, wrap it in a 'StringIO' object.\n",
      "  df = pd.read_html(str(table))[0]\n"
     ]
    },
    {
     "name": "stdout",
     "output_type": "stream",
     "text": [
      "No data found for batter stevean01 in 2022 - OK\n"
     ]
    },
    {
     "name": "stderr",
     "output_type": "stream",
     "text": [
      "/var/folders/5h/v8qm6jqd52q00q39r0ym2qhw0000gn/T/ipykernel_60021/3143823277.py:22: FutureWarning: Passing literal html to 'read_html' is deprecated and will be removed in a future version. To read from a literal string, wrap it in a 'StringIO' object.\n",
      "  df = pd.read_html(str(table))[0]\n"
     ]
    },
    {
     "name": "stdout",
     "output_type": "stream",
     "text": [
      "No data found for batter stevean01 in 2024 - OK\n",
      "No data found for batter stevean01 in 2025 - OK\n",
      "No data found for batter steveca01 in 2021 - OK\n"
     ]
    },
    {
     "name": "stderr",
     "output_type": "stream",
     "text": [
      "/var/folders/5h/v8qm6jqd52q00q39r0ym2qhw0000gn/T/ipykernel_60021/3143823277.py:22: FutureWarning: Passing literal html to 'read_html' is deprecated and will be removed in a future version. To read from a literal string, wrap it in a 'StringIO' object.\n",
      "  df = pd.read_html(str(table))[0]\n",
      "/var/folders/5h/v8qm6jqd52q00q39r0ym2qhw0000gn/T/ipykernel_60021/3143823277.py:22: FutureWarning: Passing literal html to 'read_html' is deprecated and will be removed in a future version. To read from a literal string, wrap it in a 'StringIO' object.\n",
      "  df = pd.read_html(str(table))[0]\n",
      "/var/folders/5h/v8qm6jqd52q00q39r0ym2qhw0000gn/T/ipykernel_60021/3143823277.py:22: FutureWarning: Passing literal html to 'read_html' is deprecated and will be removed in a future version. To read from a literal string, wrap it in a 'StringIO' object.\n",
      "  df = pd.read_html(str(table))[0]\n"
     ]
    },
    {
     "name": "stdout",
     "output_type": "stream",
     "text": [
      "No data found for batter steveca01 in 2025 - OK\n"
     ]
    },
    {
     "name": "stderr",
     "output_type": "stream",
     "text": [
      "/var/folders/5h/v8qm6jqd52q00q39r0ym2qhw0000gn/T/ipykernel_60021/3143823277.py:22: FutureWarning: Passing literal html to 'read_html' is deprecated and will be removed in a future version. To read from a literal string, wrap it in a 'StringIO' object.\n",
      "  df = pd.read_html(str(table))[0]\n",
      "/var/folders/5h/v8qm6jqd52q00q39r0ym2qhw0000gn/T/ipykernel_60021/3143823277.py:22: FutureWarning: Passing literal html to 'read_html' is deprecated and will be removed in a future version. To read from a literal string, wrap it in a 'StringIO' object.\n",
      "  df = pd.read_html(str(table))[0]\n",
      "/var/folders/5h/v8qm6jqd52q00q39r0ym2qhw0000gn/T/ipykernel_60021/3143823277.py:22: FutureWarning: Passing literal html to 'read_html' is deprecated and will be removed in a future version. To read from a literal string, wrap it in a 'StringIO' object.\n",
      "  df = pd.read_html(str(table))[0]\n",
      "/var/folders/5h/v8qm6jqd52q00q39r0ym2qhw0000gn/T/ipykernel_60021/3143823277.py:22: FutureWarning: Passing literal html to 'read_html' is deprecated and will be removed in a future version. To read from a literal string, wrap it in a 'StringIO' object.\n",
      "  df = pd.read_html(str(table))[0]\n"
     ]
    },
    {
     "name": "stdout",
     "output_type": "stream",
     "text": [
      "No data found for batter stewadj01 in 2025 - OK\n"
     ]
    },
    {
     "name": "stderr",
     "output_type": "stream",
     "text": [
      "/var/folders/5h/v8qm6jqd52q00q39r0ym2qhw0000gn/T/ipykernel_60021/3143823277.py:22: FutureWarning: Passing literal html to 'read_html' is deprecated and will be removed in a future version. To read from a literal string, wrap it in a 'StringIO' object.\n",
      "  df = pd.read_html(str(table))[0]\n"
     ]
    },
    {
     "name": "stdout",
     "output_type": "stream",
     "text": [
      "No data found for batter stewako01 in 2022 - OK\n",
      "No data found for batter stewako01 in 2023 - OK\n",
      "No data found for batter stewako01 in 2024 - OK\n",
      "No data found for batter stewako01 in 2025 - OK\n"
     ]
    },
    {
     "name": "stderr",
     "output_type": "stream",
     "text": [
      "/var/folders/5h/v8qm6jqd52q00q39r0ym2qhw0000gn/T/ipykernel_60021/3143823277.py:22: FutureWarning: Passing literal html to 'read_html' is deprecated and will be removed in a future version. To read from a literal string, wrap it in a 'StringIO' object.\n",
      "  df = pd.read_html(str(table))[0]\n"
     ]
    },
    {
     "name": "stdout",
     "output_type": "stream",
     "text": [
      "No data found for batter stockro01 in 2022 - OK\n",
      "No data found for batter stockro01 in 2023 - OK\n",
      "No data found for batter stockro01 in 2024 - OK\n",
      "No data found for batter stockro01 in 2025 - OK\n"
     ]
    },
    {
     "name": "stderr",
     "output_type": "stream",
     "text": [
      "/var/folders/5h/v8qm6jqd52q00q39r0ym2qhw0000gn/T/ipykernel_60021/3143823277.py:22: FutureWarning: Passing literal html to 'read_html' is deprecated and will be removed in a future version. To read from a literal string, wrap it in a 'StringIO' object.\n",
      "  df = pd.read_html(str(table))[0]\n"
     ]
    },
    {
     "name": "stdout",
     "output_type": "stream",
     "text": [
      "No data found for batter stoketr01 in 2022 - OK\n",
      "No data found for batter stoketr01 in 2023 - OK\n",
      "No data found for batter stoketr01 in 2024 - OK\n",
      "No data found for batter stoketr01 in 2025 - OK\n"
     ]
    },
    {
     "name": "stderr",
     "output_type": "stream",
     "text": [
      "/var/folders/5h/v8qm6jqd52q00q39r0ym2qhw0000gn/T/ipykernel_60021/3143823277.py:22: FutureWarning: Passing literal html to 'read_html' is deprecated and will be removed in a future version. To read from a literal string, wrap it in a 'StringIO' object.\n",
      "  df = pd.read_html(str(table))[0]\n",
      "/var/folders/5h/v8qm6jqd52q00q39r0ym2qhw0000gn/T/ipykernel_60021/3143823277.py:22: FutureWarning: Passing literal html to 'read_html' is deprecated and will be removed in a future version. To read from a literal string, wrap it in a 'StringIO' object.\n",
      "  df = pd.read_html(str(table))[0]\n",
      "/var/folders/5h/v8qm6jqd52q00q39r0ym2qhw0000gn/T/ipykernel_60021/3143823277.py:22: FutureWarning: Passing literal html to 'read_html' is deprecated and will be removed in a future version. To read from a literal string, wrap it in a 'StringIO' object.\n",
      "  df = pd.read_html(str(table))[0]\n",
      "/var/folders/5h/v8qm6jqd52q00q39r0ym2qhw0000gn/T/ipykernel_60021/3143823277.py:22: FutureWarning: Passing literal html to 'read_html' is deprecated and will be removed in a future version. To read from a literal string, wrap it in a 'StringIO' object.\n",
      "  df = pd.read_html(str(table))[0]\n"
     ]
    },
    {
     "name": "stdout",
     "output_type": "stream",
     "text": [
      "No data found for batter storytr01 in 2025 - OK\n",
      "No data found for batter stottbr01 in 2021 - OK\n"
     ]
    },
    {
     "name": "stderr",
     "output_type": "stream",
     "text": [
      "/var/folders/5h/v8qm6jqd52q00q39r0ym2qhw0000gn/T/ipykernel_60021/3143823277.py:22: FutureWarning: Passing literal html to 'read_html' is deprecated and will be removed in a future version. To read from a literal string, wrap it in a 'StringIO' object.\n",
      "  df = pd.read_html(str(table))[0]\n",
      "/var/folders/5h/v8qm6jqd52q00q39r0ym2qhw0000gn/T/ipykernel_60021/3143823277.py:22: FutureWarning: Passing literal html to 'read_html' is deprecated and will be removed in a future version. To read from a literal string, wrap it in a 'StringIO' object.\n",
      "  df = pd.read_html(str(table))[0]\n",
      "/var/folders/5h/v8qm6jqd52q00q39r0ym2qhw0000gn/T/ipykernel_60021/3143823277.py:22: FutureWarning: Passing literal html to 'read_html' is deprecated and will be removed in a future version. To read from a literal string, wrap it in a 'StringIO' object.\n",
      "  df = pd.read_html(str(table))[0]\n"
     ]
    },
    {
     "name": "stdout",
     "output_type": "stream",
     "text": [
      "No data found for batter stottbr01 in 2025 - OK\n",
      "No data found for batter stoweky01 in 2021 - OK\n"
     ]
    },
    {
     "name": "stderr",
     "output_type": "stream",
     "text": [
      "/var/folders/5h/v8qm6jqd52q00q39r0ym2qhw0000gn/T/ipykernel_60021/3143823277.py:22: FutureWarning: Passing literal html to 'read_html' is deprecated and will be removed in a future version. To read from a literal string, wrap it in a 'StringIO' object.\n",
      "  df = pd.read_html(str(table))[0]\n",
      "/var/folders/5h/v8qm6jqd52q00q39r0ym2qhw0000gn/T/ipykernel_60021/3143823277.py:22: FutureWarning: Passing literal html to 'read_html' is deprecated and will be removed in a future version. To read from a literal string, wrap it in a 'StringIO' object.\n",
      "  df = pd.read_html(str(table))[0]\n",
      "/var/folders/5h/v8qm6jqd52q00q39r0ym2qhw0000gn/T/ipykernel_60021/3143823277.py:22: FutureWarning: Passing literal html to 'read_html' is deprecated and will be removed in a future version. To read from a literal string, wrap it in a 'StringIO' object.\n",
      "  df = pd.read_html(str(table))[0]\n"
     ]
    },
    {
     "name": "stdout",
     "output_type": "stream",
     "text": [
      "No data found for batter stoweky01 in 2025 - OK\n",
      "No data found for batter gordode01 in 2021 - OK\n"
     ]
    },
    {
     "name": "stderr",
     "output_type": "stream",
     "text": [
      "/var/folders/5h/v8qm6jqd52q00q39r0ym2qhw0000gn/T/ipykernel_60021/3143823277.py:22: FutureWarning: Passing literal html to 'read_html' is deprecated and will be removed in a future version. To read from a literal string, wrap it in a 'StringIO' object.\n",
      "  df = pd.read_html(str(table))[0]\n"
     ]
    },
    {
     "name": "stdout",
     "output_type": "stream",
     "text": [
      "No data found for batter gordode01 in 2023 - OK\n",
      "No data found for batter gordode01 in 2024 - OK\n",
      "No data found for batter gordode01 in 2025 - OK\n"
     ]
    },
    {
     "name": "stderr",
     "output_type": "stream",
     "text": [
      "/var/folders/5h/v8qm6jqd52q00q39r0ym2qhw0000gn/T/ipykernel_60021/3143823277.py:22: FutureWarning: Passing literal html to 'read_html' is deprecated and will be removed in a future version. To read from a literal string, wrap it in a 'StringIO' object.\n",
      "  df = pd.read_html(str(table))[0]\n",
      "/var/folders/5h/v8qm6jqd52q00q39r0ym2qhw0000gn/T/ipykernel_60021/3143823277.py:37: UserWarning: Could not infer format, so each element will be parsed individually, falling back to `dateutil`. To ensure parsing is consistent and as-expected, please specify a format.\n",
      "  df['game_date'] = pd.to_datetime(df['Date'], errors='coerce').dt.strftime('%Y-%m-%d')\n",
      "/var/folders/5h/v8qm6jqd52q00q39r0ym2qhw0000gn/T/ipykernel_60021/3143823277.py:22: FutureWarning: Passing literal html to 'read_html' is deprecated and will be removed in a future version. To read from a literal string, wrap it in a 'StringIO' object.\n",
      "  df = pd.read_html(str(table))[0]\n"
     ]
    },
    {
     "name": "stdout",
     "output_type": "stream",
     "text": [
      "No data found for batter strasst01 in 2023 - OK\n",
      "No data found for batter strasst01 in 2024 - OK\n",
      "No data found for batter strasst01 in 2025 - OK\n"
     ]
    },
    {
     "name": "stderr",
     "output_type": "stream",
     "text": [
      "/var/folders/5h/v8qm6jqd52q00q39r0ym2qhw0000gn/T/ipykernel_60021/3143823277.py:22: FutureWarning: Passing literal html to 'read_html' is deprecated and will be removed in a future version. To read from a literal string, wrap it in a 'StringIO' object.\n",
      "  df = pd.read_html(str(table))[0]\n",
      "/var/folders/5h/v8qm6jqd52q00q39r0ym2qhw0000gn/T/ipykernel_60021/3143823277.py:22: FutureWarning: Passing literal html to 'read_html' is deprecated and will be removed in a future version. To read from a literal string, wrap it in a 'StringIO' object.\n",
      "  df = pd.read_html(str(table))[0]\n",
      "/var/folders/5h/v8qm6jqd52q00q39r0ym2qhw0000gn/T/ipykernel_60021/3143823277.py:22: FutureWarning: Passing literal html to 'read_html' is deprecated and will be removed in a future version. To read from a literal string, wrap it in a 'StringIO' object.\n",
      "  df = pd.read_html(str(table))[0]\n",
      "/var/folders/5h/v8qm6jqd52q00q39r0ym2qhw0000gn/T/ipykernel_60021/3143823277.py:22: FutureWarning: Passing literal html to 'read_html' is deprecated and will be removed in a future version. To read from a literal string, wrap it in a 'StringIO' object.\n",
      "  df = pd.read_html(str(table))[0]\n"
     ]
    },
    {
     "name": "stdout",
     "output_type": "stream",
     "text": [
      "No data found for batter stratch01 in 2025 - OK\n"
     ]
    },
    {
     "name": "stderr",
     "output_type": "stream",
     "text": [
      "/var/folders/5h/v8qm6jqd52q00q39r0ym2qhw0000gn/T/ipykernel_60021/3143823277.py:22: FutureWarning: Passing literal html to 'read_html' is deprecated and will be removed in a future version. To read from a literal string, wrap it in a 'StringIO' object.\n",
      "  df = pd.read_html(str(table))[0]\n",
      "/var/folders/5h/v8qm6jqd52q00q39r0ym2qhw0000gn/T/ipykernel_60021/3143823277.py:22: FutureWarning: Passing literal html to 'read_html' is deprecated and will be removed in a future version. To read from a literal string, wrap it in a 'StringIO' object.\n",
      "  df = pd.read_html(str(table))[0]\n",
      "/var/folders/5h/v8qm6jqd52q00q39r0ym2qhw0000gn/T/ipykernel_60021/3143823277.py:22: FutureWarning: Passing literal html to 'read_html' is deprecated and will be removed in a future version. To read from a literal string, wrap it in a 'StringIO' object.\n",
      "  df = pd.read_html(str(table))[0]\n",
      "/var/folders/5h/v8qm6jqd52q00q39r0ym2qhw0000gn/T/ipykernel_60021/3143823277.py:22: FutureWarning: Passing literal html to 'read_html' is deprecated and will be removed in a future version. To read from a literal string, wrap it in a 'StringIO' object.\n",
      "  df = pd.read_html(str(table))[0]\n"
     ]
    },
    {
     "name": "stdout",
     "output_type": "stream",
     "text": [
      "No data found for batter strawmy01 in 2025 - OK\n"
     ]
    },
    {
     "name": "stderr",
     "output_type": "stream",
     "text": [
      "/var/folders/5h/v8qm6jqd52q00q39r0ym2qhw0000gn/T/ipykernel_60021/3143823277.py:22: FutureWarning: Passing literal html to 'read_html' is deprecated and will be removed in a future version. To read from a literal string, wrap it in a 'StringIO' object.\n",
      "  df = pd.read_html(str(table))[0]\n",
      "/var/folders/5h/v8qm6jqd52q00q39r0ym2qhw0000gn/T/ipykernel_60021/3143823277.py:22: FutureWarning: Passing literal html to 'read_html' is deprecated and will be removed in a future version. To read from a literal string, wrap it in a 'StringIO' object.\n",
      "  df = pd.read_html(str(table))[0]\n"
     ]
    },
    {
     "name": "stdout",
     "output_type": "stream",
     "text": [
      "No data found for batter strichu01 in 2023 - OK\n"
     ]
    },
    {
     "name": "stderr",
     "output_type": "stream",
     "text": [
      "/var/folders/5h/v8qm6jqd52q00q39r0ym2qhw0000gn/T/ipykernel_60021/3143823277.py:22: FutureWarning: Passing literal html to 'read_html' is deprecated and will be removed in a future version. To read from a literal string, wrap it in a 'StringIO' object.\n",
      "  df = pd.read_html(str(table))[0]\n"
     ]
    },
    {
     "name": "stdout",
     "output_type": "stream",
     "text": [
      "No data found for batter strichu01 in 2025 - OK\n"
     ]
    },
    {
     "name": "stderr",
     "output_type": "stream",
     "text": [
      "/var/folders/5h/v8qm6jqd52q00q39r0ym2qhw0000gn/T/ipykernel_60021/3143823277.py:22: FutureWarning: Passing literal html to 'read_html' is deprecated and will be removed in a future version. To read from a literal string, wrap it in a 'StringIO' object.\n",
      "  df = pd.read_html(str(table))[0]\n",
      "/var/folders/5h/v8qm6jqd52q00q39r0ym2qhw0000gn/T/ipykernel_60021/3143823277.py:22: FutureWarning: Passing literal html to 'read_html' is deprecated and will be removed in a future version. To read from a literal string, wrap it in a 'StringIO' object.\n",
      "  df = pd.read_html(str(table))[0]\n",
      "/var/folders/5h/v8qm6jqd52q00q39r0ym2qhw0000gn/T/ipykernel_60021/3143823277.py:22: FutureWarning: Passing literal html to 'read_html' is deprecated and will be removed in a future version. To read from a literal string, wrap it in a 'StringIO' object.\n",
      "  df = pd.read_html(str(table))[0]\n",
      "/var/folders/5h/v8qm6jqd52q00q39r0ym2qhw0000gn/T/ipykernel_60021/3143823277.py:22: FutureWarning: Passing literal html to 'read_html' is deprecated and will be removed in a future version. To read from a literal string, wrap it in a 'StringIO' object.\n",
      "  df = pd.read_html(str(table))[0]\n"
     ]
    },
    {
     "name": "stdout",
     "output_type": "stream",
     "text": [
      "No data found for batter stridsp01 in 2025 - OK\n"
     ]
    },
    {
     "name": "stderr",
     "output_type": "stream",
     "text": [
      "/var/folders/5h/v8qm6jqd52q00q39r0ym2qhw0000gn/T/ipykernel_60021/3143823277.py:22: FutureWarning: Passing literal html to 'read_html' is deprecated and will be removed in a future version. To read from a literal string, wrap it in a 'StringIO' object.\n",
      "  df = pd.read_html(str(table))[0]\n",
      "/var/folders/5h/v8qm6jqd52q00q39r0ym2qhw0000gn/T/ipykernel_60021/3143823277.py:22: FutureWarning: Passing literal html to 'read_html' is deprecated and will be removed in a future version. To read from a literal string, wrap it in a 'StringIO' object.\n",
      "  df = pd.read_html(str(table))[0]\n",
      "/var/folders/5h/v8qm6jqd52q00q39r0ym2qhw0000gn/T/ipykernel_60021/3143823277.py:22: FutureWarning: Passing literal html to 'read_html' is deprecated and will be removed in a future version. To read from a literal string, wrap it in a 'StringIO' object.\n",
      "  df = pd.read_html(str(table))[0]\n",
      "/var/folders/5h/v8qm6jqd52q00q39r0ym2qhw0000gn/T/ipykernel_60021/3143823277.py:22: FutureWarning: Passing literal html to 'read_html' is deprecated and will be removed in a future version. To read from a literal string, wrap it in a 'StringIO' object.\n",
      "  df = pd.read_html(str(table))[0]\n"
     ]
    },
    {
     "name": "stdout",
     "output_type": "stream",
     "text": [
      "No data found for batter stripro01 in 2025 - OK\n"
     ]
    },
    {
     "name": "stderr",
     "output_type": "stream",
     "text": [
      "/var/folders/5h/v8qm6jqd52q00q39r0ym2qhw0000gn/T/ipykernel_60021/3143823277.py:22: FutureWarning: Passing literal html to 'read_html' is deprecated and will be removed in a future version. To read from a literal string, wrap it in a 'StringIO' object.\n",
      "  df = pd.read_html(str(table))[0]\n",
      "/var/folders/5h/v8qm6jqd52q00q39r0ym2qhw0000gn/T/ipykernel_60021/3143823277.py:22: FutureWarning: Passing literal html to 'read_html' is deprecated and will be removed in a future version. To read from a literal string, wrap it in a 'StringIO' object.\n",
      "  df = pd.read_html(str(table))[0]\n",
      "/var/folders/5h/v8qm6jqd52q00q39r0ym2qhw0000gn/T/ipykernel_60021/3143823277.py:22: FutureWarning: Passing literal html to 'read_html' is deprecated and will be removed in a future version. To read from a literal string, wrap it in a 'StringIO' object.\n",
      "  df = pd.read_html(str(table))[0]\n",
      "/var/folders/5h/v8qm6jqd52q00q39r0ym2qhw0000gn/T/ipykernel_60021/3143823277.py:22: FutureWarning: Passing literal html to 'read_html' is deprecated and will be removed in a future version. To read from a literal string, wrap it in a 'StringIO' object.\n",
      "  df = pd.read_html(str(table))[0]\n"
     ]
    },
    {
     "name": "stdout",
     "output_type": "stream",
     "text": [
      "No data found for batter stromma01 in 2025 - OK\n"
     ]
    },
    {
     "name": "stderr",
     "output_type": "stream",
     "text": [
      "/var/folders/5h/v8qm6jqd52q00q39r0ym2qhw0000gn/T/ipykernel_60021/3143823277.py:22: FutureWarning: Passing literal html to 'read_html' is deprecated and will be removed in a future version. To read from a literal string, wrap it in a 'StringIO' object.\n",
      "  df = pd.read_html(str(table))[0]\n",
      "/var/folders/5h/v8qm6jqd52q00q39r0ym2qhw0000gn/T/ipykernel_60021/3143823277.py:22: FutureWarning: Passing literal html to 'read_html' is deprecated and will be removed in a future version. To read from a literal string, wrap it in a 'StringIO' object.\n",
      "  df = pd.read_html(str(table))[0]\n",
      "/var/folders/5h/v8qm6jqd52q00q39r0ym2qhw0000gn/T/ipykernel_60021/3143823277.py:22: FutureWarning: Passing literal html to 'read_html' is deprecated and will be removed in a future version. To read from a literal string, wrap it in a 'StringIO' object.\n",
      "  df = pd.read_html(str(table))[0]\n",
      "/var/folders/5h/v8qm6jqd52q00q39r0ym2qhw0000gn/T/ipykernel_60021/3143823277.py:22: FutureWarning: Passing literal html to 'read_html' is deprecated and will be removed in a future version. To read from a literal string, wrap it in a 'StringIO' object.\n",
      "  df = pd.read_html(str(table))[0]\n"
     ]
    },
    {
     "name": "stdout",
     "output_type": "stream",
     "text": [
      "No data found for batter stubbga01 in 2025 - OK\n"
     ]
    },
    {
     "name": "stderr",
     "output_type": "stream",
     "text": [
      "/var/folders/5h/v8qm6jqd52q00q39r0ym2qhw0000gn/T/ipykernel_60021/3143823277.py:22: FutureWarning: Passing literal html to 'read_html' is deprecated and will be removed in a future version. To read from a literal string, wrap it in a 'StringIO' object.\n",
      "  df = pd.read_html(str(table))[0]\n",
      "/var/folders/5h/v8qm6jqd52q00q39r0ym2qhw0000gn/T/ipykernel_60021/3143823277.py:22: FutureWarning: Passing literal html to 'read_html' is deprecated and will be removed in a future version. To read from a literal string, wrap it in a 'StringIO' object.\n",
      "  df = pd.read_html(str(table))[0]\n",
      "/var/folders/5h/v8qm6jqd52q00q39r0ym2qhw0000gn/T/ipykernel_60021/3143823277.py:22: FutureWarning: Passing literal html to 'read_html' is deprecated and will be removed in a future version. To read from a literal string, wrap it in a 'StringIO' object.\n",
      "  df = pd.read_html(str(table))[0]\n",
      "/var/folders/5h/v8qm6jqd52q00q39r0ym2qhw0000gn/T/ipykernel_60021/3143823277.py:22: FutureWarning: Passing literal html to 'read_html' is deprecated and will be removed in a future version. To read from a literal string, wrap it in a 'StringIO' object.\n",
      "  df = pd.read_html(str(table))[0]\n"
     ]
    },
    {
     "name": "stdout",
     "output_type": "stream",
     "text": [
      "No data found for batter suareeu01 in 2025 - OK\n"
     ]
    },
    {
     "name": "stderr",
     "output_type": "stream",
     "text": [
      "/var/folders/5h/v8qm6jqd52q00q39r0ym2qhw0000gn/T/ipykernel_60021/3143823277.py:22: FutureWarning: Passing literal html to 'read_html' is deprecated and will be removed in a future version. To read from a literal string, wrap it in a 'StringIO' object.\n",
      "  df = pd.read_html(str(table))[0]\n",
      "/var/folders/5h/v8qm6jqd52q00q39r0ym2qhw0000gn/T/ipykernel_60021/3143823277.py:22: FutureWarning: Passing literal html to 'read_html' is deprecated and will be removed in a future version. To read from a literal string, wrap it in a 'StringIO' object.\n",
      "  df = pd.read_html(str(table))[0]\n",
      "/var/folders/5h/v8qm6jqd52q00q39r0ym2qhw0000gn/T/ipykernel_60021/3143823277.py:22: FutureWarning: Passing literal html to 'read_html' is deprecated and will be removed in a future version. To read from a literal string, wrap it in a 'StringIO' object.\n",
      "  df = pd.read_html(str(table))[0]\n",
      "/var/folders/5h/v8qm6jqd52q00q39r0ym2qhw0000gn/T/ipykernel_60021/3143823277.py:22: FutureWarning: Passing literal html to 'read_html' is deprecated and will be removed in a future version. To read from a literal string, wrap it in a 'StringIO' object.\n",
      "  df = pd.read_html(str(table))[0]\n"
     ]
    },
    {
     "name": "stdout",
     "output_type": "stream",
     "text": [
      "No data found for batter suarejo01 in 2025 - OK\n"
     ]
    },
    {
     "name": "stderr",
     "output_type": "stream",
     "text": [
      "/var/folders/5h/v8qm6jqd52q00q39r0ym2qhw0000gn/T/ipykernel_60021/3143823277.py:22: FutureWarning: Passing literal html to 'read_html' is deprecated and will be removed in a future version. To read from a literal string, wrap it in a 'StringIO' object.\n",
      "  df = pd.read_html(str(table))[0]\n",
      "/var/folders/5h/v8qm6jqd52q00q39r0ym2qhw0000gn/T/ipykernel_60021/3143823277.py:22: FutureWarning: Passing literal html to 'read_html' is deprecated and will be removed in a future version. To read from a literal string, wrap it in a 'StringIO' object.\n",
      "  df = pd.read_html(str(table))[0]\n",
      "/var/folders/5h/v8qm6jqd52q00q39r0ym2qhw0000gn/T/ipykernel_60021/3143823277.py:22: FutureWarning: Passing literal html to 'read_html' is deprecated and will be removed in a future version. To read from a literal string, wrap it in a 'StringIO' object.\n",
      "  df = pd.read_html(str(table))[0]\n",
      "/var/folders/5h/v8qm6jqd52q00q39r0ym2qhw0000gn/T/ipykernel_60021/3143823277.py:22: FutureWarning: Passing literal html to 'read_html' is deprecated and will be removed in a future version. To read from a literal string, wrap it in a 'StringIO' object.\n",
      "  df = pd.read_html(str(table))[0]\n"
     ]
    },
    {
     "name": "stdout",
     "output_type": "stream",
     "text": [
      "No data found for batter suarera01 in 2025 - OK\n"
     ]
    },
    {
     "name": "stderr",
     "output_type": "stream",
     "text": [
      "/var/folders/5h/v8qm6jqd52q00q39r0ym2qhw0000gn/T/ipykernel_60021/3143823277.py:22: FutureWarning: Passing literal html to 'read_html' is deprecated and will be removed in a future version. To read from a literal string, wrap it in a 'StringIO' object.\n",
      "  df = pd.read_html(str(table))[0]\n"
     ]
    },
    {
     "name": "stdout",
     "output_type": "stream",
     "text": [
      "No data found for batter suerowa01 in 2022 - OK\n"
     ]
    },
    {
     "name": "stderr",
     "output_type": "stream",
     "text": [
      "/var/folders/5h/v8qm6jqd52q00q39r0ym2qhw0000gn/T/ipykernel_60021/3143823277.py:22: FutureWarning: Passing literal html to 'read_html' is deprecated and will be removed in a future version. To read from a literal string, wrap it in a 'StringIO' object.\n",
      "  df = pd.read_html(str(table))[0]\n",
      "/var/folders/5h/v8qm6jqd52q00q39r0ym2qhw0000gn/T/ipykernel_60021/3143823277.py:22: FutureWarning: Passing literal html to 'read_html' is deprecated and will be removed in a future version. To read from a literal string, wrap it in a 'StringIO' object.\n",
      "  df = pd.read_html(str(table))[0]\n"
     ]
    },
    {
     "name": "stdout",
     "output_type": "stream",
     "text": [
      "No data found for batter suerowa01 in 2025 - OK\n",
      "No data found for batter sullibr01 in 2021 - OK\n",
      "No data found for batter sullibr01 in 2022 - OK\n"
     ]
    },
    {
     "name": "stderr",
     "output_type": "stream",
     "text": [
      "/var/folders/5h/v8qm6jqd52q00q39r0ym2qhw0000gn/T/ipykernel_60021/3143823277.py:22: FutureWarning: Passing literal html to 'read_html' is deprecated and will be removed in a future version. To read from a literal string, wrap it in a 'StringIO' object.\n",
      "  df = pd.read_html(str(table))[0]\n",
      "/var/folders/5h/v8qm6jqd52q00q39r0ym2qhw0000gn/T/ipykernel_60021/3143823277.py:22: FutureWarning: Passing literal html to 'read_html' is deprecated and will be removed in a future version. To read from a literal string, wrap it in a 'StringIO' object.\n",
      "  df = pd.read_html(str(table))[0]\n"
     ]
    },
    {
     "name": "stdout",
     "output_type": "stream",
     "text": [
      "No data found for batter sullibr01 in 2025 - OK\n"
     ]
    },
    {
     "name": "stderr",
     "output_type": "stream",
     "text": [
      "/var/folders/5h/v8qm6jqd52q00q39r0ym2qhw0000gn/T/ipykernel_60021/3143823277.py:22: FutureWarning: Passing literal html to 'read_html' is deprecated and will be removed in a future version. To read from a literal string, wrap it in a 'StringIO' object.\n",
      "  df = pd.read_html(str(table))[0]\n",
      "/var/folders/5h/v8qm6jqd52q00q39r0ym2qhw0000gn/T/ipykernel_60021/3143823277.py:22: FutureWarning: Passing literal html to 'read_html' is deprecated and will be removed in a future version. To read from a literal string, wrap it in a 'StringIO' object.\n",
      "  df = pd.read_html(str(table))[0]\n",
      "/var/folders/5h/v8qm6jqd52q00q39r0ym2qhw0000gn/T/ipykernel_60021/3143823277.py:22: FutureWarning: Passing literal html to 'read_html' is deprecated and will be removed in a future version. To read from a literal string, wrap it in a 'StringIO' object.\n",
      "  df = pd.read_html(str(table))[0]\n",
      "/var/folders/5h/v8qm6jqd52q00q39r0ym2qhw0000gn/T/ipykernel_60021/3143823277.py:22: FutureWarning: Passing literal html to 'read_html' is deprecated and will be removed in a future version. To read from a literal string, wrap it in a 'StringIO' object.\n",
      "  df = pd.read_html(str(table))[0]\n"
     ]
    },
    {
     "name": "stdout",
     "output_type": "stream",
     "text": [
      "No data found for batter suterbr01 in 2025 - OK\n",
      "No data found for batter suwinja01 in 2021 - OK\n"
     ]
    },
    {
     "name": "stderr",
     "output_type": "stream",
     "text": [
      "/var/folders/5h/v8qm6jqd52q00q39r0ym2qhw0000gn/T/ipykernel_60021/3143823277.py:22: FutureWarning: Passing literal html to 'read_html' is deprecated and will be removed in a future version. To read from a literal string, wrap it in a 'StringIO' object.\n",
      "  df = pd.read_html(str(table))[0]\n",
      "/var/folders/5h/v8qm6jqd52q00q39r0ym2qhw0000gn/T/ipykernel_60021/3143823277.py:22: FutureWarning: Passing literal html to 'read_html' is deprecated and will be removed in a future version. To read from a literal string, wrap it in a 'StringIO' object.\n",
      "  df = pd.read_html(str(table))[0]\n",
      "/var/folders/5h/v8qm6jqd52q00q39r0ym2qhw0000gn/T/ipykernel_60021/3143823277.py:22: FutureWarning: Passing literal html to 'read_html' is deprecated and will be removed in a future version. To read from a literal string, wrap it in a 'StringIO' object.\n",
      "  df = pd.read_html(str(table))[0]\n"
     ]
    },
    {
     "name": "stdout",
     "output_type": "stream",
     "text": [
      "No data found for batter suwinja01 in 2025 - OK\n"
     ]
    },
    {
     "name": "stderr",
     "output_type": "stream",
     "text": [
      "/var/folders/5h/v8qm6jqd52q00q39r0ym2qhw0000gn/T/ipykernel_60021/3143823277.py:22: FutureWarning: Passing literal html to 'read_html' is deprecated and will be removed in a future version. To read from a literal string, wrap it in a 'StringIO' object.\n",
      "  df = pd.read_html(str(table))[0]\n",
      "/var/folders/5h/v8qm6jqd52q00q39r0ym2qhw0000gn/T/ipykernel_60021/3143823277.py:22: FutureWarning: Passing literal html to 'read_html' is deprecated and will be removed in a future version. To read from a literal string, wrap it in a 'StringIO' object.\n",
      "  df = pd.read_html(str(table))[0]\n"
     ]
    },
    {
     "name": "stdout",
     "output_type": "stream",
     "text": [
      "No data found for batter suzukku01 in 2023 - OK\n",
      "No data found for batter suzukku01 in 2024 - OK\n",
      "No data found for batter suzukku01 in 2025 - OK\n",
      "No data found for batter suzukse01 in 2021 - OK\n"
     ]
    },
    {
     "name": "stderr",
     "output_type": "stream",
     "text": [
      "/var/folders/5h/v8qm6jqd52q00q39r0ym2qhw0000gn/T/ipykernel_60021/3143823277.py:22: FutureWarning: Passing literal html to 'read_html' is deprecated and will be removed in a future version. To read from a literal string, wrap it in a 'StringIO' object.\n",
      "  df = pd.read_html(str(table))[0]\n",
      "/var/folders/5h/v8qm6jqd52q00q39r0ym2qhw0000gn/T/ipykernel_60021/3143823277.py:22: FutureWarning: Passing literal html to 'read_html' is deprecated and will be removed in a future version. To read from a literal string, wrap it in a 'StringIO' object.\n",
      "  df = pd.read_html(str(table))[0]\n",
      "/var/folders/5h/v8qm6jqd52q00q39r0ym2qhw0000gn/T/ipykernel_60021/3143823277.py:22: FutureWarning: Passing literal html to 'read_html' is deprecated and will be removed in a future version. To read from a literal string, wrap it in a 'StringIO' object.\n",
      "  df = pd.read_html(str(table))[0]\n"
     ]
    },
    {
     "name": "stdout",
     "output_type": "stream",
     "text": [
      "No data found for batter suzukse01 in 2025 - OK\n",
      "No data found for batter swaggtr01 in 2021 - OK\n"
     ]
    },
    {
     "name": "stderr",
     "output_type": "stream",
     "text": [
      "/var/folders/5h/v8qm6jqd52q00q39r0ym2qhw0000gn/T/ipykernel_60021/3143823277.py:22: FutureWarning: Passing literal html to 'read_html' is deprecated and will be removed in a future version. To read from a literal string, wrap it in a 'StringIO' object.\n",
      "  df = pd.read_html(str(table))[0]\n"
     ]
    },
    {
     "name": "stdout",
     "output_type": "stream",
     "text": [
      "No data found for batter swaggtr01 in 2023 - OK\n",
      "No data found for batter swaggtr01 in 2024 - OK\n",
      "No data found for batter swaggtr01 in 2025 - OK\n"
     ]
    },
    {
     "name": "stderr",
     "output_type": "stream",
     "text": [
      "/var/folders/5h/v8qm6jqd52q00q39r0ym2qhw0000gn/T/ipykernel_60021/3143823277.py:22: FutureWarning: Passing literal html to 'read_html' is deprecated and will be removed in a future version. To read from a literal string, wrap it in a 'StringIO' object.\n",
      "  df = pd.read_html(str(table))[0]\n",
      "/var/folders/5h/v8qm6jqd52q00q39r0ym2qhw0000gn/T/ipykernel_60021/3143823277.py:22: FutureWarning: Passing literal html to 'read_html' is deprecated and will be removed in a future version. To read from a literal string, wrap it in a 'StringIO' object.\n",
      "  df = pd.read_html(str(table))[0]\n",
      "/var/folders/5h/v8qm6jqd52q00q39r0ym2qhw0000gn/T/ipykernel_60021/3143823277.py:22: FutureWarning: Passing literal html to 'read_html' is deprecated and will be removed in a future version. To read from a literal string, wrap it in a 'StringIO' object.\n",
      "  df = pd.read_html(str(table))[0]\n",
      "/var/folders/5h/v8qm6jqd52q00q39r0ym2qhw0000gn/T/ipykernel_60021/3143823277.py:22: FutureWarning: Passing literal html to 'read_html' is deprecated and will be removed in a future version. To read from a literal string, wrap it in a 'StringIO' object.\n",
      "  df = pd.read_html(str(table))[0]\n"
     ]
    },
    {
     "name": "stdout",
     "output_type": "stream",
     "text": [
      "No data found for batter swansda01 in 2025 - OK\n",
      "No data found for batter sweentr01 in 2021 - OK\n",
      "No data found for batter sweentr01 in 2022 - OK\n",
      "No data found for batter sweentr01 in 2023 - OK\n"
     ]
    },
    {
     "name": "stderr",
     "output_type": "stream",
     "text": [
      "/var/folders/5h/v8qm6jqd52q00q39r0ym2qhw0000gn/T/ipykernel_60021/3143823277.py:22: FutureWarning: Passing literal html to 'read_html' is deprecated and will be removed in a future version. To read from a literal string, wrap it in a 'StringIO' object.\n",
      "  df = pd.read_html(str(table))[0]\n"
     ]
    },
    {
     "name": "stdout",
     "output_type": "stream",
     "text": [
      "No data found for batter sweentr01 in 2025 - OK\n"
     ]
    },
    {
     "name": "stderr",
     "output_type": "stream",
     "text": [
      "/var/folders/5h/v8qm6jqd52q00q39r0ym2qhw0000gn/T/ipykernel_60021/3143823277.py:22: FutureWarning: Passing literal html to 'read_html' is deprecated and will be removed in a future version. To read from a literal string, wrap it in a 'StringIO' object.\n",
      "  df = pd.read_html(str(table))[0]\n",
      "/var/folders/5h/v8qm6jqd52q00q39r0ym2qhw0000gn/T/ipykernel_60021/3143823277.py:22: FutureWarning: Passing literal html to 'read_html' is deprecated and will be removed in a future version. To read from a literal string, wrap it in a 'StringIO' object.\n",
      "  df = pd.read_html(str(table))[0]\n"
     ]
    },
    {
     "name": "stdout",
     "output_type": "stream",
     "text": [
      "No data found for batter szaputh01 in 2023 - OK\n",
      "No data found for batter szaputh01 in 2024 - OK\n",
      "No data found for batter szaputh01 in 2025 - OK\n"
     ]
    },
    {
     "name": "stderr",
     "output_type": "stream",
     "text": [
      "/var/folders/5h/v8qm6jqd52q00q39r0ym2qhw0000gn/T/ipykernel_60021/3143823277.py:22: FutureWarning: Passing literal html to 'read_html' is deprecated and will be removed in a future version. To read from a literal string, wrap it in a 'StringIO' object.\n",
      "  df = pd.read_html(str(table))[0]\n",
      "/var/folders/5h/v8qm6jqd52q00q39r0ym2qhw0000gn/T/ipykernel_60021/3143823277.py:22: FutureWarning: Passing literal html to 'read_html' is deprecated and will be removed in a future version. To read from a literal string, wrap it in a 'StringIO' object.\n",
      "  df = pd.read_html(str(table))[0]\n",
      "/var/folders/5h/v8qm6jqd52q00q39r0ym2qhw0000gn/T/ipykernel_60021/3143823277.py:22: FutureWarning: Passing literal html to 'read_html' is deprecated and will be removed in a future version. To read from a literal string, wrap it in a 'StringIO' object.\n",
      "  df = pd.read_html(str(table))[0]\n",
      "/var/folders/5h/v8qm6jqd52q00q39r0ym2qhw0000gn/T/ipykernel_60021/3143823277.py:22: FutureWarning: Passing literal html to 'read_html' is deprecated and will be removed in a future version. To read from a literal string, wrap it in a 'StringIO' object.\n",
      "  df = pd.read_html(str(table))[0]\n"
     ]
    },
    {
     "name": "stdout",
     "output_type": "stream",
     "text": [
      "No data found for batter taillja01 in 2025 - OK\n"
     ]
    },
    {
     "name": "stderr",
     "output_type": "stream",
     "text": [
      "/var/folders/5h/v8qm6jqd52q00q39r0ym2qhw0000gn/T/ipykernel_60021/3143823277.py:22: FutureWarning: Passing literal html to 'read_html' is deprecated and will be removed in a future version. To read from a literal string, wrap it in a 'StringIO' object.\n",
      "  df = pd.read_html(str(table))[0]\n",
      "/var/folders/5h/v8qm6jqd52q00q39r0ym2qhw0000gn/T/ipykernel_60021/3143823277.py:22: FutureWarning: Passing literal html to 'read_html' is deprecated and will be removed in a future version. To read from a literal string, wrap it in a 'StringIO' object.\n",
      "  df = pd.read_html(str(table))[0]\n",
      "/var/folders/5h/v8qm6jqd52q00q39r0ym2qhw0000gn/T/ipykernel_60021/3143823277.py:22: FutureWarning: Passing literal html to 'read_html' is deprecated and will be removed in a future version. To read from a literal string, wrap it in a 'StringIO' object.\n",
      "  df = pd.read_html(str(table))[0]\n"
     ]
    },
    {
     "name": "stdout",
     "output_type": "stream",
     "text": [
      "No data found for batter tapiara01 in 2024 - OK\n",
      "No data found for batter tapiara01 in 2025 - OK\n"
     ]
    },
    {
     "name": "stderr",
     "output_type": "stream",
     "text": [
      "/var/folders/5h/v8qm6jqd52q00q39r0ym2qhw0000gn/T/ipykernel_60021/3143823277.py:22: FutureWarning: Passing literal html to 'read_html' is deprecated and will be removed in a future version. To read from a literal string, wrap it in a 'StringIO' object.\n",
      "  df = pd.read_html(str(table))[0]\n"
     ]
    },
    {
     "name": "stdout",
     "output_type": "stream",
     "text": [
      "No data found for batter tatisfe02 in 2022 - OK\n"
     ]
    },
    {
     "name": "stderr",
     "output_type": "stream",
     "text": [
      "/var/folders/5h/v8qm6jqd52q00q39r0ym2qhw0000gn/T/ipykernel_60021/3143823277.py:22: FutureWarning: Passing literal html to 'read_html' is deprecated and will be removed in a future version. To read from a literal string, wrap it in a 'StringIO' object.\n",
      "  df = pd.read_html(str(table))[0]\n",
      "/var/folders/5h/v8qm6jqd52q00q39r0ym2qhw0000gn/T/ipykernel_60021/3143823277.py:22: FutureWarning: Passing literal html to 'read_html' is deprecated and will be removed in a future version. To read from a literal string, wrap it in a 'StringIO' object.\n",
      "  df = pd.read_html(str(table))[0]\n"
     ]
    },
    {
     "name": "stdout",
     "output_type": "stream",
     "text": [
      "No data found for batter tatisfe02 in 2025 - OK\n"
     ]
    },
    {
     "name": "stderr",
     "output_type": "stream",
     "text": [
      "/var/folders/5h/v8qm6jqd52q00q39r0ym2qhw0000gn/T/ipykernel_60021/3143823277.py:22: FutureWarning: Passing literal html to 'read_html' is deprecated and will be removed in a future version. To read from a literal string, wrap it in a 'StringIO' object.\n",
      "  df = pd.read_html(str(table))[0]\n"
     ]
    },
    {
     "name": "stdout",
     "output_type": "stream",
     "text": [
      "No data found for batter tauchmi01 in 2022 - OK\n"
     ]
    },
    {
     "name": "stderr",
     "output_type": "stream",
     "text": [
      "/var/folders/5h/v8qm6jqd52q00q39r0ym2qhw0000gn/T/ipykernel_60021/3143823277.py:22: FutureWarning: Passing literal html to 'read_html' is deprecated and will be removed in a future version. To read from a literal string, wrap it in a 'StringIO' object.\n",
      "  df = pd.read_html(str(table))[0]\n",
      "/var/folders/5h/v8qm6jqd52q00q39r0ym2qhw0000gn/T/ipykernel_60021/3143823277.py:22: FutureWarning: Passing literal html to 'read_html' is deprecated and will be removed in a future version. To read from a literal string, wrap it in a 'StringIO' object.\n",
      "  df = pd.read_html(str(table))[0]\n"
     ]
    },
    {
     "name": "stdout",
     "output_type": "stream",
     "text": [
      "No data found for batter tauchmi01 in 2025 - OK\n"
     ]
    },
    {
     "name": "stderr",
     "output_type": "stream",
     "text": [
      "/var/folders/5h/v8qm6jqd52q00q39r0ym2qhw0000gn/T/ipykernel_60021/3143823277.py:22: FutureWarning: Passing literal html to 'read_html' is deprecated and will be removed in a future version. To read from a literal string, wrap it in a 'StringIO' object.\n",
      "  df = pd.read_html(str(table))[0]\n",
      "/var/folders/5h/v8qm6jqd52q00q39r0ym2qhw0000gn/T/ipykernel_60021/3143823277.py:22: FutureWarning: Passing literal html to 'read_html' is deprecated and will be removed in a future version. To read from a literal string, wrap it in a 'StringIO' object.\n",
      "  df = pd.read_html(str(table))[0]\n",
      "/var/folders/5h/v8qm6jqd52q00q39r0ym2qhw0000gn/T/ipykernel_60021/3143823277.py:22: FutureWarning: Passing literal html to 'read_html' is deprecated and will be removed in a future version. To read from a literal string, wrap it in a 'StringIO' object.\n",
      "  df = pd.read_html(str(table))[0]\n",
      "/var/folders/5h/v8qm6jqd52q00q39r0ym2qhw0000gn/T/ipykernel_60021/3143823277.py:22: FutureWarning: Passing literal html to 'read_html' is deprecated and will be removed in a future version. To read from a literal string, wrap it in a 'StringIO' object.\n",
      "  df = pd.read_html(str(table))[0]\n"
     ]
    },
    {
     "name": "stdout",
     "output_type": "stream",
     "text": [
      "No data found for batter taverle01 in 2025 - OK\n"
     ]
    },
    {
     "name": "stderr",
     "output_type": "stream",
     "text": [
      "/var/folders/5h/v8qm6jqd52q00q39r0ym2qhw0000gn/T/ipykernel_60021/3143823277.py:22: FutureWarning: Passing literal html to 'read_html' is deprecated and will be removed in a future version. To read from a literal string, wrap it in a 'StringIO' object.\n",
      "  df = pd.read_html(str(table))[0]\n",
      "/var/folders/5h/v8qm6jqd52q00q39r0ym2qhw0000gn/T/ipykernel_60021/3143823277.py:22: FutureWarning: Passing literal html to 'read_html' is deprecated and will be removed in a future version. To read from a literal string, wrap it in a 'StringIO' object.\n",
      "  df = pd.read_html(str(table))[0]\n",
      "/var/folders/5h/v8qm6jqd52q00q39r0ym2qhw0000gn/T/ipykernel_60021/3143823277.py:22: FutureWarning: Passing literal html to 'read_html' is deprecated and will be removed in a future version. To read from a literal string, wrap it in a 'StringIO' object.\n",
      "  df = pd.read_html(str(table))[0]\n",
      "/var/folders/5h/v8qm6jqd52q00q39r0ym2qhw0000gn/T/ipykernel_60021/3143823277.py:22: FutureWarning: Passing literal html to 'read_html' is deprecated and will be removed in a future version. To read from a literal string, wrap it in a 'StringIO' object.\n",
      "  df = pd.read_html(str(table))[0]\n"
     ]
    },
    {
     "name": "stdout",
     "output_type": "stream",
     "text": [
      "No data found for batter tayloch03 in 2025 - OK\n"
     ]
    },
    {
     "name": "stderr",
     "output_type": "stream",
     "text": [
      "/var/folders/5h/v8qm6jqd52q00q39r0ym2qhw0000gn/T/ipykernel_60021/3143823277.py:22: FutureWarning: Passing literal html to 'read_html' is deprecated and will be removed in a future version. To read from a literal string, wrap it in a 'StringIO' object.\n",
      "  df = pd.read_html(str(table))[0]\n",
      "/var/folders/5h/v8qm6jqd52q00q39r0ym2qhw0000gn/T/ipykernel_60021/3143823277.py:22: FutureWarning: Passing literal html to 'read_html' is deprecated and will be removed in a future version. To read from a literal string, wrap it in a 'StringIO' object.\n",
      "  df = pd.read_html(str(table))[0]\n",
      "/var/folders/5h/v8qm6jqd52q00q39r0ym2qhw0000gn/T/ipykernel_60021/3143823277.py:22: FutureWarning: Passing literal html to 'read_html' is deprecated and will be removed in a future version. To read from a literal string, wrap it in a 'StringIO' object.\n",
      "  df = pd.read_html(str(table))[0]\n",
      "/var/folders/5h/v8qm6jqd52q00q39r0ym2qhw0000gn/T/ipykernel_60021/3143823277.py:22: FutureWarning: Passing literal html to 'read_html' is deprecated and will be removed in a future version. To read from a literal string, wrap it in a 'StringIO' object.\n",
      "  df = pd.read_html(str(table))[0]\n"
     ]
    },
    {
     "name": "stdout",
     "output_type": "stream",
     "text": [
      "No data found for batter taylomi02 in 2025 - OK\n",
      "No data found for batter taylosa04 in 2021 - OK\n",
      "No data found for batter taylosa04 in 2022 - OK\n"
     ]
    },
    {
     "name": "stderr",
     "output_type": "stream",
     "text": [
      "/var/folders/5h/v8qm6jqd52q00q39r0ym2qhw0000gn/T/ipykernel_60021/3143823277.py:22: FutureWarning: Passing literal html to 'read_html' is deprecated and will be removed in a future version. To read from a literal string, wrap it in a 'StringIO' object.\n",
      "  df = pd.read_html(str(table))[0]\n",
      "/var/folders/5h/v8qm6jqd52q00q39r0ym2qhw0000gn/T/ipykernel_60021/3143823277.py:22: FutureWarning: Passing literal html to 'read_html' is deprecated and will be removed in a future version. To read from a literal string, wrap it in a 'StringIO' object.\n",
      "  df = pd.read_html(str(table))[0]\n"
     ]
    },
    {
     "name": "stdout",
     "output_type": "stream",
     "text": [
      "No data found for batter taylosa04 in 2025 - OK\n"
     ]
    },
    {
     "name": "stderr",
     "output_type": "stream",
     "text": [
      "/var/folders/5h/v8qm6jqd52q00q39r0ym2qhw0000gn/T/ipykernel_60021/3143823277.py:22: FutureWarning: Passing literal html to 'read_html' is deprecated and will be removed in a future version. To read from a literal string, wrap it in a 'StringIO' object.\n",
      "  df = pd.read_html(str(table))[0]\n",
      "/var/folders/5h/v8qm6jqd52q00q39r0ym2qhw0000gn/T/ipykernel_60021/3143823277.py:22: FutureWarning: Passing literal html to 'read_html' is deprecated and will be removed in a future version. To read from a literal string, wrap it in a 'StringIO' object.\n",
      "  df = pd.read_html(str(table))[0]\n",
      "/var/folders/5h/v8qm6jqd52q00q39r0ym2qhw0000gn/T/ipykernel_60021/3143823277.py:22: FutureWarning: Passing literal html to 'read_html' is deprecated and will be removed in a future version. To read from a literal string, wrap it in a 'StringIO' object.\n",
      "  df = pd.read_html(str(table))[0]\n",
      "/var/folders/5h/v8qm6jqd52q00q39r0ym2qhw0000gn/T/ipykernel_60021/3143823277.py:22: FutureWarning: Passing literal html to 'read_html' is deprecated and will be removed in a future version. To read from a literal string, wrap it in a 'StringIO' object.\n",
      "  df = pd.read_html(str(table))[0]\n"
     ]
    },
    {
     "name": "stdout",
     "output_type": "stream",
     "text": [
      "No data found for batter tayloty01 in 2025 - OK\n"
     ]
    },
    {
     "name": "stderr",
     "output_type": "stream",
     "text": [
      "/var/folders/5h/v8qm6jqd52q00q39r0ym2qhw0000gn/T/ipykernel_60021/3143823277.py:22: FutureWarning: Passing literal html to 'read_html' is deprecated and will be removed in a future version. To read from a literal string, wrap it in a 'StringIO' object.\n",
      "  df = pd.read_html(str(table))[0]\n"
     ]
    },
    {
     "name": "stdout",
     "output_type": "stream",
     "text": [
      "No data found for batter tejedan01 in 2022 - OK\n",
      "No data found for batter tejedan01 in 2023 - OK\n",
      "No data found for batter tejedan01 in 2024 - OK\n",
      "No data found for batter tejedan01 in 2025 - OK\n"
     ]
    },
    {
     "name": "stderr",
     "output_type": "stream",
     "text": [
      "/var/folders/5h/v8qm6jqd52q00q39r0ym2qhw0000gn/T/ipykernel_60021/3143823277.py:22: FutureWarning: Passing literal html to 'read_html' is deprecated and will be removed in a future version. To read from a literal string, wrap it in a 'StringIO' object.\n",
      "  df = pd.read_html(str(table))[0]\n",
      "/var/folders/5h/v8qm6jqd52q00q39r0ym2qhw0000gn/T/ipykernel_60021/3143823277.py:22: FutureWarning: Passing literal html to 'read_html' is deprecated and will be removed in a future version. To read from a literal string, wrap it in a 'StringIO' object.\n",
      "  df = pd.read_html(str(table))[0]\n",
      "/var/folders/5h/v8qm6jqd52q00q39r0ym2qhw0000gn/T/ipykernel_60021/3143823277.py:22: FutureWarning: Passing literal html to 'read_html' is deprecated and will be removed in a future version. To read from a literal string, wrap it in a 'StringIO' object.\n",
      "  df = pd.read_html(str(table))[0]\n",
      "/var/folders/5h/v8qm6jqd52q00q39r0ym2qhw0000gn/T/ipykernel_60021/3143823277.py:22: FutureWarning: Passing literal html to 'read_html' is deprecated and will be removed in a future version. To read from a literal string, wrap it in a 'StringIO' object.\n",
      "  df = pd.read_html(str(table))[0]\n"
     ]
    },
    {
     "name": "stdout",
     "output_type": "stream",
     "text": [
      "No data found for batter tellero01 in 2025 - OK\n",
      "No data found for batter tenajo01 in 2021 - OK\n",
      "No data found for batter tenajo01 in 2022 - OK\n"
     ]
    },
    {
     "name": "stderr",
     "output_type": "stream",
     "text": [
      "/var/folders/5h/v8qm6jqd52q00q39r0ym2qhw0000gn/T/ipykernel_60021/3143823277.py:22: FutureWarning: Passing literal html to 'read_html' is deprecated and will be removed in a future version. To read from a literal string, wrap it in a 'StringIO' object.\n",
      "  df = pd.read_html(str(table))[0]\n",
      "/var/folders/5h/v8qm6jqd52q00q39r0ym2qhw0000gn/T/ipykernel_60021/3143823277.py:22: FutureWarning: Passing literal html to 'read_html' is deprecated and will be removed in a future version. To read from a literal string, wrap it in a 'StringIO' object.\n",
      "  df = pd.read_html(str(table))[0]\n"
     ]
    },
    {
     "name": "stdout",
     "output_type": "stream",
     "text": [
      "No data found for batter tenajo01 in 2025 - OK\n",
      "No data found for batter teodobr01 in 2021 - OK\n",
      "No data found for batter teodobr01 in 2022 - OK\n",
      "No data found for batter teodobr01 in 2023 - OK\n"
     ]
    },
    {
     "name": "stderr",
     "output_type": "stream",
     "text": [
      "/var/folders/5h/v8qm6jqd52q00q39r0ym2qhw0000gn/T/ipykernel_60021/3143823277.py:22: FutureWarning: Passing literal html to 'read_html' is deprecated and will be removed in a future version. To read from a literal string, wrap it in a 'StringIO' object.\n",
      "  df = pd.read_html(str(table))[0]\n"
     ]
    },
    {
     "name": "stdout",
     "output_type": "stream",
     "text": [
      "No data found for batter teodobr01 in 2025 - OK\n"
     ]
    },
    {
     "name": "stderr",
     "output_type": "stream",
     "text": [
      "/var/folders/5h/v8qm6jqd52q00q39r0ym2qhw0000gn/T/ipykernel_60021/3143823277.py:22: FutureWarning: Passing literal html to 'read_html' is deprecated and will be removed in a future version. To read from a literal string, wrap it in a 'StringIO' object.\n",
      "  df = pd.read_html(str(table))[0]\n"
     ]
    },
    {
     "name": "stdout",
     "output_type": "stream",
     "text": [
      "No data found for batter terrycu01 in 2022 - OK\n",
      "No data found for batter terrycu01 in 2023 - OK\n",
      "No data found for batter terrycu01 in 2024 - OK\n",
      "No data found for batter terrycu01 in 2025 - OK\n"
     ]
    },
    {
     "name": "stderr",
     "output_type": "stream",
     "text": [
      "/var/folders/5h/v8qm6jqd52q00q39r0ym2qhw0000gn/T/ipykernel_60021/3143823277.py:22: FutureWarning: Passing literal html to 'read_html' is deprecated and will be removed in a future version. To read from a literal string, wrap it in a 'StringIO' object.\n",
      "  df = pd.read_html(str(table))[0]\n",
      "/var/folders/5h/v8qm6jqd52q00q39r0ym2qhw0000gn/T/ipykernel_60021/3143823277.py:22: FutureWarning: Passing literal html to 'read_html' is deprecated and will be removed in a future version. To read from a literal string, wrap it in a 'StringIO' object.\n",
      "  df = pd.read_html(str(table))[0]\n",
      "/var/folders/5h/v8qm6jqd52q00q39r0ym2qhw0000gn/T/ipykernel_60021/3143823277.py:22: FutureWarning: Passing literal html to 'read_html' is deprecated and will be removed in a future version. To read from a literal string, wrap it in a 'StringIO' object.\n",
      "  df = pd.read_html(str(table))[0]\n",
      "/var/folders/5h/v8qm6jqd52q00q39r0ym2qhw0000gn/T/ipykernel_60021/3143823277.py:22: FutureWarning: Passing literal html to 'read_html' is deprecated and will be removed in a future version. To read from a literal string, wrap it in a 'StringIO' object.\n",
      "  df = pd.read_html(str(table))[0]\n"
     ]
    },
    {
     "name": "stdout",
     "output_type": "stream",
     "text": [
      "No data found for batter thaisma01 in 2025 - OK\n",
      "No data found for batter thomaal01 in 2021 - OK\n"
     ]
    },
    {
     "name": "stderr",
     "output_type": "stream",
     "text": [
      "/var/folders/5h/v8qm6jqd52q00q39r0ym2qhw0000gn/T/ipykernel_60021/3143823277.py:22: FutureWarning: Passing literal html to 'read_html' is deprecated and will be removed in a future version. To read from a literal string, wrap it in a 'StringIO' object.\n",
      "  df = pd.read_html(str(table))[0]\n",
      "/var/folders/5h/v8qm6jqd52q00q39r0ym2qhw0000gn/T/ipykernel_60021/3143823277.py:22: FutureWarning: Passing literal html to 'read_html' is deprecated and will be removed in a future version. To read from a literal string, wrap it in a 'StringIO' object.\n",
      "  df = pd.read_html(str(table))[0]\n",
      "/var/folders/5h/v8qm6jqd52q00q39r0ym2qhw0000gn/T/ipykernel_60021/3143823277.py:22: FutureWarning: Passing literal html to 'read_html' is deprecated and will be removed in a future version. To read from a literal string, wrap it in a 'StringIO' object.\n",
      "  df = pd.read_html(str(table))[0]\n"
     ]
    },
    {
     "name": "stdout",
     "output_type": "stream",
     "text": [
      "No data found for batter thomaal01 in 2025 - OK\n",
      "No data found for batter thomaco01 in 2021 - OK\n"
     ]
    },
    {
     "name": "stderr",
     "output_type": "stream",
     "text": [
      "/var/folders/5h/v8qm6jqd52q00q39r0ym2qhw0000gn/T/ipykernel_60021/3143823277.py:22: FutureWarning: Passing literal html to 'read_html' is deprecated and will be removed in a future version. To read from a literal string, wrap it in a 'StringIO' object.\n",
      "  df = pd.read_html(str(table))[0]\n",
      "/var/folders/5h/v8qm6jqd52q00q39r0ym2qhw0000gn/T/ipykernel_60021/3143823277.py:22: FutureWarning: Passing literal html to 'read_html' is deprecated and will be removed in a future version. To read from a literal string, wrap it in a 'StringIO' object.\n",
      "  df = pd.read_html(str(table))[0]\n"
     ]
    },
    {
     "name": "stdout",
     "output_type": "stream",
     "text": [
      "No data found for batter thomaco01 in 2024 - OK\n",
      "No data found for batter thomaco01 in 2025 - OK\n"
     ]
    },
    {
     "name": "stderr",
     "output_type": "stream",
     "text": [
      "/var/folders/5h/v8qm6jqd52q00q39r0ym2qhw0000gn/T/ipykernel_60021/3143823277.py:22: FutureWarning: Passing literal html to 'read_html' is deprecated and will be removed in a future version. To read from a literal string, wrap it in a 'StringIO' object.\n",
      "  df = pd.read_html(str(table))[0]\n",
      "/var/folders/5h/v8qm6jqd52q00q39r0ym2qhw0000gn/T/ipykernel_60021/3143823277.py:22: FutureWarning: Passing literal html to 'read_html' is deprecated and will be removed in a future version. To read from a literal string, wrap it in a 'StringIO' object.\n",
      "  df = pd.read_html(str(table))[0]\n"
     ]
    },
    {
     "name": "stdout",
     "output_type": "stream",
     "text": [
      "No data found for batter thomadi01 in 2023 - OK\n",
      "No data found for batter thomadi01 in 2024 - OK\n",
      "No data found for batter thomadi01 in 2025 - OK\n"
     ]
    },
    {
     "name": "stderr",
     "output_type": "stream",
     "text": [
      "/var/folders/5h/v8qm6jqd52q00q39r0ym2qhw0000gn/T/ipykernel_60021/3143823277.py:22: FutureWarning: Passing literal html to 'read_html' is deprecated and will be removed in a future version. To read from a literal string, wrap it in a 'StringIO' object.\n",
      "  df = pd.read_html(str(table))[0]\n",
      "/var/folders/5h/v8qm6jqd52q00q39r0ym2qhw0000gn/T/ipykernel_60021/3143823277.py:22: FutureWarning: Passing literal html to 'read_html' is deprecated and will be removed in a future version. To read from a literal string, wrap it in a 'StringIO' object.\n",
      "  df = pd.read_html(str(table))[0]\n",
      "/var/folders/5h/v8qm6jqd52q00q39r0ym2qhw0000gn/T/ipykernel_60021/3143823277.py:22: FutureWarning: Passing literal html to 'read_html' is deprecated and will be removed in a future version. To read from a literal string, wrap it in a 'StringIO' object.\n",
      "  df = pd.read_html(str(table))[0]\n",
      "/var/folders/5h/v8qm6jqd52q00q39r0ym2qhw0000gn/T/ipykernel_60021/3143823277.py:22: FutureWarning: Passing literal html to 'read_html' is deprecated and will be removed in a future version. To read from a literal string, wrap it in a 'StringIO' object.\n",
      "  df = pd.read_html(str(table))[0]\n"
     ]
    },
    {
     "name": "stdout",
     "output_type": "stream",
     "text": [
      "No data found for batter thomala02 in 2025 - OK\n",
      "No data found for batter thompbu01 in 2021 - OK\n"
     ]
    },
    {
     "name": "stderr",
     "output_type": "stream",
     "text": [
      "/var/folders/5h/v8qm6jqd52q00q39r0ym2qhw0000gn/T/ipykernel_60021/3143823277.py:22: FutureWarning: Passing literal html to 'read_html' is deprecated and will be removed in a future version. To read from a literal string, wrap it in a 'StringIO' object.\n",
      "  df = pd.read_html(str(table))[0]\n",
      "/var/folders/5h/v8qm6jqd52q00q39r0ym2qhw0000gn/T/ipykernel_60021/3143823277.py:22: FutureWarning: Passing literal html to 'read_html' is deprecated and will be removed in a future version. To read from a literal string, wrap it in a 'StringIO' object.\n",
      "  df = pd.read_html(str(table))[0]\n",
      "/var/folders/5h/v8qm6jqd52q00q39r0ym2qhw0000gn/T/ipykernel_60021/3143823277.py:22: FutureWarning: Passing literal html to 'read_html' is deprecated and will be removed in a future version. To read from a literal string, wrap it in a 'StringIO' object.\n",
      "  df = pd.read_html(str(table))[0]\n"
     ]
    },
    {
     "name": "stdout",
     "output_type": "stream",
     "text": [
      "No data found for batter thompbu01 in 2025 - OK\n"
     ]
    },
    {
     "name": "stderr",
     "output_type": "stream",
     "text": [
      "/var/folders/5h/v8qm6jqd52q00q39r0ym2qhw0000gn/T/ipykernel_60021/3143823277.py:22: FutureWarning: Passing literal html to 'read_html' is deprecated and will be removed in a future version. To read from a literal string, wrap it in a 'StringIO' object.\n",
      "  df = pd.read_html(str(table))[0]\n",
      "/var/folders/5h/v8qm6jqd52q00q39r0ym2qhw0000gn/T/ipykernel_60021/3143823277.py:22: FutureWarning: Passing literal html to 'read_html' is deprecated and will be removed in a future version. To read from a literal string, wrap it in a 'StringIO' object.\n",
      "  df = pd.read_html(str(table))[0]\n",
      "/var/folders/5h/v8qm6jqd52q00q39r0ym2qhw0000gn/T/ipykernel_60021/3143823277.py:22: FutureWarning: Passing literal html to 'read_html' is deprecated and will be removed in a future version. To read from a literal string, wrap it in a 'StringIO' object.\n",
      "  df = pd.read_html(str(table))[0]\n",
      "/var/folders/5h/v8qm6jqd52q00q39r0ym2qhw0000gn/T/ipykernel_60021/3143823277.py:22: FutureWarning: Passing literal html to 'read_html' is deprecated and will be removed in a future version. To read from a literal string, wrap it in a 'StringIO' object.\n",
      "  df = pd.read_html(str(table))[0]\n"
     ]
    },
    {
     "name": "stdout",
     "output_type": "stream",
     "text": [
      "No data found for batter thompke02 in 2025 - OK\n"
     ]
    },
    {
     "name": "stderr",
     "output_type": "stream",
     "text": [
      "/var/folders/5h/v8qm6jqd52q00q39r0ym2qhw0000gn/T/ipykernel_60021/3143823277.py:22: FutureWarning: Passing literal html to 'read_html' is deprecated and will be removed in a future version. To read from a literal string, wrap it in a 'StringIO' object.\n",
      "  df = pd.read_html(str(table))[0]\n",
      "/var/folders/5h/v8qm6jqd52q00q39r0ym2qhw0000gn/T/ipykernel_60021/3143823277.py:22: FutureWarning: Passing literal html to 'read_html' is deprecated and will be removed in a future version. To read from a literal string, wrap it in a 'StringIO' object.\n",
      "  df = pd.read_html(str(table))[0]\n",
      "/var/folders/5h/v8qm6jqd52q00q39r0ym2qhw0000gn/T/ipykernel_60021/3143823277.py:22: FutureWarning: Passing literal html to 'read_html' is deprecated and will be removed in a future version. To read from a literal string, wrap it in a 'StringIO' object.\n",
      "  df = pd.read_html(str(table))[0]\n"
     ]
    },
    {
     "name": "stdout",
     "output_type": "stream",
     "text": [
      "No data found for batter thomptr01 in 2024 - OK\n",
      "No data found for batter thomptr01 in 2025 - OK\n"
     ]
    },
    {
     "name": "stderr",
     "output_type": "stream",
     "text": [
      "/var/folders/5h/v8qm6jqd52q00q39r0ym2qhw0000gn/T/ipykernel_60021/3143823277.py:22: FutureWarning: Passing literal html to 'read_html' is deprecated and will be removed in a future version. To read from a literal string, wrap it in a 'StringIO' object.\n",
      "  df = pd.read_html(str(table))[0]\n",
      "/var/folders/5h/v8qm6jqd52q00q39r0ym2qhw0000gn/T/ipykernel_60021/3143823277.py:22: FutureWarning: Passing literal html to 'read_html' is deprecated and will be removed in a future version. To read from a literal string, wrap it in a 'StringIO' object.\n",
      "  df = pd.read_html(str(table))[0]\n"
     ]
    },
    {
     "name": "stdout",
     "output_type": "stream",
     "text": [
      "No data found for batter thompza01 in 2023 - OK\n",
      "No data found for batter thompza01 in 2024 - OK\n",
      "No data found for batter thompza01 in 2025 - OK\n",
      "No data found for batter toglimi01 in 2021 - OK\n"
     ]
    },
    {
     "name": "stderr",
     "output_type": "stream",
     "text": [
      "/var/folders/5h/v8qm6jqd52q00q39r0ym2qhw0000gn/T/ipykernel_60021/3143823277.py:22: FutureWarning: Passing literal html to 'read_html' is deprecated and will be removed in a future version. To read from a literal string, wrap it in a 'StringIO' object.\n",
      "  df = pd.read_html(str(table))[0]\n",
      "/var/folders/5h/v8qm6jqd52q00q39r0ym2qhw0000gn/T/ipykernel_60021/3143823277.py:22: FutureWarning: Passing literal html to 'read_html' is deprecated and will be removed in a future version. To read from a literal string, wrap it in a 'StringIO' object.\n",
      "  df = pd.read_html(str(table))[0]\n",
      "/var/folders/5h/v8qm6jqd52q00q39r0ym2qhw0000gn/T/ipykernel_60021/3143823277.py:22: FutureWarning: Passing literal html to 'read_html' is deprecated and will be removed in a future version. To read from a literal string, wrap it in a 'StringIO' object.\n",
      "  df = pd.read_html(str(table))[0]\n"
     ]
    },
    {
     "name": "stdout",
     "output_type": "stream",
     "text": [
      "No data found for batter toglimi01 in 2025 - OK\n"
     ]
    },
    {
     "name": "stderr",
     "output_type": "stream",
     "text": [
      "/var/folders/5h/v8qm6jqd52q00q39r0ym2qhw0000gn/T/ipykernel_60021/3143823277.py:22: FutureWarning: Passing literal html to 'read_html' is deprecated and will be removed in a future version. To read from a literal string, wrap it in a 'StringIO' object.\n",
      "  df = pd.read_html(str(table))[0]\n",
      "/var/folders/5h/v8qm6jqd52q00q39r0ym2qhw0000gn/T/ipykernel_60021/3143823277.py:22: FutureWarning: Passing literal html to 'read_html' is deprecated and will be removed in a future version. To read from a literal string, wrap it in a 'StringIO' object.\n",
      "  df = pd.read_html(str(table))[0]\n"
     ]
    },
    {
     "name": "stdout",
     "output_type": "stream",
     "text": [
      "No data found for batter tomka01 in 2023 - OK\n",
      "No data found for batter tomka01 in 2024 - OK\n",
      "No data found for batter tomka01 in 2025 - OK\n"
     ]
    },
    {
     "name": "stderr",
     "output_type": "stream",
     "text": [
      "/var/folders/5h/v8qm6jqd52q00q39r0ym2qhw0000gn/T/ipykernel_60021/3143823277.py:22: FutureWarning: Passing literal html to 'read_html' is deprecated and will be removed in a future version. To read from a literal string, wrap it in a 'StringIO' object.\n",
      "  df = pd.read_html(str(table))[0]\n"
     ]
    },
    {
     "name": "stdout",
     "output_type": "stream",
     "text": [
      "No data found for batter tomlijo01 in 2022 - OK\n",
      "No data found for batter tomlijo01 in 2023 - OK\n",
      "No data found for batter tomlijo01 in 2024 - OK\n",
      "No data found for batter tomlijo01 in 2025 - OK\n"
     ]
    },
    {
     "name": "stderr",
     "output_type": "stream",
     "text": [
      "/var/folders/5h/v8qm6jqd52q00q39r0ym2qhw0000gn/T/ipykernel_60021/3143823277.py:22: FutureWarning: Passing literal html to 'read_html' is deprecated and will be removed in a future version. To read from a literal string, wrap it in a 'StringIO' object.\n",
      "  df = pd.read_html(str(table))[0]\n",
      "/var/folders/5h/v8qm6jqd52q00q39r0ym2qhw0000gn/T/ipykernel_60021/3143823277.py:22: FutureWarning: Passing literal html to 'read_html' is deprecated and will be removed in a future version. To read from a literal string, wrap it in a 'StringIO' object.\n",
      "  df = pd.read_html(str(table))[0]\n",
      "/var/folders/5h/v8qm6jqd52q00q39r0ym2qhw0000gn/T/ipykernel_60021/3143823277.py:22: FutureWarning: Passing literal html to 'read_html' is deprecated and will be removed in a future version. To read from a literal string, wrap it in a 'StringIO' object.\n",
      "  df = pd.read_html(str(table))[0]\n",
      "/var/folders/5h/v8qm6jqd52q00q39r0ym2qhw0000gn/T/ipykernel_60021/3143823277.py:22: FutureWarning: Passing literal html to 'read_html' is deprecated and will be removed in a future version. To read from a literal string, wrap it in a 'StringIO' object.\n",
      "  df = pd.read_html(str(table))[0]\n"
     ]
    },
    {
     "name": "stdout",
     "output_type": "stream",
     "text": [
      "No data found for batter topaju01 in 2025 - OK\n",
      "No data found for batter torkesp01 in 2021 - OK\n"
     ]
    },
    {
     "name": "stderr",
     "output_type": "stream",
     "text": [
      "/var/folders/5h/v8qm6jqd52q00q39r0ym2qhw0000gn/T/ipykernel_60021/3143823277.py:22: FutureWarning: Passing literal html to 'read_html' is deprecated and will be removed in a future version. To read from a literal string, wrap it in a 'StringIO' object.\n",
      "  df = pd.read_html(str(table))[0]\n",
      "/var/folders/5h/v8qm6jqd52q00q39r0ym2qhw0000gn/T/ipykernel_60021/3143823277.py:22: FutureWarning: Passing literal html to 'read_html' is deprecated and will be removed in a future version. To read from a literal string, wrap it in a 'StringIO' object.\n",
      "  df = pd.read_html(str(table))[0]\n",
      "/var/folders/5h/v8qm6jqd52q00q39r0ym2qhw0000gn/T/ipykernel_60021/3143823277.py:22: FutureWarning: Passing literal html to 'read_html' is deprecated and will be removed in a future version. To read from a literal string, wrap it in a 'StringIO' object.\n",
      "  df = pd.read_html(str(table))[0]\n"
     ]
    },
    {
     "name": "stdout",
     "output_type": "stream",
     "text": [
      "No data found for batter torkesp01 in 2025 - OK\n"
     ]
    },
    {
     "name": "stderr",
     "output_type": "stream",
     "text": [
      "/var/folders/5h/v8qm6jqd52q00q39r0ym2qhw0000gn/T/ipykernel_60021/3143823277.py:22: FutureWarning: Passing literal html to 'read_html' is deprecated and will be removed in a future version. To read from a literal string, wrap it in a 'StringIO' object.\n",
      "  df = pd.read_html(str(table))[0]\n",
      "/var/folders/5h/v8qm6jqd52q00q39r0ym2qhw0000gn/T/ipykernel_60021/3143823277.py:22: FutureWarning: Passing literal html to 'read_html' is deprecated and will be removed in a future version. To read from a literal string, wrap it in a 'StringIO' object.\n",
      "  df = pd.read_html(str(table))[0]\n",
      "/var/folders/5h/v8qm6jqd52q00q39r0ym2qhw0000gn/T/ipykernel_60021/3143823277.py:22: FutureWarning: Passing literal html to 'read_html' is deprecated and will be removed in a future version. To read from a literal string, wrap it in a 'StringIO' object.\n",
      "  df = pd.read_html(str(table))[0]\n",
      "/var/folders/5h/v8qm6jqd52q00q39r0ym2qhw0000gn/T/ipykernel_60021/3143823277.py:22: FutureWarning: Passing literal html to 'read_html' is deprecated and will be removed in a future version. To read from a literal string, wrap it in a 'StringIO' object.\n",
      "  df = pd.read_html(str(table))[0]\n"
     ]
    },
    {
     "name": "stdout",
     "output_type": "stream",
     "text": [
      "No data found for batter toroab01 in 2025 - OK\n"
     ]
    },
    {
     "name": "stderr",
     "output_type": "stream",
     "text": [
      "/var/folders/5h/v8qm6jqd52q00q39r0ym2qhw0000gn/T/ipykernel_60021/3143823277.py:22: FutureWarning: Passing literal html to 'read_html' is deprecated and will be removed in a future version. To read from a literal string, wrap it in a 'StringIO' object.\n",
      "  df = pd.read_html(str(table))[0]\n",
      "/var/folders/5h/v8qm6jqd52q00q39r0ym2qhw0000gn/T/ipykernel_60021/3143823277.py:22: FutureWarning: Passing literal html to 'read_html' is deprecated and will be removed in a future version. To read from a literal string, wrap it in a 'StringIO' object.\n",
      "  df = pd.read_html(str(table))[0]\n",
      "/var/folders/5h/v8qm6jqd52q00q39r0ym2qhw0000gn/T/ipykernel_60021/3143823277.py:22: FutureWarning: Passing literal html to 'read_html' is deprecated and will be removed in a future version. To read from a literal string, wrap it in a 'StringIO' object.\n",
      "  df = pd.read_html(str(table))[0]\n",
      "/var/folders/5h/v8qm6jqd52q00q39r0ym2qhw0000gn/T/ipykernel_60021/3143823277.py:22: FutureWarning: Passing literal html to 'read_html' is deprecated and will be removed in a future version. To read from a literal string, wrap it in a 'StringIO' object.\n",
      "  df = pd.read_html(str(table))[0]\n"
     ]
    },
    {
     "name": "stdout",
     "output_type": "stream",
     "text": [
      "No data found for batter torrelu01 in 2025 - OK\n"
     ]
    },
    {
     "name": "stderr",
     "output_type": "stream",
     "text": [
      "/var/folders/5h/v8qm6jqd52q00q39r0ym2qhw0000gn/T/ipykernel_60021/3143823277.py:22: FutureWarning: Passing literal html to 'read_html' is deprecated and will be removed in a future version. To read from a literal string, wrap it in a 'StringIO' object.\n",
      "  df = pd.read_html(str(table))[0]\n",
      "/var/folders/5h/v8qm6jqd52q00q39r0ym2qhw0000gn/T/ipykernel_60021/3143823277.py:22: FutureWarning: Passing literal html to 'read_html' is deprecated and will be removed in a future version. To read from a literal string, wrap it in a 'StringIO' object.\n",
      "  df = pd.read_html(str(table))[0]\n",
      "/var/folders/5h/v8qm6jqd52q00q39r0ym2qhw0000gn/T/ipykernel_60021/3143823277.py:22: FutureWarning: Passing literal html to 'read_html' is deprecated and will be removed in a future version. To read from a literal string, wrap it in a 'StringIO' object.\n",
      "  df = pd.read_html(str(table))[0]\n",
      "/var/folders/5h/v8qm6jqd52q00q39r0ym2qhw0000gn/T/ipykernel_60021/3143823277.py:22: FutureWarning: Passing literal html to 'read_html' is deprecated and will be removed in a future version. To read from a literal string, wrap it in a 'StringIO' object.\n",
      "  df = pd.read_html(str(table))[0]\n"
     ]
    },
    {
     "name": "stdout",
     "output_type": "stream",
     "text": [
      "No data found for batter torregl01 in 2025 - OK\n"
     ]
    },
    {
     "name": "stderr",
     "output_type": "stream",
     "text": [
      "/var/folders/5h/v8qm6jqd52q00q39r0ym2qhw0000gn/T/ipykernel_60021/3143823277.py:22: FutureWarning: Passing literal html to 'read_html' is deprecated and will be removed in a future version. To read from a literal string, wrap it in a 'StringIO' object.\n",
      "  df = pd.read_html(str(table))[0]\n"
     ]
    },
    {
     "name": "stdout",
     "output_type": "stream",
     "text": [
      "No data found for batter torrero01 in 2022 - OK\n",
      "No data found for batter torrero01 in 2023 - OK\n",
      "No data found for batter torrero01 in 2024 - OK\n",
      "No data found for batter torrero01 in 2025 - OK\n"
     ]
    },
    {
     "name": "stderr",
     "output_type": "stream",
     "text": [
      "/var/folders/5h/v8qm6jqd52q00q39r0ym2qhw0000gn/T/ipykernel_60021/3143823277.py:22: FutureWarning: Passing literal html to 'read_html' is deprecated and will be removed in a future version. To read from a literal string, wrap it in a 'StringIO' object.\n",
      "  df = pd.read_html(str(table))[0]\n",
      "/var/folders/5h/v8qm6jqd52q00q39r0ym2qhw0000gn/T/ipykernel_60021/3143823277.py:22: FutureWarning: Passing literal html to 'read_html' is deprecated and will be removed in a future version. To read from a literal string, wrap it in a 'StringIO' object.\n",
      "  df = pd.read_html(str(table))[0]\n",
      "/var/folders/5h/v8qm6jqd52q00q39r0ym2qhw0000gn/T/ipykernel_60021/3143823277.py:22: FutureWarning: Passing literal html to 'read_html' is deprecated and will be removed in a future version. To read from a literal string, wrap it in a 'StringIO' object.\n",
      "  df = pd.read_html(str(table))[0]\n",
      "/var/folders/5h/v8qm6jqd52q00q39r0ym2qhw0000gn/T/ipykernel_60021/3143823277.py:22: FutureWarning: Passing literal html to 'read_html' is deprecated and will be removed in a future version. To read from a literal string, wrap it in a 'StringIO' object.\n",
      "  df = pd.read_html(str(table))[0]\n"
     ]
    },
    {
     "name": "stdout",
     "output_type": "stream",
     "text": [
      "No data found for batter toussto01 in 2025 - OK\n",
      "No data found for batter tovarez01 in 2021 - OK\n"
     ]
    },
    {
     "name": "stderr",
     "output_type": "stream",
     "text": [
      "/var/folders/5h/v8qm6jqd52q00q39r0ym2qhw0000gn/T/ipykernel_60021/3143823277.py:22: FutureWarning: Passing literal html to 'read_html' is deprecated and will be removed in a future version. To read from a literal string, wrap it in a 'StringIO' object.\n",
      "  df = pd.read_html(str(table))[0]\n",
      "/var/folders/5h/v8qm6jqd52q00q39r0ym2qhw0000gn/T/ipykernel_60021/3143823277.py:22: FutureWarning: Passing literal html to 'read_html' is deprecated and will be removed in a future version. To read from a literal string, wrap it in a 'StringIO' object.\n",
      "  df = pd.read_html(str(table))[0]\n",
      "/var/folders/5h/v8qm6jqd52q00q39r0ym2qhw0000gn/T/ipykernel_60021/3143823277.py:22: FutureWarning: Passing literal html to 'read_html' is deprecated and will be removed in a future version. To read from a literal string, wrap it in a 'StringIO' object.\n",
      "  df = pd.read_html(str(table))[0]\n"
     ]
    },
    {
     "name": "stdout",
     "output_type": "stream",
     "text": [
      "No data found for batter tovarez01 in 2025 - OK\n"
     ]
    },
    {
     "name": "stderr",
     "output_type": "stream",
     "text": [
      "/var/folders/5h/v8qm6jqd52q00q39r0ym2qhw0000gn/T/ipykernel_60021/3143823277.py:22: FutureWarning: Passing literal html to 'read_html' is deprecated and will be removed in a future version. To read from a literal string, wrap it in a 'StringIO' object.\n",
      "  df = pd.read_html(str(table))[0]\n"
     ]
    },
    {
     "name": "stdout",
     "output_type": "stream",
     "text": [
      "No data found for batter tovarwi01 in 2022 - OK\n",
      "No data found for batter tovarwi01 in 2023 - OK\n",
      "No data found for batter tovarwi01 in 2024 - OK\n",
      "No data found for batter tovarwi01 in 2025 - OK\n"
     ]
    },
    {
     "name": "stderr",
     "output_type": "stream",
     "text": [
      "/var/folders/5h/v8qm6jqd52q00q39r0ym2qhw0000gn/T/ipykernel_60021/3143823277.py:22: FutureWarning: Passing literal html to 'read_html' is deprecated and will be removed in a future version. To read from a literal string, wrap it in a 'StringIO' object.\n",
      "  df = pd.read_html(str(table))[0]\n",
      "/var/folders/5h/v8qm6jqd52q00q39r0ym2qhw0000gn/T/ipykernel_60021/3143823277.py:22: FutureWarning: Passing literal html to 'read_html' is deprecated and will be removed in a future version. To read from a literal string, wrap it in a 'StringIO' object.\n",
      "  df = pd.read_html(str(table))[0]\n",
      "/var/folders/5h/v8qm6jqd52q00q39r0ym2qhw0000gn/T/ipykernel_60021/3143823277.py:22: FutureWarning: Passing literal html to 'read_html' is deprecated and will be removed in a future version. To read from a literal string, wrap it in a 'StringIO' object.\n",
      "  df = pd.read_html(str(table))[0]\n",
      "/var/folders/5h/v8qm6jqd52q00q39r0ym2qhw0000gn/T/ipykernel_60021/3143823277.py:22: FutureWarning: Passing literal html to 'read_html' is deprecated and will be removed in a future version. To read from a literal string, wrap it in a 'StringIO' object.\n",
      "  df = pd.read_html(str(table))[0]\n"
     ]
    },
    {
     "name": "stdout",
     "output_type": "stream",
     "text": [
      "No data found for batter trammta01 in 2025 - OK\n"
     ]
    },
    {
     "name": "stderr",
     "output_type": "stream",
     "text": [
      "/var/folders/5h/v8qm6jqd52q00q39r0ym2qhw0000gn/T/ipykernel_60021/3143823277.py:22: FutureWarning: Passing literal html to 'read_html' is deprecated and will be removed in a future version. To read from a literal string, wrap it in a 'StringIO' object.\n",
      "  df = pd.read_html(str(table))[0]\n",
      "/var/folders/5h/v8qm6jqd52q00q39r0ym2qhw0000gn/T/ipykernel_60021/3143823277.py:22: FutureWarning: Passing literal html to 'read_html' is deprecated and will be removed in a future version. To read from a literal string, wrap it in a 'StringIO' object.\n",
      "  df = pd.read_html(str(table))[0]\n",
      "/var/folders/5h/v8qm6jqd52q00q39r0ym2qhw0000gn/T/ipykernel_60021/3143823277.py:22: FutureWarning: Passing literal html to 'read_html' is deprecated and will be removed in a future version. To read from a literal string, wrap it in a 'StringIO' object.\n",
      "  df = pd.read_html(str(table))[0]\n",
      "/var/folders/5h/v8qm6jqd52q00q39r0ym2qhw0000gn/T/ipykernel_60021/3143823277.py:22: FutureWarning: Passing literal html to 'read_html' is deprecated and will be removed in a future version. To read from a literal string, wrap it in a 'StringIO' object.\n",
      "  df = pd.read_html(str(table))[0]\n"
     ]
    },
    {
     "name": "stdout",
     "output_type": "stream",
     "text": [
      "No data found for batter trejoal01 in 2025 - OK\n"
     ]
    },
    {
     "name": "stderr",
     "output_type": "stream",
     "text": [
      "/var/folders/5h/v8qm6jqd52q00q39r0ym2qhw0000gn/T/ipykernel_60021/3143823277.py:22: FutureWarning: Passing literal html to 'read_html' is deprecated and will be removed in a future version. To read from a literal string, wrap it in a 'StringIO' object.\n",
      "  df = pd.read_html(str(table))[0]\n",
      "/var/folders/5h/v8qm6jqd52q00q39r0ym2qhw0000gn/T/ipykernel_60021/3143823277.py:22: FutureWarning: Passing literal html to 'read_html' is deprecated and will be removed in a future version. To read from a literal string, wrap it in a 'StringIO' object.\n",
      "  df = pd.read_html(str(table))[0]\n",
      "/var/folders/5h/v8qm6jqd52q00q39r0ym2qhw0000gn/T/ipykernel_60021/3143823277.py:22: FutureWarning: Passing literal html to 'read_html' is deprecated and will be removed in a future version. To read from a literal string, wrap it in a 'StringIO' object.\n",
      "  df = pd.read_html(str(table))[0]\n",
      "/var/folders/5h/v8qm6jqd52q00q39r0ym2qhw0000gn/T/ipykernel_60021/3143823277.py:22: FutureWarning: Passing literal html to 'read_html' is deprecated and will be removed in a future version. To read from a literal string, wrap it in a 'StringIO' object.\n",
      "  df = pd.read_html(str(table))[0]\n"
     ]
    },
    {
     "name": "stdout",
     "output_type": "stream",
     "text": [
      "No data found for batter trevijo01 in 2025 - OK\n",
      "No data found for batter triolja01 in 2021 - OK\n",
      "No data found for batter triolja01 in 2022 - OK\n"
     ]
    },
    {
     "name": "stderr",
     "output_type": "stream",
     "text": [
      "/var/folders/5h/v8qm6jqd52q00q39r0ym2qhw0000gn/T/ipykernel_60021/3143823277.py:22: FutureWarning: Passing literal html to 'read_html' is deprecated and will be removed in a future version. To read from a literal string, wrap it in a 'StringIO' object.\n",
      "  df = pd.read_html(str(table))[0]\n",
      "/var/folders/5h/v8qm6jqd52q00q39r0ym2qhw0000gn/T/ipykernel_60021/3143823277.py:22: FutureWarning: Passing literal html to 'read_html' is deprecated and will be removed in a future version. To read from a literal string, wrap it in a 'StringIO' object.\n",
      "  df = pd.read_html(str(table))[0]\n"
     ]
    },
    {
     "name": "stdout",
     "output_type": "stream",
     "text": [
      "No data found for batter triolja01 in 2025 - OK\n"
     ]
    },
    {
     "name": "stderr",
     "output_type": "stream",
     "text": [
      "/var/folders/5h/v8qm6jqd52q00q39r0ym2qhw0000gn/T/ipykernel_60021/3143823277.py:22: FutureWarning: Passing literal html to 'read_html' is deprecated and will be removed in a future version. To read from a literal string, wrap it in a 'StringIO' object.\n",
      "  df = pd.read_html(str(table))[0]\n",
      "/var/folders/5h/v8qm6jqd52q00q39r0ym2qhw0000gn/T/ipykernel_60021/3143823277.py:22: FutureWarning: Passing literal html to 'read_html' is deprecated and will be removed in a future version. To read from a literal string, wrap it in a 'StringIO' object.\n",
      "  df = pd.read_html(str(table))[0]\n",
      "/var/folders/5h/v8qm6jqd52q00q39r0ym2qhw0000gn/T/ipykernel_60021/3143823277.py:22: FutureWarning: Passing literal html to 'read_html' is deprecated and will be removed in a future version. To read from a literal string, wrap it in a 'StringIO' object.\n",
      "  df = pd.read_html(str(table))[0]\n",
      "/var/folders/5h/v8qm6jqd52q00q39r0ym2qhw0000gn/T/ipykernel_60021/3143823277.py:22: FutureWarning: Passing literal html to 'read_html' is deprecated and will be removed in a future version. To read from a literal string, wrap it in a 'StringIO' object.\n",
      "  df = pd.read_html(str(table))[0]\n"
     ]
    },
    {
     "name": "stdout",
     "output_type": "stream",
     "text": [
      "No data found for batter trompch01 in 2025 - OK\n"
     ]
    },
    {
     "name": "stderr",
     "output_type": "stream",
     "text": [
      "/var/folders/5h/v8qm6jqd52q00q39r0ym2qhw0000gn/T/ipykernel_60021/3143823277.py:22: FutureWarning: Passing literal html to 'read_html' is deprecated and will be removed in a future version. To read from a literal string, wrap it in a 'StringIO' object.\n",
      "  df = pd.read_html(str(table))[0]\n"
     ]
    },
    {
     "name": "stdout",
     "output_type": "stream",
     "text": [
      "No data found for batter tropeni01 in 2022 - OK\n",
      "No data found for batter tropeni01 in 2023 - OK\n",
      "No data found for batter tropeni01 in 2024 - OK\n",
      "No data found for batter tropeni01 in 2025 - OK\n"
     ]
    },
    {
     "name": "stderr",
     "output_type": "stream",
     "text": [
      "/var/folders/5h/v8qm6jqd52q00q39r0ym2qhw0000gn/T/ipykernel_60021/3143823277.py:22: FutureWarning: Passing literal html to 'read_html' is deprecated and will be removed in a future version. To read from a literal string, wrap it in a 'StringIO' object.\n",
      "  df = pd.read_html(str(table))[0]\n",
      "/var/folders/5h/v8qm6jqd52q00q39r0ym2qhw0000gn/T/ipykernel_60021/3143823277.py:22: FutureWarning: Passing literal html to 'read_html' is deprecated and will be removed in a future version. To read from a literal string, wrap it in a 'StringIO' object.\n",
      "  df = pd.read_html(str(table))[0]\n",
      "/var/folders/5h/v8qm6jqd52q00q39r0ym2qhw0000gn/T/ipykernel_60021/3143823277.py:22: FutureWarning: Passing literal html to 'read_html' is deprecated and will be removed in a future version. To read from a literal string, wrap it in a 'StringIO' object.\n",
      "  df = pd.read_html(str(table))[0]\n",
      "/var/folders/5h/v8qm6jqd52q00q39r0ym2qhw0000gn/T/ipykernel_60021/3143823277.py:22: FutureWarning: Passing literal html to 'read_html' is deprecated and will be removed in a future version. To read from a literal string, wrap it in a 'StringIO' object.\n",
      "  df = pd.read_html(str(table))[0]\n"
     ]
    },
    {
     "name": "stdout",
     "output_type": "stream",
     "text": [
      "No data found for batter troutmi01 in 2025 - OK\n"
     ]
    },
    {
     "name": "stderr",
     "output_type": "stream",
     "text": [
      "/var/folders/5h/v8qm6jqd52q00q39r0ym2qhw0000gn/T/ipykernel_60021/3143823277.py:22: FutureWarning: Passing literal html to 'read_html' is deprecated and will be removed in a future version. To read from a literal string, wrap it in a 'StringIO' object.\n",
      "  df = pd.read_html(str(table))[0]\n",
      "/var/folders/5h/v8qm6jqd52q00q39r0ym2qhw0000gn/T/ipykernel_60021/3143823277.py:22: FutureWarning: Passing literal html to 'read_html' is deprecated and will be removed in a future version. To read from a literal string, wrap it in a 'StringIO' object.\n",
      "  df = pd.read_html(str(table))[0]\n"
     ]
    },
    {
     "name": "stdout",
     "output_type": "stream",
     "text": [
      "No data found for batter tsutsyo01 in 2023 - OK\n",
      "No data found for batter tsutsyo01 in 2024 - OK\n",
      "No data found for batter tsutsyo01 in 2025 - OK\n"
     ]
    },
    {
     "name": "stderr",
     "output_type": "stream",
     "text": [
      "/var/folders/5h/v8qm6jqd52q00q39r0ym2qhw0000gn/T/ipykernel_60021/3143823277.py:22: FutureWarning: Passing literal html to 'read_html' is deprecated and will be removed in a future version. To read from a literal string, wrap it in a 'StringIO' object.\n",
      "  df = pd.read_html(str(table))[0]\n",
      "/var/folders/5h/v8qm6jqd52q00q39r0ym2qhw0000gn/T/ipykernel_60021/3143823277.py:22: FutureWarning: Passing literal html to 'read_html' is deprecated and will be removed in a future version. To read from a literal string, wrap it in a 'StringIO' object.\n",
      "  df = pd.read_html(str(table))[0]\n",
      "/var/folders/5h/v8qm6jqd52q00q39r0ym2qhw0000gn/T/ipykernel_60021/3143823277.py:22: FutureWarning: Passing literal html to 'read_html' is deprecated and will be removed in a future version. To read from a literal string, wrap it in a 'StringIO' object.\n",
      "  df = pd.read_html(str(table))[0]\n",
      "/var/folders/5h/v8qm6jqd52q00q39r0ym2qhw0000gn/T/ipykernel_60021/3143823277.py:22: FutureWarning: Passing literal html to 'read_html' is deprecated and will be removed in a future version. To read from a literal string, wrap it in a 'StringIO' object.\n",
      "  df = pd.read_html(str(table))[0]\n"
     ]
    },
    {
     "name": "stdout",
     "output_type": "stream",
     "text": [
      "No data found for batter tuckeco01 in 2025 - OK\n"
     ]
    },
    {
     "name": "stderr",
     "output_type": "stream",
     "text": [
      "/var/folders/5h/v8qm6jqd52q00q39r0ym2qhw0000gn/T/ipykernel_60021/3143823277.py:22: FutureWarning: Passing literal html to 'read_html' is deprecated and will be removed in a future version. To read from a literal string, wrap it in a 'StringIO' object.\n",
      "  df = pd.read_html(str(table))[0]\n",
      "/var/folders/5h/v8qm6jqd52q00q39r0ym2qhw0000gn/T/ipykernel_60021/3143823277.py:22: FutureWarning: Passing literal html to 'read_html' is deprecated and will be removed in a future version. To read from a literal string, wrap it in a 'StringIO' object.\n",
      "  df = pd.read_html(str(table))[0]\n",
      "/var/folders/5h/v8qm6jqd52q00q39r0ym2qhw0000gn/T/ipykernel_60021/3143823277.py:22: FutureWarning: Passing literal html to 'read_html' is deprecated and will be removed in a future version. To read from a literal string, wrap it in a 'StringIO' object.\n",
      "  df = pd.read_html(str(table))[0]\n",
      "/var/folders/5h/v8qm6jqd52q00q39r0ym2qhw0000gn/T/ipykernel_60021/3143823277.py:22: FutureWarning: Passing literal html to 'read_html' is deprecated and will be removed in a future version. To read from a literal string, wrap it in a 'StringIO' object.\n",
      "  df = pd.read_html(str(table))[0]\n"
     ]
    },
    {
     "name": "stdout",
     "output_type": "stream",
     "text": [
      "No data found for batter tuckeky01 in 2025 - OK\n",
      "No data found for batter turanbr02 in 2021 - OK\n",
      "No data found for batter turanbr02 in 2022 - OK\n"
     ]
    },
    {
     "name": "stderr",
     "output_type": "stream",
     "text": [
      "/var/folders/5h/v8qm6jqd52q00q39r0ym2qhw0000gn/T/ipykernel_60021/3143823277.py:22: FutureWarning: Passing literal html to 'read_html' is deprecated and will be removed in a future version. To read from a literal string, wrap it in a 'StringIO' object.\n",
      "  df = pd.read_html(str(table))[0]\n",
      "/var/folders/5h/v8qm6jqd52q00q39r0ym2qhw0000gn/T/ipykernel_60021/3143823277.py:22: FutureWarning: Passing literal html to 'read_html' is deprecated and will be removed in a future version. To read from a literal string, wrap it in a 'StringIO' object.\n",
      "  df = pd.read_html(str(table))[0]\n"
     ]
    },
    {
     "name": "stdout",
     "output_type": "stream",
     "text": [
      "No data found for batter turanbr02 in 2025 - OK\n"
     ]
    },
    {
     "name": "stderr",
     "output_type": "stream",
     "text": [
      "/var/folders/5h/v8qm6jqd52q00q39r0ym2qhw0000gn/T/ipykernel_60021/3143823277.py:22: FutureWarning: Passing literal html to 'read_html' is deprecated and will be removed in a future version. To read from a literal string, wrap it in a 'StringIO' object.\n",
      "  df = pd.read_html(str(table))[0]\n",
      "/var/folders/5h/v8qm6jqd52q00q39r0ym2qhw0000gn/T/ipykernel_60021/3143823277.py:22: FutureWarning: Passing literal html to 'read_html' is deprecated and will be removed in a future version. To read from a literal string, wrap it in a 'StringIO' object.\n",
      "  df = pd.read_html(str(table))[0]\n",
      "/var/folders/5h/v8qm6jqd52q00q39r0ym2qhw0000gn/T/ipykernel_60021/3143823277.py:22: FutureWarning: Passing literal html to 'read_html' is deprecated and will be removed in a future version. To read from a literal string, wrap it in a 'StringIO' object.\n",
      "  df = pd.read_html(str(table))[0]\n",
      "/var/folders/5h/v8qm6jqd52q00q39r0ym2qhw0000gn/T/ipykernel_60021/3143823277.py:22: FutureWarning: Passing literal html to 'read_html' is deprecated and will be removed in a future version. To read from a literal string, wrap it in a 'StringIO' object.\n",
      "  df = pd.read_html(str(table))[0]\n"
     ]
    },
    {
     "name": "stdout",
     "output_type": "stream",
     "text": [
      "No data found for batter turneju01 in 2025 - OK\n"
     ]
    },
    {
     "name": "stderr",
     "output_type": "stream",
     "text": [
      "/var/folders/5h/v8qm6jqd52q00q39r0ym2qhw0000gn/T/ipykernel_60021/3143823277.py:22: FutureWarning: Passing literal html to 'read_html' is deprecated and will be removed in a future version. To read from a literal string, wrap it in a 'StringIO' object.\n",
      "  df = pd.read_html(str(table))[0]\n",
      "/var/folders/5h/v8qm6jqd52q00q39r0ym2qhw0000gn/T/ipykernel_60021/3143823277.py:22: FutureWarning: Passing literal html to 'read_html' is deprecated and will be removed in a future version. To read from a literal string, wrap it in a 'StringIO' object.\n",
      "  df = pd.read_html(str(table))[0]\n",
      "/var/folders/5h/v8qm6jqd52q00q39r0ym2qhw0000gn/T/ipykernel_60021/3143823277.py:22: FutureWarning: Passing literal html to 'read_html' is deprecated and will be removed in a future version. To read from a literal string, wrap it in a 'StringIO' object.\n",
      "  df = pd.read_html(str(table))[0]\n",
      "/var/folders/5h/v8qm6jqd52q00q39r0ym2qhw0000gn/T/ipykernel_60021/3143823277.py:22: FutureWarning: Passing literal html to 'read_html' is deprecated and will be removed in a future version. To read from a literal string, wrap it in a 'StringIO' object.\n",
      "  df = pd.read_html(str(table))[0]\n"
     ]
    },
    {
     "name": "stdout",
     "output_type": "stream",
     "text": [
      "No data found for batter turnetr01 in 2025 - OK\n"
     ]
    },
    {
     "name": "stderr",
     "output_type": "stream",
     "text": [
      "/var/folders/5h/v8qm6jqd52q00q39r0ym2qhw0000gn/T/ipykernel_60021/3143823277.py:22: FutureWarning: Passing literal html to 'read_html' is deprecated and will be removed in a future version. To read from a literal string, wrap it in a 'StringIO' object.\n",
      "  df = pd.read_html(str(table))[0]\n",
      "/var/folders/5h/v8qm6jqd52q00q39r0ym2qhw0000gn/T/ipykernel_60021/3143823277.py:22: FutureWarning: Passing literal html to 'read_html' is deprecated and will be removed in a future version. To read from a literal string, wrap it in a 'StringIO' object.\n",
      "  df = pd.read_html(str(table))[0]\n",
      "/var/folders/5h/v8qm6jqd52q00q39r0ym2qhw0000gn/T/ipykernel_60021/3143823277.py:22: FutureWarning: Passing literal html to 'read_html' is deprecated and will be removed in a future version. To read from a literal string, wrap it in a 'StringIO' object.\n",
      "  df = pd.read_html(str(table))[0]\n",
      "/var/folders/5h/v8qm6jqd52q00q39r0ym2qhw0000gn/T/ipykernel_60021/3143823277.py:22: FutureWarning: Passing literal html to 'read_html' is deprecated and will be removed in a future version. To read from a literal string, wrap it in a 'StringIO' object.\n",
      "  df = pd.read_html(str(table))[0]\n"
     ]
    },
    {
     "name": "stdout",
     "output_type": "stream",
     "text": [
      "No data found for batter ucetaed01 in 2025 - OK\n"
     ]
    },
    {
     "name": "stderr",
     "output_type": "stream",
     "text": [
      "/var/folders/5h/v8qm6jqd52q00q39r0ym2qhw0000gn/T/ipykernel_60021/3143823277.py:22: FutureWarning: Passing literal html to 'read_html' is deprecated and will be removed in a future version. To read from a literal string, wrap it in a 'StringIO' object.\n",
      "  df = pd.read_html(str(table))[0]\n",
      "/var/folders/5h/v8qm6jqd52q00q39r0ym2qhw0000gn/T/ipykernel_60021/3143823277.py:22: FutureWarning: Passing literal html to 'read_html' is deprecated and will be removed in a future version. To read from a literal string, wrap it in a 'StringIO' object.\n",
      "  df = pd.read_html(str(table))[0]\n",
      "/var/folders/5h/v8qm6jqd52q00q39r0ym2qhw0000gn/T/ipykernel_60021/3143823277.py:22: FutureWarning: Passing literal html to 'read_html' is deprecated and will be removed in a future version. To read from a literal string, wrap it in a 'StringIO' object.\n",
      "  df = pd.read_html(str(table))[0]\n"
     ]
    },
    {
     "name": "stdout",
     "output_type": "stream",
     "text": [
      "No data found for batter underdu01 in 2024 - OK\n",
      "No data found for batter underdu01 in 2025 - OK\n"
     ]
    },
    {
     "name": "stderr",
     "output_type": "stream",
     "text": [
      "/var/folders/5h/v8qm6jqd52q00q39r0ym2qhw0000gn/T/ipykernel_60021/3143823277.py:22: FutureWarning: Passing literal html to 'read_html' is deprecated and will be removed in a future version. To read from a literal string, wrap it in a 'StringIO' object.\n",
      "  df = pd.read_html(str(table))[0]\n",
      "/var/folders/5h/v8qm6jqd52q00q39r0ym2qhw0000gn/T/ipykernel_60021/3143823277.py:22: FutureWarning: Passing literal html to 'read_html' is deprecated and will be removed in a future version. To read from a literal string, wrap it in a 'StringIO' object.\n",
      "  df = pd.read_html(str(table))[0]\n"
     ]
    },
    {
     "name": "stdout",
     "output_type": "stream",
     "text": [
      "No data found for batter uptonju01 in 2023 - OK\n",
      "No data found for batter uptonju01 in 2024 - OK\n",
      "No data found for batter uptonju01 in 2025 - OK\n"
     ]
    },
    {
     "name": "stderr",
     "output_type": "stream",
     "text": [
      "/var/folders/5h/v8qm6jqd52q00q39r0ym2qhw0000gn/T/ipykernel_60021/3143823277.py:22: FutureWarning: Passing literal html to 'read_html' is deprecated and will be removed in a future version. To read from a literal string, wrap it in a 'StringIO' object.\n",
      "  df = pd.read_html(str(table))[0]\n",
      "/var/folders/5h/v8qm6jqd52q00q39r0ym2qhw0000gn/T/ipykernel_60021/3143823277.py:22: FutureWarning: Passing literal html to 'read_html' is deprecated and will be removed in a future version. To read from a literal string, wrap it in a 'StringIO' object.\n",
      "  df = pd.read_html(str(table))[0]\n",
      "/var/folders/5h/v8qm6jqd52q00q39r0ym2qhw0000gn/T/ipykernel_60021/3143823277.py:22: FutureWarning: Passing literal html to 'read_html' is deprecated and will be removed in a future version. To read from a literal string, wrap it in a 'StringIO' object.\n",
      "  df = pd.read_html(str(table))[0]\n",
      "/var/folders/5h/v8qm6jqd52q00q39r0ym2qhw0000gn/T/ipykernel_60021/3143823277.py:22: FutureWarning: Passing literal html to 'read_html' is deprecated and will be removed in a future version. To read from a literal string, wrap it in a 'StringIO' object.\n",
      "  df = pd.read_html(str(table))[0]\n"
     ]
    },
    {
     "name": "stdout",
     "output_type": "stream",
     "text": [
      "No data found for batter urenajo01 in 2025 - OK\n"
     ]
    },
    {
     "name": "stderr",
     "output_type": "stream",
     "text": [
      "/var/folders/5h/v8qm6jqd52q00q39r0ym2qhw0000gn/T/ipykernel_60021/3143823277.py:22: FutureWarning: Passing literal html to 'read_html' is deprecated and will be removed in a future version. To read from a literal string, wrap it in a 'StringIO' object.\n",
      "  df = pd.read_html(str(table))[0]\n",
      "/var/folders/5h/v8qm6jqd52q00q39r0ym2qhw0000gn/T/ipykernel_60021/3143823277.py:22: FutureWarning: Passing literal html to 'read_html' is deprecated and will be removed in a future version. To read from a literal string, wrap it in a 'StringIO' object.\n",
      "  df = pd.read_html(str(table))[0]\n",
      "/var/folders/5h/v8qm6jqd52q00q39r0ym2qhw0000gn/T/ipykernel_60021/3143823277.py:22: FutureWarning: Passing literal html to 'read_html' is deprecated and will be removed in a future version. To read from a literal string, wrap it in a 'StringIO' object.\n",
      "  df = pd.read_html(str(table))[0]\n"
     ]
    },
    {
     "name": "stdout",
     "output_type": "stream",
     "text": [
      "No data found for batter uriasju01 in 2024 - OK\n",
      "No data found for batter uriasju01 in 2025 - OK\n"
     ]
    },
    {
     "name": "stderr",
     "output_type": "stream",
     "text": [
      "/var/folders/5h/v8qm6jqd52q00q39r0ym2qhw0000gn/T/ipykernel_60021/3143823277.py:22: FutureWarning: Passing literal html to 'read_html' is deprecated and will be removed in a future version. To read from a literal string, wrap it in a 'StringIO' object.\n",
      "  df = pd.read_html(str(table))[0]\n",
      "/var/folders/5h/v8qm6jqd52q00q39r0ym2qhw0000gn/T/ipykernel_60021/3143823277.py:22: FutureWarning: Passing literal html to 'read_html' is deprecated and will be removed in a future version. To read from a literal string, wrap it in a 'StringIO' object.\n",
      "  df = pd.read_html(str(table))[0]\n",
      "/var/folders/5h/v8qm6jqd52q00q39r0ym2qhw0000gn/T/ipykernel_60021/3143823277.py:22: FutureWarning: Passing literal html to 'read_html' is deprecated and will be removed in a future version. To read from a literal string, wrap it in a 'StringIO' object.\n",
      "  df = pd.read_html(str(table))[0]\n",
      "/var/folders/5h/v8qm6jqd52q00q39r0ym2qhw0000gn/T/ipykernel_60021/3143823277.py:22: FutureWarning: Passing literal html to 'read_html' is deprecated and will be removed in a future version. To read from a literal string, wrap it in a 'StringIO' object.\n",
      "  df = pd.read_html(str(table))[0]\n"
     ]
    },
    {
     "name": "stdout",
     "output_type": "stream",
     "text": [
      "No data found for batter uriaslu01 in 2025 - OK\n"
     ]
    },
    {
     "name": "stderr",
     "output_type": "stream",
     "text": [
      "/var/folders/5h/v8qm6jqd52q00q39r0ym2qhw0000gn/T/ipykernel_60021/3143823277.py:22: FutureWarning: Passing literal html to 'read_html' is deprecated and will be removed in a future version. To read from a literal string, wrap it in a 'StringIO' object.\n",
      "  df = pd.read_html(str(table))[0]\n",
      "/var/folders/5h/v8qm6jqd52q00q39r0ym2qhw0000gn/T/ipykernel_60021/3143823277.py:22: FutureWarning: Passing literal html to 'read_html' is deprecated and will be removed in a future version. To read from a literal string, wrap it in a 'StringIO' object.\n",
      "  df = pd.read_html(str(table))[0]\n",
      "/var/folders/5h/v8qm6jqd52q00q39r0ym2qhw0000gn/T/ipykernel_60021/3143823277.py:22: FutureWarning: Passing literal html to 'read_html' is deprecated and will be removed in a future version. To read from a literal string, wrap it in a 'StringIO' object.\n",
      "  df = pd.read_html(str(table))[0]\n",
      "/var/folders/5h/v8qm6jqd52q00q39r0ym2qhw0000gn/T/ipykernel_60021/3143823277.py:22: FutureWarning: Passing literal html to 'read_html' is deprecated and will be removed in a future version. To read from a literal string, wrap it in a 'StringIO' object.\n",
      "  df = pd.read_html(str(table))[0]\n"
     ]
    },
    {
     "name": "stdout",
     "output_type": "stream",
     "text": [
      "No data found for batter uriasra01 in 2025 - OK\n"
     ]
    },
    {
     "name": "stderr",
     "output_type": "stream",
     "text": [
      "/var/folders/5h/v8qm6jqd52q00q39r0ym2qhw0000gn/T/ipykernel_60021/3143823277.py:22: FutureWarning: Passing literal html to 'read_html' is deprecated and will be removed in a future version. To read from a literal string, wrap it in a 'StringIO' object.\n",
      "  df = pd.read_html(str(table))[0]\n",
      "/var/folders/5h/v8qm6jqd52q00q39r0ym2qhw0000gn/T/ipykernel_60021/3143823277.py:22: FutureWarning: Passing literal html to 'read_html' is deprecated and will be removed in a future version. To read from a literal string, wrap it in a 'StringIO' object.\n",
      "  df = pd.read_html(str(table))[0]\n",
      "/var/folders/5h/v8qm6jqd52q00q39r0ym2qhw0000gn/T/ipykernel_60021/3143823277.py:22: FutureWarning: Passing literal html to 'read_html' is deprecated and will be removed in a future version. To read from a literal string, wrap it in a 'StringIO' object.\n",
      "  df = pd.read_html(str(table))[0]\n"
     ]
    },
    {
     "name": "stdout",
     "output_type": "stream",
     "text": [
      "No data found for batter urquijo01 in 2024 - OK\n",
      "No data found for batter urquijo01 in 2025 - OK\n"
     ]
    },
    {
     "name": "stderr",
     "output_type": "stream",
     "text": [
      "/var/folders/5h/v8qm6jqd52q00q39r0ym2qhw0000gn/T/ipykernel_60021/3143823277.py:22: FutureWarning: Passing literal html to 'read_html' is deprecated and will be removed in a future version. To read from a literal string, wrap it in a 'StringIO' object.\n",
      "  df = pd.read_html(str(table))[0]\n",
      "/var/folders/5h/v8qm6jqd52q00q39r0ym2qhw0000gn/T/ipykernel_60021/3143823277.py:22: FutureWarning: Passing literal html to 'read_html' is deprecated and will be removed in a future version. To read from a literal string, wrap it in a 'StringIO' object.\n",
      "  df = pd.read_html(str(table))[0]\n",
      "/var/folders/5h/v8qm6jqd52q00q39r0ym2qhw0000gn/T/ipykernel_60021/3143823277.py:22: FutureWarning: Passing literal html to 'read_html' is deprecated and will be removed in a future version. To read from a literal string, wrap it in a 'StringIO' object.\n",
      "  df = pd.read_html(str(table))[0]\n",
      "/var/folders/5h/v8qm6jqd52q00q39r0ym2qhw0000gn/T/ipykernel_60021/3143823277.py:22: FutureWarning: Passing literal html to 'read_html' is deprecated and will be removed in a future version. To read from a literal string, wrap it in a 'StringIO' object.\n",
      "  df = pd.read_html(str(table))[0]\n"
     ]
    },
    {
     "name": "stdout",
     "output_type": "stream",
     "text": [
      "No data found for batter urshegi01 in 2025 - OK\n"
     ]
    },
    {
     "name": "stderr",
     "output_type": "stream",
     "text": [
      "/var/folders/5h/v8qm6jqd52q00q39r0ym2qhw0000gn/T/ipykernel_60021/3143823277.py:22: FutureWarning: Passing literal html to 'read_html' is deprecated and will be removed in a future version. To read from a literal string, wrap it in a 'StringIO' object.\n",
      "  df = pd.read_html(str(table))[0]\n"
     ]
    },
    {
     "name": "stdout",
     "output_type": "stream",
     "text": [
      "No data found for batter valaipa01 in 2022 - OK\n",
      "No data found for batter valaipa01 in 2023 - OK\n",
      "No data found for batter valaipa01 in 2024 - OK\n",
      "No data found for batter valaipa01 in 2025 - OK\n",
      "No data found for batter valdeen01 in 2021 - OK\n",
      "No data found for batter valdeen01 in 2022 - OK\n"
     ]
    },
    {
     "name": "stderr",
     "output_type": "stream",
     "text": [
      "/var/folders/5h/v8qm6jqd52q00q39r0ym2qhw0000gn/T/ipykernel_60021/3143823277.py:22: FutureWarning: Passing literal html to 'read_html' is deprecated and will be removed in a future version. To read from a literal string, wrap it in a 'StringIO' object.\n",
      "  df = pd.read_html(str(table))[0]\n",
      "/var/folders/5h/v8qm6jqd52q00q39r0ym2qhw0000gn/T/ipykernel_60021/3143823277.py:22: FutureWarning: Passing literal html to 'read_html' is deprecated and will be removed in a future version. To read from a literal string, wrap it in a 'StringIO' object.\n",
      "  df = pd.read_html(str(table))[0]\n"
     ]
    },
    {
     "name": "stdout",
     "output_type": "stream",
     "text": [
      "No data found for batter valdeen01 in 2025 - OK\n"
     ]
    },
    {
     "name": "stderr",
     "output_type": "stream",
     "text": [
      "/var/folders/5h/v8qm6jqd52q00q39r0ym2qhw0000gn/T/ipykernel_60021/3143823277.py:22: FutureWarning: Passing literal html to 'read_html' is deprecated and will be removed in a future version. To read from a literal string, wrap it in a 'StringIO' object.\n",
      "  df = pd.read_html(str(table))[0]\n",
      "/var/folders/5h/v8qm6jqd52q00q39r0ym2qhw0000gn/T/ipykernel_60021/3143823277.py:22: FutureWarning: Passing literal html to 'read_html' is deprecated and will be removed in a future version. To read from a literal string, wrap it in a 'StringIO' object.\n",
      "  df = pd.read_html(str(table))[0]\n",
      "/var/folders/5h/v8qm6jqd52q00q39r0ym2qhw0000gn/T/ipykernel_60021/3143823277.py:22: FutureWarning: Passing literal html to 'read_html' is deprecated and will be removed in a future version. To read from a literal string, wrap it in a 'StringIO' object.\n",
      "  df = pd.read_html(str(table))[0]\n",
      "/var/folders/5h/v8qm6jqd52q00q39r0ym2qhw0000gn/T/ipykernel_60021/3143823277.py:22: FutureWarning: Passing literal html to 'read_html' is deprecated and will be removed in a future version. To read from a literal string, wrap it in a 'StringIO' object.\n",
      "  df = pd.read_html(str(table))[0]\n"
     ]
    },
    {
     "name": "stdout",
     "output_type": "stream",
     "text": [
      "No data found for batter valdefr01 in 2025 - OK\n"
     ]
    },
    {
     "name": "stderr",
     "output_type": "stream",
     "text": [
      "/var/folders/5h/v8qm6jqd52q00q39r0ym2qhw0000gn/T/ipykernel_60021/3143823277.py:22: FutureWarning: Passing literal html to 'read_html' is deprecated and will be removed in a future version. To read from a literal string, wrap it in a 'StringIO' object.\n",
      "  df = pd.read_html(str(table))[0]\n",
      "/var/folders/5h/v8qm6jqd52q00q39r0ym2qhw0000gn/T/ipykernel_60021/3143823277.py:37: UserWarning: Could not infer format, so each element will be parsed individually, falling back to `dateutil`. To ensure parsing is consistent and as-expected, please specify a format.\n",
      "  df['game_date'] = pd.to_datetime(df['Date'], errors='coerce').dt.strftime('%Y-%m-%d')\n"
     ]
    },
    {
     "name": "stdout",
     "output_type": "stream",
     "text": [
      "No data found for batter valerbr01 in 2022 - OK\n",
      "No data found for batter valerbr01 in 2023 - OK\n",
      "No data found for batter valerbr01 in 2024 - OK\n",
      "No data found for batter valerbr01 in 2025 - OK\n"
     ]
    },
    {
     "name": "stderr",
     "output_type": "stream",
     "text": [
      "/var/folders/5h/v8qm6jqd52q00q39r0ym2qhw0000gn/T/ipykernel_60021/3143823277.py:22: FutureWarning: Passing literal html to 'read_html' is deprecated and will be removed in a future version. To read from a literal string, wrap it in a 'StringIO' object.\n",
      "  df = pd.read_html(str(table))[0]\n",
      "/var/folders/5h/v8qm6jqd52q00q39r0ym2qhw0000gn/T/ipykernel_60021/3143823277.py:22: FutureWarning: Passing literal html to 'read_html' is deprecated and will be removed in a future version. To read from a literal string, wrap it in a 'StringIO' object.\n",
      "  df = pd.read_html(str(table))[0]\n"
     ]
    },
    {
     "name": "stdout",
     "output_type": "stream",
     "text": [
      "No data found for batter vanmejo01 in 2023 - OK\n",
      "No data found for batter vanmejo01 in 2024 - OK\n",
      "No data found for batter vanmejo01 in 2025 - OK\n"
     ]
    },
    {
     "name": "stderr",
     "output_type": "stream",
     "text": [
      "/var/folders/5h/v8qm6jqd52q00q39r0ym2qhw0000gn/T/ipykernel_60021/3143823277.py:22: FutureWarning: Passing literal html to 'read_html' is deprecated and will be removed in a future version. To read from a literal string, wrap it in a 'StringIO' object.\n",
      "  df = pd.read_html(str(table))[0]\n",
      "/var/folders/5h/v8qm6jqd52q00q39r0ym2qhw0000gn/T/ipykernel_60021/3143823277.py:22: FutureWarning: Passing literal html to 'read_html' is deprecated and will be removed in a future version. To read from a literal string, wrap it in a 'StringIO' object.\n",
      "  df = pd.read_html(str(table))[0]\n",
      "/var/folders/5h/v8qm6jqd52q00q39r0ym2qhw0000gn/T/ipykernel_60021/3143823277.py:22: FutureWarning: Passing literal html to 'read_html' is deprecated and will be removed in a future version. To read from a literal string, wrap it in a 'StringIO' object.\n",
      "  df = pd.read_html(str(table))[0]\n",
      "/var/folders/5h/v8qm6jqd52q00q39r0ym2qhw0000gn/T/ipykernel_60021/3143823277.py:22: FutureWarning: Passing literal html to 'read_html' is deprecated and will be removed in a future version. To read from a literal string, wrap it in a 'StringIO' object.\n",
      "  df = pd.read_html(str(table))[0]\n"
     ]
    },
    {
     "name": "stdout",
     "output_type": "stream",
     "text": [
      "No data found for batter vargail01 in 2025 - OK\n",
      "No data found for batter vargami01 in 2021 - OK\n"
     ]
    },
    {
     "name": "stderr",
     "output_type": "stream",
     "text": [
      "/var/folders/5h/v8qm6jqd52q00q39r0ym2qhw0000gn/T/ipykernel_60021/3143823277.py:22: FutureWarning: Passing literal html to 'read_html' is deprecated and will be removed in a future version. To read from a literal string, wrap it in a 'StringIO' object.\n",
      "  df = pd.read_html(str(table))[0]\n",
      "/var/folders/5h/v8qm6jqd52q00q39r0ym2qhw0000gn/T/ipykernel_60021/3143823277.py:22: FutureWarning: Passing literal html to 'read_html' is deprecated and will be removed in a future version. To read from a literal string, wrap it in a 'StringIO' object.\n",
      "  df = pd.read_html(str(table))[0]\n",
      "/var/folders/5h/v8qm6jqd52q00q39r0ym2qhw0000gn/T/ipykernel_60021/3143823277.py:22: FutureWarning: Passing literal html to 'read_html' is deprecated and will be removed in a future version. To read from a literal string, wrap it in a 'StringIO' object.\n",
      "  df = pd.read_html(str(table))[0]\n"
     ]
    },
    {
     "name": "stdout",
     "output_type": "stream",
     "text": [
      "No data found for batter vargami01 in 2025 - OK\n"
     ]
    },
    {
     "name": "stderr",
     "output_type": "stream",
     "text": [
      "/var/folders/5h/v8qm6jqd52q00q39r0ym2qhw0000gn/T/ipykernel_60021/3143823277.py:22: FutureWarning: Passing literal html to 'read_html' is deprecated and will be removed in a future version. To read from a literal string, wrap it in a 'StringIO' object.\n",
      "  df = pd.read_html(str(table))[0]\n",
      "/var/folders/5h/v8qm6jqd52q00q39r0ym2qhw0000gn/T/ipykernel_60021/3143823277.py:22: FutureWarning: Passing literal html to 'read_html' is deprecated and will be removed in a future version. To read from a literal string, wrap it in a 'StringIO' object.\n",
      "  df = pd.read_html(str(table))[0]\n",
      "/var/folders/5h/v8qm6jqd52q00q39r0ym2qhw0000gn/T/ipykernel_60021/3143823277.py:22: FutureWarning: Passing literal html to 'read_html' is deprecated and will be removed in a future version. To read from a literal string, wrap it in a 'StringIO' object.\n",
      "  df = pd.read_html(str(table))[0]\n",
      "/var/folders/5h/v8qm6jqd52q00q39r0ym2qhw0000gn/T/ipykernel_60021/3143823277.py:22: FutureWarning: Passing literal html to 'read_html' is deprecated and will be removed in a future version. To read from a literal string, wrap it in a 'StringIO' object.\n",
      "  df = pd.read_html(str(table))[0]\n"
     ]
    },
    {
     "name": "stdout",
     "output_type": "stream",
     "text": [
      "No data found for batter varshda01 in 2025 - OK\n"
     ]
    },
    {
     "name": "stderr",
     "output_type": "stream",
     "text": [
      "/var/folders/5h/v8qm6jqd52q00q39r0ym2qhw0000gn/T/ipykernel_60021/3143823277.py:22: FutureWarning: Passing literal html to 'read_html' is deprecated and will be removed in a future version. To read from a literal string, wrap it in a 'StringIO' object.\n",
      "  df = pd.read_html(str(table))[0]\n",
      "/var/folders/5h/v8qm6jqd52q00q39r0ym2qhw0000gn/T/ipykernel_60021/3143823277.py:22: FutureWarning: Passing literal html to 'read_html' is deprecated and will be removed in a future version. To read from a literal string, wrap it in a 'StringIO' object.\n",
      "  df = pd.read_html(str(table))[0]\n",
      "/var/folders/5h/v8qm6jqd52q00q39r0ym2qhw0000gn/T/ipykernel_60021/3143823277.py:22: FutureWarning: Passing literal html to 'read_html' is deprecated and will be removed in a future version. To read from a literal string, wrap it in a 'StringIO' object.\n",
      "  df = pd.read_html(str(table))[0]\n",
      "/var/folders/5h/v8qm6jqd52q00q39r0ym2qhw0000gn/T/ipykernel_60021/3143823277.py:22: FutureWarning: Passing literal html to 'read_html' is deprecated and will be removed in a future version. To read from a literal string, wrap it in a 'StringIO' object.\n",
      "  df = pd.read_html(str(table))[0]\n"
     ]
    },
    {
     "name": "stdout",
     "output_type": "stream",
     "text": [
      "No data found for batter vaughan01 in 2025 - OK\n",
      "No data found for batter vavrate01 in 2021 - OK\n"
     ]
    },
    {
     "name": "stderr",
     "output_type": "stream",
     "text": [
      "/var/folders/5h/v8qm6jqd52q00q39r0ym2qhw0000gn/T/ipykernel_60021/3143823277.py:22: FutureWarning: Passing literal html to 'read_html' is deprecated and will be removed in a future version. To read from a literal string, wrap it in a 'StringIO' object.\n",
      "  df = pd.read_html(str(table))[0]\n",
      "/var/folders/5h/v8qm6jqd52q00q39r0ym2qhw0000gn/T/ipykernel_60021/3143823277.py:22: FutureWarning: Passing literal html to 'read_html' is deprecated and will be removed in a future version. To read from a literal string, wrap it in a 'StringIO' object.\n",
      "  df = pd.read_html(str(table))[0]\n"
     ]
    },
    {
     "name": "stdout",
     "output_type": "stream",
     "text": [
      "No data found for batter vavrate01 in 2024 - OK\n",
      "No data found for batter vavrate01 in 2025 - OK\n"
     ]
    },
    {
     "name": "stderr",
     "output_type": "stream",
     "text": [
      "/var/folders/5h/v8qm6jqd52q00q39r0ym2qhw0000gn/T/ipykernel_60021/3143823277.py:22: FutureWarning: Passing literal html to 'read_html' is deprecated and will be removed in a future version. To read from a literal string, wrap it in a 'StringIO' object.\n",
      "  df = pd.read_html(str(table))[0]\n",
      "/var/folders/5h/v8qm6jqd52q00q39r0ym2qhw0000gn/T/ipykernel_60021/3143823277.py:22: FutureWarning: Passing literal html to 'read_html' is deprecated and will be removed in a future version. To read from a literal string, wrap it in a 'StringIO' object.\n",
      "  df = pd.read_html(str(table))[0]\n",
      "/var/folders/5h/v8qm6jqd52q00q39r0ym2qhw0000gn/T/ipykernel_60021/3143823277.py:22: FutureWarning: Passing literal html to 'read_html' is deprecated and will be removed in a future version. To read from a literal string, wrap it in a 'StringIO' object.\n",
      "  df = pd.read_html(str(table))[0]\n",
      "/var/folders/5h/v8qm6jqd52q00q39r0ym2qhw0000gn/T/ipykernel_60021/3143823277.py:22: FutureWarning: Passing literal html to 'read_html' is deprecated and will be removed in a future version. To read from a literal string, wrap it in a 'StringIO' object.\n",
      "  df = pd.read_html(str(table))[0]\n"
     ]
    },
    {
     "name": "stdout",
     "output_type": "stream",
     "text": [
      "No data found for batter vazquch01 in 2025 - OK\n",
      "No data found for batter vazqulu01 in 2021 - OK\n",
      "No data found for batter vazqulu01 in 2022 - OK\n",
      "No data found for batter vazqulu01 in 2023 - OK\n"
     ]
    },
    {
     "name": "stderr",
     "output_type": "stream",
     "text": [
      "/var/folders/5h/v8qm6jqd52q00q39r0ym2qhw0000gn/T/ipykernel_60021/3143823277.py:22: FutureWarning: Passing literal html to 'read_html' is deprecated and will be removed in a future version. To read from a literal string, wrap it in a 'StringIO' object.\n",
      "  df = pd.read_html(str(table))[0]\n"
     ]
    },
    {
     "name": "stdout",
     "output_type": "stream",
     "text": [
      "No data found for batter vazqulu01 in 2025 - OK\n"
     ]
    },
    {
     "name": "stderr",
     "output_type": "stream",
     "text": [
      "/var/folders/5h/v8qm6jqd52q00q39r0ym2qhw0000gn/T/ipykernel_60021/3143823277.py:22: FutureWarning: Passing literal html to 'read_html' is deprecated and will be removed in a future version. To read from a literal string, wrap it in a 'StringIO' object.\n",
      "  df = pd.read_html(str(table))[0]\n",
      "/var/folders/5h/v8qm6jqd52q00q39r0ym2qhw0000gn/T/ipykernel_60021/3143823277.py:22: FutureWarning: Passing literal html to 'read_html' is deprecated and will be removed in a future version. To read from a literal string, wrap it in a 'StringIO' object.\n",
      "  df = pd.read_html(str(table))[0]\n",
      "/var/folders/5h/v8qm6jqd52q00q39r0ym2qhw0000gn/T/ipykernel_60021/3143823277.py:22: FutureWarning: Passing literal html to 'read_html' is deprecated and will be removed in a future version. To read from a literal string, wrap it in a 'StringIO' object.\n",
      "  df = pd.read_html(str(table))[0]\n"
     ]
    },
    {
     "name": "stdout",
     "output_type": "stream",
     "text": [
      "No data found for batter velasvi01 in 2024 - OK\n",
      "No data found for batter velasvi01 in 2025 - OK\n"
     ]
    },
    {
     "name": "stderr",
     "output_type": "stream",
     "text": [
      "/var/folders/5h/v8qm6jqd52q00q39r0ym2qhw0000gn/T/ipykernel_60021/3143823277.py:22: FutureWarning: Passing literal html to 'read_html' is deprecated and will be removed in a future version. To read from a literal string, wrap it in a 'StringIO' object.\n",
      "  df = pd.read_html(str(table))[0]\n",
      "/var/folders/5h/v8qm6jqd52q00q39r0ym2qhw0000gn/T/ipykernel_60021/3143823277.py:22: FutureWarning: Passing literal html to 'read_html' is deprecated and will be removed in a future version. To read from a literal string, wrap it in a 'StringIO' object.\n",
      "  df = pd.read_html(str(table))[0]\n",
      "/var/folders/5h/v8qm6jqd52q00q39r0ym2qhw0000gn/T/ipykernel_60021/3143823277.py:22: FutureWarning: Passing literal html to 'read_html' is deprecated and will be removed in a future version. To read from a literal string, wrap it in a 'StringIO' object.\n",
      "  df = pd.read_html(str(table))[0]\n"
     ]
    },
    {
     "name": "stdout",
     "output_type": "stream",
     "text": [
      "No data found for batter velazan01 in 2024 - OK\n",
      "No data found for batter velazan01 in 2025 - OK\n",
      "No data found for batter velazne01 in 2021 - OK\n"
     ]
    },
    {
     "name": "stderr",
     "output_type": "stream",
     "text": [
      "/var/folders/5h/v8qm6jqd52q00q39r0ym2qhw0000gn/T/ipykernel_60021/3143823277.py:22: FutureWarning: Passing literal html to 'read_html' is deprecated and will be removed in a future version. To read from a literal string, wrap it in a 'StringIO' object.\n",
      "  df = pd.read_html(str(table))[0]\n",
      "/var/folders/5h/v8qm6jqd52q00q39r0ym2qhw0000gn/T/ipykernel_60021/3143823277.py:37: UserWarning: Could not infer format, so each element will be parsed individually, falling back to `dateutil`. To ensure parsing is consistent and as-expected, please specify a format.\n",
      "  df['game_date'] = pd.to_datetime(df['Date'], errors='coerce').dt.strftime('%Y-%m-%d')\n",
      "/var/folders/5h/v8qm6jqd52q00q39r0ym2qhw0000gn/T/ipykernel_60021/3143823277.py:22: FutureWarning: Passing literal html to 'read_html' is deprecated and will be removed in a future version. To read from a literal string, wrap it in a 'StringIO' object.\n",
      "  df = pd.read_html(str(table))[0]\n",
      "/var/folders/5h/v8qm6jqd52q00q39r0ym2qhw0000gn/T/ipykernel_60021/3143823277.py:22: FutureWarning: Passing literal html to 'read_html' is deprecated and will be removed in a future version. To read from a literal string, wrap it in a 'StringIO' object.\n",
      "  df = pd.read_html(str(table))[0]\n"
     ]
    },
    {
     "name": "stdout",
     "output_type": "stream",
     "text": [
      "No data found for batter velazne01 in 2025 - OK\n"
     ]
    },
    {
     "name": "stderr",
     "output_type": "stream",
     "text": [
      "/var/folders/5h/v8qm6jqd52q00q39r0ym2qhw0000gn/T/ipykernel_60021/3143823277.py:22: FutureWarning: Passing literal html to 'read_html' is deprecated and will be removed in a future version. To read from a literal string, wrap it in a 'StringIO' object.\n",
      "  df = pd.read_html(str(table))[0]\n",
      "/var/folders/5h/v8qm6jqd52q00q39r0ym2qhw0000gn/T/ipykernel_60021/3143823277.py:22: FutureWarning: Passing literal html to 'read_html' is deprecated and will be removed in a future version. To read from a literal string, wrap it in a 'StringIO' object.\n",
      "  df = pd.read_html(str(table))[0]\n",
      "/var/folders/5h/v8qm6jqd52q00q39r0ym2qhw0000gn/T/ipykernel_60021/3143823277.py:22: FutureWarning: Passing literal html to 'read_html' is deprecated and will be removed in a future version. To read from a literal string, wrap it in a 'StringIO' object.\n",
      "  df = pd.read_html(str(table))[0]\n",
      "/var/folders/5h/v8qm6jqd52q00q39r0ym2qhw0000gn/T/ipykernel_60021/3143823277.py:22: FutureWarning: Passing literal html to 'read_html' is deprecated and will be removed in a future version. To read from a literal string, wrap it in a 'StringIO' object.\n",
      "  df = pd.read_html(str(table))[0]\n"
     ]
    },
    {
     "name": "stdout",
     "output_type": "stream",
     "text": [
      "No data found for batter verdual01 in 2025 - OK\n"
     ]
    },
    {
     "name": "stderr",
     "output_type": "stream",
     "text": [
      "/var/folders/5h/v8qm6jqd52q00q39r0ym2qhw0000gn/T/ipykernel_60021/3143823277.py:22: FutureWarning: Passing literal html to 'read_html' is deprecated and will be removed in a future version. To read from a literal string, wrap it in a 'StringIO' object.\n",
      "  df = pd.read_html(str(table))[0]\n",
      "/var/folders/5h/v8qm6jqd52q00q39r0ym2qhw0000gn/T/ipykernel_60021/3143823277.py:22: FutureWarning: Passing literal html to 'read_html' is deprecated and will be removed in a future version. To read from a literal string, wrap it in a 'StringIO' object.\n",
      "  df = pd.read_html(str(table))[0]\n",
      "/var/folders/5h/v8qm6jqd52q00q39r0ym2qhw0000gn/T/ipykernel_60021/3143823277.py:22: FutureWarning: Passing literal html to 'read_html' is deprecated and will be removed in a future version. To read from a literal string, wrap it in a 'StringIO' object.\n",
      "  df = pd.read_html(str(table))[0]\n",
      "/var/folders/5h/v8qm6jqd52q00q39r0ym2qhw0000gn/T/ipykernel_60021/3143823277.py:22: FutureWarning: Passing literal html to 'read_html' is deprecated and will be removed in a future version. To read from a literal string, wrap it in a 'StringIO' object.\n",
      "  df = pd.read_html(str(table))[0]\n"
     ]
    },
    {
     "name": "stdout",
     "output_type": "stream",
     "text": [
      "No data found for batter vesiaal01 in 2025 - OK\n",
      "No data found for batter vientma01 in 2021 - OK\n"
     ]
    },
    {
     "name": "stderr",
     "output_type": "stream",
     "text": [
      "/var/folders/5h/v8qm6jqd52q00q39r0ym2qhw0000gn/T/ipykernel_60021/3143823277.py:22: FutureWarning: Passing literal html to 'read_html' is deprecated and will be removed in a future version. To read from a literal string, wrap it in a 'StringIO' object.\n",
      "  df = pd.read_html(str(table))[0]\n",
      "/var/folders/5h/v8qm6jqd52q00q39r0ym2qhw0000gn/T/ipykernel_60021/3143823277.py:22: FutureWarning: Passing literal html to 'read_html' is deprecated and will be removed in a future version. To read from a literal string, wrap it in a 'StringIO' object.\n",
      "  df = pd.read_html(str(table))[0]\n",
      "/var/folders/5h/v8qm6jqd52q00q39r0ym2qhw0000gn/T/ipykernel_60021/3143823277.py:22: FutureWarning: Passing literal html to 'read_html' is deprecated and will be removed in a future version. To read from a literal string, wrap it in a 'StringIO' object.\n",
      "  df = pd.read_html(str(table))[0]\n"
     ]
    },
    {
     "name": "stdout",
     "output_type": "stream",
     "text": [
      "No data found for batter vientma01 in 2025 - OK\n"
     ]
    },
    {
     "name": "stderr",
     "output_type": "stream",
     "text": [
      "/var/folders/5h/v8qm6jqd52q00q39r0ym2qhw0000gn/T/ipykernel_60021/3143823277.py:22: FutureWarning: Passing literal html to 'read_html' is deprecated and will be removed in a future version. To read from a literal string, wrap it in a 'StringIO' object.\n",
      "  df = pd.read_html(str(table))[0]\n",
      "/var/folders/5h/v8qm6jqd52q00q39r0ym2qhw0000gn/T/ipykernel_60021/3143823277.py:22: FutureWarning: Passing literal html to 'read_html' is deprecated and will be removed in a future version. To read from a literal string, wrap it in a 'StringIO' object.\n",
      "  df = pd.read_html(str(table))[0]\n",
      "/var/folders/5h/v8qm6jqd52q00q39r0ym2qhw0000gn/T/ipykernel_60021/3143823277.py:22: FutureWarning: Passing literal html to 'read_html' is deprecated and will be removed in a future version. To read from a literal string, wrap it in a 'StringIO' object.\n",
      "  df = pd.read_html(str(table))[0]\n",
      "/var/folders/5h/v8qm6jqd52q00q39r0ym2qhw0000gn/T/ipykernel_60021/3143823277.py:22: FutureWarning: Passing literal html to 'read_html' is deprecated and will be removed in a future version. To read from a literal string, wrap it in a 'StringIO' object.\n",
      "  df = pd.read_html(str(table))[0]\n"
     ]
    },
    {
     "name": "stdout",
     "output_type": "stream",
     "text": [
      "No data found for batter vierlma01 in 2025 - OK\n"
     ]
    },
    {
     "name": "stderr",
     "output_type": "stream",
     "text": [
      "/var/folders/5h/v8qm6jqd52q00q39r0ym2qhw0000gn/T/ipykernel_60021/3143823277.py:22: FutureWarning: Passing literal html to 'read_html' is deprecated and will be removed in a future version. To read from a literal string, wrap it in a 'StringIO' object.\n",
      "  df = pd.read_html(str(table))[0]\n"
     ]
    },
    {
     "name": "stdout",
     "output_type": "stream",
     "text": [
      "No data found for batter viladry01 in 2022 - OK\n",
      "No data found for batter viladry01 in 2023 - OK\n"
     ]
    },
    {
     "name": "stderr",
     "output_type": "stream",
     "text": [
      "/var/folders/5h/v8qm6jqd52q00q39r0ym2qhw0000gn/T/ipykernel_60021/3143823277.py:22: FutureWarning: Passing literal html to 'read_html' is deprecated and will be removed in a future version. To read from a literal string, wrap it in a 'StringIO' object.\n",
      "  df = pd.read_html(str(table))[0]\n"
     ]
    },
    {
     "name": "stdout",
     "output_type": "stream",
     "text": [
      "No data found for batter viladry01 in 2025 - OK\n",
      "No data found for batter villada01 in 2021 - OK\n"
     ]
    },
    {
     "name": "stderr",
     "output_type": "stream",
     "text": [
      "/var/folders/5h/v8qm6jqd52q00q39r0ym2qhw0000gn/T/ipykernel_60021/3143823277.py:22: FutureWarning: Passing literal html to 'read_html' is deprecated and will be removed in a future version. To read from a literal string, wrap it in a 'StringIO' object.\n",
      "  df = pd.read_html(str(table))[0]\n",
      "/var/folders/5h/v8qm6jqd52q00q39r0ym2qhw0000gn/T/ipykernel_60021/3143823277.py:22: FutureWarning: Passing literal html to 'read_html' is deprecated and will be removed in a future version. To read from a literal string, wrap it in a 'StringIO' object.\n",
      "  df = pd.read_html(str(table))[0]\n",
      "/var/folders/5h/v8qm6jqd52q00q39r0ym2qhw0000gn/T/ipykernel_60021/3143823277.py:22: FutureWarning: Passing literal html to 'read_html' is deprecated and will be removed in a future version. To read from a literal string, wrap it in a 'StringIO' object.\n",
      "  df = pd.read_html(str(table))[0]\n"
     ]
    },
    {
     "name": "stdout",
     "output_type": "stream",
     "text": [
      "No data found for batter villada01 in 2025 - OK\n"
     ]
    },
    {
     "name": "stderr",
     "output_type": "stream",
     "text": [
      "/var/folders/5h/v8qm6jqd52q00q39r0ym2qhw0000gn/T/ipykernel_60021/3143823277.py:22: FutureWarning: Passing literal html to 'read_html' is deprecated and will be removed in a future version. To read from a literal string, wrap it in a 'StringIO' object.\n",
      "  df = pd.read_html(str(table))[0]\n",
      "/var/folders/5h/v8qm6jqd52q00q39r0ym2qhw0000gn/T/ipykernel_60021/3143823277.py:22: FutureWarning: Passing literal html to 'read_html' is deprecated and will be removed in a future version. To read from a literal string, wrap it in a 'StringIO' object.\n",
      "  df = pd.read_html(str(table))[0]\n"
     ]
    },
    {
     "name": "stdout",
     "output_type": "stream",
     "text": [
      "No data found for batter villajo01 in 2023 - OK\n",
      "No data found for batter villajo01 in 2024 - OK\n",
      "No data found for batter villajo01 in 2025 - OK\n",
      "No data found for batter vilorme01 in 2021 - OK\n"
     ]
    },
    {
     "name": "stderr",
     "output_type": "stream",
     "text": [
      "/var/folders/5h/v8qm6jqd52q00q39r0ym2qhw0000gn/T/ipykernel_60021/3143823277.py:22: FutureWarning: Passing literal html to 'read_html' is deprecated and will be removed in a future version. To read from a literal string, wrap it in a 'StringIO' object.\n",
      "  df = pd.read_html(str(table))[0]\n",
      "/var/folders/5h/v8qm6jqd52q00q39r0ym2qhw0000gn/T/ipykernel_60021/3143823277.py:22: FutureWarning: Passing literal html to 'read_html' is deprecated and will be removed in a future version. To read from a literal string, wrap it in a 'StringIO' object.\n",
      "  df = pd.read_html(str(table))[0]\n"
     ]
    },
    {
     "name": "stdout",
     "output_type": "stream",
     "text": [
      "No data found for batter vilorme01 in 2024 - OK\n",
      "No data found for batter vilorme01 in 2025 - OK\n"
     ]
    },
    {
     "name": "stderr",
     "output_type": "stream",
     "text": [
      "/var/folders/5h/v8qm6jqd52q00q39r0ym2qhw0000gn/T/ipykernel_60021/3143823277.py:22: FutureWarning: Passing literal html to 'read_html' is deprecated and will be removed in a future version. To read from a literal string, wrap it in a 'StringIO' object.\n",
      "  df = pd.read_html(str(table))[0]\n",
      "/var/folders/5h/v8qm6jqd52q00q39r0ym2qhw0000gn/T/ipykernel_60021/3143823277.py:22: FutureWarning: Passing literal html to 'read_html' is deprecated and will be removed in a future version. To read from a literal string, wrap it in a 'StringIO' object.\n",
      "  df = pd.read_html(str(table))[0]\n",
      "/var/folders/5h/v8qm6jqd52q00q39r0ym2qhw0000gn/T/ipykernel_60021/3143823277.py:22: FutureWarning: Passing literal html to 'read_html' is deprecated and will be removed in a future version. To read from a literal string, wrap it in a 'StringIO' object.\n",
      "  df = pd.read_html(str(table))[0]\n",
      "/var/folders/5h/v8qm6jqd52q00q39r0ym2qhw0000gn/T/ipykernel_60021/3143823277.py:22: FutureWarning: Passing literal html to 'read_html' is deprecated and will be removed in a future version. To read from a literal string, wrap it in a 'StringIO' object.\n",
      "  df = pd.read_html(str(table))[0]\n"
     ]
    },
    {
     "name": "stdout",
     "output_type": "stream",
     "text": [
      "No data found for batter vogelda01 in 2025 - OK\n"
     ]
    },
    {
     "name": "stderr",
     "output_type": "stream",
     "text": [
      "/var/folders/5h/v8qm6jqd52q00q39r0ym2qhw0000gn/T/ipykernel_60021/3143823277.py:22: FutureWarning: Passing literal html to 'read_html' is deprecated and will be removed in a future version. To read from a literal string, wrap it in a 'StringIO' object.\n",
      "  df = pd.read_html(str(table))[0]\n",
      "/var/folders/5h/v8qm6jqd52q00q39r0ym2qhw0000gn/T/ipykernel_60021/3143823277.py:22: FutureWarning: Passing literal html to 'read_html' is deprecated and will be removed in a future version. To read from a literal string, wrap it in a 'StringIO' object.\n",
      "  df = pd.read_html(str(table))[0]\n"
     ]
    },
    {
     "name": "stdout",
     "output_type": "stream",
     "text": [
      "No data found for batter vogtst01 in 2023 - OK\n",
      "No data found for batter vogtst01 in 2024 - OK\n",
      "No data found for batter vogtst01 in 2025 - OK\n"
     ]
    },
    {
     "name": "stderr",
     "output_type": "stream",
     "text": [
      "/var/folders/5h/v8qm6jqd52q00q39r0ym2qhw0000gn/T/ipykernel_60021/3143823277.py:22: FutureWarning: Passing literal html to 'read_html' is deprecated and will be removed in a future version. To read from a literal string, wrap it in a 'StringIO' object.\n",
      "  df = pd.read_html(str(table))[0]\n",
      "/var/folders/5h/v8qm6jqd52q00q39r0ym2qhw0000gn/T/ipykernel_60021/3143823277.py:22: FutureWarning: Passing literal html to 'read_html' is deprecated and will be removed in a future version. To read from a literal string, wrap it in a 'StringIO' object.\n",
      "  df = pd.read_html(str(table))[0]\n",
      "/var/folders/5h/v8qm6jqd52q00q39r0ym2qhw0000gn/T/ipykernel_60021/3143823277.py:22: FutureWarning: Passing literal html to 'read_html' is deprecated and will be removed in a future version. To read from a literal string, wrap it in a 'StringIO' object.\n",
      "  df = pd.read_html(str(table))[0]\n"
     ]
    },
    {
     "name": "stdout",
     "output_type": "stream",
     "text": [
      "No data found for batter voitlu01 in 2024 - OK\n",
      "No data found for batter voitlu01 in 2025 - OK\n",
      "No data found for batter volpean01 in 2021 - OK\n",
      "No data found for batter volpean01 in 2022 - OK\n"
     ]
    },
    {
     "name": "stderr",
     "output_type": "stream",
     "text": [
      "/var/folders/5h/v8qm6jqd52q00q39r0ym2qhw0000gn/T/ipykernel_60021/3143823277.py:22: FutureWarning: Passing literal html to 'read_html' is deprecated and will be removed in a future version. To read from a literal string, wrap it in a 'StringIO' object.\n",
      "  df = pd.read_html(str(table))[0]\n",
      "/var/folders/5h/v8qm6jqd52q00q39r0ym2qhw0000gn/T/ipykernel_60021/3143823277.py:22: FutureWarning: Passing literal html to 'read_html' is deprecated and will be removed in a future version. To read from a literal string, wrap it in a 'StringIO' object.\n",
      "  df = pd.read_html(str(table))[0]\n"
     ]
    },
    {
     "name": "stdout",
     "output_type": "stream",
     "text": [
      "No data found for batter volpean01 in 2025 - OK\n"
     ]
    },
    {
     "name": "stderr",
     "output_type": "stream",
     "text": [
      "/var/folders/5h/v8qm6jqd52q00q39r0ym2qhw0000gn/T/ipykernel_60021/3143823277.py:22: FutureWarning: Passing literal html to 'read_html' is deprecated and will be removed in a future version. To read from a literal string, wrap it in a 'StringIO' object.\n",
      "  df = pd.read_html(str(table))[0]\n",
      "/var/folders/5h/v8qm6jqd52q00q39r0ym2qhw0000gn/T/ipykernel_60021/3143823277.py:22: FutureWarning: Passing literal html to 'read_html' is deprecated and will be removed in a future version. To read from a literal string, wrap it in a 'StringIO' object.\n",
      "  df = pd.read_html(str(table))[0]\n",
      "/var/folders/5h/v8qm6jqd52q00q39r0ym2qhw0000gn/T/ipykernel_60021/3143823277.py:37: UserWarning: Could not infer format, so each element will be parsed individually, falling back to `dateutil`. To ensure parsing is consistent and as-expected, please specify a format.\n",
      "  df['game_date'] = pd.to_datetime(df['Date'], errors='coerce').dt.strftime('%Y-%m-%d')\n",
      "/var/folders/5h/v8qm6jqd52q00q39r0ym2qhw0000gn/T/ipykernel_60021/3143823277.py:22: FutureWarning: Passing literal html to 'read_html' is deprecated and will be removed in a future version. To read from a literal string, wrap it in a 'StringIO' object.\n",
      "  df = pd.read_html(str(table))[0]\n",
      "/var/folders/5h/v8qm6jqd52q00q39r0ym2qhw0000gn/T/ipykernel_60021/3143823277.py:22: FutureWarning: Passing literal html to 'read_html' is deprecated and will be removed in a future version. To read from a literal string, wrap it in a 'StringIO' object.\n",
      "  df = pd.read_html(str(table))[0]\n"
     ]
    },
    {
     "name": "stdout",
     "output_type": "stream",
     "text": [
      "No data found for batter vosleja01 in 2025 - OK\n"
     ]
    },
    {
     "name": "stderr",
     "output_type": "stream",
     "text": [
      "/var/folders/5h/v8qm6jqd52q00q39r0ym2qhw0000gn/T/ipykernel_60021/3143823277.py:22: FutureWarning: Passing literal html to 'read_html' is deprecated and will be removed in a future version. To read from a literal string, wrap it in a 'StringIO' object.\n",
      "  df = pd.read_html(str(table))[0]\n",
      "/var/folders/5h/v8qm6jqd52q00q39r0ym2qhw0000gn/T/ipykernel_60021/3143823277.py:22: FutureWarning: Passing literal html to 'read_html' is deprecated and will be removed in a future version. To read from a literal string, wrap it in a 'StringIO' object.\n",
      "  df = pd.read_html(str(table))[0]\n",
      "/var/folders/5h/v8qm6jqd52q00q39r0ym2qhw0000gn/T/ipykernel_60021/3143823277.py:22: FutureWarning: Passing literal html to 'read_html' is deprecated and will be removed in a future version. To read from a literal string, wrap it in a 'StringIO' object.\n",
      "  df = pd.read_html(str(table))[0]\n",
      "/var/folders/5h/v8qm6jqd52q00q39r0ym2qhw0000gn/T/ipykernel_60021/3143823277.py:22: FutureWarning: Passing literal html to 'read_html' is deprecated and will be removed in a future version. To read from a literal string, wrap it in a 'StringIO' object.\n",
      "  df = pd.read_html(str(table))[0]\n"
     ]
    },
    {
     "name": "stdout",
     "output_type": "stream",
     "text": [
      "No data found for batter vothau01 in 2025 - OK\n"
     ]
    },
    {
     "name": "stderr",
     "output_type": "stream",
     "text": [
      "/var/folders/5h/v8qm6jqd52q00q39r0ym2qhw0000gn/T/ipykernel_60021/3143823277.py:22: FutureWarning: Passing literal html to 'read_html' is deprecated and will be removed in a future version. To read from a literal string, wrap it in a 'StringIO' object.\n",
      "  df = pd.read_html(str(table))[0]\n",
      "/var/folders/5h/v8qm6jqd52q00q39r0ym2qhw0000gn/T/ipykernel_60021/3143823277.py:22: FutureWarning: Passing literal html to 'read_html' is deprecated and will be removed in a future version. To read from a literal string, wrap it in a 'StringIO' object.\n",
      "  df = pd.read_html(str(table))[0]\n",
      "/var/folders/5h/v8qm6jqd52q00q39r0ym2qhw0000gn/T/ipykernel_60021/3143823277.py:22: FutureWarning: Passing literal html to 'read_html' is deprecated and will be removed in a future version. To read from a literal string, wrap it in a 'StringIO' object.\n",
      "  df = pd.read_html(str(table))[0]\n"
     ]
    },
    {
     "name": "stdout",
     "output_type": "stream",
     "text": [
      "No data found for batter vottojo01 in 2024 - OK\n",
      "No data found for batter vottojo01 in 2025 - OK\n"
     ]
    },
    {
     "name": "stderr",
     "output_type": "stream",
     "text": [
      "/var/folders/5h/v8qm6jqd52q00q39r0ym2qhw0000gn/T/ipykernel_60021/3143823277.py:22: FutureWarning: Passing literal html to 'read_html' is deprecated and will be removed in a future version. To read from a literal string, wrap it in a 'StringIO' object.\n",
      "  df = pd.read_html(str(table))[0]\n",
      "/var/folders/5h/v8qm6jqd52q00q39r0ym2qhw0000gn/T/ipykernel_60021/3143823277.py:22: FutureWarning: Passing literal html to 'read_html' is deprecated and will be removed in a future version. To read from a literal string, wrap it in a 'StringIO' object.\n",
      "  df = pd.read_html(str(table))[0]\n",
      "/var/folders/5h/v8qm6jqd52q00q39r0ym2qhw0000gn/T/ipykernel_60021/3143823277.py:22: FutureWarning: Passing literal html to 'read_html' is deprecated and will be removed in a future version. To read from a literal string, wrap it in a 'StringIO' object.\n",
      "  df = pd.read_html(str(table))[0]\n",
      "/var/folders/5h/v8qm6jqd52q00q39r0ym2qhw0000gn/T/ipykernel_60021/3143823277.py:22: FutureWarning: Passing literal html to 'read_html' is deprecated and will be removed in a future version. To read from a literal string, wrap it in a 'StringIO' object.\n",
      "  df = pd.read_html(str(table))[0]\n"
     ]
    },
    {
     "name": "stdout",
     "output_type": "stream",
     "text": [
      "No data found for batter wachami01 in 2025 - OK\n"
     ]
    },
    {
     "name": "stderr",
     "output_type": "stream",
     "text": [
      "/var/folders/5h/v8qm6jqd52q00q39r0ym2qhw0000gn/T/ipykernel_60021/3143823277.py:22: FutureWarning: Passing literal html to 'read_html' is deprecated and will be removed in a future version. To read from a literal string, wrap it in a 'StringIO' object.\n",
      "  df = pd.read_html(str(table))[0]\n"
     ]
    },
    {
     "name": "stdout",
     "output_type": "stream",
     "text": [
      "No data found for batter waddebr01 in 2022 - OK\n",
      "No data found for batter waddebr01 in 2023 - OK\n",
      "No data found for batter waddebr01 in 2024 - OK\n",
      "No data found for batter waddebr01 in 2025 - OK\n"
     ]
    },
    {
     "name": "stderr",
     "output_type": "stream",
     "text": [
      "/var/folders/5h/v8qm6jqd52q00q39r0ym2qhw0000gn/T/ipykernel_60021/3143823277.py:22: FutureWarning: Passing literal html to 'read_html' is deprecated and will be removed in a future version. To read from a literal string, wrap it in a 'StringIO' object.\n",
      "  df = pd.read_html(str(table))[0]\n",
      "/var/folders/5h/v8qm6jqd52q00q39r0ym2qhw0000gn/T/ipykernel_60021/3143823277.py:22: FutureWarning: Passing literal html to 'read_html' is deprecated and will be removed in a future version. To read from a literal string, wrap it in a 'StringIO' object.\n",
      "  df = pd.read_html(str(table))[0]\n",
      "/var/folders/5h/v8qm6jqd52q00q39r0ym2qhw0000gn/T/ipykernel_60021/3143823277.py:22: FutureWarning: Passing literal html to 'read_html' is deprecated and will be removed in a future version. To read from a literal string, wrap it in a 'StringIO' object.\n",
      "  df = pd.read_html(str(table))[0]\n",
      "/var/folders/5h/v8qm6jqd52q00q39r0ym2qhw0000gn/T/ipykernel_60021/3143823277.py:22: FutureWarning: Passing literal html to 'read_html' is deprecated and will be removed in a future version. To read from a literal string, wrap it in a 'StringIO' object.\n",
      "  df = pd.read_html(str(table))[0]\n"
     ]
    },
    {
     "name": "stdout",
     "output_type": "stream",
     "text": [
      "No data found for batter wadela01 in 2025 - OK\n"
     ]
    },
    {
     "name": "stderr",
     "output_type": "stream",
     "text": [
      "/var/folders/5h/v8qm6jqd52q00q39r0ym2qhw0000gn/T/ipykernel_60021/3143823277.py:22: FutureWarning: Passing literal html to 'read_html' is deprecated and will be removed in a future version. To read from a literal string, wrap it in a 'StringIO' object.\n",
      "  df = pd.read_html(str(table))[0]\n",
      "/var/folders/5h/v8qm6jqd52q00q39r0ym2qhw0000gn/T/ipykernel_60021/3143823277.py:22: FutureWarning: Passing literal html to 'read_html' is deprecated and will be removed in a future version. To read from a literal string, wrap it in a 'StringIO' object.\n",
      "  df = pd.read_html(str(table))[0]\n",
      "/var/folders/5h/v8qm6jqd52q00q39r0ym2qhw0000gn/T/ipykernel_60021/3143823277.py:22: FutureWarning: Passing literal html to 'read_html' is deprecated and will be removed in a future version. To read from a literal string, wrap it in a 'StringIO' object.\n",
      "  df = pd.read_html(str(table))[0]\n",
      "/var/folders/5h/v8qm6jqd52q00q39r0ym2qhw0000gn/T/ipykernel_60021/3143823277.py:22: FutureWarning: Passing literal html to 'read_html' is deprecated and will be removed in a future version. To read from a literal string, wrap it in a 'StringIO' object.\n",
      "  df = pd.read_html(str(table))[0]\n"
     ]
    },
    {
     "name": "stdout",
     "output_type": "stream",
     "text": [
      "No data found for batter wadety01 in 2025 - OK\n",
      "No data found for batter wagamer01 in 2021 - OK\n",
      "No data found for batter wagamer01 in 2022 - OK\n",
      "No data found for batter wagamer01 in 2023 - OK\n"
     ]
    },
    {
     "name": "stderr",
     "output_type": "stream",
     "text": [
      "/var/folders/5h/v8qm6jqd52q00q39r0ym2qhw0000gn/T/ipykernel_60021/3143823277.py:22: FutureWarning: Passing literal html to 'read_html' is deprecated and will be removed in a future version. To read from a literal string, wrap it in a 'StringIO' object.\n",
      "  df = pd.read_html(str(table))[0]\n"
     ]
    },
    {
     "name": "stdout",
     "output_type": "stream",
     "text": [
      "No data found for batter wagamer01 in 2025 - OK\n",
      "No data found for batter wagnewi01 in 2021 - OK\n",
      "No data found for batter wagnewi01 in 2022 - OK\n",
      "No data found for batter wagnewi01 in 2023 - OK\n"
     ]
    },
    {
     "name": "stderr",
     "output_type": "stream",
     "text": [
      "/var/folders/5h/v8qm6jqd52q00q39r0ym2qhw0000gn/T/ipykernel_60021/3143823277.py:22: FutureWarning: Passing literal html to 'read_html' is deprecated and will be removed in a future version. To read from a literal string, wrap it in a 'StringIO' object.\n",
      "  df = pd.read_html(str(table))[0]\n"
     ]
    },
    {
     "name": "stdout",
     "output_type": "stream",
     "text": [
      "No data found for batter wagnewi01 in 2025 - OK\n"
     ]
    },
    {
     "name": "stderr",
     "output_type": "stream",
     "text": [
      "/var/folders/5h/v8qm6jqd52q00q39r0ym2qhw0000gn/T/ipykernel_60021/3143823277.py:22: FutureWarning: Passing literal html to 'read_html' is deprecated and will be removed in a future version. To read from a literal string, wrap it in a 'StringIO' object.\n",
      "  df = pd.read_html(str(table))[0]\n",
      "/var/folders/5h/v8qm6jqd52q00q39r0ym2qhw0000gn/T/ipykernel_60021/3143823277.py:22: FutureWarning: Passing literal html to 'read_html' is deprecated and will be removed in a future version. To read from a literal string, wrap it in a 'StringIO' object.\n",
      "  df = pd.read_html(str(table))[0]\n",
      "/var/folders/5h/v8qm6jqd52q00q39r0ym2qhw0000gn/T/ipykernel_60021/3143823277.py:22: FutureWarning: Passing literal html to 'read_html' is deprecated and will be removed in a future version. To read from a literal string, wrap it in a 'StringIO' object.\n",
      "  df = pd.read_html(str(table))[0]\n"
     ]
    },
    {
     "name": "stdout",
     "output_type": "stream",
     "text": [
      "No data found for batter wainwad01 in 2024 - OK\n",
      "No data found for batter wainwad01 in 2025 - OK\n"
     ]
    },
    {
     "name": "stderr",
     "output_type": "stream",
     "text": [
      "/var/folders/5h/v8qm6jqd52q00q39r0ym2qhw0000gn/T/ipykernel_60021/3143823277.py:22: FutureWarning: Passing literal html to 'read_html' is deprecated and will be removed in a future version. To read from a literal string, wrap it in a 'StringIO' object.\n",
      "  df = pd.read_html(str(table))[0]\n",
      "/var/folders/5h/v8qm6jqd52q00q39r0ym2qhw0000gn/T/ipykernel_60021/3143823277.py:22: FutureWarning: Passing literal html to 'read_html' is deprecated and will be removed in a future version. To read from a literal string, wrap it in a 'StringIO' object.\n",
      "  df = pd.read_html(str(table))[0]\n",
      "/var/folders/5h/v8qm6jqd52q00q39r0ym2qhw0000gn/T/ipykernel_60021/3143823277.py:22: FutureWarning: Passing literal html to 'read_html' is deprecated and will be removed in a future version. To read from a literal string, wrap it in a 'StringIO' object.\n",
      "  df = pd.read_html(str(table))[0]\n",
      "/var/folders/5h/v8qm6jqd52q00q39r0ym2qhw0000gn/T/ipykernel_60021/3143823277.py:22: FutureWarning: Passing literal html to 'read_html' is deprecated and will be removed in a future version. To read from a literal string, wrap it in a 'StringIO' object.\n",
      "  df = pd.read_html(str(table))[0]\n"
     ]
    },
    {
     "name": "stdout",
     "output_type": "stream",
     "text": [
      "No data found for batter walkech02 in 2025 - OK\n",
      "No data found for batter walkejo02 in 2021 - OK\n",
      "No data found for batter walkejo02 in 2022 - OK\n"
     ]
    },
    {
     "name": "stderr",
     "output_type": "stream",
     "text": [
      "/var/folders/5h/v8qm6jqd52q00q39r0ym2qhw0000gn/T/ipykernel_60021/3143823277.py:22: FutureWarning: Passing literal html to 'read_html' is deprecated and will be removed in a future version. To read from a literal string, wrap it in a 'StringIO' object.\n",
      "  df = pd.read_html(str(table))[0]\n",
      "/var/folders/5h/v8qm6jqd52q00q39r0ym2qhw0000gn/T/ipykernel_60021/3143823277.py:22: FutureWarning: Passing literal html to 'read_html' is deprecated and will be removed in a future version. To read from a literal string, wrap it in a 'StringIO' object.\n",
      "  df = pd.read_html(str(table))[0]\n"
     ]
    },
    {
     "name": "stdout",
     "output_type": "stream",
     "text": [
      "No data found for batter walkejo02 in 2025 - OK\n",
      "No data found for batter walkest01 in 2021 - OK\n"
     ]
    },
    {
     "name": "stderr",
     "output_type": "stream",
     "text": [
      "/var/folders/5h/v8qm6jqd52q00q39r0ym2qhw0000gn/T/ipykernel_60021/3143823277.py:22: FutureWarning: Passing literal html to 'read_html' is deprecated and will be removed in a future version. To read from a literal string, wrap it in a 'StringIO' object.\n",
      "  df = pd.read_html(str(table))[0]\n"
     ]
    },
    {
     "name": "stdout",
     "output_type": "stream",
     "text": [
      "No data found for batter walkest01 in 2023 - OK\n",
      "No data found for batter walkest01 in 2024 - OK\n",
      "No data found for batter walkest01 in 2025 - OK\n"
     ]
    },
    {
     "name": "stderr",
     "output_type": "stream",
     "text": [
      "/var/folders/5h/v8qm6jqd52q00q39r0ym2qhw0000gn/T/ipykernel_60021/3143823277.py:22: FutureWarning: Passing literal html to 'read_html' is deprecated and will be removed in a future version. To read from a literal string, wrap it in a 'StringIO' object.\n",
      "  df = pd.read_html(str(table))[0]\n",
      "/var/folders/5h/v8qm6jqd52q00q39r0ym2qhw0000gn/T/ipykernel_60021/3143823277.py:22: FutureWarning: Passing literal html to 'read_html' is deprecated and will be removed in a future version. To read from a literal string, wrap it in a 'StringIO' object.\n",
      "  df = pd.read_html(str(table))[0]\n",
      "/var/folders/5h/v8qm6jqd52q00q39r0ym2qhw0000gn/T/ipykernel_60021/3143823277.py:22: FutureWarning: Passing literal html to 'read_html' is deprecated and will be removed in a future version. To read from a literal string, wrap it in a 'StringIO' object.\n",
      "  df = pd.read_html(str(table))[0]\n",
      "/var/folders/5h/v8qm6jqd52q00q39r0ym2qhw0000gn/T/ipykernel_60021/3143823277.py:22: FutureWarning: Passing literal html to 'read_html' is deprecated and will be removed in a future version. To read from a literal string, wrap it in a 'StringIO' object.\n",
      "  df = pd.read_html(str(table))[0]\n"
     ]
    },
    {
     "name": "stdout",
     "output_type": "stream",
     "text": [
      "No data found for batter walketa01 in 2025 - OK\n",
      "No data found for batter wallfo01 in 2021 - OK\n",
      "No data found for batter wallfo01 in 2022 - OK\n"
     ]
    },
    {
     "name": "stderr",
     "output_type": "stream",
     "text": [
      "/var/folders/5h/v8qm6jqd52q00q39r0ym2qhw0000gn/T/ipykernel_60021/3143823277.py:22: FutureWarning: Passing literal html to 'read_html' is deprecated and will be removed in a future version. To read from a literal string, wrap it in a 'StringIO' object.\n",
      "  df = pd.read_html(str(table))[0]\n",
      "/var/folders/5h/v8qm6jqd52q00q39r0ym2qhw0000gn/T/ipykernel_60021/3143823277.py:22: FutureWarning: Passing literal html to 'read_html' is deprecated and will be removed in a future version. To read from a literal string, wrap it in a 'StringIO' object.\n",
      "  df = pd.read_html(str(table))[0]\n"
     ]
    },
    {
     "name": "stdout",
     "output_type": "stream",
     "text": [
      "No data found for batter wallfo01 in 2025 - OK\n"
     ]
    },
    {
     "name": "stderr",
     "output_type": "stream",
     "text": [
      "/var/folders/5h/v8qm6jqd52q00q39r0ym2qhw0000gn/T/ipykernel_60021/3143823277.py:22: FutureWarning: Passing literal html to 'read_html' is deprecated and will be removed in a future version. To read from a literal string, wrap it in a 'StringIO' object.\n",
      "  df = pd.read_html(str(table))[0]\n",
      "/var/folders/5h/v8qm6jqd52q00q39r0ym2qhw0000gn/T/ipykernel_60021/3143823277.py:22: FutureWarning: Passing literal html to 'read_html' is deprecated and will be removed in a future version. To read from a literal string, wrap it in a 'StringIO' object.\n",
      "  df = pd.read_html(str(table))[0]\n",
      "/var/folders/5h/v8qm6jqd52q00q39r0ym2qhw0000gn/T/ipykernel_60021/3143823277.py:22: FutureWarning: Passing literal html to 'read_html' is deprecated and will be removed in a future version. To read from a literal string, wrap it in a 'StringIO' object.\n",
      "  df = pd.read_html(str(table))[0]\n"
     ]
    },
    {
     "name": "stdout",
     "output_type": "stream",
     "text": [
      "No data found for batter wallach01 in 2024 - OK\n",
      "No data found for batter wallach01 in 2025 - OK\n",
      "No data found for batter wallnma01 in 2021 - OK\n"
     ]
    },
    {
     "name": "stderr",
     "output_type": "stream",
     "text": [
      "/var/folders/5h/v8qm6jqd52q00q39r0ym2qhw0000gn/T/ipykernel_60021/3143823277.py:22: FutureWarning: Passing literal html to 'read_html' is deprecated and will be removed in a future version. To read from a literal string, wrap it in a 'StringIO' object.\n",
      "  df = pd.read_html(str(table))[0]\n",
      "/var/folders/5h/v8qm6jqd52q00q39r0ym2qhw0000gn/T/ipykernel_60021/3143823277.py:37: UserWarning: Could not infer format, so each element will be parsed individually, falling back to `dateutil`. To ensure parsing is consistent and as-expected, please specify a format.\n",
      "  df['game_date'] = pd.to_datetime(df['Date'], errors='coerce').dt.strftime('%Y-%m-%d')\n",
      "/var/folders/5h/v8qm6jqd52q00q39r0ym2qhw0000gn/T/ipykernel_60021/3143823277.py:22: FutureWarning: Passing literal html to 'read_html' is deprecated and will be removed in a future version. To read from a literal string, wrap it in a 'StringIO' object.\n",
      "  df = pd.read_html(str(table))[0]\n",
      "/var/folders/5h/v8qm6jqd52q00q39r0ym2qhw0000gn/T/ipykernel_60021/3143823277.py:22: FutureWarning: Passing literal html to 'read_html' is deprecated and will be removed in a future version. To read from a literal string, wrap it in a 'StringIO' object.\n",
      "  df = pd.read_html(str(table))[0]\n"
     ]
    },
    {
     "name": "stdout",
     "output_type": "stream",
     "text": [
      "No data found for batter wallnma01 in 2025 - OK\n"
     ]
    },
    {
     "name": "stderr",
     "output_type": "stream",
     "text": [
      "/var/folders/5h/v8qm6jqd52q00q39r0ym2qhw0000gn/T/ipykernel_60021/3143823277.py:22: FutureWarning: Passing literal html to 'read_html' is deprecated and will be removed in a future version. To read from a literal string, wrap it in a 'StringIO' object.\n",
      "  df = pd.read_html(str(table))[0]\n",
      "/var/folders/5h/v8qm6jqd52q00q39r0ym2qhw0000gn/T/ipykernel_60021/3143823277.py:22: FutureWarning: Passing literal html to 'read_html' is deprecated and will be removed in a future version. To read from a literal string, wrap it in a 'StringIO' object.\n",
      "  df = pd.read_html(str(table))[0]\n",
      "/var/folders/5h/v8qm6jqd52q00q39r0ym2qhw0000gn/T/ipykernel_60021/3143823277.py:22: FutureWarning: Passing literal html to 'read_html' is deprecated and will be removed in a future version. To read from a literal string, wrap it in a 'StringIO' object.\n",
      "  df = pd.read_html(str(table))[0]\n",
      "/var/folders/5h/v8qm6jqd52q00q39r0ym2qhw0000gn/T/ipykernel_60021/3143823277.py:22: FutureWarning: Passing literal html to 'read_html' is deprecated and will be removed in a future version. To read from a literal string, wrap it in a 'StringIO' object.\n",
      "  df = pd.read_html(str(table))[0]\n"
     ]
    },
    {
     "name": "stdout",
     "output_type": "stream",
     "text": [
      "No data found for batter wallsta01 in 2025 - OK\n"
     ]
    },
    {
     "name": "stderr",
     "output_type": "stream",
     "text": [
      "/var/folders/5h/v8qm6jqd52q00q39r0ym2qhw0000gn/T/ipykernel_60021/3143823277.py:22: FutureWarning: Passing literal html to 'read_html' is deprecated and will be removed in a future version. To read from a literal string, wrap it in a 'StringIO' object.\n",
      "  df = pd.read_html(str(table))[0]\n",
      "/var/folders/5h/v8qm6jqd52q00q39r0ym2qhw0000gn/T/ipykernel_60021/3143823277.py:22: FutureWarning: Passing literal html to 'read_html' is deprecated and will be removed in a future version. To read from a literal string, wrap it in a 'StringIO' object.\n",
      "  df = pd.read_html(str(table))[0]\n",
      "/var/folders/5h/v8qm6jqd52q00q39r0ym2qhw0000gn/T/ipykernel_60021/3143823277.py:22: FutureWarning: Passing literal html to 'read_html' is deprecated and will be removed in a future version. To read from a literal string, wrap it in a 'StringIO' object.\n",
      "  df = pd.read_html(str(table))[0]\n",
      "/var/folders/5h/v8qm6jqd52q00q39r0ym2qhw0000gn/T/ipykernel_60021/3143823277.py:22: FutureWarning: Passing literal html to 'read_html' is deprecated and will be removed in a future version. To read from a literal string, wrap it in a 'StringIO' object.\n",
      "  df = pd.read_html(str(table))[0]\n"
     ]
    },
    {
     "name": "stdout",
     "output_type": "stream",
     "text": [
      "No data found for batter walshja01 in 2025 - OK\n"
     ]
    },
    {
     "name": "stderr",
     "output_type": "stream",
     "text": [
      "/var/folders/5h/v8qm6jqd52q00q39r0ym2qhw0000gn/T/ipykernel_60021/3143823277.py:22: FutureWarning: Passing literal html to 'read_html' is deprecated and will be removed in a future version. To read from a literal string, wrap it in a 'StringIO' object.\n",
      "  df = pd.read_html(str(table))[0]\n",
      "/var/folders/5h/v8qm6jqd52q00q39r0ym2qhw0000gn/T/ipykernel_60021/3143823277.py:22: FutureWarning: Passing literal html to 'read_html' is deprecated and will be removed in a future version. To read from a literal string, wrap it in a 'StringIO' object.\n",
      "  df = pd.read_html(str(table))[0]\n"
     ]
    },
    {
     "name": "stdout",
     "output_type": "stream",
     "text": [
      "No data found for batter waltodo01 in 2023 - OK\n"
     ]
    },
    {
     "name": "stderr",
     "output_type": "stream",
     "text": [
      "/var/folders/5h/v8qm6jqd52q00q39r0ym2qhw0000gn/T/ipykernel_60021/3143823277.py:22: FutureWarning: Passing literal html to 'read_html' is deprecated and will be removed in a future version. To read from a literal string, wrap it in a 'StringIO' object.\n",
      "  df = pd.read_html(str(table))[0]\n"
     ]
    },
    {
     "name": "stdout",
     "output_type": "stream",
     "text": [
      "No data found for batter waltodo01 in 2025 - OK\n"
     ]
    },
    {
     "name": "stderr",
     "output_type": "stream",
     "text": [
      "/var/folders/5h/v8qm6jqd52q00q39r0ym2qhw0000gn/T/ipykernel_60021/3143823277.py:22: FutureWarning: Passing literal html to 'read_html' is deprecated and will be removed in a future version. To read from a literal string, wrap it in a 'StringIO' object.\n",
      "  df = pd.read_html(str(table))[0]\n",
      "/var/folders/5h/v8qm6jqd52q00q39r0ym2qhw0000gn/T/ipykernel_60021/3143823277.py:22: FutureWarning: Passing literal html to 'read_html' is deprecated and will be removed in a future version. To read from a literal string, wrap it in a 'StringIO' object.\n",
      "  df = pd.read_html(str(table))[0]\n",
      "/var/folders/5h/v8qm6jqd52q00q39r0ym2qhw0000gn/T/ipykernel_60021/3143823277.py:22: FutureWarning: Passing literal html to 'read_html' is deprecated and will be removed in a future version. To read from a literal string, wrap it in a 'StringIO' object.\n",
      "  df = pd.read_html(str(table))[0]\n",
      "/var/folders/5h/v8qm6jqd52q00q39r0ym2qhw0000gn/T/ipykernel_60021/3143823277.py:22: FutureWarning: Passing literal html to 'read_html' is deprecated and will be removed in a future version. To read from a literal string, wrap it in a 'StringIO' object.\n",
      "  df = pd.read_html(str(table))[0]\n"
     ]
    },
    {
     "name": "stdout",
     "output_type": "stream",
     "text": [
      "No data found for batter wardta01 in 2025 - OK\n",
      "No data found for batter waterdr01 in 2021 - OK\n"
     ]
    },
    {
     "name": "stderr",
     "output_type": "stream",
     "text": [
      "/var/folders/5h/v8qm6jqd52q00q39r0ym2qhw0000gn/T/ipykernel_60021/3143823277.py:22: FutureWarning: Passing literal html to 'read_html' is deprecated and will be removed in a future version. To read from a literal string, wrap it in a 'StringIO' object.\n",
      "  df = pd.read_html(str(table))[0]\n",
      "/var/folders/5h/v8qm6jqd52q00q39r0ym2qhw0000gn/T/ipykernel_60021/3143823277.py:22: FutureWarning: Passing literal html to 'read_html' is deprecated and will be removed in a future version. To read from a literal string, wrap it in a 'StringIO' object.\n",
      "  df = pd.read_html(str(table))[0]\n",
      "/var/folders/5h/v8qm6jqd52q00q39r0ym2qhw0000gn/T/ipykernel_60021/3143823277.py:22: FutureWarning: Passing literal html to 'read_html' is deprecated and will be removed in a future version. To read from a literal string, wrap it in a 'StringIO' object.\n",
      "  df = pd.read_html(str(table))[0]\n"
     ]
    },
    {
     "name": "stdout",
     "output_type": "stream",
     "text": [
      "No data found for batter waterdr01 in 2025 - OK\n"
     ]
    },
    {
     "name": "stderr",
     "output_type": "stream",
     "text": [
      "/var/folders/5h/v8qm6jqd52q00q39r0ym2qhw0000gn/T/ipykernel_60021/3143823277.py:22: FutureWarning: Passing literal html to 'read_html' is deprecated and will be removed in a future version. To read from a literal string, wrap it in a 'StringIO' object.\n",
      "  df = pd.read_html(str(table))[0]\n"
     ]
    },
    {
     "name": "stdout",
     "output_type": "stream",
     "text": [
      "No data found for batter watsoto01 in 2022 - OK\n",
      "No data found for batter watsoto01 in 2023 - OK\n",
      "No data found for batter watsoto01 in 2024 - OK\n",
      "No data found for batter watsoto01 in 2025 - OK\n"
     ]
    },
    {
     "name": "stderr",
     "output_type": "stream",
     "text": [
      "/var/folders/5h/v8qm6jqd52q00q39r0ym2qhw0000gn/T/ipykernel_60021/3143823277.py:22: FutureWarning: Passing literal html to 'read_html' is deprecated and will be removed in a future version. To read from a literal string, wrap it in a 'StringIO' object.\n",
      "  df = pd.read_html(str(table))[0]\n",
      "/var/folders/5h/v8qm6jqd52q00q39r0ym2qhw0000gn/T/ipykernel_60021/3143823277.py:22: FutureWarning: Passing literal html to 'read_html' is deprecated and will be removed in a future version. To read from a literal string, wrap it in a 'StringIO' object.\n",
      "  df = pd.read_html(str(table))[0]\n",
      "/var/folders/5h/v8qm6jqd52q00q39r0ym2qhw0000gn/T/ipykernel_60021/3143823277.py:22: FutureWarning: Passing literal html to 'read_html' is deprecated and will be removed in a future version. To read from a literal string, wrap it in a 'StringIO' object.\n",
      "  df = pd.read_html(str(table))[0]\n",
      "/var/folders/5h/v8qm6jqd52q00q39r0ym2qhw0000gn/T/ipykernel_60021/3143823277.py:22: FutureWarning: Passing literal html to 'read_html' is deprecated and will be removed in a future version. To read from a literal string, wrap it in a 'StringIO' object.\n",
      "  df = pd.read_html(str(table))[0]\n"
     ]
    },
    {
     "name": "stdout",
     "output_type": "stream",
     "text": [
      "No data found for batter weathry01 in 2025 - OK\n"
     ]
    },
    {
     "name": "stderr",
     "output_type": "stream",
     "text": [
      "/var/folders/5h/v8qm6jqd52q00q39r0ym2qhw0000gn/T/ipykernel_60021/3143823277.py:22: FutureWarning: Passing literal html to 'read_html' is deprecated and will be removed in a future version. To read from a literal string, wrap it in a 'StringIO' object.\n",
      "  df = pd.read_html(str(table))[0]\n",
      "/var/folders/5h/v8qm6jqd52q00q39r0ym2qhw0000gn/T/ipykernel_60021/3143823277.py:22: FutureWarning: Passing literal html to 'read_html' is deprecated and will be removed in a future version. To read from a literal string, wrap it in a 'StringIO' object.\n",
      "  df = pd.read_html(str(table))[0]\n",
      "/var/folders/5h/v8qm6jqd52q00q39r0ym2qhw0000gn/T/ipykernel_60021/3143823277.py:22: FutureWarning: Passing literal html to 'read_html' is deprecated and will be removed in a future version. To read from a literal string, wrap it in a 'StringIO' object.\n",
      "  df = pd.read_html(str(table))[0]\n",
      "/var/folders/5h/v8qm6jqd52q00q39r0ym2qhw0000gn/T/ipykernel_60021/3143823277.py:22: FutureWarning: Passing literal html to 'read_html' is deprecated and will be removed in a future version. To read from a literal string, wrap it in a 'StringIO' object.\n",
      "  df = pd.read_html(str(table))[0]\n"
     ]
    },
    {
     "name": "stdout",
     "output_type": "stream",
     "text": [
      "No data found for batter weavelu01 in 2025 - OK\n"
     ]
    },
    {
     "name": "stderr",
     "output_type": "stream",
     "text": [
      "/var/folders/5h/v8qm6jqd52q00q39r0ym2qhw0000gn/T/ipykernel_60021/3143823277.py:22: FutureWarning: Passing literal html to 'read_html' is deprecated and will be removed in a future version. To read from a literal string, wrap it in a 'StringIO' object.\n",
      "  df = pd.read_html(str(table))[0]\n"
     ]
    },
    {
     "name": "stdout",
     "output_type": "stream",
     "text": [
      "No data found for batter webbja01 in 2022 - OK\n"
     ]
    },
    {
     "name": "stderr",
     "output_type": "stream",
     "text": [
      "/var/folders/5h/v8qm6jqd52q00q39r0ym2qhw0000gn/T/ipykernel_60021/3143823277.py:22: FutureWarning: Passing literal html to 'read_html' is deprecated and will be removed in a future version. To read from a literal string, wrap it in a 'StringIO' object.\n",
      "  df = pd.read_html(str(table))[0]\n",
      "/var/folders/5h/v8qm6jqd52q00q39r0ym2qhw0000gn/T/ipykernel_60021/3143823277.py:22: FutureWarning: Passing literal html to 'read_html' is deprecated and will be removed in a future version. To read from a literal string, wrap it in a 'StringIO' object.\n",
      "  df = pd.read_html(str(table))[0]\n"
     ]
    },
    {
     "name": "stdout",
     "output_type": "stream",
     "text": [
      "No data found for batter webbja01 in 2025 - OK\n"
     ]
    },
    {
     "name": "stderr",
     "output_type": "stream",
     "text": [
      "/var/folders/5h/v8qm6jqd52q00q39r0ym2qhw0000gn/T/ipykernel_60021/3143823277.py:22: FutureWarning: Passing literal html to 'read_html' is deprecated and will be removed in a future version. To read from a literal string, wrap it in a 'StringIO' object.\n",
      "  df = pd.read_html(str(table))[0]\n",
      "/var/folders/5h/v8qm6jqd52q00q39r0ym2qhw0000gn/T/ipykernel_60021/3143823277.py:22: FutureWarning: Passing literal html to 'read_html' is deprecated and will be removed in a future version. To read from a literal string, wrap it in a 'StringIO' object.\n",
      "  df = pd.read_html(str(table))[0]\n",
      "/var/folders/5h/v8qm6jqd52q00q39r0ym2qhw0000gn/T/ipykernel_60021/3143823277.py:22: FutureWarning: Passing literal html to 'read_html' is deprecated and will be removed in a future version. To read from a literal string, wrap it in a 'StringIO' object.\n",
      "  df = pd.read_html(str(table))[0]\n",
      "/var/folders/5h/v8qm6jqd52q00q39r0ym2qhw0000gn/T/ipykernel_60021/3143823277.py:22: FutureWarning: Passing literal html to 'read_html' is deprecated and will be removed in a future version. To read from a literal string, wrap it in a 'StringIO' object.\n",
      "  df = pd.read_html(str(table))[0]\n"
     ]
    },
    {
     "name": "stdout",
     "output_type": "stream",
     "text": [
      "No data found for batter webblo01 in 2025 - OK\n"
     ]
    },
    {
     "name": "stderr",
     "output_type": "stream",
     "text": [
      "/var/folders/5h/v8qm6jqd52q00q39r0ym2qhw0000gn/T/ipykernel_60021/3143823277.py:22: FutureWarning: Passing literal html to 'read_html' is deprecated and will be removed in a future version. To read from a literal string, wrap it in a 'StringIO' object.\n",
      "  df = pd.read_html(str(table))[0]\n"
     ]
    },
    {
     "name": "stdout",
     "output_type": "stream",
     "text": [
      "No data found for batter webbty01 in 2022 - OK\n",
      "No data found for batter webbty01 in 2023 - OK\n",
      "No data found for batter webbty01 in 2024 - OK\n",
      "No data found for batter webbty01 in 2025 - OK\n"
     ]
    },
    {
     "name": "stderr",
     "output_type": "stream",
     "text": [
      "/var/folders/5h/v8qm6jqd52q00q39r0ym2qhw0000gn/T/ipykernel_60021/3143823277.py:22: FutureWarning: Passing literal html to 'read_html' is deprecated and will be removed in a future version. To read from a literal string, wrap it in a 'StringIO' object.\n",
      "  df = pd.read_html(str(table))[0]\n"
     ]
    },
    {
     "name": "stdout",
     "output_type": "stream",
     "text": [
      "No data found for batter welkeco01 in 2022 - OK\n",
      "No data found for batter welkeco01 in 2023 - OK\n",
      "No data found for batter welkeco01 in 2024 - OK\n",
      "No data found for batter welkeco01 in 2025 - OK\n",
      "No data found for batter wellsau01 in 2021 - OK\n",
      "No data found for batter wellsau01 in 2022 - OK\n"
     ]
    },
    {
     "name": "stderr",
     "output_type": "stream",
     "text": [
      "/var/folders/5h/v8qm6jqd52q00q39r0ym2qhw0000gn/T/ipykernel_60021/3143823277.py:22: FutureWarning: Passing literal html to 'read_html' is deprecated and will be removed in a future version. To read from a literal string, wrap it in a 'StringIO' object.\n",
      "  df = pd.read_html(str(table))[0]\n",
      "/var/folders/5h/v8qm6jqd52q00q39r0ym2qhw0000gn/T/ipykernel_60021/3143823277.py:22: FutureWarning: Passing literal html to 'read_html' is deprecated and will be removed in a future version. To read from a literal string, wrap it in a 'StringIO' object.\n",
      "  df = pd.read_html(str(table))[0]\n"
     ]
    },
    {
     "name": "stdout",
     "output_type": "stream",
     "text": [
      "No data found for batter wellsau01 in 2025 - OK\n"
     ]
    },
    {
     "name": "stderr",
     "output_type": "stream",
     "text": [
      "/var/folders/5h/v8qm6jqd52q00q39r0ym2qhw0000gn/T/ipykernel_60021/3143823277.py:22: FutureWarning: Passing literal html to 'read_html' is deprecated and will be removed in a future version. To read from a literal string, wrap it in a 'StringIO' object.\n",
      "  df = pd.read_html(str(table))[0]\n",
      "/var/folders/5h/v8qm6jqd52q00q39r0ym2qhw0000gn/T/ipykernel_60021/3143823277.py:22: FutureWarning: Passing literal html to 'read_html' is deprecated and will be removed in a future version. To read from a literal string, wrap it in a 'StringIO' object.\n",
      "  df = pd.read_html(str(table))[0]\n",
      "/var/folders/5h/v8qm6jqd52q00q39r0ym2qhw0000gn/T/ipykernel_60021/3143823277.py:22: FutureWarning: Passing literal html to 'read_html' is deprecated and will be removed in a future version. To read from a literal string, wrap it in a 'StringIO' object.\n",
      "  df = pd.read_html(str(table))[0]\n",
      "/var/folders/5h/v8qm6jqd52q00q39r0ym2qhw0000gn/T/ipykernel_60021/3143823277.py:22: FutureWarning: Passing literal html to 'read_html' is deprecated and will be removed in a future version. To read from a literal string, wrap it in a 'StringIO' object.\n",
      "  df = pd.read_html(str(table))[0]\n"
     ]
    },
    {
     "name": "stdout",
     "output_type": "stream",
     "text": [
      "No data found for batter wendljo01 in 2025 - OK\n",
      "No data found for batter wendzda01 in 2021 - OK\n",
      "No data found for batter wendzda01 in 2022 - OK\n",
      "No data found for batter wendzda01 in 2023 - OK\n"
     ]
    },
    {
     "name": "stderr",
     "output_type": "stream",
     "text": [
      "/var/folders/5h/v8qm6jqd52q00q39r0ym2qhw0000gn/T/ipykernel_60021/3143823277.py:22: FutureWarning: Passing literal html to 'read_html' is deprecated and will be removed in a future version. To read from a literal string, wrap it in a 'StringIO' object.\n",
      "  df = pd.read_html(str(table))[0]\n"
     ]
    },
    {
     "name": "stdout",
     "output_type": "stream",
     "text": [
      "No data found for batter wendzda01 in 2025 - OK\n",
      "No data found for batter westbja02 in 2021 - OK\n",
      "No data found for batter westbja02 in 2022 - OK\n",
      "No data found for batter westbja02 in 2023 - OK\n"
     ]
    },
    {
     "name": "stderr",
     "output_type": "stream",
     "text": [
      "/var/folders/5h/v8qm6jqd52q00q39r0ym2qhw0000gn/T/ipykernel_60021/3143823277.py:22: FutureWarning: Passing literal html to 'read_html' is deprecated and will be removed in a future version. To read from a literal string, wrap it in a 'StringIO' object.\n",
      "  df = pd.read_html(str(table))[0]\n"
     ]
    },
    {
     "name": "stdout",
     "output_type": "stream",
     "text": [
      "No data found for batter westbja02 in 2025 - OK\n",
      "No data found for batter westbjo01 in 2021 - OK\n",
      "No data found for batter westbjo01 in 2022 - OK\n"
     ]
    },
    {
     "name": "stderr",
     "output_type": "stream",
     "text": [
      "/var/folders/5h/v8qm6jqd52q00q39r0ym2qhw0000gn/T/ipykernel_60021/3143823277.py:22: FutureWarning: Passing literal html to 'read_html' is deprecated and will be removed in a future version. To read from a literal string, wrap it in a 'StringIO' object.\n",
      "  df = pd.read_html(str(table))[0]\n",
      "/var/folders/5h/v8qm6jqd52q00q39r0ym2qhw0000gn/T/ipykernel_60021/3143823277.py:22: FutureWarning: Passing literal html to 'read_html' is deprecated and will be removed in a future version. To read from a literal string, wrap it in a 'StringIO' object.\n",
      "  df = pd.read_html(str(table))[0]\n"
     ]
    },
    {
     "name": "stdout",
     "output_type": "stream",
     "text": [
      "No data found for batter westbjo01 in 2025 - OK\n"
     ]
    },
    {
     "name": "stderr",
     "output_type": "stream",
     "text": [
      "/var/folders/5h/v8qm6jqd52q00q39r0ym2qhw0000gn/T/ipykernel_60021/3143823277.py:22: FutureWarning: Passing literal html to 'read_html' is deprecated and will be removed in a future version. To read from a literal string, wrap it in a 'StringIO' object.\n",
      "  df = pd.read_html(str(table))[0]\n",
      "/var/folders/5h/v8qm6jqd52q00q39r0ym2qhw0000gn/T/ipykernel_60021/3143823277.py:22: FutureWarning: Passing literal html to 'read_html' is deprecated and will be removed in a future version. To read from a literal string, wrap it in a 'StringIO' object.\n",
      "  df = pd.read_html(str(table))[0]\n",
      "/var/folders/5h/v8qm6jqd52q00q39r0ym2qhw0000gn/T/ipykernel_60021/3143823277.py:22: FutureWarning: Passing literal html to 'read_html' is deprecated and will be removed in a future version. To read from a literal string, wrap it in a 'StringIO' object.\n",
      "  df = pd.read_html(str(table))[0]\n",
      "/var/folders/5h/v8qm6jqd52q00q39r0ym2qhw0000gn/T/ipykernel_60021/3143823277.py:22: FutureWarning: Passing literal html to 'read_html' is deprecated and will be removed in a future version. To read from a literal string, wrap it in a 'StringIO' object.\n",
      "  df = pd.read_html(str(table))[0]\n"
     ]
    },
    {
     "name": "stdout",
     "output_type": "stream",
     "text": [
      "No data found for batter wheelza01 in 2025 - OK\n",
      "No data found for batter whitcsh01 in 2021 - OK\n",
      "No data found for batter whitcsh01 in 2022 - OK\n",
      "No data found for batter whitcsh01 in 2023 - OK\n"
     ]
    },
    {
     "name": "stderr",
     "output_type": "stream",
     "text": [
      "/var/folders/5h/v8qm6jqd52q00q39r0ym2qhw0000gn/T/ipykernel_60021/3143823277.py:22: FutureWarning: Passing literal html to 'read_html' is deprecated and will be removed in a future version. To read from a literal string, wrap it in a 'StringIO' object.\n",
      "  df = pd.read_html(str(table))[0]\n"
     ]
    },
    {
     "name": "stdout",
     "output_type": "stream",
     "text": [
      "No data found for batter whitcsh01 in 2025 - OK\n"
     ]
    },
    {
     "name": "stderr",
     "output_type": "stream",
     "text": [
      "/var/folders/5h/v8qm6jqd52q00q39r0ym2qhw0000gn/T/ipykernel_60021/3143823277.py:22: FutureWarning: Passing literal html to 'read_html' is deprecated and will be removed in a future version. To read from a literal string, wrap it in a 'StringIO' object.\n",
      "  df = pd.read_html(str(table))[0]\n",
      "/var/folders/5h/v8qm6jqd52q00q39r0ym2qhw0000gn/T/ipykernel_60021/3143823277.py:22: FutureWarning: Passing literal html to 'read_html' is deprecated and will be removed in a future version. To read from a literal string, wrap it in a 'StringIO' object.\n",
      "  df = pd.read_html(str(table))[0]\n",
      "/var/folders/5h/v8qm6jqd52q00q39r0ym2qhw0000gn/T/ipykernel_60021/3143823277.py:22: FutureWarning: Passing literal html to 'read_html' is deprecated and will be removed in a future version. To read from a literal string, wrap it in a 'StringIO' object.\n",
      "  df = pd.read_html(str(table))[0]\n",
      "/var/folders/5h/v8qm6jqd52q00q39r0ym2qhw0000gn/T/ipykernel_60021/3143823277.py:22: FutureWarning: Passing literal html to 'read_html' is deprecated and will be removed in a future version. To read from a literal string, wrap it in a 'StringIO' object.\n",
      "  df = pd.read_html(str(table))[0]\n"
     ]
    },
    {
     "name": "stdout",
     "output_type": "stream",
     "text": [
      "No data found for batter whiteel04 in 2025 - OK\n"
     ]
    },
    {
     "name": "stderr",
     "output_type": "stream",
     "text": [
      "/var/folders/5h/v8qm6jqd52q00q39r0ym2qhw0000gn/T/ipykernel_60021/3143823277.py:22: FutureWarning: Passing literal html to 'read_html' is deprecated and will be removed in a future version. To read from a literal string, wrap it in a 'StringIO' object.\n",
      "  df = pd.read_html(str(table))[0]\n"
     ]
    },
    {
     "name": "stdout",
     "output_type": "stream",
     "text": [
      "No data found for batter whiteev01 in 2022 - OK\n",
      "No data found for batter whiteev01 in 2023 - OK\n",
      "No data found for batter whiteev01 in 2024 - OK\n",
      "No data found for batter whiteev01 in 2025 - OK\n"
     ]
    },
    {
     "name": "stderr",
     "output_type": "stream",
     "text": [
      "/var/folders/5h/v8qm6jqd52q00q39r0ym2qhw0000gn/T/ipykernel_60021/3143823277.py:22: FutureWarning: Passing literal html to 'read_html' is deprecated and will be removed in a future version. To read from a literal string, wrap it in a 'StringIO' object.\n",
      "  df = pd.read_html(str(table))[0]\n",
      "/var/folders/5h/v8qm6jqd52q00q39r0ym2qhw0000gn/T/ipykernel_60021/3143823277.py:22: FutureWarning: Passing literal html to 'read_html' is deprecated and will be removed in a future version. To read from a literal string, wrap it in a 'StringIO' object.\n",
      "  df = pd.read_html(str(table))[0]\n",
      "/var/folders/5h/v8qm6jqd52q00q39r0ym2qhw0000gn/T/ipykernel_60021/3143823277.py:22: FutureWarning: Passing literal html to 'read_html' is deprecated and will be removed in a future version. To read from a literal string, wrap it in a 'StringIO' object.\n",
      "  df = pd.read_html(str(table))[0]\n",
      "/var/folders/5h/v8qm6jqd52q00q39r0ym2qhw0000gn/T/ipykernel_60021/3143823277.py:22: FutureWarning: Passing literal html to 'read_html' is deprecated and will be removed in a future version. To read from a literal string, wrap it in a 'StringIO' object.\n",
      "  df = pd.read_html(str(table))[0]\n"
     ]
    },
    {
     "name": "stdout",
     "output_type": "stream",
     "text": [
      "No data found for batter whitemi03 in 2025 - OK\n",
      "No data found for batter whiteaa01 in 2021 - OK\n"
     ]
    },
    {
     "name": "stderr",
     "output_type": "stream",
     "text": [
      "/var/folders/5h/v8qm6jqd52q00q39r0ym2qhw0000gn/T/ipykernel_60021/3143823277.py:22: FutureWarning: Passing literal html to 'read_html' is deprecated and will be removed in a future version. To read from a literal string, wrap it in a 'StringIO' object.\n",
      "  df = pd.read_html(str(table))[0]\n"
     ]
    },
    {
     "name": "stdout",
     "output_type": "stream",
     "text": [
      "No data found for batter whiteaa01 in 2023 - OK\n",
      "No data found for batter whiteaa01 in 2024 - OK\n",
      "No data found for batter whiteaa01 in 2025 - OK\n"
     ]
    },
    {
     "name": "stderr",
     "output_type": "stream",
     "text": [
      "/var/folders/5h/v8qm6jqd52q00q39r0ym2qhw0000gn/T/ipykernel_60021/3143823277.py:22: FutureWarning: Passing literal html to 'read_html' is deprecated and will be removed in a future version. To read from a literal string, wrap it in a 'StringIO' object.\n",
      "  df = pd.read_html(str(table))[0]\n",
      "/var/folders/5h/v8qm6jqd52q00q39r0ym2qhw0000gn/T/ipykernel_60021/3143823277.py:22: FutureWarning: Passing literal html to 'read_html' is deprecated and will be removed in a future version. To read from a literal string, wrap it in a 'StringIO' object.\n",
      "  df = pd.read_html(str(table))[0]\n",
      "/var/folders/5h/v8qm6jqd52q00q39r0ym2qhw0000gn/T/ipykernel_60021/3143823277.py:22: FutureWarning: Passing literal html to 'read_html' is deprecated and will be removed in a future version. To read from a literal string, wrap it in a 'StringIO' object.\n",
      "  df = pd.read_html(str(table))[0]\n",
      "/var/folders/5h/v8qm6jqd52q00q39r0ym2qhw0000gn/T/ipykernel_60021/3143823277.py:22: FutureWarning: Passing literal html to 'read_html' is deprecated and will be removed in a future version. To read from a literal string, wrap it in a 'StringIO' object.\n",
      "  df = pd.read_html(str(table))[0]\n"
     ]
    },
    {
     "name": "stdout",
     "output_type": "stream",
     "text": [
      "No data found for batter whitlga01 in 2025 - OK\n"
     ]
    },
    {
     "name": "stderr",
     "output_type": "stream",
     "text": [
      "/var/folders/5h/v8qm6jqd52q00q39r0ym2qhw0000gn/T/ipykernel_60021/3143823277.py:22: FutureWarning: Passing literal html to 'read_html' is deprecated and will be removed in a future version. To read from a literal string, wrap it in a 'StringIO' object.\n",
      "  df = pd.read_html(str(table))[0]\n",
      "/var/folders/5h/v8qm6jqd52q00q39r0ym2qhw0000gn/T/ipykernel_60021/3143823277.py:22: FutureWarning: Passing literal html to 'read_html' is deprecated and will be removed in a future version. To read from a literal string, wrap it in a 'StringIO' object.\n",
      "  df = pd.read_html(str(table))[0]\n"
     ]
    },
    {
     "name": "stdout",
     "output_type": "stream",
     "text": [
      "No data found for batter widenta01 in 2023 - OK\n",
      "No data found for batter widenta01 in 2024 - OK\n",
      "No data found for batter widenta01 in 2025 - OK\n",
      "No data found for batter wiemejo01 in 2021 - OK\n",
      "No data found for batter wiemejo01 in 2022 - OK\n"
     ]
    },
    {
     "name": "stderr",
     "output_type": "stream",
     "text": [
      "/var/folders/5h/v8qm6jqd52q00q39r0ym2qhw0000gn/T/ipykernel_60021/3143823277.py:22: FutureWarning: Passing literal html to 'read_html' is deprecated and will be removed in a future version. To read from a literal string, wrap it in a 'StringIO' object.\n",
      "  df = pd.read_html(str(table))[0]\n",
      "/var/folders/5h/v8qm6jqd52q00q39r0ym2qhw0000gn/T/ipykernel_60021/3143823277.py:22: FutureWarning: Passing literal html to 'read_html' is deprecated and will be removed in a future version. To read from a literal string, wrap it in a 'StringIO' object.\n",
      "  df = pd.read_html(str(table))[0]\n"
     ]
    },
    {
     "name": "stdout",
     "output_type": "stream",
     "text": [
      "No data found for batter wiemejo01 in 2025 - OK\n"
     ]
    },
    {
     "name": "stderr",
     "output_type": "stream",
     "text": [
      "/var/folders/5h/v8qm6jqd52q00q39r0ym2qhw0000gn/T/ipykernel_60021/3143823277.py:22: FutureWarning: Passing literal html to 'read_html' is deprecated and will be removed in a future version. To read from a literal string, wrap it in a 'StringIO' object.\n",
      "  df = pd.read_html(str(table))[0]\n"
     ]
    },
    {
     "name": "stdout",
     "output_type": "stream",
     "text": [
      "No data found for batter wilkest01 in 2022 - OK\n",
      "No data found for batter wilkest01 in 2023 - OK\n",
      "No data found for batter wilkest01 in 2024 - OK\n",
      "No data found for batter wilkest01 in 2025 - OK\n",
      "No data found for batter willial04 in 2021 - OK\n",
      "No data found for batter willial04 in 2022 - OK\n"
     ]
    },
    {
     "name": "stderr",
     "output_type": "stream",
     "text": [
      "/var/folders/5h/v8qm6jqd52q00q39r0ym2qhw0000gn/T/ipykernel_60021/3143823277.py:22: FutureWarning: Passing literal html to 'read_html' is deprecated and will be removed in a future version. To read from a literal string, wrap it in a 'StringIO' object.\n",
      "  df = pd.read_html(str(table))[0]\n",
      "/var/folders/5h/v8qm6jqd52q00q39r0ym2qhw0000gn/T/ipykernel_60021/3143823277.py:22: FutureWarning: Passing literal html to 'read_html' is deprecated and will be removed in a future version. To read from a literal string, wrap it in a 'StringIO' object.\n",
      "  df = pd.read_html(str(table))[0]\n"
     ]
    },
    {
     "name": "stdout",
     "output_type": "stream",
     "text": [
      "No data found for batter willial04 in 2025 - OK\n"
     ]
    },
    {
     "name": "stderr",
     "output_type": "stream",
     "text": [
      "/var/folders/5h/v8qm6jqd52q00q39r0ym2qhw0000gn/T/ipykernel_60021/3143823277.py:22: FutureWarning: Passing literal html to 'read_html' is deprecated and will be removed in a future version. To read from a literal string, wrap it in a 'StringIO' object.\n",
      "  df = pd.read_html(str(table))[0]\n"
     ]
    },
    {
     "name": "stdout",
     "output_type": "stream",
     "text": [
      "No data found for batter williju02 in 2022 - OK\n",
      "No data found for batter williju02 in 2023 - OK\n",
      "No data found for batter williju02 in 2024 - OK\n",
      "No data found for batter williju02 in 2025 - OK\n"
     ]
    },
    {
     "name": "stderr",
     "output_type": "stream",
     "text": [
      "/var/folders/5h/v8qm6jqd52q00q39r0ym2qhw0000gn/T/ipykernel_60021/3143823277.py:22: FutureWarning: Passing literal html to 'read_html' is deprecated and will be removed in a future version. To read from a literal string, wrap it in a 'StringIO' object.\n",
      "  df = pd.read_html(str(table))[0]\n",
      "/var/folders/5h/v8qm6jqd52q00q39r0ym2qhw0000gn/T/ipykernel_60021/3143823277.py:22: FutureWarning: Passing literal html to 'read_html' is deprecated and will be removed in a future version. To read from a literal string, wrap it in a 'StringIO' object.\n",
      "  df = pd.read_html(str(table))[0]\n",
      "/var/folders/5h/v8qm6jqd52q00q39r0ym2qhw0000gn/T/ipykernel_60021/3143823277.py:22: FutureWarning: Passing literal html to 'read_html' is deprecated and will be removed in a future version. To read from a literal string, wrap it in a 'StringIO' object.\n",
      "  df = pd.read_html(str(table))[0]\n",
      "/var/folders/5h/v8qm6jqd52q00q39r0ym2qhw0000gn/T/ipykernel_60021/3143823277.py:22: FutureWarning: Passing literal html to 'read_html' is deprecated and will be removed in a future version. To read from a literal string, wrap it in a 'StringIO' object.\n",
      "  df = pd.read_html(str(table))[0]\n"
     ]
    },
    {
     "name": "stdout",
     "output_type": "stream",
     "text": [
      "No data found for batter willilu01 in 2025 - OK\n"
     ]
    },
    {
     "name": "stderr",
     "output_type": "stream",
     "text": [
      "/var/folders/5h/v8qm6jqd52q00q39r0ym2qhw0000gn/T/ipykernel_60021/3143823277.py:22: FutureWarning: Passing literal html to 'read_html' is deprecated and will be removed in a future version. To read from a literal string, wrap it in a 'StringIO' object.\n",
      "  df = pd.read_html(str(table))[0]\n"
     ]
    },
    {
     "name": "stdout",
     "output_type": "stream",
     "text": [
      "No data found for batter willima10 in 2022 - OK\n",
      "No data found for batter willima10 in 2023 - OK\n",
      "No data found for batter willima10 in 2024 - OK\n",
      "No data found for batter willima10 in 2025 - OK\n"
     ]
    },
    {
     "name": "stderr",
     "output_type": "stream",
     "text": [
      "/var/folders/5h/v8qm6jqd52q00q39r0ym2qhw0000gn/T/ipykernel_60021/3143823277.py:22: FutureWarning: Passing literal html to 'read_html' is deprecated and will be removed in a future version. To read from a literal string, wrap it in a 'StringIO' object.\n",
      "  df = pd.read_html(str(table))[0]\n"
     ]
    },
    {
     "name": "stdout",
     "output_type": "stream",
     "text": [
      "No data found for batter willini01 in 2022 - OK\n",
      "No data found for batter willini01 in 2023 - OK\n",
      "No data found for batter willini01 in 2024 - OK\n",
      "No data found for batter willini01 in 2025 - OK\n"
     ]
    },
    {
     "name": "stderr",
     "output_type": "stream",
     "text": [
      "/var/folders/5h/v8qm6jqd52q00q39r0ym2qhw0000gn/T/ipykernel_60021/3143823277.py:22: FutureWarning: Passing literal html to 'read_html' is deprecated and will be removed in a future version. To read from a literal string, wrap it in a 'StringIO' object.\n",
      "  df = pd.read_html(str(table))[0]\n",
      "/var/folders/5h/v8qm6jqd52q00q39r0ym2qhw0000gn/T/ipykernel_60021/3143823277.py:22: FutureWarning: Passing literal html to 'read_html' is deprecated and will be removed in a future version. To read from a literal string, wrap it in a 'StringIO' object.\n",
      "  df = pd.read_html(str(table))[0]\n",
      "/var/folders/5h/v8qm6jqd52q00q39r0ym2qhw0000gn/T/ipykernel_60021/3143823277.py:22: FutureWarning: Passing literal html to 'read_html' is deprecated and will be removed in a future version. To read from a literal string, wrap it in a 'StringIO' object.\n",
      "  df = pd.read_html(str(table))[0]\n",
      "/var/folders/5h/v8qm6jqd52q00q39r0ym2qhw0000gn/T/ipykernel_60021/3143823277.py:22: FutureWarning: Passing literal html to 'read_html' is deprecated and will be removed in a future version. To read from a literal string, wrap it in a 'StringIO' object.\n",
      "  df = pd.read_html(str(table))[0]\n"
     ]
    },
    {
     "name": "stdout",
     "output_type": "stream",
     "text": [
      "No data found for batter willitr01 in 2025 - OK\n"
     ]
    },
    {
     "name": "stderr",
     "output_type": "stream",
     "text": [
      "/var/folders/5h/v8qm6jqd52q00q39r0ym2qhw0000gn/T/ipykernel_60021/3143823277.py:22: FutureWarning: Passing literal html to 'read_html' is deprecated and will be removed in a future version. To read from a literal string, wrap it in a 'StringIO' object.\n",
      "  df = pd.read_html(str(table))[0]\n",
      "/var/folders/5h/v8qm6jqd52q00q39r0ym2qhw0000gn/T/ipykernel_60021/3143823277.py:22: FutureWarning: Passing literal html to 'read_html' is deprecated and will be removed in a future version. To read from a literal string, wrap it in a 'StringIO' object.\n",
      "  df = pd.read_html(str(table))[0]\n",
      "/var/folders/5h/v8qm6jqd52q00q39r0ym2qhw0000gn/T/ipykernel_60021/3143823277.py:22: FutureWarning: Passing literal html to 'read_html' is deprecated and will be removed in a future version. To read from a literal string, wrap it in a 'StringIO' object.\n",
      "  df = pd.read_html(str(table))[0]\n",
      "/var/folders/5h/v8qm6jqd52q00q39r0ym2qhw0000gn/T/ipykernel_60021/3143823277.py:22: FutureWarning: Passing literal html to 'read_html' is deprecated and will be removed in a future version. To read from a literal string, wrap it in a 'StringIO' object.\n",
      "  df = pd.read_html(str(table))[0]\n"
     ]
    },
    {
     "name": "stdout",
     "output_type": "stream",
     "text": [
      "No data found for batter wilsobr02 in 2025 - OK\n"
     ]
    },
    {
     "name": "stderr",
     "output_type": "stream",
     "text": [
      "/var/folders/5h/v8qm6jqd52q00q39r0ym2qhw0000gn/T/ipykernel_60021/3143823277.py:22: FutureWarning: Passing literal html to 'read_html' is deprecated and will be removed in a future version. To read from a literal string, wrap it in a 'StringIO' object.\n",
      "  df = pd.read_html(str(table))[0]\n"
     ]
    },
    {
     "name": "stdout",
     "output_type": "stream",
     "text": [
      "No data found for batter wilsoco01 in 2022 - OK\n",
      "No data found for batter wilsoco01 in 2023 - OK\n",
      "No data found for batter wilsoco01 in 2024 - OK\n",
      "No data found for batter wilsoco01 in 2025 - OK\n"
     ]
    },
    {
     "name": "stderr",
     "output_type": "stream",
     "text": [
      "/var/folders/5h/v8qm6jqd52q00q39r0ym2qhw0000gn/T/ipykernel_60021/3143823277.py:22: FutureWarning: Passing literal html to 'read_html' is deprecated and will be removed in a future version. To read from a literal string, wrap it in a 'StringIO' object.\n",
      "  df = pd.read_html(str(table))[0]\n"
     ]
    },
    {
     "name": "stdout",
     "output_type": "stream",
     "text": [
      "No data found for batter wilsoja04 in 2022 - OK\n",
      "No data found for batter wilsoja04 in 2023 - OK\n",
      "No data found for batter wilsoja04 in 2024 - OK\n",
      "No data found for batter wilsoja04 in 2025 - OK\n",
      "No data found for batter wilsoja05 in 2021 - OK\n",
      "No data found for batter wilsoja05 in 2022 - OK\n",
      "No data found for batter wilsoja05 in 2023 - OK\n"
     ]
    },
    {
     "name": "stderr",
     "output_type": "stream",
     "text": [
      "/var/folders/5h/v8qm6jqd52q00q39r0ym2qhw0000gn/T/ipykernel_60021/3143823277.py:22: FutureWarning: Passing literal html to 'read_html' is deprecated and will be removed in a future version. To read from a literal string, wrap it in a 'StringIO' object.\n",
      "  df = pd.read_html(str(table))[0]\n"
     ]
    },
    {
     "name": "stdout",
     "output_type": "stream",
     "text": [
      "No data found for batter wilsoja05 in 2025 - OK\n",
      "No data found for batter wilsoma02 in 2021 - OK\n"
     ]
    },
    {
     "name": "stderr",
     "output_type": "stream",
     "text": [
      "/var/folders/5h/v8qm6jqd52q00q39r0ym2qhw0000gn/T/ipykernel_60021/3143823277.py:22: FutureWarning: Passing literal html to 'read_html' is deprecated and will be removed in a future version. To read from a literal string, wrap it in a 'StringIO' object.\n",
      "  df = pd.read_html(str(table))[0]\n"
     ]
    },
    {
     "name": "stdout",
     "output_type": "stream",
     "text": [
      "No data found for batter wilsoma02 in 2023 - OK\n",
      "No data found for batter wilsoma02 in 2024 - OK\n",
      "No data found for batter wilsoma02 in 2025 - OK\n",
      "No data found for batter wilsowe01 in 2021 - OK\n",
      "No data found for batter wilsowe01 in 2022 - OK\n"
     ]
    },
    {
     "name": "stderr",
     "output_type": "stream",
     "text": [
      "/var/folders/5h/v8qm6jqd52q00q39r0ym2qhw0000gn/T/ipykernel_60021/3143823277.py:22: FutureWarning: Passing literal html to 'read_html' is deprecated and will be removed in a future version. To read from a literal string, wrap it in a 'StringIO' object.\n",
      "  df = pd.read_html(str(table))[0]\n",
      "/var/folders/5h/v8qm6jqd52q00q39r0ym2qhw0000gn/T/ipykernel_60021/3143823277.py:22: FutureWarning: Passing literal html to 'read_html' is deprecated and will be removed in a future version. To read from a literal string, wrap it in a 'StringIO' object.\n",
      "  df = pd.read_html(str(table))[0]\n"
     ]
    },
    {
     "name": "stdout",
     "output_type": "stream",
     "text": [
      "No data found for batter wilsowe01 in 2025 - OK\n"
     ]
    },
    {
     "name": "stderr",
     "output_type": "stream",
     "text": [
      "/var/folders/5h/v8qm6jqd52q00q39r0ym2qhw0000gn/T/ipykernel_60021/3143823277.py:22: FutureWarning: Passing literal html to 'read_html' is deprecated and will be removed in a future version. To read from a literal string, wrap it in a 'StringIO' object.\n",
      "  df = pd.read_html(str(table))[0]\n",
      "/var/folders/5h/v8qm6jqd52q00q39r0ym2qhw0000gn/T/ipykernel_60021/3143823277.py:22: FutureWarning: Passing literal html to 'read_html' is deprecated and will be removed in a future version. To read from a literal string, wrap it in a 'StringIO' object.\n",
      "  df = pd.read_html(str(table))[0]\n",
      "/var/folders/5h/v8qm6jqd52q00q39r0ym2qhw0000gn/T/ipykernel_60021/3143823277.py:22: FutureWarning: Passing literal html to 'read_html' is deprecated and will be removed in a future version. To read from a literal string, wrap it in a 'StringIO' object.\n",
      "  df = pd.read_html(str(table))[0]\n",
      "/var/folders/5h/v8qm6jqd52q00q39r0ym2qhw0000gn/T/ipykernel_60021/3143823277.py:22: FutureWarning: Passing literal html to 'read_html' is deprecated and will be removed in a future version. To read from a literal string, wrap it in a 'StringIO' object.\n",
      "  df = pd.read_html(str(table))[0]\n"
     ]
    },
    {
     "name": "stdout",
     "output_type": "stream",
     "text": [
      "No data found for batter winkeje01 in 2025 - OK\n"
     ]
    },
    {
     "name": "stderr",
     "output_type": "stream",
     "text": [
      "/var/folders/5h/v8qm6jqd52q00q39r0ym2qhw0000gn/T/ipykernel_60021/3143823277.py:22: FutureWarning: Passing literal html to 'read_html' is deprecated and will be removed in a future version. To read from a literal string, wrap it in a 'StringIO' object.\n",
      "  df = pd.read_html(str(table))[0]\n"
     ]
    },
    {
     "name": "stdout",
     "output_type": "stream",
     "text": [
      "No data found for batter winklda01 in 2022 - OK\n",
      "No data found for batter winklda01 in 2023 - OK\n",
      "No data found for batter winklda01 in 2024 - OK\n",
      "No data found for batter winklda01 in 2025 - OK\n",
      "No data found for batter winnma01 in 2021 - OK\n",
      "No data found for batter winnma01 in 2022 - OK\n"
     ]
    },
    {
     "name": "stderr",
     "output_type": "stream",
     "text": [
      "/var/folders/5h/v8qm6jqd52q00q39r0ym2qhw0000gn/T/ipykernel_60021/3143823277.py:22: FutureWarning: Passing literal html to 'read_html' is deprecated and will be removed in a future version. To read from a literal string, wrap it in a 'StringIO' object.\n",
      "  df = pd.read_html(str(table))[0]\n",
      "/var/folders/5h/v8qm6jqd52q00q39r0ym2qhw0000gn/T/ipykernel_60021/3143823277.py:22: FutureWarning: Passing literal html to 'read_html' is deprecated and will be removed in a future version. To read from a literal string, wrap it in a 'StringIO' object.\n",
      "  df = pd.read_html(str(table))[0]\n"
     ]
    },
    {
     "name": "stdout",
     "output_type": "stream",
     "text": [
      "No data found for batter winnma01 in 2025 - OK\n"
     ]
    },
    {
     "name": "stderr",
     "output_type": "stream",
     "text": [
      "/var/folders/5h/v8qm6jqd52q00q39r0ym2qhw0000gn/T/ipykernel_60021/3143823277.py:22: FutureWarning: Passing literal html to 'read_html' is deprecated and will be removed in a future version. To read from a literal string, wrap it in a 'StringIO' object.\n",
      "  df = pd.read_html(str(table))[0]\n",
      "/var/folders/5h/v8qm6jqd52q00q39r0ym2qhw0000gn/T/ipykernel_60021/3143823277.py:22: FutureWarning: Passing literal html to 'read_html' is deprecated and will be removed in a future version. To read from a literal string, wrap it in a 'StringIO' object.\n",
      "  df = pd.read_html(str(table))[0]\n",
      "/var/folders/5h/v8qm6jqd52q00q39r0ym2qhw0000gn/T/ipykernel_60021/3143823277.py:22: FutureWarning: Passing literal html to 'read_html' is deprecated and will be removed in a future version. To read from a literal string, wrap it in a 'StringIO' object.\n",
      "  df = pd.read_html(str(table))[0]\n",
      "/var/folders/5h/v8qm6jqd52q00q39r0ym2qhw0000gn/T/ipykernel_60021/3143823277.py:22: FutureWarning: Passing literal html to 'read_html' is deprecated and will be removed in a future version. To read from a literal string, wrap it in a 'StringIO' object.\n",
      "  df = pd.read_html(str(table))[0]\n"
     ]
    },
    {
     "name": "stdout",
     "output_type": "stream",
     "text": [
      "No data found for batter wisdopa01 in 2025 - OK\n",
      "No data found for batter wiselbr01 in 2021 - OK\n",
      "No data found for batter wiselbr01 in 2022 - OK\n"
     ]
    },
    {
     "name": "stderr",
     "output_type": "stream",
     "text": [
      "/var/folders/5h/v8qm6jqd52q00q39r0ym2qhw0000gn/T/ipykernel_60021/3143823277.py:22: FutureWarning: Passing literal html to 'read_html' is deprecated and will be removed in a future version. To read from a literal string, wrap it in a 'StringIO' object.\n",
      "  df = pd.read_html(str(table))[0]\n",
      "/var/folders/5h/v8qm6jqd52q00q39r0ym2qhw0000gn/T/ipykernel_60021/3143823277.py:22: FutureWarning: Passing literal html to 'read_html' is deprecated and will be removed in a future version. To read from a literal string, wrap it in a 'StringIO' object.\n",
      "  df = pd.read_html(str(table))[0]\n"
     ]
    },
    {
     "name": "stdout",
     "output_type": "stream",
     "text": [
      "No data found for batter wiselbr01 in 2025 - OK\n"
     ]
    },
    {
     "name": "stderr",
     "output_type": "stream",
     "text": [
      "/var/folders/5h/v8qm6jqd52q00q39r0ym2qhw0000gn/T/ipykernel_60021/3143823277.py:22: FutureWarning: Passing literal html to 'read_html' is deprecated and will be removed in a future version. To read from a literal string, wrap it in a 'StringIO' object.\n",
      "  df = pd.read_html(str(table))[0]\n",
      "/var/folders/5h/v8qm6jqd52q00q39r0ym2qhw0000gn/T/ipykernel_60021/3143823277.py:22: FutureWarning: Passing literal html to 'read_html' is deprecated and will be removed in a future version. To read from a literal string, wrap it in a 'StringIO' object.\n",
      "  df = pd.read_html(str(table))[0]\n"
     ]
    },
    {
     "name": "stdout",
     "output_type": "stream",
     "text": [
      "No data found for batter wislema01 in 2023 - OK\n",
      "No data found for batter wislema01 in 2024 - OK\n",
      "No data found for batter wislema01 in 2025 - OK\n",
      "No data found for batter wittbo02 in 2021 - OK\n"
     ]
    },
    {
     "name": "stderr",
     "output_type": "stream",
     "text": [
      "/var/folders/5h/v8qm6jqd52q00q39r0ym2qhw0000gn/T/ipykernel_60021/3143823277.py:22: FutureWarning: Passing literal html to 'read_html' is deprecated and will be removed in a future version. To read from a literal string, wrap it in a 'StringIO' object.\n",
      "  df = pd.read_html(str(table))[0]\n",
      "/var/folders/5h/v8qm6jqd52q00q39r0ym2qhw0000gn/T/ipykernel_60021/3143823277.py:22: FutureWarning: Passing literal html to 'read_html' is deprecated and will be removed in a future version. To read from a literal string, wrap it in a 'StringIO' object.\n",
      "  df = pd.read_html(str(table))[0]\n",
      "/var/folders/5h/v8qm6jqd52q00q39r0ym2qhw0000gn/T/ipykernel_60021/3143823277.py:22: FutureWarning: Passing literal html to 'read_html' is deprecated and will be removed in a future version. To read from a literal string, wrap it in a 'StringIO' object.\n",
      "  df = pd.read_html(str(table))[0]\n"
     ]
    },
    {
     "name": "stdout",
     "output_type": "stream",
     "text": [
      "No data found for batter wittbo02 in 2025 - OK\n"
     ]
    },
    {
     "name": "stderr",
     "output_type": "stream",
     "text": [
      "/var/folders/5h/v8qm6jqd52q00q39r0ym2qhw0000gn/T/ipykernel_60021/3143823277.py:22: FutureWarning: Passing literal html to 'read_html' is deprecated and will be removed in a future version. To read from a literal string, wrap it in a 'StringIO' object.\n",
      "  df = pd.read_html(str(table))[0]\n",
      "/var/folders/5h/v8qm6jqd52q00q39r0ym2qhw0000gn/T/ipykernel_60021/3143823277.py:22: FutureWarning: Passing literal html to 'read_html' is deprecated and will be removed in a future version. To read from a literal string, wrap it in a 'StringIO' object.\n",
      "  df = pd.read_html(str(table))[0]\n"
     ]
    },
    {
     "name": "stdout",
     "output_type": "stream",
     "text": [
      "No data found for batter wolteto01 in 2023 - OK\n",
      "No data found for batter wolteto01 in 2024 - OK\n",
      "No data found for batter wolteto01 in 2025 - OK\n"
     ]
    },
    {
     "name": "stderr",
     "output_type": "stream",
     "text": [
      "/var/folders/5h/v8qm6jqd52q00q39r0ym2qhw0000gn/T/ipykernel_60021/3143823277.py:22: FutureWarning: Passing literal html to 'read_html' is deprecated and will be removed in a future version. To read from a literal string, wrap it in a 'StringIO' object.\n",
      "  df = pd.read_html(str(table))[0]\n",
      "/var/folders/5h/v8qm6jqd52q00q39r0ym2qhw0000gn/T/ipykernel_60021/3143823277.py:22: FutureWarning: Passing literal html to 'read_html' is deprecated and will be removed in a future version. To read from a literal string, wrap it in a 'StringIO' object.\n",
      "  df = pd.read_html(str(table))[0]\n",
      "/var/folders/5h/v8qm6jqd52q00q39r0ym2qhw0000gn/T/ipykernel_60021/3143823277.py:22: FutureWarning: Passing literal html to 'read_html' is deprecated and will be removed in a future version. To read from a literal string, wrap it in a 'StringIO' object.\n",
      "  df = pd.read_html(str(table))[0]\n",
      "/var/folders/5h/v8qm6jqd52q00q39r0ym2qhw0000gn/T/ipykernel_60021/3143823277.py:22: FutureWarning: Passing literal html to 'read_html' is deprecated and will be removed in a future version. To read from a literal string, wrap it in a 'StringIO' object.\n",
      "  df = pd.read_html(str(table))[0]\n"
     ]
    },
    {
     "name": "stdout",
     "output_type": "stream",
     "text": [
      "No data found for batter wongco01 in 2025 - OK\n"
     ]
    },
    {
     "name": "stderr",
     "output_type": "stream",
     "text": [
      "/var/folders/5h/v8qm6jqd52q00q39r0ym2qhw0000gn/T/ipykernel_60021/3143823277.py:22: FutureWarning: Passing literal html to 'read_html' is deprecated and will be removed in a future version. To read from a literal string, wrap it in a 'StringIO' object.\n",
      "  df = pd.read_html(str(table))[0]\n"
     ]
    },
    {
     "name": "stdout",
     "output_type": "stream",
     "text": [
      "No data found for batter wongke01 in 2022 - OK\n",
      "No data found for batter wongke01 in 2023 - OK\n",
      "No data found for batter wongke01 in 2024 - OK\n",
      "No data found for batter wongke01 in 2025 - OK\n"
     ]
    },
    {
     "name": "stderr",
     "output_type": "stream",
     "text": [
      "/var/folders/5h/v8qm6jqd52q00q39r0ym2qhw0000gn/T/ipykernel_60021/3143823277.py:22: FutureWarning: Passing literal html to 'read_html' is deprecated and will be removed in a future version. To read from a literal string, wrap it in a 'StringIO' object.\n",
      "  df = pd.read_html(str(table))[0]\n",
      "/var/folders/5h/v8qm6jqd52q00q39r0ym2qhw0000gn/T/ipykernel_60021/3143823277.py:22: FutureWarning: Passing literal html to 'read_html' is deprecated and will be removed in a future version. To read from a literal string, wrap it in a 'StringIO' object.\n",
      "  df = pd.read_html(str(table))[0]\n",
      "/var/folders/5h/v8qm6jqd52q00q39r0ym2qhw0000gn/T/ipykernel_60021/3143823277.py:22: FutureWarning: Passing literal html to 'read_html' is deprecated and will be removed in a future version. To read from a literal string, wrap it in a 'StringIO' object.\n",
      "  df = pd.read_html(str(table))[0]\n"
     ]
    },
    {
     "name": "stdout",
     "output_type": "stream",
     "text": [
      "No data found for batter wongko01 in 2024 - OK\n",
      "No data found for batter wongko01 in 2025 - OK\n"
     ]
    },
    {
     "name": "stderr",
     "output_type": "stream",
     "text": [
      "/var/folders/5h/v8qm6jqd52q00q39r0ym2qhw0000gn/T/ipykernel_60021/3143823277.py:22: FutureWarning: Passing literal html to 'read_html' is deprecated and will be removed in a future version. To read from a literal string, wrap it in a 'StringIO' object.\n",
      "  df = pd.read_html(str(table))[0]\n",
      "/var/folders/5h/v8qm6jqd52q00q39r0ym2qhw0000gn/T/ipykernel_60021/3143823277.py:22: FutureWarning: Passing literal html to 'read_html' is deprecated and will be removed in a future version. To read from a literal string, wrap it in a 'StringIO' object.\n",
      "  df = pd.read_html(str(table))[0]\n",
      "/var/folders/5h/v8qm6jqd52q00q39r0ym2qhw0000gn/T/ipykernel_60021/3143823277.py:22: FutureWarning: Passing literal html to 'read_html' is deprecated and will be removed in a future version. To read from a literal string, wrap it in a 'StringIO' object.\n",
      "  df = pd.read_html(str(table))[0]\n",
      "/var/folders/5h/v8qm6jqd52q00q39r0ym2qhw0000gn/T/ipykernel_60021/3143823277.py:22: FutureWarning: Passing literal html to 'read_html' is deprecated and will be removed in a future version. To read from a literal string, wrap it in a 'StringIO' object.\n",
      "  df = pd.read_html(str(table))[0]\n"
     ]
    },
    {
     "name": "stdout",
     "output_type": "stream",
     "text": [
      "No data found for batter woodal02 in 2025 - OK\n",
      "No data found for batter woodja03 in 2021 - OK\n",
      "No data found for batter woodja03 in 2022 - OK\n",
      "No data found for batter woodja03 in 2023 - OK\n"
     ]
    },
    {
     "name": "stderr",
     "output_type": "stream",
     "text": [
      "/var/folders/5h/v8qm6jqd52q00q39r0ym2qhw0000gn/T/ipykernel_60021/3143823277.py:22: FutureWarning: Passing literal html to 'read_html' is deprecated and will be removed in a future version. To read from a literal string, wrap it in a 'StringIO' object.\n",
      "  df = pd.read_html(str(table))[0]\n"
     ]
    },
    {
     "name": "stdout",
     "output_type": "stream",
     "text": [
      "No data found for batter woodja03 in 2025 - OK\n"
     ]
    },
    {
     "name": "stderr",
     "output_type": "stream",
     "text": [
      "/var/folders/5h/v8qm6jqd52q00q39r0ym2qhw0000gn/T/ipykernel_60021/3143823277.py:22: FutureWarning: Passing literal html to 'read_html' is deprecated and will be removed in a future version. To read from a literal string, wrap it in a 'StringIO' object.\n",
      "  df = pd.read_html(str(table))[0]\n",
      "/var/folders/5h/v8qm6jqd52q00q39r0ym2qhw0000gn/T/ipykernel_60021/3143823277.py:22: FutureWarning: Passing literal html to 'read_html' is deprecated and will be removed in a future version. To read from a literal string, wrap it in a 'StringIO' object.\n",
      "  df = pd.read_html(str(table))[0]\n",
      "/var/folders/5h/v8qm6jqd52q00q39r0ym2qhw0000gn/T/ipykernel_60021/3143823277.py:22: FutureWarning: Passing literal html to 'read_html' is deprecated and will be removed in a future version. To read from a literal string, wrap it in a 'StringIO' object.\n",
      "  df = pd.read_html(str(table))[0]\n",
      "/var/folders/5h/v8qm6jqd52q00q39r0ym2qhw0000gn/T/ipykernel_60021/3143823277.py:22: FutureWarning: Passing literal html to 'read_html' is deprecated and will be removed in a future version. To read from a literal string, wrap it in a 'StringIO' object.\n",
      "  df = pd.read_html(str(table))[0]\n"
     ]
    },
    {
     "name": "stdout",
     "output_type": "stream",
     "text": [
      "No data found for batter woodfja01 in 2025 - OK\n"
     ]
    },
    {
     "name": "stderr",
     "output_type": "stream",
     "text": [
      "/var/folders/5h/v8qm6jqd52q00q39r0ym2qhw0000gn/T/ipykernel_60021/3143823277.py:22: FutureWarning: Passing literal html to 'read_html' is deprecated and will be removed in a future version. To read from a literal string, wrap it in a 'StringIO' object.\n",
      "  df = pd.read_html(str(table))[0]\n",
      "/var/folders/5h/v8qm6jqd52q00q39r0ym2qhw0000gn/T/ipykernel_60021/3143823277.py:22: FutureWarning: Passing literal html to 'read_html' is deprecated and will be removed in a future version. To read from a literal string, wrap it in a 'StringIO' object.\n",
      "  df = pd.read_html(str(table))[0]\n",
      "/var/folders/5h/v8qm6jqd52q00q39r0ym2qhw0000gn/T/ipykernel_60021/3143823277.py:22: FutureWarning: Passing literal html to 'read_html' is deprecated and will be removed in a future version. To read from a literal string, wrap it in a 'StringIO' object.\n",
      "  df = pd.read_html(str(table))[0]\n"
     ]
    },
    {
     "name": "stdout",
     "output_type": "stream",
     "text": [
      "No data found for batter woodrbr01 in 2024 - OK\n",
      "No data found for batter woodrbr01 in 2025 - OK\n"
     ]
    },
    {
     "name": "stderr",
     "output_type": "stream",
     "text": [
      "/var/folders/5h/v8qm6jqd52q00q39r0ym2qhw0000gn/T/ipykernel_60021/3143823277.py:22: FutureWarning: Passing literal html to 'read_html' is deprecated and will be removed in a future version. To read from a literal string, wrap it in a 'StringIO' object.\n",
      "  df = pd.read_html(str(table))[0]\n",
      "/var/folders/5h/v8qm6jqd52q00q39r0ym2qhw0000gn/T/ipykernel_60021/3143823277.py:22: FutureWarning: Passing literal html to 'read_html' is deprecated and will be removed in a future version. To read from a literal string, wrap it in a 'StringIO' object.\n",
      "  df = pd.read_html(str(table))[0]\n",
      "/var/folders/5h/v8qm6jqd52q00q39r0ym2qhw0000gn/T/ipykernel_60021/3143823277.py:22: FutureWarning: Passing literal html to 'read_html' is deprecated and will be removed in a future version. To read from a literal string, wrap it in a 'StringIO' object.\n",
      "  df = pd.read_html(str(table))[0]\n"
     ]
    },
    {
     "name": "stdout",
     "output_type": "stream",
     "text": [
      "No data found for batter wrighky01 in 2024 - OK\n",
      "No data found for batter wrighky01 in 2025 - OK\n"
     ]
    },
    {
     "name": "stderr",
     "output_type": "stream",
     "text": [
      "/var/folders/5h/v8qm6jqd52q00q39r0ym2qhw0000gn/T/ipykernel_60021/3143823277.py:22: FutureWarning: Passing literal html to 'read_html' is deprecated and will be removed in a future version. To read from a literal string, wrap it in a 'StringIO' object.\n",
      "  df = pd.read_html(str(table))[0]\n",
      "/var/folders/5h/v8qm6jqd52q00q39r0ym2qhw0000gn/T/ipykernel_60021/3143823277.py:22: FutureWarning: Passing literal html to 'read_html' is deprecated and will be removed in a future version. To read from a literal string, wrap it in a 'StringIO' object.\n",
      "  df = pd.read_html(str(table))[0]\n",
      "/var/folders/5h/v8qm6jqd52q00q39r0ym2qhw0000gn/T/ipykernel_60021/3143823277.py:22: FutureWarning: Passing literal html to 'read_html' is deprecated and will be removed in a future version. To read from a literal string, wrap it in a 'StringIO' object.\n",
      "  df = pd.read_html(str(table))[0]\n",
      "/var/folders/5h/v8qm6jqd52q00q39r0ym2qhw0000gn/T/ipykernel_60021/3143823277.py:22: FutureWarning: Passing literal html to 'read_html' is deprecated and will be removed in a future version. To read from a literal string, wrap it in a 'StringIO' object.\n",
      "  df = pd.read_html(str(table))[0]\n"
     ]
    },
    {
     "name": "stdout",
     "output_type": "stream",
     "text": [
      "No data found for batter wynnsau01 in 2025 - OK\n"
     ]
    },
    {
     "name": "stderr",
     "output_type": "stream",
     "text": [
      "/var/folders/5h/v8qm6jqd52q00q39r0ym2qhw0000gn/T/ipykernel_60021/3143823277.py:22: FutureWarning: Passing literal html to 'read_html' is deprecated and will be removed in a future version. To read from a literal string, wrap it in a 'StringIO' object.\n",
      "  df = pd.read_html(str(table))[0]\n",
      "/var/folders/5h/v8qm6jqd52q00q39r0ym2qhw0000gn/T/ipykernel_60021/3143823277.py:37: UserWarning: Could not infer format, so each element will be parsed individually, falling back to `dateutil`. To ensure parsing is consistent and as-expected, please specify a format.\n",
      "  df['game_date'] = pd.to_datetime(df['Date'], errors='coerce').dt.strftime('%Y-%m-%d')\n",
      "/var/folders/5h/v8qm6jqd52q00q39r0ym2qhw0000gn/T/ipykernel_60021/3143823277.py:22: FutureWarning: Passing literal html to 'read_html' is deprecated and will be removed in a future version. To read from a literal string, wrap it in a 'StringIO' object.\n",
      "  df = pd.read_html(str(table))[0]\n"
     ]
    },
    {
     "name": "stdout",
     "output_type": "stream",
     "text": [
      "No data found for batter yajurmi01 in 2023 - OK\n",
      "No data found for batter yajurmi01 in 2024 - OK\n",
      "No data found for batter yajurmi01 in 2025 - OK\n"
     ]
    },
    {
     "name": "stderr",
     "output_type": "stream",
     "text": [
      "/var/folders/5h/v8qm6jqd52q00q39r0ym2qhw0000gn/T/ipykernel_60021/3143823277.py:22: FutureWarning: Passing literal html to 'read_html' is deprecated and will be removed in a future version. To read from a literal string, wrap it in a 'StringIO' object.\n",
      "  df = pd.read_html(str(table))[0]\n",
      "/var/folders/5h/v8qm6jqd52q00q39r0ym2qhw0000gn/T/ipykernel_60021/3143823277.py:37: UserWarning: Could not infer format, so each element will be parsed individually, falling back to `dateutil`. To ensure parsing is consistent and as-expected, please specify a format.\n",
      "  df['game_date'] = pd.to_datetime(df['Date'], errors='coerce').dt.strftime('%Y-%m-%d')\n"
     ]
    },
    {
     "name": "stdout",
     "output_type": "stream",
     "text": [
      "No data found for batter yamamjo01 in 2022 - OK\n",
      "No data found for batter yamamjo01 in 2023 - OK\n",
      "No data found for batter yamamjo01 in 2024 - OK\n",
      "No data found for batter yamamjo01 in 2025 - OK\n",
      "No data found for batter yanger01 in 2021 - OK\n",
      "No data found for batter yanger01 in 2022 - OK\n",
      "No data found for batter yanger01 in 2023 - OK\n"
     ]
    },
    {
     "name": "stderr",
     "output_type": "stream",
     "text": [
      "/var/folders/5h/v8qm6jqd52q00q39r0ym2qhw0000gn/T/ipykernel_60021/3143823277.py:22: FutureWarning: Passing literal html to 'read_html' is deprecated and will be removed in a future version. To read from a literal string, wrap it in a 'StringIO' object.\n",
      "  df = pd.read_html(str(table))[0]\n"
     ]
    },
    {
     "name": "stdout",
     "output_type": "stream",
     "text": [
      "No data found for batter yanger01 in 2025 - OK\n"
     ]
    },
    {
     "name": "stderr",
     "output_type": "stream",
     "text": [
      "/var/folders/5h/v8qm6jqd52q00q39r0ym2qhw0000gn/T/ipykernel_60021/3143823277.py:22: FutureWarning: Passing literal html to 'read_html' is deprecated and will be removed in a future version. To read from a literal string, wrap it in a 'StringIO' object.\n",
      "  df = pd.read_html(str(table))[0]\n",
      "/var/folders/5h/v8qm6jqd52q00q39r0ym2qhw0000gn/T/ipykernel_60021/3143823277.py:22: FutureWarning: Passing literal html to 'read_html' is deprecated and will be removed in a future version. To read from a literal string, wrap it in a 'StringIO' object.\n",
      "  df = pd.read_html(str(table))[0]\n",
      "/var/folders/5h/v8qm6jqd52q00q39r0ym2qhw0000gn/T/ipykernel_60021/3143823277.py:22: FutureWarning: Passing literal html to 'read_html' is deprecated and will be removed in a future version. To read from a literal string, wrap it in a 'StringIO' object.\n",
      "  df = pd.read_html(str(table))[0]\n",
      "/var/folders/5h/v8qm6jqd52q00q39r0ym2qhw0000gn/T/ipykernel_60021/3143823277.py:22: FutureWarning: Passing literal html to 'read_html' is deprecated and will be removed in a future version. To read from a literal string, wrap it in a 'StringIO' object.\n",
      "  df = pd.read_html(str(table))[0]\n"
     ]
    },
    {
     "name": "stdout",
     "output_type": "stream",
     "text": [
      "No data found for batter yarbrry01 in 2025 - OK\n"
     ]
    },
    {
     "name": "stderr",
     "output_type": "stream",
     "text": [
      "/var/folders/5h/v8qm6jqd52q00q39r0ym2qhw0000gn/T/ipykernel_60021/3143823277.py:22: FutureWarning: Passing literal html to 'read_html' is deprecated and will be removed in a future version. To read from a literal string, wrap it in a 'StringIO' object.\n",
      "  df = pd.read_html(str(table))[0]\n",
      "/var/folders/5h/v8qm6jqd52q00q39r0ym2qhw0000gn/T/ipykernel_60021/3143823277.py:22: FutureWarning: Passing literal html to 'read_html' is deprecated and will be removed in a future version. To read from a literal string, wrap it in a 'StringIO' object.\n",
      "  df = pd.read_html(str(table))[0]\n",
      "/var/folders/5h/v8qm6jqd52q00q39r0ym2qhw0000gn/T/ipykernel_60021/3143823277.py:22: FutureWarning: Passing literal html to 'read_html' is deprecated and will be removed in a future version. To read from a literal string, wrap it in a 'StringIO' object.\n",
      "  df = pd.read_html(str(table))[0]\n",
      "/var/folders/5h/v8qm6jqd52q00q39r0ym2qhw0000gn/T/ipykernel_60021/3143823277.py:22: FutureWarning: Passing literal html to 'read_html' is deprecated and will be removed in a future version. To read from a literal string, wrap it in a 'StringIO' object.\n",
      "  df = pd.read_html(str(table))[0]\n"
     ]
    },
    {
     "name": "stdout",
     "output_type": "stream",
     "text": [
      "No data found for batter yastrmi01 in 2025 - OK\n"
     ]
    },
    {
     "name": "stderr",
     "output_type": "stream",
     "text": [
      "/var/folders/5h/v8qm6jqd52q00q39r0ym2qhw0000gn/T/ipykernel_60021/3143823277.py:22: FutureWarning: Passing literal html to 'read_html' is deprecated and will be removed in a future version. To read from a literal string, wrap it in a 'StringIO' object.\n",
      "  df = pd.read_html(str(table))[0]\n",
      "/var/folders/5h/v8qm6jqd52q00q39r0ym2qhw0000gn/T/ipykernel_60021/3143823277.py:22: FutureWarning: Passing literal html to 'read_html' is deprecated and will be removed in a future version. To read from a literal string, wrap it in a 'StringIO' object.\n",
      "  df = pd.read_html(str(table))[0]\n",
      "/var/folders/5h/v8qm6jqd52q00q39r0ym2qhw0000gn/T/ipykernel_60021/3143823277.py:22: FutureWarning: Passing literal html to 'read_html' is deprecated and will be removed in a future version. To read from a literal string, wrap it in a 'StringIO' object.\n",
      "  df = pd.read_html(str(table))[0]\n",
      "/var/folders/5h/v8qm6jqd52q00q39r0ym2qhw0000gn/T/ipykernel_60021/3143823277.py:22: FutureWarning: Passing literal html to 'read_html' is deprecated and will be removed in a future version. To read from a literal string, wrap it in a 'StringIO' object.\n",
      "  df = pd.read_html(str(table))[0]\n"
     ]
    },
    {
     "name": "stdout",
     "output_type": "stream",
     "text": [
      "No data found for batter yelicch01 in 2025 - OK\n",
      "No data found for batter yepezju01 in 2021 - OK\n"
     ]
    },
    {
     "name": "stderr",
     "output_type": "stream",
     "text": [
      "/var/folders/5h/v8qm6jqd52q00q39r0ym2qhw0000gn/T/ipykernel_60021/3143823277.py:22: FutureWarning: Passing literal html to 'read_html' is deprecated and will be removed in a future version. To read from a literal string, wrap it in a 'StringIO' object.\n",
      "  df = pd.read_html(str(table))[0]\n",
      "/var/folders/5h/v8qm6jqd52q00q39r0ym2qhw0000gn/T/ipykernel_60021/3143823277.py:22: FutureWarning: Passing literal html to 'read_html' is deprecated and will be removed in a future version. To read from a literal string, wrap it in a 'StringIO' object.\n",
      "  df = pd.read_html(str(table))[0]\n",
      "/var/folders/5h/v8qm6jqd52q00q39r0ym2qhw0000gn/T/ipykernel_60021/3143823277.py:22: FutureWarning: Passing literal html to 'read_html' is deprecated and will be removed in a future version. To read from a literal string, wrap it in a 'StringIO' object.\n",
      "  df = pd.read_html(str(table))[0]\n"
     ]
    },
    {
     "name": "stdout",
     "output_type": "stream",
     "text": [
      "No data found for batter yepezju01 in 2025 - OK\n"
     ]
    },
    {
     "name": "stderr",
     "output_type": "stream",
     "text": [
      "/var/folders/5h/v8qm6jqd52q00q39r0ym2qhw0000gn/T/ipykernel_60021/3143823277.py:22: FutureWarning: Passing literal html to 'read_html' is deprecated and will be removed in a future version. To read from a literal string, wrap it in a 'StringIO' object.\n",
      "  df = pd.read_html(str(table))[0]\n",
      "/var/folders/5h/v8qm6jqd52q00q39r0ym2qhw0000gn/T/ipykernel_60021/3143823277.py:22: FutureWarning: Passing literal html to 'read_html' is deprecated and will be removed in a future version. To read from a literal string, wrap it in a 'StringIO' object.\n",
      "  df = pd.read_html(str(table))[0]\n"
     ]
    },
    {
     "name": "stdout",
     "output_type": "stream",
     "text": [
      "No data found for batter ynoahu01 in 2023 - OK\n",
      "No data found for batter ynoahu01 in 2024 - OK\n",
      "No data found for batter ynoahu01 in 2025 - OK\n",
      "No data found for batter yorkeni01 in 2021 - OK\n",
      "No data found for batter yorkeni01 in 2022 - OK\n",
      "No data found for batter yorkeni01 in 2023 - OK\n"
     ]
    },
    {
     "name": "stderr",
     "output_type": "stream",
     "text": [
      "/var/folders/5h/v8qm6jqd52q00q39r0ym2qhw0000gn/T/ipykernel_60021/3143823277.py:22: FutureWarning: Passing literal html to 'read_html' is deprecated and will be removed in a future version. To read from a literal string, wrap it in a 'StringIO' object.\n",
      "  df = pd.read_html(str(table))[0]\n"
     ]
    },
    {
     "name": "stdout",
     "output_type": "stream",
     "text": [
      "No data found for batter yorkeni01 in 2025 - OK\n",
      "No data found for batter yoshima02 in 2021 - OK\n",
      "No data found for batter yoshima02 in 2022 - OK\n"
     ]
    },
    {
     "name": "stderr",
     "output_type": "stream",
     "text": [
      "/var/folders/5h/v8qm6jqd52q00q39r0ym2qhw0000gn/T/ipykernel_60021/3143823277.py:22: FutureWarning: Passing literal html to 'read_html' is deprecated and will be removed in a future version. To read from a literal string, wrap it in a 'StringIO' object.\n",
      "  df = pd.read_html(str(table))[0]\n",
      "/var/folders/5h/v8qm6jqd52q00q39r0ym2qhw0000gn/T/ipykernel_60021/3143823277.py:22: FutureWarning: Passing literal html to 'read_html' is deprecated and will be removed in a future version. To read from a literal string, wrap it in a 'StringIO' object.\n",
      "  df = pd.read_html(str(table))[0]\n"
     ]
    },
    {
     "name": "stdout",
     "output_type": "stream",
     "text": [
      "No data found for batter yoshima02 in 2025 - OK\n"
     ]
    },
    {
     "name": "stderr",
     "output_type": "stream",
     "text": [
      "/var/folders/5h/v8qm6jqd52q00q39r0ym2qhw0000gn/T/ipykernel_60021/3143823277.py:22: FutureWarning: Passing literal html to 'read_html' is deprecated and will be removed in a future version. To read from a literal string, wrap it in a 'StringIO' object.\n",
      "  df = pd.read_html(str(table))[0]\n",
      "/var/folders/5h/v8qm6jqd52q00q39r0ym2qhw0000gn/T/ipykernel_60021/3143823277.py:22: FutureWarning: Passing literal html to 'read_html' is deprecated and will be removed in a future version. To read from a literal string, wrap it in a 'StringIO' object.\n",
      "  df = pd.read_html(str(table))[0]\n",
      "/var/folders/5h/v8qm6jqd52q00q39r0ym2qhw0000gn/T/ipykernel_60021/3143823277.py:37: UserWarning: Could not infer format, so each element will be parsed individually, falling back to `dateutil`. To ensure parsing is consistent and as-expected, please specify a format.\n",
      "  df['game_date'] = pd.to_datetime(df['Date'], errors='coerce').dt.strftime('%Y-%m-%d')\n",
      "/var/folders/5h/v8qm6jqd52q00q39r0ym2qhw0000gn/T/ipykernel_60021/3143823277.py:22: FutureWarning: Passing literal html to 'read_html' is deprecated and will be removed in a future version. To read from a literal string, wrap it in a 'StringIO' object.\n",
      "  df = pd.read_html(str(table))[0]\n",
      "/var/folders/5h/v8qm6jqd52q00q39r0ym2qhw0000gn/T/ipykernel_60021/3143823277.py:22: FutureWarning: Passing literal html to 'read_html' is deprecated and will be removed in a future version. To read from a literal string, wrap it in a 'StringIO' object.\n",
      "  df = pd.read_html(str(table))[0]\n"
     ]
    },
    {
     "name": "stdout",
     "output_type": "stream",
     "text": [
      "No data found for batter youngal01 in 2025 - OK\n"
     ]
    },
    {
     "name": "stderr",
     "output_type": "stream",
     "text": [
      "/var/folders/5h/v8qm6jqd52q00q39r0ym2qhw0000gn/T/ipykernel_60021/3143823277.py:22: FutureWarning: Passing literal html to 'read_html' is deprecated and will be removed in a future version. To read from a literal string, wrap it in a 'StringIO' object.\n",
      "  df = pd.read_html(str(table))[0]\n"
     ]
    },
    {
     "name": "stdout",
     "output_type": "stream",
     "text": [
      "No data found for batter youngan02 in 2022 - OK\n",
      "No data found for batter youngan02 in 2023 - OK\n",
      "No data found for batter youngan02 in 2024 - OK\n",
      "No data found for batter youngan02 in 2025 - OK\n",
      "No data found for batter youngja03 in 2021 - OK\n",
      "No data found for batter youngja03 in 2022 - OK\n"
     ]
    },
    {
     "name": "stderr",
     "output_type": "stream",
     "text": [
      "/var/folders/5h/v8qm6jqd52q00q39r0ym2qhw0000gn/T/ipykernel_60021/3143823277.py:22: FutureWarning: Passing literal html to 'read_html' is deprecated and will be removed in a future version. To read from a literal string, wrap it in a 'StringIO' object.\n",
      "  df = pd.read_html(str(table))[0]\n",
      "/var/folders/5h/v8qm6jqd52q00q39r0ym2qhw0000gn/T/ipykernel_60021/3143823277.py:22: FutureWarning: Passing literal html to 'read_html' is deprecated and will be removed in a future version. To read from a literal string, wrap it in a 'StringIO' object.\n",
      "  df = pd.read_html(str(table))[0]\n"
     ]
    },
    {
     "name": "stdout",
     "output_type": "stream",
     "text": [
      "No data found for batter youngja03 in 2025 - OK\n",
      "No data found for batter youngja02 in 2021 - OK\n"
     ]
    },
    {
     "name": "stderr",
     "output_type": "stream",
     "text": [
      "/var/folders/5h/v8qm6jqd52q00q39r0ym2qhw0000gn/T/ipykernel_60021/3143823277.py:22: FutureWarning: Passing literal html to 'read_html' is deprecated and will be removed in a future version. To read from a literal string, wrap it in a 'StringIO' object.\n",
      "  df = pd.read_html(str(table))[0]\n",
      "/var/folders/5h/v8qm6jqd52q00q39r0ym2qhw0000gn/T/ipykernel_60021/3143823277.py:22: FutureWarning: Passing literal html to 'read_html' is deprecated and will be removed in a future version. To read from a literal string, wrap it in a 'StringIO' object.\n",
      "  df = pd.read_html(str(table))[0]\n"
     ]
    },
    {
     "name": "stdout",
     "output_type": "stream",
     "text": [
      "No data found for batter youngja02 in 2024 - OK\n",
      "No data found for batter youngja02 in 2025 - OK\n"
     ]
    },
    {
     "name": "stderr",
     "output_type": "stream",
     "text": [
      "/var/folders/5h/v8qm6jqd52q00q39r0ym2qhw0000gn/T/ipykernel_60021/3143823277.py:22: FutureWarning: Passing literal html to 'read_html' is deprecated and will be removed in a future version. To read from a literal string, wrap it in a 'StringIO' object.\n",
      "  df = pd.read_html(str(table))[0]\n",
      "/var/folders/5h/v8qm6jqd52q00q39r0ym2qhw0000gn/T/ipykernel_60021/3143823277.py:22: FutureWarning: Passing literal html to 'read_html' is deprecated and will be removed in a future version. To read from a literal string, wrap it in a 'StringIO' object.\n",
      "  df = pd.read_html(str(table))[0]\n",
      "/var/folders/5h/v8qm6jqd52q00q39r0ym2qhw0000gn/T/ipykernel_60021/3143823277.py:22: FutureWarning: Passing literal html to 'read_html' is deprecated and will be removed in a future version. To read from a literal string, wrap it in a 'StringIO' object.\n",
      "  df = pd.read_html(str(table))[0]\n",
      "/var/folders/5h/v8qm6jqd52q00q39r0ym2qhw0000gn/T/ipykernel_60021/3143823277.py:22: FutureWarning: Passing literal html to 'read_html' is deprecated and will be removed in a future version. To read from a literal string, wrap it in a 'StringIO' object.\n",
      "  df = pd.read_html(str(table))[0]\n"
     ]
    },
    {
     "name": "stdout",
     "output_type": "stream",
     "text": [
      "No data found for batter zavalse01 in 2025 - OK\n"
     ]
    },
    {
     "name": "stderr",
     "output_type": "stream",
     "text": [
      "/var/folders/5h/v8qm6jqd52q00q39r0ym2qhw0000gn/T/ipykernel_60021/3143823277.py:22: FutureWarning: Passing literal html to 'read_html' is deprecated and will be removed in a future version. To read from a literal string, wrap it in a 'StringIO' object.\n",
      "  df = pd.read_html(str(table))[0]\n",
      "/var/folders/5h/v8qm6jqd52q00q39r0ym2qhw0000gn/T/ipykernel_60021/3143823277.py:22: FutureWarning: Passing literal html to 'read_html' is deprecated and will be removed in a future version. To read from a literal string, wrap it in a 'StringIO' object.\n",
      "  df = pd.read_html(str(table))[0]\n"
     ]
    },
    {
     "name": "stdout",
     "output_type": "stream",
     "text": [
      "No data found for batter zimmebr01 in 2023 - OK\n",
      "No data found for batter zimmebr01 in 2024 - OK\n",
      "No data found for batter zimmebr01 in 2025 - OK\n"
     ]
    },
    {
     "name": "stderr",
     "output_type": "stream",
     "text": [
      "/var/folders/5h/v8qm6jqd52q00q39r0ym2qhw0000gn/T/ipykernel_60021/3143823277.py:22: FutureWarning: Passing literal html to 'read_html' is deprecated and will be removed in a future version. To read from a literal string, wrap it in a 'StringIO' object.\n",
      "  df = pd.read_html(str(table))[0]\n"
     ]
    },
    {
     "name": "stdout",
     "output_type": "stream",
     "text": [
      "No data found for batter zimmery01 in 2022 - OK\n",
      "No data found for batter zimmery01 in 2023 - OK\n",
      "No data found for batter zimmery01 in 2024 - OK\n",
      "No data found for batter zimmery01 in 2025 - OK\n"
     ]
    },
    {
     "name": "stderr",
     "output_type": "stream",
     "text": [
      "/var/folders/5h/v8qm6jqd52q00q39r0ym2qhw0000gn/T/ipykernel_60021/3143823277.py:22: FutureWarning: Passing literal html to 'read_html' is deprecated and will be removed in a future version. To read from a literal string, wrap it in a 'StringIO' object.\n",
      "  df = pd.read_html(str(table))[0]\n",
      "/var/folders/5h/v8qm6jqd52q00q39r0ym2qhw0000gn/T/ipykernel_60021/3143823277.py:22: FutureWarning: Passing literal html to 'read_html' is deprecated and will be removed in a future version. To read from a literal string, wrap it in a 'StringIO' object.\n",
      "  df = pd.read_html(str(table))[0]\n",
      "/var/folders/5h/v8qm6jqd52q00q39r0ym2qhw0000gn/T/ipykernel_60021/3143823277.py:22: FutureWarning: Passing literal html to 'read_html' is deprecated and will be removed in a future version. To read from a literal string, wrap it in a 'StringIO' object.\n",
      "  df = pd.read_html(str(table))[0]\n"
     ]
    },
    {
     "name": "stdout",
     "output_type": "stream",
     "text": [
      "No data found for batter zimmebr02 in 2024 - OK\n",
      "No data found for batter zimmebr02 in 2025 - OK\n"
     ]
    },
    {
     "name": "stderr",
     "output_type": "stream",
     "text": [
      "/var/folders/5h/v8qm6jqd52q00q39r0ym2qhw0000gn/T/ipykernel_60021/3143823277.py:22: FutureWarning: Passing literal html to 'read_html' is deprecated and will be removed in a future version. To read from a literal string, wrap it in a 'StringIO' object.\n",
      "  df = pd.read_html(str(table))[0]\n"
     ]
    },
    {
     "name": "stdout",
     "output_type": "stream",
     "text": [
      "No data found for batter zimmejo02 in 2022 - OK\n",
      "No data found for batter zimmejo02 in 2023 - OK\n",
      "No data found for batter zimmejo02 in 2024 - OK\n",
      "No data found for batter zimmejo02 in 2025 - OK\n"
     ]
    },
    {
     "name": "stderr",
     "output_type": "stream",
     "text": [
      "/var/folders/5h/v8qm6jqd52q00q39r0ym2qhw0000gn/T/ipykernel_60021/3143823277.py:22: FutureWarning: Passing literal html to 'read_html' is deprecated and will be removed in a future version. To read from a literal string, wrap it in a 'StringIO' object.\n",
      "  df = pd.read_html(str(table))[0]\n"
     ]
    },
    {
     "name": "stdout",
     "output_type": "stream",
     "text": [
      "No data found for batter zuberty01 in 2022 - OK\n",
      "No data found for batter zuberty01 in 2023 - OK\n"
     ]
    },
    {
     "name": "stderr",
     "output_type": "stream",
     "text": [
      "/var/folders/5h/v8qm6jqd52q00q39r0ym2qhw0000gn/T/ipykernel_60021/3143823277.py:22: FutureWarning: Passing literal html to 'read_html' is deprecated and will be removed in a future version. To read from a literal string, wrap it in a 'StringIO' object.\n",
      "  df = pd.read_html(str(table))[0]\n"
     ]
    },
    {
     "name": "stdout",
     "output_type": "stream",
     "text": [
      "No data found for batter zuberty01 in 2025 - OK\n"
     ]
    },
    {
     "name": "stderr",
     "output_type": "stream",
     "text": [
      "/var/folders/5h/v8qm6jqd52q00q39r0ym2qhw0000gn/T/ipykernel_60021/3143823277.py:22: FutureWarning: Passing literal html to 'read_html' is deprecated and will be removed in a future version. To read from a literal string, wrap it in a 'StringIO' object.\n",
      "  df = pd.read_html(str(table))[0]\n",
      "/var/folders/5h/v8qm6jqd52q00q39r0ym2qhw0000gn/T/ipykernel_60021/3143823277.py:22: FutureWarning: Passing literal html to 'read_html' is deprecated and will be removed in a future version. To read from a literal string, wrap it in a 'StringIO' object.\n",
      "  df = pd.read_html(str(table))[0]\n",
      "/var/folders/5h/v8qm6jqd52q00q39r0ym2qhw0000gn/T/ipykernel_60021/3143823277.py:22: FutureWarning: Passing literal html to 'read_html' is deprecated and will be removed in a future version. To read from a literal string, wrap it in a 'StringIO' object.\n",
      "  df = pd.read_html(str(table))[0]\n"
     ]
    },
    {
     "name": "stdout",
     "output_type": "stream",
     "text": [
      "No data found for batter zuninmi01 in 2024 - OK\n",
      "No data found for batter zuninmi01 in 2025 - OK\n"
     ]
    }
   ],
   "source": [
    "idlist = pd.read_csv('batter_ids.csv')\n",
    "batter_ids = idlist.key_bbref\n",
    "\n",
    "game_pks = pd.read_csv('game_pks.csv')\n",
    "\n",
    "# Define the mapping from abbreviated team names to full team names\n",
    "team_id_mapping = {\n",
    "    'WSN': 120,\n",
    "    'MIA': 146,\n",
    "    'TBR': 139,\n",
    "    'ATL' : 144,\n",
    "    'TEX' : 140,\n",
    "    'HOU' : 117,\n",
    "    'SD' : 135,\n",
    "    'SDP' : 135,\n",
    "    'PHI' : 143,\n",
    "    'BAL' : 110,\n",
    "    'SEA' : 136,\n",
    "    'NYM' : 121,\n",
    "    'ARI' : 109,\n",
    "    'LAA' : 108,\n",
    "    'OAK' : 133,\n",
    "    'TOR' : 141,\n",
    "    'CLE' : 114,\n",
    "    'STL' : 138,\n",
    "    'MIN' : 142,\n",
    "    'DET' : 116,\n",
    "    'NYY' : 147,\n",
    "    'SFG' : 137,\n",
    "    'KCR' : 118,\n",
    "    'CWS' : 145,\n",
    "    'CHW' : 145,\n",
    "    'COL' : 115,\n",
    "    'BOS' : 111,\n",
    "    'LAD' : 119,\n",
    "    'CHC' : 112,\n",
    "    'MIL' : 158,\n",
    "    'CIN' : 113,\n",
    "    'PIT' : 134\n",
    "}\n",
    "\n",
    "# Define the years you want to process\n",
    "years = [2021, 2022, 2023, 2024, 2025]\n",
    "\n",
    "# Loop through each batter ID\n",
    "for id in batter_ids:\n",
    "    # Initialize an empty dataframe for the player\n",
    "    player_df = pd.DataFrame()\n",
    "\n",
    "    # Loop through each year\n",
    "    for year in years:\n",
    "        # Fetch data for the player and year\n",
    "        df = fetch_b_game_log(id, year)\n",
    "\n",
    "        time.sleep(0.4)\n",
    "\n",
    "        # Check if the fetched dataframe is None or empty\n",
    "        if df is None or df.empty:\n",
    "            continue  # Skip this year if no data available\n",
    "\n",
    "        # Apply the function to the date_column and create a new column\n",
    "        df['game_date'] = df['Date'].apply(lambda date : clean_date(date, year))\n",
    "        df['Date'] = df['game_date']\n",
    "\n",
    "        # Ensure the 'Date' column in df and 'game_date' column in game_pks are in datetime format\n",
    "        df['Date'] = pd.to_datetime(df['Date'])\n",
    "        game_pks['game_date'] = pd.to_datetime(game_pks['game_date'])\n",
    "\n",
    "        # Map the team abbreviations to full team names\n",
    "        df['team_id'] = df['Team'].map(team_id_mapping)\n",
    "        df['opp_id'] = df['Opp'].map(team_id_mapping)\n",
    "\n",
    "        # Initialize a new column in df for game_id\n",
    "        df['game_id'] = None\n",
    "\n",
    "        # Iterate over the rows in df to find the corresponding game_id in game_pks\n",
    "        for index, row in df.iterrows():\n",
    "\n",
    "            #print(f\"Processing row {index}: Date={row['Date']}, Team={row['team_id']}, Opponent={row['opp_id']}\")\n",
    "            \n",
    "\n",
    "            # Filter the game_pks for the matching date and teams\n",
    "            game_day_matches = game_pks[\n",
    "                (game_pks['game_date'] == row['Date']) &\n",
    "                (\n",
    "                    ((game_pks['home_id'] == row['team_id']) & (game_pks['away_id'] == row['opp_id'])) |\n",
    "                    ((game_pks['home_id'] == row['opp_id']) & (game_pks['away_id'] == row['team_id']))\n",
    "                )\n",
    "            ]\n",
    "\n",
    "            \n",
    "            #print(f\"Matches found: {len(game_day_matches)}\")\n",
    "            \n",
    "\n",
    "            # Check the 'dbl' column to assign the correct game_id\n",
    "            if not game_day_matches.empty:\n",
    "\n",
    "                #print(f\"Match details: {game_day_matches}\")\n",
    "\n",
    "                if row['dbl'] == 1:\n",
    "                    # For the first game of a double-header\n",
    "                    game_id = game_day_matches.iloc[0]['game_id']\n",
    "                elif row['dbl'] == 2:\n",
    "                    # For the second game of a double-header\n",
    "                    if len(game_day_matches) > 1:\n",
    "                        game_id = game_day_matches.iloc[1]['game_id']\n",
    "                    else:\n",
    "                        game_id = game_day_matches.iloc[0]['game_id']\n",
    "                else:\n",
    "                    # For days without double-headers or unmarked double-headers, take the first game\n",
    "                    game_id = game_day_matches.iloc[0]['game_id']\n",
    "                df.at[index, 'game_id'] = game_id\n",
    "                #print(f\"Assigned game_id: {game_id}\")\n",
    "            else:\n",
    "                print(\"BAD - NO GAME MATCHES FOUND (batter).\")\n",
    "\n",
    "        # Append the data for the year to player_df\n",
    "        player_df = pd.concat([player_df, df])\n",
    "\n",
    "    # Save the player's data to a CSV file\n",
    "    player_df.to_csv(f'batters/{id}_batting.csv', index=False)"
   ]
  },
  {
   "cell_type": "markdown",
   "metadata": {},
   "source": [
    "## Fetch PITCHING Data\n",
    "* and concatenate into one dataset (per player)\n",
    "* store in 'pitchers/...'"
   ]
  },
  {
   "cell_type": "code",
   "execution_count": null,
   "metadata": {},
   "outputs": [
    {
     "name": "stderr",
     "output_type": "stream",
     "text": [
      "/var/folders/5h/v8qm6jqd52q00q39r0ym2qhw0000gn/T/ipykernel_60021/1565990111.py:22: FutureWarning: Passing literal html to 'read_html' is deprecated and will be removed in a future version. To read from a literal string, wrap it in a 'StringIO' object.\n",
      "  df = pd.read_html(str(table))[0]\n",
      "/var/folders/5h/v8qm6jqd52q00q39r0ym2qhw0000gn/T/ipykernel_60021/1565990111.py:22: FutureWarning: Passing literal html to 'read_html' is deprecated and will be removed in a future version. To read from a literal string, wrap it in a 'StringIO' object.\n",
      "  df = pd.read_html(str(table))[0]\n",
      "/var/folders/5h/v8qm6jqd52q00q39r0ym2qhw0000gn/T/ipykernel_60021/1565990111.py:22: FutureWarning: Passing literal html to 'read_html' is deprecated and will be removed in a future version. To read from a literal string, wrap it in a 'StringIO' object.\n",
      "  df = pd.read_html(str(table))[0]\n"
     ]
    },
    {
     "name": "stdout",
     "output_type": "stream",
     "text": [
      "No data found for pitcher wrighky01 in 2024 - OK\n",
      "No data found for pitcher wrighky01 in 2025 - OK\n"
     ]
    },
    {
     "name": "stderr",
     "output_type": "stream",
     "text": [
      "/var/folders/5h/v8qm6jqd52q00q39r0ym2qhw0000gn/T/ipykernel_60021/1565990111.py:22: FutureWarning: Passing literal html to 'read_html' is deprecated and will be removed in a future version. To read from a literal string, wrap it in a 'StringIO' object.\n",
      "  df = pd.read_html(str(table))[0]\n"
     ]
    },
    {
     "name": "stdout",
     "output_type": "stream",
     "text": [
      "No data found for pitcher wrighmi01 in 2022 - OK\n",
      "No data found for pitcher wrighmi01 in 2023 - OK\n",
      "No data found for pitcher wrighmi01 in 2024 - OK\n",
      "No data found for pitcher wrighmi01 in 2025 - OK\n",
      "No data found for pitcher wroblju01 in 2021 - OK\n",
      "No data found for pitcher wroblju01 in 2022 - OK\n",
      "No data found for pitcher wroblju01 in 2023 - OK\n"
     ]
    },
    {
     "name": "stderr",
     "output_type": "stream",
     "text": [
      "/var/folders/5h/v8qm6jqd52q00q39r0ym2qhw0000gn/T/ipykernel_60021/1565990111.py:22: FutureWarning: Passing literal html to 'read_html' is deprecated and will be removed in a future version. To read from a literal string, wrap it in a 'StringIO' object.\n",
      "  df = pd.read_html(str(table))[0]\n"
     ]
    },
    {
     "name": "stdout",
     "output_type": "stream",
     "text": [
      "No data found for pitcher wroblju01 in 2025 - OK\n",
      "No data found for pitcher wynnera01 in 2021 - OK\n",
      "No data found for pitcher wynnera01 in 2022 - OK\n"
     ]
    },
    {
     "name": "stderr",
     "output_type": "stream",
     "text": [
      "/var/folders/5h/v8qm6jqd52q00q39r0ym2qhw0000gn/T/ipykernel_60021/1565990111.py:22: FutureWarning: Passing literal html to 'read_html' is deprecated and will be removed in a future version. To read from a literal string, wrap it in a 'StringIO' object.\n",
      "  df = pd.read_html(str(table))[0]\n"
     ]
    },
    {
     "name": "stdout",
     "output_type": "stream",
     "text": [
      "No data found for pitcher wynnera01 in 2024 - OK\n",
      "No data found for pitcher wynnera01 in 2025 - OK\n"
     ]
    },
    {
     "name": "stderr",
     "output_type": "stream",
     "text": [
      "/var/folders/5h/v8qm6jqd52q00q39r0ym2qhw0000gn/T/ipykernel_60021/1565990111.py:22: FutureWarning: Passing literal html to 'read_html' is deprecated and will be removed in a future version. To read from a literal string, wrap it in a 'StringIO' object.\n",
      "  df = pd.read_html(str(table))[0]\n",
      "/var/folders/5h/v8qm6jqd52q00q39r0ym2qhw0000gn/T/ipykernel_60021/1565990111.py:22: FutureWarning: Passing literal html to 'read_html' is deprecated and will be removed in a future version. To read from a literal string, wrap it in a 'StringIO' object.\n",
      "  df = pd.read_html(str(table))[0]\n"
     ]
    },
    {
     "name": "stdout",
     "output_type": "stream",
     "text": [
      "No data found for pitcher wynnsau01 in 2023 - OK\n",
      "No data found for pitcher wynnsau01 in 2024 - OK\n",
      "No data found for pitcher wynnsau01 in 2025 - OK\n",
      "No data found for pitcher yacabji01 in 2021 - OK\n"
     ]
    },
    {
     "name": "stderr",
     "output_type": "stream",
     "text": [
      "/var/folders/5h/v8qm6jqd52q00q39r0ym2qhw0000gn/T/ipykernel_60021/1565990111.py:22: FutureWarning: Passing literal html to 'read_html' is deprecated and will be removed in a future version. To read from a literal string, wrap it in a 'StringIO' object.\n",
      "  df = pd.read_html(str(table))[0]\n",
      "/var/folders/5h/v8qm6jqd52q00q39r0ym2qhw0000gn/T/ipykernel_60021/1565990111.py:22: FutureWarning: Passing literal html to 'read_html' is deprecated and will be removed in a future version. To read from a literal string, wrap it in a 'StringIO' object.\n",
      "  df = pd.read_html(str(table))[0]\n"
     ]
    },
    {
     "name": "stdout",
     "output_type": "stream",
     "text": [
      "No data found for pitcher yacabji01 in 2024 - OK\n",
      "No data found for pitcher yacabji01 in 2025 - OK\n"
     ]
    },
    {
     "name": "stderr",
     "output_type": "stream",
     "text": [
      "/var/folders/5h/v8qm6jqd52q00q39r0ym2qhw0000gn/T/ipykernel_60021/1565990111.py:22: FutureWarning: Passing literal html to 'read_html' is deprecated and will be removed in a future version. To read from a literal string, wrap it in a 'StringIO' object.\n",
      "  df = pd.read_html(str(table))[0]\n",
      "/var/folders/5h/v8qm6jqd52q00q39r0ym2qhw0000gn/T/ipykernel_60021/1565990111.py:37: UserWarning: Could not infer format, so each element will be parsed individually, falling back to `dateutil`. To ensure parsing is consistent and as-expected, please specify a format.\n",
      "  df['game_date'] = pd.to_datetime(df['Date'], errors='coerce').dt.strftime('%Y-%m-%d')\n",
      "/var/folders/5h/v8qm6jqd52q00q39r0ym2qhw0000gn/T/ipykernel_60021/1565990111.py:22: FutureWarning: Passing literal html to 'read_html' is deprecated and will be removed in a future version. To read from a literal string, wrap it in a 'StringIO' object.\n",
      "  df = pd.read_html(str(table))[0]\n"
     ]
    },
    {
     "name": "stdout",
     "output_type": "stream",
     "text": [
      "No data found for pitcher yajurmi01 in 2023 - OK\n",
      "No data found for pitcher yajurmi01 in 2024 - OK\n",
      "No data found for pitcher yajurmi01 in 2025 - OK\n"
     ]
    },
    {
     "name": "stderr",
     "output_type": "stream",
     "text": [
      "/var/folders/5h/v8qm6jqd52q00q39r0ym2qhw0000gn/T/ipykernel_60021/1565990111.py:22: FutureWarning: Passing literal html to 'read_html' is deprecated and will be removed in a future version. To read from a literal string, wrap it in a 'StringIO' object.\n",
      "  df = pd.read_html(str(table))[0]\n",
      "/var/folders/5h/v8qm6jqd52q00q39r0ym2qhw0000gn/T/ipykernel_60021/1565990111.py:37: UserWarning: Could not infer format, so each element will be parsed individually, falling back to `dateutil`. To ensure parsing is consistent and as-expected, please specify a format.\n",
      "  df['game_date'] = pd.to_datetime(df['Date'], errors='coerce').dt.strftime('%Y-%m-%d')\n"
     ]
    },
    {
     "name": "stdout",
     "output_type": "stream",
     "text": [
      "No data found for pitcher yamamjo01 in 2022 - OK\n",
      "No data found for pitcher yamamjo01 in 2023 - OK\n",
      "No data found for pitcher yamamjo01 in 2024 - OK\n",
      "No data found for pitcher yamamjo01 in 2025 - OK\n",
      "No data found for pitcher yamamyo01 in 2021 - OK\n",
      "No data found for pitcher yamamyo01 in 2022 - OK\n",
      "No data found for pitcher yamamyo01 in 2023 - OK\n"
     ]
    },
    {
     "name": "stderr",
     "output_type": "stream",
     "text": [
      "/var/folders/5h/v8qm6jqd52q00q39r0ym2qhw0000gn/T/ipykernel_60021/1565990111.py:22: FutureWarning: Passing literal html to 'read_html' is deprecated and will be removed in a future version. To read from a literal string, wrap it in a 'StringIO' object.\n",
      "  df = pd.read_html(str(table))[0]\n"
     ]
    },
    {
     "name": "stdout",
     "output_type": "stream",
     "text": [
      "No data found for pitcher yamamyo01 in 2025 - OK\n"
     ]
    },
    {
     "name": "stderr",
     "output_type": "stream",
     "text": [
      "/var/folders/5h/v8qm6jqd52q00q39r0ym2qhw0000gn/T/ipykernel_60021/1565990111.py:22: FutureWarning: Passing literal html to 'read_html' is deprecated and will be removed in a future version. To read from a literal string, wrap it in a 'StringIO' object.\n",
      "  df = pd.read_html(str(table))[0]\n"
     ]
    },
    {
     "name": "stdout",
     "output_type": "stream",
     "text": [
      "No data found for pitcher yanghy01 in 2022 - OK\n",
      "No data found for pitcher yanghy01 in 2023 - OK\n",
      "No data found for pitcher yanghy01 in 2024 - OK\n",
      "No data found for pitcher yanghy01 in 2025 - OK\n"
     ]
    },
    {
     "name": "stderr",
     "output_type": "stream",
     "text": [
      "/var/folders/5h/v8qm6jqd52q00q39r0ym2qhw0000gn/T/ipykernel_60021/1565990111.py:22: FutureWarning: Passing literal html to 'read_html' is deprecated and will be removed in a future version. To read from a literal string, wrap it in a 'StringIO' object.\n",
      "  df = pd.read_html(str(table))[0]\n",
      "/var/folders/5h/v8qm6jqd52q00q39r0ym2qhw0000gn/T/ipykernel_60021/1565990111.py:22: FutureWarning: Passing literal html to 'read_html' is deprecated and will be removed in a future version. To read from a literal string, wrap it in a 'StringIO' object.\n",
      "  df = pd.read_html(str(table))[0]\n",
      "/var/folders/5h/v8qm6jqd52q00q39r0ym2qhw0000gn/T/ipykernel_60021/1565990111.py:22: FutureWarning: Passing literal html to 'read_html' is deprecated and will be removed in a future version. To read from a literal string, wrap it in a 'StringIO' object.\n",
      "  df = pd.read_html(str(table))[0]\n",
      "/var/folders/5h/v8qm6jqd52q00q39r0ym2qhw0000gn/T/ipykernel_60021/1565990111.py:22: FutureWarning: Passing literal html to 'read_html' is deprecated and will be removed in a future version. To read from a literal string, wrap it in a 'StringIO' object.\n",
      "  df = pd.read_html(str(table))[0]\n"
     ]
    },
    {
     "name": "stdout",
     "output_type": "stream",
     "text": [
      "No data found for pitcher yarbrry01 in 2025 - OK\n"
     ]
    },
    {
     "name": "stderr",
     "output_type": "stream",
     "text": [
      "/var/folders/5h/v8qm6jqd52q00q39r0ym2qhw0000gn/T/ipykernel_60021/1565990111.py:22: FutureWarning: Passing literal html to 'read_html' is deprecated and will be removed in a future version. To read from a literal string, wrap it in a 'StringIO' object.\n",
      "  df = pd.read_html(str(table))[0]\n"
     ]
    },
    {
     "name": "stdout",
     "output_type": "stream",
     "text": [
      "No data found for pitcher yardler01 in 2022 - OK\n",
      "No data found for pitcher yardler01 in 2023 - OK\n",
      "No data found for pitcher yardler01 in 2024 - OK\n",
      "No data found for pitcher yardler01 in 2025 - OK\n",
      "No data found for pitcher yastrmi01 in 2021 - OK\n",
      "No data found for pitcher yastrmi01 in 2022 - OK\n",
      "No data found for pitcher yastrmi01 in 2023 - OK\n"
     ]
    },
    {
     "name": "stderr",
     "output_type": "stream",
     "text": [
      "/var/folders/5h/v8qm6jqd52q00q39r0ym2qhw0000gn/T/ipykernel_60021/1565990111.py:22: FutureWarning: Passing literal html to 'read_html' is deprecated and will be removed in a future version. To read from a literal string, wrap it in a 'StringIO' object.\n",
      "  df = pd.read_html(str(table))[0]\n"
     ]
    },
    {
     "name": "stdout",
     "output_type": "stream",
     "text": [
      "No data found for pitcher yastrmi01 in 2025 - OK\n",
      "No data found for pitcher yateski01 in 2021 - OK\n"
     ]
    },
    {
     "name": "stderr",
     "output_type": "stream",
     "text": [
      "/var/folders/5h/v8qm6jqd52q00q39r0ym2qhw0000gn/T/ipykernel_60021/1565990111.py:22: FutureWarning: Passing literal html to 'read_html' is deprecated and will be removed in a future version. To read from a literal string, wrap it in a 'StringIO' object.\n",
      "  df = pd.read_html(str(table))[0]\n",
      "/var/folders/5h/v8qm6jqd52q00q39r0ym2qhw0000gn/T/ipykernel_60021/1565990111.py:22: FutureWarning: Passing literal html to 'read_html' is deprecated and will be removed in a future version. To read from a literal string, wrap it in a 'StringIO' object.\n",
      "  df = pd.read_html(str(table))[0]\n",
      "/var/folders/5h/v8qm6jqd52q00q39r0ym2qhw0000gn/T/ipykernel_60021/1565990111.py:22: FutureWarning: Passing literal html to 'read_html' is deprecated and will be removed in a future version. To read from a literal string, wrap it in a 'StringIO' object.\n",
      "  df = pd.read_html(str(table))[0]\n"
     ]
    },
    {
     "name": "stdout",
     "output_type": "stream",
     "text": [
      "No data found for pitcher yateski01 in 2025 - OK\n"
     ]
    },
    {
     "name": "stderr",
     "output_type": "stream",
     "text": [
      "/var/folders/5h/v8qm6jqd52q00q39r0ym2qhw0000gn/T/ipykernel_60021/1565990111.py:22: FutureWarning: Passing literal html to 'read_html' is deprecated and will be removed in a future version. To read from a literal string, wrap it in a 'StringIO' object.\n",
      "  df = pd.read_html(str(table))[0]\n",
      "/var/folders/5h/v8qm6jqd52q00q39r0ym2qhw0000gn/T/ipykernel_60021/1565990111.py:22: FutureWarning: Passing literal html to 'read_html' is deprecated and will be removed in a future version. To read from a literal string, wrap it in a 'StringIO' object.\n",
      "  df = pd.read_html(str(table))[0]\n"
     ]
    },
    {
     "name": "stdout",
     "output_type": "stream",
     "text": [
      "No data found for pitcher ynoahu01 in 2023 - OK\n",
      "No data found for pitcher ynoahu01 in 2024 - OK\n",
      "No data found for pitcher ynoahu01 in 2025 - OK\n"
     ]
    },
    {
     "name": "stderr",
     "output_type": "stream",
     "text": [
      "/var/folders/5h/v8qm6jqd52q00q39r0ym2qhw0000gn/T/ipykernel_60021/1565990111.py:22: FutureWarning: Passing literal html to 'read_html' is deprecated and will be removed in a future version. To read from a literal string, wrap it in a 'StringIO' object.\n",
      "  df = pd.read_html(str(table))[0]\n",
      "/var/folders/5h/v8qm6jqd52q00q39r0ym2qhw0000gn/T/ipykernel_60021/1565990111.py:22: FutureWarning: Passing literal html to 'read_html' is deprecated and will be removed in a future version. To read from a literal string, wrap it in a 'StringIO' object.\n",
      "  df = pd.read_html(str(table))[0]\n",
      "/var/folders/5h/v8qm6jqd52q00q39r0ym2qhw0000gn/T/ipykernel_60021/1565990111.py:37: UserWarning: Could not infer format, so each element will be parsed individually, falling back to `dateutil`. To ensure parsing is consistent and as-expected, please specify a format.\n",
      "  df['game_date'] = pd.to_datetime(df['Date'], errors='coerce').dt.strftime('%Y-%m-%d')\n",
      "/var/folders/5h/v8qm6jqd52q00q39r0ym2qhw0000gn/T/ipykernel_60021/1565990111.py:22: FutureWarning: Passing literal html to 'read_html' is deprecated and will be removed in a future version. To read from a literal string, wrap it in a 'StringIO' object.\n",
      "  df = pd.read_html(str(table))[0]\n",
      "/var/folders/5h/v8qm6jqd52q00q39r0ym2qhw0000gn/T/ipykernel_60021/1565990111.py:22: FutureWarning: Passing literal html to 'read_html' is deprecated and will be removed in a future version. To read from a literal string, wrap it in a 'StringIO' object.\n",
      "  df = pd.read_html(str(table))[0]\n"
     ]
    },
    {
     "name": "stdout",
     "output_type": "stream",
     "text": [
      "No data found for pitcher youngal01 in 2025 - OK\n",
      "No data found for pitcher youngda02 in 2021 - OK\n"
     ]
    },
    {
     "name": "stderr",
     "output_type": "stream",
     "text": [
      "/var/folders/5h/v8qm6jqd52q00q39r0ym2qhw0000gn/T/ipykernel_60021/1565990111.py:22: FutureWarning: Passing literal html to 'read_html' is deprecated and will be removed in a future version. To read from a literal string, wrap it in a 'StringIO' object.\n",
      "  df = pd.read_html(str(table))[0]\n",
      "/var/folders/5h/v8qm6jqd52q00q39r0ym2qhw0000gn/T/ipykernel_60021/1565990111.py:22: FutureWarning: Passing literal html to 'read_html' is deprecated and will be removed in a future version. To read from a literal string, wrap it in a 'StringIO' object.\n",
      "  df = pd.read_html(str(table))[0]\n",
      "/var/folders/5h/v8qm6jqd52q00q39r0ym2qhw0000gn/T/ipykernel_60021/1565990111.py:22: FutureWarning: Passing literal html to 'read_html' is deprecated and will be removed in a future version. To read from a literal string, wrap it in a 'StringIO' object.\n",
      "  df = pd.read_html(str(table))[0]\n"
     ]
    },
    {
     "name": "stdout",
     "output_type": "stream",
     "text": [
      "No data found for pitcher youngda02 in 2025 - OK\n",
      "No data found for pitcher zabalan01 in 2021 - OK\n"
     ]
    },
    {
     "name": "stderr",
     "output_type": "stream",
     "text": [
      "/var/folders/5h/v8qm6jqd52q00q39r0ym2qhw0000gn/T/ipykernel_60021/1565990111.py:22: FutureWarning: Passing literal html to 'read_html' is deprecated and will be removed in a future version. To read from a literal string, wrap it in a 'StringIO' object.\n",
      "  df = pd.read_html(str(table))[0]\n"
     ]
    },
    {
     "name": "stdout",
     "output_type": "stream",
     "text": [
      "No data found for pitcher zabalan01 in 2023 - OK\n",
      "No data found for pitcher zabalan01 in 2024 - OK\n",
      "No data found for pitcher zabalan01 in 2025 - OK\n"
     ]
    },
    {
     "name": "stderr",
     "output_type": "stream",
     "text": [
      "/var/folders/5h/v8qm6jqd52q00q39r0ym2qhw0000gn/T/ipykernel_60021/1565990111.py:22: FutureWarning: Passing literal html to 'read_html' is deprecated and will be removed in a future version. To read from a literal string, wrap it in a 'StringIO' object.\n",
      "  df = pd.read_html(str(table))[0]\n"
     ]
    },
    {
     "name": "stdout",
     "output_type": "stream",
     "text": [
      "No data found for pitcher zamorda01 in 2022 - OK\n",
      "No data found for pitcher zamorda01 in 2023 - OK\n",
      "No data found for pitcher zamorda01 in 2024 - OK\n",
      "No data found for pitcher zamorda01 in 2025 - OK\n",
      "No data found for pitcher zastrro01 in 2021 - OK\n"
     ]
    },
    {
     "name": "stderr",
     "output_type": "stream",
     "text": [
      "/var/folders/5h/v8qm6jqd52q00q39r0ym2qhw0000gn/T/ipykernel_60021/1565990111.py:22: FutureWarning: Passing literal html to 'read_html' is deprecated and will be removed in a future version. To read from a literal string, wrap it in a 'StringIO' object.\n",
      "  df = pd.read_html(str(table))[0]\n",
      "/var/folders/5h/v8qm6jqd52q00q39r0ym2qhw0000gn/T/ipykernel_60021/1565990111.py:37: UserWarning: Could not infer format, so each element will be parsed individually, falling back to `dateutil`. To ensure parsing is consistent and as-expected, please specify a format.\n",
      "  df['game_date'] = pd.to_datetime(df['Date'], errors='coerce').dt.strftime('%Y-%m-%d')\n",
      "/var/folders/5h/v8qm6jqd52q00q39r0ym2qhw0000gn/T/ipykernel_60021/1565990111.py:22: FutureWarning: Passing literal html to 'read_html' is deprecated and will be removed in a future version. To read from a literal string, wrap it in a 'StringIO' object.\n",
      "  df = pd.read_html(str(table))[0]\n",
      "/var/folders/5h/v8qm6jqd52q00q39r0ym2qhw0000gn/T/ipykernel_60021/1565990111.py:22: FutureWarning: Passing literal html to 'read_html' is deprecated and will be removed in a future version. To read from a literal string, wrap it in a 'StringIO' object.\n",
      "  df = pd.read_html(str(table))[0]\n"
     ]
    },
    {
     "name": "stdout",
     "output_type": "stream",
     "text": [
      "No data found for pitcher zastrro01 in 2025 - OK\n",
      "No data found for pitcher zavalse01 in 2021 - OK\n",
      "No data found for pitcher zavalse01 in 2022 - OK\n"
     ]
    },
    {
     "name": "stderr",
     "output_type": "stream",
     "text": [
      "/var/folders/5h/v8qm6jqd52q00q39r0ym2qhw0000gn/T/ipykernel_60021/1565990111.py:22: FutureWarning: Passing literal html to 'read_html' is deprecated and will be removed in a future version. To read from a literal string, wrap it in a 'StringIO' object.\n",
      "  df = pd.read_html(str(table))[0]\n"
     ]
    },
    {
     "name": "stdout",
     "output_type": "stream",
     "text": [
      "No data found for pitcher zavalse01 in 2024 - OK\n",
      "No data found for pitcher zavalse01 in 2025 - OK\n",
      "No data found for pitcher zeferry01 in 2021 - OK\n",
      "No data found for pitcher zeferry01 in 2022 - OK\n",
      "No data found for pitcher zeferry01 in 2023 - OK\n"
     ]
    },
    {
     "name": "stderr",
     "output_type": "stream",
     "text": [
      "/var/folders/5h/v8qm6jqd52q00q39r0ym2qhw0000gn/T/ipykernel_60021/1565990111.py:22: FutureWarning: Passing literal html to 'read_html' is deprecated and will be removed in a future version. To read from a literal string, wrap it in a 'StringIO' object.\n",
      "  df = pd.read_html(str(table))[0]\n"
     ]
    },
    {
     "name": "stdout",
     "output_type": "stream",
     "text": [
      "No data found for pitcher zeferry01 in 2025 - OK\n"
     ]
    },
    {
     "name": "stderr",
     "output_type": "stream",
     "text": [
      "/var/folders/5h/v8qm6jqd52q00q39r0ym2qhw0000gn/T/ipykernel_60021/1565990111.py:22: FutureWarning: Passing literal html to 'read_html' is deprecated and will be removed in a future version. To read from a literal string, wrap it in a 'StringIO' object.\n",
      "  df = pd.read_html(str(table))[0]\n",
      "/var/folders/5h/v8qm6jqd52q00q39r0ym2qhw0000gn/T/ipykernel_60021/1565990111.py:22: FutureWarning: Passing literal html to 'read_html' is deprecated and will be removed in a future version. To read from a literal string, wrap it in a 'StringIO' object.\n",
      "  df = pd.read_html(str(table))[0]\n",
      "/var/folders/5h/v8qm6jqd52q00q39r0ym2qhw0000gn/T/ipykernel_60021/1565990111.py:37: UserWarning: Could not infer format, so each element will be parsed individually, falling back to `dateutil`. To ensure parsing is consistent and as-expected, please specify a format.\n",
      "  df['game_date'] = pd.to_datetime(df['Date'], errors='coerce').dt.strftime('%Y-%m-%d')\n",
      "/var/folders/5h/v8qm6jqd52q00q39r0ym2qhw0000gn/T/ipykernel_60021/1565990111.py:22: FutureWarning: Passing literal html to 'read_html' is deprecated and will be removed in a future version. To read from a literal string, wrap it in a 'StringIO' object.\n",
      "  df = pd.read_html(str(table))[0]\n",
      "/var/folders/5h/v8qm6jqd52q00q39r0ym2qhw0000gn/T/ipykernel_60021/1565990111.py:22: FutureWarning: Passing literal html to 'read_html' is deprecated and will be removed in a future version. To read from a literal string, wrap it in a 'StringIO' object.\n",
      "  df = pd.read_html(str(table))[0]\n"
     ]
    },
    {
     "name": "stdout",
     "output_type": "stream",
     "text": [
      "No data found for pitcher zerpaan01 in 2025 - OK\n"
     ]
    },
    {
     "name": "stderr",
     "output_type": "stream",
     "text": [
      "/var/folders/5h/v8qm6jqd52q00q39r0ym2qhw0000gn/T/ipykernel_60021/1565990111.py:22: FutureWarning: Passing literal html to 'read_html' is deprecated and will be removed in a future version. To read from a literal string, wrap it in a 'StringIO' object.\n",
      "  df = pd.read_html(str(table))[0]\n",
      "/var/folders/5h/v8qm6jqd52q00q39r0ym2qhw0000gn/T/ipykernel_60021/1565990111.py:22: FutureWarning: Passing literal html to 'read_html' is deprecated and will be removed in a future version. To read from a literal string, wrap it in a 'StringIO' object.\n",
      "  df = pd.read_html(str(table))[0]\n"
     ]
    },
    {
     "name": "stdout",
     "output_type": "stream",
     "text": [
      "No data found for pitcher zeuchtj01 in 2023 - OK\n",
      "No data found for pitcher zeuchtj01 in 2024 - OK\n",
      "No data found for pitcher zeuchtj01 in 2025 - OK\n"
     ]
    },
    {
     "name": "stderr",
     "output_type": "stream",
     "text": [
      "/var/folders/5h/v8qm6jqd52q00q39r0ym2qhw0000gn/T/ipykernel_60021/1565990111.py:22: FutureWarning: Passing literal html to 'read_html' is deprecated and will be removed in a future version. To read from a literal string, wrap it in a 'StringIO' object.\n",
      "  df = pd.read_html(str(table))[0]\n"
     ]
    },
    {
     "name": "stdout",
     "output_type": "stream",
     "text": [
      "No data found for pitcher zimmeky01 in 2022 - OK\n",
      "No data found for pitcher zimmeky01 in 2023 - OK\n",
      "No data found for pitcher zimmeky01 in 2024 - OK\n",
      "No data found for pitcher zimmeky01 in 2025 - OK\n"
     ]
    },
    {
     "name": "stderr",
     "output_type": "stream",
     "text": [
      "/var/folders/5h/v8qm6jqd52q00q39r0ym2qhw0000gn/T/ipykernel_60021/1565990111.py:22: FutureWarning: Passing literal html to 'read_html' is deprecated and will be removed in a future version. To read from a literal string, wrap it in a 'StringIO' object.\n",
      "  df = pd.read_html(str(table))[0]\n",
      "/var/folders/5h/v8qm6jqd52q00q39r0ym2qhw0000gn/T/ipykernel_60021/1565990111.py:22: FutureWarning: Passing literal html to 'read_html' is deprecated and will be removed in a future version. To read from a literal string, wrap it in a 'StringIO' object.\n",
      "  df = pd.read_html(str(table))[0]\n",
      "/var/folders/5h/v8qm6jqd52q00q39r0ym2qhw0000gn/T/ipykernel_60021/1565990111.py:22: FutureWarning: Passing literal html to 'read_html' is deprecated and will be removed in a future version. To read from a literal string, wrap it in a 'StringIO' object.\n",
      "  df = pd.read_html(str(table))[0]\n"
     ]
    },
    {
     "name": "stdout",
     "output_type": "stream",
     "text": [
      "No data found for pitcher zimmebr02 in 2024 - OK\n",
      "No data found for pitcher zimmebr02 in 2025 - OK\n"
     ]
    },
    {
     "name": "stderr",
     "output_type": "stream",
     "text": [
      "/var/folders/5h/v8qm6jqd52q00q39r0ym2qhw0000gn/T/ipykernel_60021/1565990111.py:22: FutureWarning: Passing literal html to 'read_html' is deprecated and will be removed in a future version. To read from a literal string, wrap it in a 'StringIO' object.\n",
      "  df = pd.read_html(str(table))[0]\n"
     ]
    },
    {
     "name": "stdout",
     "output_type": "stream",
     "text": [
      "No data found for pitcher zimmejo02 in 2022 - OK\n",
      "No data found for pitcher zimmejo02 in 2023 - OK\n",
      "No data found for pitcher zimmejo02 in 2024 - OK\n",
      "No data found for pitcher zimmejo02 in 2025 - OK\n"
     ]
    },
    {
     "name": "stderr",
     "output_type": "stream",
     "text": [
      "/var/folders/5h/v8qm6jqd52q00q39r0ym2qhw0000gn/T/ipykernel_60021/1565990111.py:22: FutureWarning: Passing literal html to 'read_html' is deprecated and will be removed in a future version. To read from a literal string, wrap it in a 'StringIO' object.\n",
      "  df = pd.read_html(str(table))[0]\n"
     ]
    },
    {
     "name": "stdout",
     "output_type": "stream",
     "text": [
      "No data found for pitcher zuberty01 in 2022 - OK\n",
      "No data found for pitcher zuberty01 in 2023 - OK\n"
     ]
    },
    {
     "name": "stderr",
     "output_type": "stream",
     "text": [
      "/var/folders/5h/v8qm6jqd52q00q39r0ym2qhw0000gn/T/ipykernel_60021/1565990111.py:22: FutureWarning: Passing literal html to 'read_html' is deprecated and will be removed in a future version. To read from a literal string, wrap it in a 'StringIO' object.\n",
      "  df = pd.read_html(str(table))[0]\n"
     ]
    },
    {
     "name": "stdout",
     "output_type": "stream",
     "text": [
      "No data found for pitcher zuberty01 in 2025 - OK\n",
      "No data found for pitcher zulueyo01 in 2021 - OK\n",
      "No data found for pitcher zulueyo01 in 2022 - OK\n",
      "No data found for pitcher zulueyo01 in 2023 - OK\n"
     ]
    },
    {
     "name": "stderr",
     "output_type": "stream",
     "text": [
      "/var/folders/5h/v8qm6jqd52q00q39r0ym2qhw0000gn/T/ipykernel_60021/1565990111.py:22: FutureWarning: Passing literal html to 'read_html' is deprecated and will be removed in a future version. To read from a literal string, wrap it in a 'StringIO' object.\n",
      "  df = pd.read_html(str(table))[0]\n"
     ]
    },
    {
     "name": "stdout",
     "output_type": "stream",
     "text": [
      "No data found for pitcher zulueyo01 in 2025 - OK\n",
      "No data found for pitcher zuniggu01 in 2021 - OK\n",
      "No data found for pitcher zuniggu01 in 2022 - OK\n"
     ]
    },
    {
     "name": "stderr",
     "output_type": "stream",
     "text": [
      "/var/folders/5h/v8qm6jqd52q00q39r0ym2qhw0000gn/T/ipykernel_60021/1565990111.py:22: FutureWarning: Passing literal html to 'read_html' is deprecated and will be removed in a future version. To read from a literal string, wrap it in a 'StringIO' object.\n",
      "  df = pd.read_html(str(table))[0]\n",
      "/var/folders/5h/v8qm6jqd52q00q39r0ym2qhw0000gn/T/ipykernel_60021/1565990111.py:22: FutureWarning: Passing literal html to 'read_html' is deprecated and will be removed in a future version. To read from a literal string, wrap it in a 'StringIO' object.\n",
      "  df = pd.read_html(str(table))[0]\n"
     ]
    },
    {
     "name": "stdout",
     "output_type": "stream",
     "text": [
      "No data found for pitcher zuniggu01 in 2025 - OK\n"
     ]
    }
   ],
   "source": [
    "idlist = pd.read_csv('pitcher_ids.csv')\n",
    "pitcher_ids = idlist.key_bbref\n",
    "\n",
    "game_pks = pd.read_csv('game_pks.csv')\n",
    "\n",
    "# Define the mapping from abbreviated team names to full team names\n",
    "team_id_mapping = {\n",
    "    'WSN': 120,\n",
    "    'MIA': 146,\n",
    "    'TBR': 139,\n",
    "    'ATL' : 144,\n",
    "    'TEX' : 140,\n",
    "    'HOU' : 117,\n",
    "    'SD' : 135,\n",
    "    'SDP' : 135,\n",
    "    'PHI' : 143,\n",
    "    'BAL' : 110,\n",
    "    'SEA' : 136,\n",
    "    'NYM' : 121,\n",
    "    'ARI' : 109,\n",
    "    'LAA' : 108,\n",
    "    'OAK' : 133,\n",
    "    'TOR' : 141,\n",
    "    'CLE' : 114,\n",
    "    'STL' : 138,\n",
    "    'MIN' : 142,\n",
    "    'DET' : 116,\n",
    "    'NYY' : 147,\n",
    "    'SFG' : 137,\n",
    "    'KCR' : 118,\n",
    "    'CWS' : 145,\n",
    "    'CHW' : 145,\n",
    "    'COL' : 115,\n",
    "    'BOS' : 111,\n",
    "    'LAD' : 119,\n",
    "    'CHC' : 112,\n",
    "    'MIL' : 158,\n",
    "    'CIN' : 113,\n",
    "    'PIT' : 134\n",
    "}\n",
    "\n",
    "# Define the years you want to process\n",
    "years = [2021, 2022, 2023, 2024, 2025]\n",
    "\n",
    "# Loop through each batter ID\n",
    "for id in pitcher_ids:\n",
    "    # Initialize an empty dataframe for the player\n",
    "    player_df = pd.DataFrame()\n",
    "\n",
    "    # Loop through each year\n",
    "    for year in years:\n",
    "        # Fetch data for the player and year\n",
    "        df = fetch_p_game_log(id, year)\n",
    "\n",
    "        time.sleep(1)\n",
    "\n",
    "        # Check if the fetched dataframe is None or empty\n",
    "        if df is None or df.empty:\n",
    "            continue  # Skip this year if no data available\n",
    "\n",
    "        # Apply the function to the date_column and create a new column\n",
    "        df['game_date'] = df['Date'].apply(lambda date : clean_date(date, year))\n",
    "        df['Date'] = df['game_date']\n",
    "\n",
    "        # Ensure the 'Date' column in df and 'game_date' column in game_pks are in datetime format\n",
    "        df['Date'] = pd.to_datetime(df['Date'])\n",
    "        game_pks['game_date'] = pd.to_datetime(game_pks['game_date'])\n",
    "\n",
    "        # Map the team abbreviations to full team names\n",
    "        df['team_id'] = df['Tm'].map(team_id_mapping)\n",
    "        df['opp_id'] = df['Opp'].map(team_id_mapping)\n",
    "\n",
    "        # Initialize a new column in df for game_id\n",
    "        df['game_id'] = None\n",
    "\n",
    "        # Iterate over the rows in df to find the corresponding game_id in game_pks\n",
    "        for index, row in df.iterrows():\n",
    "\n",
    "            #print(f\"Processing row {index}: Date={row['Date']}, Team={row['team_id']}, Opponent={row['opp_id']}\")\n",
    "            \n",
    "\n",
    "            # Filter the game_pks for the matching date and teams\n",
    "            game_day_matches = game_pks[\n",
    "                (game_pks['game_date'] == row['Date']) &\n",
    "                (\n",
    "                    ((game_pks['home_id'] == row['team_id']) & (game_pks['away_id'] == row['opp_id'])) |\n",
    "                    ((game_pks['home_id'] == row['opp_id']) & (game_pks['away_id'] == row['team_id']))\n",
    "                )\n",
    "            ]\n",
    "\n",
    "            \n",
    "            #print(f\"Matches found: {len(game_day_matches)}\")\n",
    "            \n",
    "\n",
    "            # Check the 'dbl' column to assign the correct game_id\n",
    "            if not game_day_matches.empty:\n",
    "\n",
    "                #print(f\"Match details: {game_day_matches}\")\n",
    "\n",
    "                if row['dbl'] == 1:\n",
    "                    # For the first game of a double-header\n",
    "                    game_id = game_day_matches.iloc[0]['game_id']\n",
    "                elif row['dbl'] == 2:\n",
    "                    # For the second game of a double-header\n",
    "                    if len(game_day_matches) > 1:\n",
    "                        game_id = game_day_matches.iloc[1]['game_id']\n",
    "                    else:\n",
    "                        game_id = game_day_matches.iloc[0]['game_id']\n",
    "                else:\n",
    "                    # For days without double-headers or unmarked double-headers, take the first game\n",
    "                    game_id = game_day_matches.iloc[0]['game_id']\n",
    "                df.at[index, 'game_id'] = game_id\n",
    "                #print(f\"Assigned game_id: {game_id}\")\n",
    "            else:\n",
    "                print(\"BAD - NO GAME MATCHES FOUND (pitcher).\")\n",
    "\n",
    "        # Append the data for the year to player_df\n",
    "        player_df = pd.concat([player_df, df])\n",
    "\n",
    "    # Save the player's data to a CSV file\n",
    "    player_df.to_csv(f'pitchers/{id}_pitching.csv', index=False)"
   ]
  },
  {
   "cell_type": "markdown",
   "metadata": {},
   "source": [
    "# Check for empty files"
   ]
  },
  {
   "cell_type": "code",
   "execution_count": 20,
   "metadata": {},
   "outputs": [
    {
     "name": "stdout",
     "output_type": "stream",
     "text": [
      "[]\n"
     ]
    }
   ],
   "source": [
    "idlist = pd.read_csv('pitcher_ids.csv')\n",
    "pitcher_ids = idlist.key_bbref\n",
    "\n",
    "game_pks = pd.read_csv('game_pks.csv')\n",
    "\n",
    "bad_p_ids = []\n",
    "\n",
    "# Loop through each pitcher ID\n",
    "for id in pitcher_ids:\n",
    "    # Skip empty or NaN IDs\n",
    "    if not id or pd.isna(id):\n",
    "        continue\n",
    "\n",
    "    # Define the file path\n",
    "    player_file_path = f'pitchers/{id}_pitching.csv'\n",
    "    \n",
    "    # Check if the file exists and is not empty\n",
    "    if os.path.exists(player_file_path) and os.path.getsize(player_file_path) > 0:\n",
    "        try:\n",
    "            # Attempt to read the first few rows to ensure the file has content\n",
    "            player_df = pd.read_csv(player_file_path, nrows=5)\n",
    "            if player_df.empty:\n",
    "                print(f\"File for ID {id} is empty or improperly formatted.\")\n",
    "                player_df = pd.DataFrame()  # Ensure player_df is an empty DataFrame\n",
    "                continue\n",
    "            else:\n",
    "                # Now read the entire file since it's confirmed to have content\n",
    "                player_df = pd.read_csv(player_file_path)\n",
    "        except pd.errors.EmptyDataError:\n",
    "            print(f\"File for ID {id} is empty.\")\n",
    "            player_df = pd.DataFrame()\n",
    "            bad_p_ids.append(id)\n",
    "            continue\n",
    "        except pd.errors.ParserError:\n",
    "            print(f\"File for ID {id} is improperly formatted.\")\n",
    "            player_df = pd.DataFrame()\n",
    "            bad_p_ids.append(id)\n",
    "            continue\n",
    "\n",
    "print(bad_p_ids)"
   ]
  },
  {
   "cell_type": "markdown",
   "metadata": {},
   "source": [
    "# Check if the individual data exists"
   ]
  },
  {
   "cell_type": "code",
   "execution_count": 21,
   "metadata": {},
   "outputs": [
    {
     "name": "stderr",
     "output_type": "stream",
     "text": [
      "/var/folders/5h/v8qm6jqd52q00q39r0ym2qhw0000gn/T/ipykernel_60021/1565990111.py:22: FutureWarning: Passing literal html to 'read_html' is deprecated and will be removed in a future version. To read from a literal string, wrap it in a 'StringIO' object.\n",
      "  df = pd.read_html(str(table))[0]\n"
     ]
    }
   ],
   "source": [
    "data = fetch_p_game_log('dolisra01', 2021)\n"
   ]
  },
  {
   "cell_type": "markdown",
   "metadata": {},
   "source": [
    "# Handle (Fetch) the missing data"
   ]
  },
  {
   "cell_type": "code",
   "execution_count": 22,
   "metadata": {},
   "outputs": [],
   "source": [
    "\n",
    "pitcher_ids = bad_p_ids\n",
    "\n",
    "game_pks = pd.read_csv('game_pks.csv')\n",
    "\n",
    "# Define the mapping from abbreviated team names to full team names\n",
    "team_id_mapping = {\n",
    "    'WSN': 120,\n",
    "    'MIA': 146,\n",
    "    'TBR': 139,\n",
    "    'ATL' : 144,\n",
    "    'TEX' : 140,\n",
    "    'HOU' : 117,\n",
    "    'SD' : 135,\n",
    "    'SDP' : 135,\n",
    "    'PHI' : 143,\n",
    "    'BAL' : 110,\n",
    "    'SEA' : 136,\n",
    "    'NYM' : 121,\n",
    "    'ARI' : 109,\n",
    "    'LAA' : 108,\n",
    "    'OAK' : 133,\n",
    "    'TOR' : 141,\n",
    "    'CLE' : 114,\n",
    "    'STL' : 138,\n",
    "    'MIN' : 142,\n",
    "    'DET' : 116,\n",
    "    'NYY' : 147,\n",
    "    'SFG' : 137,\n",
    "    'KCR' : 118,\n",
    "    'CWS' : 145,\n",
    "    'CHW' : 145,\n",
    "    'COL' : 115,\n",
    "    'BOS' : 111,\n",
    "    'LAD' : 119,\n",
    "    'CHC' : 112,\n",
    "    'MIL' : 158,\n",
    "    'CIN' : 113,\n",
    "    'PIT' : 134\n",
    "}\n",
    "\n",
    "# Define the years you want to process\n",
    "years = [2021, 2022, 2023, 2024, 2025]\n",
    "\n",
    "# Loop through each batter ID\n",
    "for id in pitcher_ids:\n",
    "    # Initialize an empty dataframe for the player\n",
    "    player_df = pd.DataFrame()\n",
    "\n",
    "    # Loop through each year\n",
    "    for year in years:\n",
    "        # Fetch data for the player and year\n",
    "        df = fetch_p_game_log(id, year)\n",
    "\n",
    "        time.sleep(1)\n",
    "\n",
    "        # Check if the fetched dataframe is None or empty\n",
    "        if df is None or df.empty:\n",
    "            continue  # Skip this year if no data available\n",
    "\n",
    "        # Apply the function to the date_column and create a new column\n",
    "        df['game_date'] = df['Date'].apply(lambda date : clean_date(date, year))\n",
    "        df['Date'] = df['game_date']\n",
    "\n",
    "        # Ensure the 'Date' column in df and 'game_date' column in game_pks are in datetime format\n",
    "        df['Date'] = pd.to_datetime(df['Date'])\n",
    "        game_pks['game_date'] = pd.to_datetime(game_pks['game_date'])\n",
    "\n",
    "        # Map the team abbreviations to full team names\n",
    "        df['team_id'] = df['Tm'].map(team_id_mapping)\n",
    "        df['opp_id'] = df['Opp'].map(team_id_mapping)\n",
    "\n",
    "        # Initialize a new column in df for game_id\n",
    "        df['game_id'] = None\n",
    "\n",
    "        # Iterate over the rows in df to find the corresponding game_id in game_pks\n",
    "        for index, row in df.iterrows():\n",
    "\n",
    "            #print(f\"Processing row {index}: Date={row['Date']}, Team={row['team_id']}, Opponent={row['opp_id']}\")\n",
    "            \n",
    "\n",
    "            # Filter the game_pks for the matching date and teams\n",
    "            game_day_matches = game_pks[\n",
    "                (game_pks['game_date'] == row['Date']) &\n",
    "                (\n",
    "                    ((game_pks['home_id'] == row['team_id']) & (game_pks['away_id'] == row['opp_id'])) |\n",
    "                    ((game_pks['home_id'] == row['opp_id']) & (game_pks['away_id'] == row['team_id']))\n",
    "                )\n",
    "            ]\n",
    "\n",
    "            \n",
    "            #print(f\"Matches found: {len(game_day_matches)}\")\n",
    "            \n",
    "\n",
    "            # Check the 'dbl' column to assign the correct game_id\n",
    "            if not game_day_matches.empty:\n",
    "\n",
    "                #print(f\"Match details: {game_day_matches}\")\n",
    "\n",
    "                if row['dbl'] == 1:\n",
    "                    # For the first game of a double-header\n",
    "                    game_id = game_day_matches.iloc[0]['game_id']\n",
    "                elif row['dbl'] == 2:\n",
    "                    # For the second game of a double-header\n",
    "                    if len(game_day_matches) > 1:\n",
    "                        game_id = game_day_matches.iloc[1]['game_id']\n",
    "                    else:\n",
    "                        game_id = game_day_matches.iloc[0]['game_id']\n",
    "                else:\n",
    "                    # For days without double-headers or unmarked double-headers, take the first game\n",
    "                    game_id = game_day_matches.iloc[0]['game_id']\n",
    "                df.at[index, 'game_id'] = game_id\n",
    "                #print(f\"Assigned game_id: {game_id}\")\n",
    "            else:\n",
    "                print(\"BAD - NO GAME MATCHES FOUND (pitcher).\")\n",
    "\n",
    "        # Append the data for the year to player_df\n",
    "        player_df = pd.concat([player_df, df])\n",
    "\n",
    "    # Save the player's data to a CSV file\n",
    "    player_df.to_csv(f'pitchers/{id}_pitching.csv', index=False)"
   ]
  },
  {
   "cell_type": "code",
   "execution_count": null,
   "metadata": {},
   "outputs": [],
   "source": []
  }
 ],
 "metadata": {
  "kernelspec": {
   "display_name": "mlb",
   "language": "python",
   "name": "python3"
  },
  "language_info": {
   "codemirror_mode": {
    "name": "ipython",
    "version": 3
   },
   "file_extension": ".py",
   "mimetype": "text/x-python",
   "name": "python",
   "nbconvert_exporter": "python",
   "pygments_lexer": "ipython3",
   "version": "3.11.5"
  }
 },
 "nbformat": 4,
 "nbformat_minor": 2
}
