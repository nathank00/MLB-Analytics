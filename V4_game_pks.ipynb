{
 "cells": [
  {
   "cell_type": "code",
   "execution_count": 4,
   "metadata": {},
   "outputs": [],
   "source": [
    "import os\n",
    "import re\n",
    "import pandas as pd\n",
    "from pybaseball import statcast_batter, statcast_pitcher, playerid_lookup, pitching_stats_range, batting_stats_range, schedule_and_record, team_game_logs, pybaseball\n",
    "from datetime import timedelta, datetime\n",
    "import statsapi\n",
    "import pprint"
   ]
  },
  {
   "cell_type": "code",
   "execution_count": 5,
   "metadata": {},
   "outputs": [],
   "source": [
    "today = datetime.now()\n",
    "end_date = today.strftime('%Y-%m-%d')\n",
    "end_date = '2024-05-24'\n",
    "\n",
    "season = today.year\n",
    "\n",
    "\n",
    "def get_game_pks():\n",
    "    \n",
    "    desired_seasons = [2021, 2022, 2023, 2024] # Add Desired Seasons Here\n",
    "\n",
    "    data_fields = ['game_date', 'game_id', 'away_name', 'away_id', 'home_name', 'home_id']\n",
    "\n",
    "    ids_data = []\n",
    "\n",
    "    today = datetime.now().strftime('%Y-%m-%d')\n",
    "\n",
    "\n",
    "    for year in desired_seasons:\n",
    "\n",
    "        if desired_seasons.index(year) < len(desired_seasons)-1:\n",
    "            schedule = statsapi.schedule(start_date=f'{year}-01-01', end_date=f'{year}-12-31')\n",
    "\n",
    "            for game in schedule:\n",
    "                row = {field: game[field] for field in data_fields}\n",
    "                ids_data.append(row)\n",
    "\n",
    "            ids = pd.DataFrame(ids_data, columns=data_fields)\n",
    "        else:\n",
    "            schedule = statsapi.schedule(start_date=f'{year}-01-01', end_date=today)\n",
    "\n",
    "            for game in schedule:\n",
    "                row = {field: game[field] for field in data_fields}\n",
    "                ids_data.append(row)\n",
    "\n",
    "            ids = pd.DataFrame(ids_data, columns=data_fields)\n",
    "\n",
    "    ids.to_csv('game_pks.csv')\n",
    "\n",
    "    "
   ]
  },
  {
   "cell_type": "code",
   "execution_count": 6,
   "metadata": {},
   "outputs": [],
   "source": [
    "get_game_pks()"
   ]
  },
  {
   "cell_type": "code",
   "execution_count": null,
   "metadata": {},
   "outputs": [],
   "source": []
  }
 ],
 "metadata": {
  "kernelspec": {
   "display_name": "MLBpy",
   "language": "python",
   "name": "python3"
  },
  "language_info": {
   "codemirror_mode": {
    "name": "ipython",
    "version": 3
   },
   "file_extension": ".py",
   "mimetype": "text/x-python",
   "name": "python",
   "nbconvert_exporter": "python",
   "pygments_lexer": "ipython3",
   "version": "3.12.2"
  }
 },
 "nbformat": 4,
 "nbformat_minor": 2
}
