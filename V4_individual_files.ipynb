{
 "cells": [
  {
   "cell_type": "code",
   "execution_count": 1,
   "metadata": {},
   "outputs": [],
   "source": [
    "import os\n",
    "import re\n",
    "import pandas as pd\n",
    "from pybaseball import statcast_batter, statcast_pitcher, playerid_lookup, pitching_stats_range, batting_stats_range, schedule_and_record, team_game_logs, pybaseball\n",
    "from datetime import timedelta, datetime\n",
    "import statsapi\n",
    "import pprint"
   ]
  },
  {
   "cell_type": "code",
   "execution_count": 4,
   "metadata": {},
   "outputs": [],
   "source": [
    "today = datetime.now()\n",
    "end_date = today.strftime('%Y-%m-%d')"
   ]
  },
  {
   "cell_type": "code",
   "execution_count": 26,
   "metadata": {},
   "outputs": [],
   "source": [
    "def get_all_game_pks_since_2021(start_year=2023):\n",
    "    game_pks = []\n",
    "    \n",
    "    # Iterate through each year starting from 2021 to the current year\n",
    "    for year in range(2024, today.year + 1):\n",
    "        # Get the schedule for the year\n",
    "        schedule = statsapi.schedule(start_date=f'{year}-05-01', end_date=end_date)\n",
    "        \n",
    "        # Extract gamePk IDs from the schedule\n",
    "        for game in schedule:\n",
    "            game_pks.append(game['game_id'])\n",
    "    \n",
    "    return game_pks"
   ]
  },
  {
   "cell_type": "code",
   "execution_count": 27,
   "metadata": {},
   "outputs": [],
   "source": [
    "def get_player_roles_since_2021():\n",
    "    game_pks = get_all_game_pks_since_2021()\n",
    "    player_roles = {}\n",
    "    \n",
    "    for gamePk in game_pks:\n",
    "        boxscore = statsapi.boxscore_data(gamePk)\n",
    "        \n",
    "        for team_key in ['home', 'away']:\n",
    "            if team_key in boxscore and 'players' in boxscore[team_key]:\n",
    "                team_players = boxscore[team_key]['players']\n",
    "                \n",
    "                for player_id, player_info in team_players.items():\n",
    "                    if '_' in player_id:\n",
    "                        player_id_parts = player_id.split('_')\n",
    "                        if len(player_id_parts) > 1:\n",
    "                            player_id = int(player_id_parts[1])\n",
    "                            # Determine if the player is a batter or pitcher\n",
    "                            if player_info['position']['abbreviation'] in ['P']:\n",
    "                                role = 'Pitching'\n",
    "                            else:\n",
    "                                role = 'Batting'\n",
    "\n",
    "                            player_roles[player_id] = role\n",
    "    \n",
    "    return player_roles\n"
   ]
  },
  {
   "cell_type": "code",
   "execution_count": 28,
   "metadata": {},
   "outputs": [],
   "source": [
    "def create_player_csv(player_id, role, games):\n",
    "    player_data = {\n",
    "        'Game Date': [game['gameDate'] for game in games],\n",
    "        'Game ID': [game['gamePk'] for game in games],\n",
    "        'Stats': [game['stats'] for game in games]\n",
    "    }\n",
    "    \n",
    "    df = pd.DataFrame(player_data)\n",
    "    file_name = f\"{player_id}_{role.lower()}.csv\"\n",
    "    df.to_csv(file_name, index=False)"
   ]
  },
  {
   "cell_type": "code",
   "execution_count": 29,
   "metadata": {},
   "outputs": [],
   "source": [
    "# Example usage\n",
    "player_roles = get_player_roles_since_2021()\n"
   ]
  },
  {
   "cell_type": "code",
   "execution_count": 30,
   "metadata": {},
   "outputs": [
    {
     "name": "stdout",
     "output_type": "stream",
     "text": [
      "{} 0\n"
     ]
    }
   ],
   "source": [
    "print(player_roles, len(player_roles))"
   ]
  },
  {
   "cell_type": "code",
   "execution_count": null,
   "metadata": {},
   "outputs": [],
   "source": [
    "for player_id, role in player_roles.items():\n",
    "    games = statsapi.player_game_log(player_id)\n",
    "    create_player_csv(player_id, role, games)"
   ]
  }
 ],
 "metadata": {
  "kernelspec": {
   "display_name": "MLBpy",
   "language": "python",
   "name": "python3"
  },
  "language_info": {
   "codemirror_mode": {
    "name": "ipython",
    "version": 3
   },
   "file_extension": ".py",
   "mimetype": "text/x-python",
   "name": "python",
   "nbconvert_exporter": "python",
   "pygments_lexer": "ipython3",
   "version": "3.12.2"
  }
 },
 "nbformat": 4,
 "nbformat_minor": 2
}
