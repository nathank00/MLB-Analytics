{
 "cells": [
  {
   "cell_type": "markdown",
   "metadata": {},
   "source": [
    "# Retrieve Player IDs\n",
    "* The players dataset is stored as 'players_ids.csv'"
   ]
  },
  {
   "cell_type": "code",
   "execution_count": 13,
   "metadata": {},
   "outputs": [],
   "source": [
    "import pandas as pd\n",
    "from nba_api.stats.endpoints import commonallplayers\n",
    "from datetime import datetime\n",
    "import csv\n",
    "import pprint"
   ]
  },
  {
   "cell_type": "code",
   "execution_count": 12,
   "metadata": {},
   "outputs": [
    {
     "name": "stdout",
     "output_type": "stream",
     "text": [
      "Fetching active players for season 2020-21...\n",
      "Fetching active players for season 2021-22...\n",
      "Fetching active players for season 2022-23...\n",
      "Fetching active players for season 2023-24...\n",
      "Data saved to player_ids.csv\n"
     ]
    }
   ],
   "source": [
    "# Dictionary to map TEAM_ID to TEAM_NAME\n",
    "team_id_to_name = {\n",
    "    '1610612737': 'Atlanta Hawks',\n",
    "    '1610612738': 'Boston Celtics',\n",
    "    '1610612739': 'Cleveland Cavaliers',\n",
    "    '1610612740': 'New Orleans Pelicans',\n",
    "    '1610612741': 'Chicago Bulls',\n",
    "    '1610612742': 'Dallas Mavericks',\n",
    "    '1610612743': 'Denver Nuggets',\n",
    "    '1610612744': 'Golden State Warriors',\n",
    "    '1610612745': 'Houston Rockets',\n",
    "    '1610612746': 'LA Clippers',\n",
    "    '1610612747': 'Los Angeles Lakers',\n",
    "    '1610612748': 'Miami Heat',\n",
    "    '1610612749': 'Milwaukee Bucks',\n",
    "    '1610612750': 'Minnesota Timberwolves',\n",
    "    '1610612751': 'Brooklyn Nets',\n",
    "    '1610612752': 'New York Knicks',\n",
    "    '1610612753': 'Orlando Magic',\n",
    "    '1610612754': 'Indiana Pacers',\n",
    "    '1610612755': 'Philadelphia 76ers',\n",
    "    '1610612756': 'Phoenix Suns',\n",
    "    '1610612757': 'Portland Trail Blazers',\n",
    "    '1610612758': 'Sacramento Kings',\n",
    "    '1610612759': 'San Antonio Spurs',\n",
    "    '1610612760': 'Oklahoma City Thunder',\n",
    "    '1610612761': 'Toronto Raptors',\n",
    "    '1610612762': 'Utah Jazz',\n",
    "    '1610612763': 'Memphis Grizzlies',\n",
    "    '1610612764': 'Washington Wizards',\n",
    "    '1610612765': 'Detroit Pistons',\n",
    "    '1610612766': 'Charlotte Hornets'\n",
    "}\n",
    "\n",
    "def get_active_players(start_season, end_season, output_file):\n",
    "    # Initialize an empty list to store DataFrames for each season\n",
    "    all_seasons_data = []\n",
    "\n",
    "    # Extract the start and end years from the season strings\n",
    "    start_year = int(start_season[:4])\n",
    "    end_year = int(end_season[:4])\n",
    "    \n",
    "    # Loop through seasons from start_season to end_season\n",
    "    for year in range(start_year, end_year + 1):\n",
    "        season = f\"{year}-{str(year+1)[-2:]}\"\n",
    "        \n",
    "        print(f\"Fetching active players for season {season}...\")\n",
    "        \n",
    "        # Fetch active players for the season\n",
    "        season_data = commonallplayers.CommonAllPlayers(is_only_current_season=1, league_id='00', season=season).get_data_frames()[0]\n",
    "        \n",
    "        # Add a 'SEASON' column to keep track of the season for each player\n",
    "        season_data['SEASON'] = season\n",
    "\n",
    "        # Keep only the necessary columns: Name, Team ID, and Player ID\n",
    "        season_data = season_data[['DISPLAY_FIRST_LAST', 'TEAM_ID', 'PERSON_ID']]\n",
    "\n",
    "        # Replace 'TEAM_ID' with the corresponding team name using the dictionary\n",
    "        season_data['TEAM_NAME'] = season_data['TEAM_ID'].astype(str).map(team_id_to_name)\n",
    "        \n",
    "        # Drop the 'TEAM_ID' column\n",
    "        season_data = season_data.drop(columns=['TEAM_ID'])\n",
    "        \n",
    "        # Append the data to the list\n",
    "        all_seasons_data.append(season_data)\n",
    "    \n",
    "    # Combine all seasons' data\n",
    "    combined_data = pd.concat(all_seasons_data, ignore_index=True)\n",
    "    \n",
    "    # Save to CSV\n",
    "    combined_data.to_csv(output_file, index=False)\n",
    "    print(f\"Data saved to {output_file}\")\n",
    "\n",
    "get_active_players('2020-21', '2023-24', 'player_ids.csv')\n"
   ]
  }
 ],
 "metadata": {
  "kernelspec": {
   "display_name": "MLBpy",
   "language": "python",
   "name": "python3"
  },
  "language_info": {
   "codemirror_mode": {
    "name": "ipython",
    "version": 3
   },
   "file_extension": ".py",
   "mimetype": "text/x-python",
   "name": "python",
   "nbconvert_exporter": "python",
   "pygments_lexer": "ipython3",
   "version": "3.10.9"
  }
 },
 "nbformat": 4,
 "nbformat_minor": 2
}
