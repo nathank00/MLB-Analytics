{
 "cells": [
  {
   "cell_type": "markdown",
   "metadata": {},
   "source": [
    "# Retrieve Player IDs\n",
    "### This script pulls the name, mlbID, and bref ID for all players from a specified start date, to a specified end date.\n",
    "* The batter dataset is stored as 'batter_ids.csv'\n",
    "* The pitcher dataset is stored as 'pitcher_ids.csv'"
   ]
  },
  {
   "cell_type": "code",
   "execution_count": 1,
   "metadata": {},
   "outputs": [],
   "source": [
    "import pandas as pd\n",
    "from statsapi import player_stats\n",
    "from pybaseball import playerid_lookup, batting_stats_range, pitching_stats_range, playerid_reverse_lookup\n",
    "from datetime import datetime\n",
    "import csv"
   ]
  },
  {
   "cell_type": "code",
   "execution_count": 3,
   "metadata": {},
   "outputs": [],
   "source": [
    "start_date = '2021-01-01'\n",
    "start_season = 2021\n",
    "\n",
    "today = datetime.now()\n",
    "end_date = today.strftime('%Y-%m-%d')\n",
    "\n",
    "season = today.year"
   ]
  },
  {
   "cell_type": "code",
   "execution_count": 4,
   "metadata": {},
   "outputs": [],
   "source": [
    "batting = batting_stats_range(start_date, end_date)\n",
    "pitching = pitching_stats_range(start_date, end_date)\n"
   ]
  },
  {
   "cell_type": "code",
   "execution_count": 5,
   "metadata": {},
   "outputs": [
    {
     "name": "stderr",
     "output_type": "stream",
     "text": [
      "C:\\Users\\kesse\\AppData\\Local\\Temp\\ipykernel_14648\\3656683846.py:3: SettingWithCopyWarning: \n",
      "A value is trying to be set on a copy of a slice from a DataFrame.\n",
      "Try using .loc[row_indexer,col_indexer] = value instead\n",
      "\n",
      "See the caveats in the documentation: https://pandas.pydata.org/pandas-docs/stable/user_guide/indexing.html#returning-a-view-versus-a-copy\n",
      "  batter_ids['key_bbref'] = None\n"
     ]
    },
    {
     "name": "stdout",
     "output_type": "stream",
     "text": [
      "Gathering player lookup table. This may take a moment.\n"
     ]
    },
    {
     "name": "stderr",
     "output_type": "stream",
     "text": [
      "C:\\Users\\kesse\\AppData\\Local\\Temp\\ipykernel_14648\\3656683846.py:17: SettingWithCopyWarning: \n",
      "A value is trying to be set on a copy of a slice from a DataFrame.\n",
      "Try using .loc[row_indexer,col_indexer] = value instead\n",
      "\n",
      "See the caveats in the documentation: https://pandas.pydata.org/pandas-docs/stable/user_guide/indexing.html#returning-a-view-versus-a-copy\n",
      "  pitcher_ids['key_bbref'] = None\n"
     ]
    }
   ],
   "source": [
    "batter_ids = batting[['Name', 'Tm', 'mlbID']]\n",
    "# Add an empty column 'key_bbref' initialized with None\n",
    "batter_ids['key_bbref'] = None\n",
    "\n",
    "# Loop through each player ID and fetch their bbref ID\n",
    "for idx, mlb_id in batter_ids.iterrows():\n",
    "    # Fetch the data using the player ID\n",
    "    data = playerid_reverse_lookup([mlb_id['mlbID']], key_type='mlbam')\n",
    "    if not data.empty:\n",
    "        bbref = data.at[0, 'key_bbref']  # Extract the bbref ID from the returned DataFrame\n",
    "        batter_ids.at[idx, 'key_bbref'] = bbref  # Assign the bbref ID to the respective row\n",
    "\n",
    "\n",
    "\n",
    "pitcher_ids = pitching[['Name', 'Tm', 'mlbID']]\n",
    "# Add an empty column 'key_bbref' initialized with None\n",
    "pitcher_ids['key_bbref'] = None\n",
    "\n",
    "# Loop through each player ID and fetch their bbref ID\n",
    "for idx, mlb_id in batter_ids.iterrows():\n",
    "    # Fetch the data using the player ID\n",
    "    data = playerid_reverse_lookup([mlb_id['mlbID']], key_type='mlbam')\n",
    "    if not data.empty:\n",
    "        bbref = data.at[0, 'key_bbref']  # Extract the bbref ID from the returned DataFrame\n",
    "        pitcher_ids.at[idx, 'key_bbref'] = bbref  # Assign the bbref ID to the respective row\n",
    "\n"
   ]
  },
  {
   "cell_type": "code",
   "execution_count": 7,
   "metadata": {},
   "outputs": [],
   "source": [
    "batter_ids.to_csv('batter_ids.csv')\n",
    "pitcher_ids.to_csv('pitcher_ids.csv')"
   ]
  },
  {
   "cell_type": "code",
   "execution_count": null,
   "metadata": {},
   "outputs": [],
   "source": []
  }
 ],
 "metadata": {
  "kernelspec": {
   "display_name": "MLBpy",
   "language": "python",
   "name": "python3"
  },
  "language_info": {
   "codemirror_mode": {
    "name": "ipython",
    "version": 3
   },
   "file_extension": ".py",
   "mimetype": "text/x-python",
   "name": "python",
   "nbconvert_exporter": "python",
   "pygments_lexer": "ipython3",
   "version": "3.12.2"
  }
 },
 "nbformat": 4,
 "nbformat_minor": 2
}
