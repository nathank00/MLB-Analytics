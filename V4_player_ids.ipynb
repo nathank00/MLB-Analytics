{
 "cells": [
  {
   "cell_type": "code",
   "execution_count": 36,
   "metadata": {},
   "outputs": [],
   "source": [
    "import pandas as pd\n",
    "from statsapi import player_stats\n",
    "from pybaseball import playerid_lookup, batting_stats_range, pitching_stats_range\n",
    "from datetime import datetime\n",
    "import csv"
   ]
  },
  {
   "cell_type": "code",
   "execution_count": 57,
   "metadata": {},
   "outputs": [],
   "source": [
    "start_date = '2021-01-01'\n",
    "start_season = 2021\n",
    "\n",
    "today = datetime.now()\n",
    "end_date = today.strftime('%Y-%m-%d')\n",
    "\n",
    "season = today.year"
   ]
  },
  {
   "cell_type": "code",
   "execution_count": 54,
   "metadata": {},
   "outputs": [],
   "source": [
    "batting = batting_stats_range(start_date, end_date)\n",
    "pitching = pitching_stats_range(start_date, end_date)\n"
   ]
  },
  {
   "cell_type": "code",
   "execution_count": 55,
   "metadata": {},
   "outputs": [],
   "source": [
    "batter_ids = batting[['Name', 'Tm', 'mlbID']]\n",
    "pitching_ids = pitching[['Name', 'Tm', 'mlbID']]"
   ]
  },
  {
   "cell_type": "code",
   "execution_count": 56,
   "metadata": {},
   "outputs": [],
   "source": [
    "batter_ids.to_csv('batter_ids.csv')\n",
    "pitching_ids.to_csv('pitching_ids.csv')"
   ]
  }
 ],
 "metadata": {
  "kernelspec": {
   "display_name": "MLBpy",
   "language": "python",
   "name": "python3"
  },
  "language_info": {
   "codemirror_mode": {
    "name": "ipython",
    "version": 3
   },
   "file_extension": ".py",
   "mimetype": "text/x-python",
   "name": "python",
   "nbconvert_exporter": "python",
   "pygments_lexer": "ipython3",
   "version": "3.12.2"
  }
 },
 "nbformat": 4,
 "nbformat_minor": 2
}
