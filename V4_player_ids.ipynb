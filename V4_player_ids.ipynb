{
 "cells": [
  {
   "cell_type": "markdown",
   "metadata": {},
   "source": [
    "# Retrieve Player IDs\n",
    "### This script pulls the name, mlbID, and bref ID for all players from a specified start date, to a specified end date.\n",
    "* The batter dataset is stored as 'batter_ids.csv'\n",
    "* The pitcher dataset is stored as 'pitcher_ids.csv'"
   ]
  },
  {
   "cell_type": "code",
   "execution_count": 83,
   "metadata": {},
   "outputs": [],
   "source": [
    "import pandas as pd\n",
    "from statsapi import player_stats\n",
    "from pybaseball import playerid_lookup, batting_stats_range, pitching_stats_range, playerid_reverse_lookup\n",
    "from datetime import datetime\n",
    "import csv\n",
    "import pprint"
   ]
  },
  {
   "cell_type": "code",
   "execution_count": 84,
   "metadata": {},
   "outputs": [],
   "source": [
    "start_date = '2021-01-01'\n",
    "start_season = 2021\n",
    "\n",
    "today = datetime.now()\n",
    "end_date = today.strftime('%Y-%m-%d')\n",
    "\n",
    "season = today.year"
   ]
  },
  {
   "cell_type": "code",
   "execution_count": 86,
   "metadata": {},
   "outputs": [],
   "source": [
    "batting = batting_stats_range(start_date, end_date)\n",
    "pitching = pitching_stats_range(start_date, end_date)"
   ]
  },
  {
   "cell_type": "code",
   "execution_count": 87,
   "metadata": {},
   "outputs": [
    {
     "name": "stderr",
     "output_type": "stream",
     "text": [
      "C:\\Users\\kesse\\AppData\\Local\\Temp\\ipykernel_14648\\2396604167.py:3: SettingWithCopyWarning: \n",
      "A value is trying to be set on a copy of a slice from a DataFrame.\n",
      "Try using .loc[row_indexer,col_indexer] = value instead\n",
      "\n",
      "See the caveats in the documentation: https://pandas.pydata.org/pandas-docs/stable/user_guide/indexing.html#returning-a-view-versus-a-copy\n",
      "  batter_ids['key_bbref'] = None\n"
     ]
    },
    {
     "name": "stdout",
     "output_type": "stream",
     "text": [
      "No BBref ID found for mlbID: 669208, Ryan Bliss (Batter)\n",
      "No BBref ID found for mlbID: 676113, Zach DeLoach (Batter)\n",
      "No BBref ID found for mlbID: 671286, Johnathan Rodr\\xc3\\xadguez (Batter)\n",
      "No BBref ID found for mlbID: 676679, Luis V\\xc3\\xa1zquez (Batter)\n",
      "No BBref ID found for mlbID: 642520, Gerson Garabito (Pitcher)\n",
      "No BBref ID found for mlbID: 687863, Porter Hodge (Pitcher)\n",
      "No BBref ID found for mlbID: 672552, Jack O\\'Loughlin (Pitcher)\n"
     ]
    }
   ],
   "source": [
    "batter_ids = batting[['Name', 'Tm', 'mlbID']]\n",
    "# Add an empty column 'key_bbref' initialized with None\n",
    "batter_ids['key_bbref'] = None\n",
    "\n",
    "# Loop through each player ID and fetch their bbref ID\n",
    "for idx, mlb_id in batter_ids.iterrows():\n",
    "\n",
    "    try:\n",
    "        # Fetch the data using the player ID\n",
    "        batterdata = playerid_reverse_lookup([mlb_id['mlbID']], key_type='mlbam')\n",
    "        if not batterdata.empty:\n",
    "            bbref = batterdata.at[0, 'key_bbref']  # Extract the bbref ID from the returned DataFrame\n",
    "            batter_ids.at[idx, 'key_bbref'] = bbref  # Assign the bbref ID to the respective row\n",
    "        else:\n",
    "                print(f\"No BBref ID found for mlbID: {mlb_id['mlbID']}, {mlb_id['Name']} (Batter)\")\n",
    "    except Exception as e:\n",
    "        print(f\"Error processing mlbID: {mlb_id['mlbID']}, Error: {e}\")\n",
    "\n",
    "\n",
    "# Ensure mlbID is converted to integers\n",
    "pitching['mlbID'] = pitching['mlbID'].astype(int)\n",
    "\n",
    "# Add an empty column 'key_bbref' initialized with None\n",
    "pitcher_ids = pitching[['Name', 'Tm', 'mlbID']].copy()\n",
    "pitcher_ids['key_bbref'] = None\n",
    "\n",
    "# Loop through each player ID and fetch their bbref ID\n",
    "for idx, row in pitcher_ids.iterrows():\n",
    "    mlb_id = row['mlbID']\n",
    "    \n",
    "    try:\n",
    "        # Fetch the data using the player ID\n",
    "        pitcherdata = playerid_reverse_lookup([mlb_id], key_type='mlbam')\n",
    "        \n",
    "        if not pitcherdata.empty:\n",
    "            bbref = pitcherdata.iloc[0]['key_bbref']  # Extract the bbref ID from the returned DataFrame\n",
    "            pitcher_ids.at[idx, 'key_bbref'] = bbref  # Assign the bbref ID to the respective row\n",
    "        else:\n",
    "            print(f\"No BBref ID found for mlbID: {mlb_id}, {row['Name']} (Pitcher)\")\n",
    "    except Exception as e:\n",
    "        print(f\"Error processing mlbID: {mlb_id}, Error: {e}\")\n"
   ]
  },
  {
   "cell_type": "code",
   "execution_count": 88,
   "metadata": {},
   "outputs": [],
   "source": [
    "batter_ids.to_csv('batter_ids.csv')\n",
    "pitcher_ids.to_csv('pitcher_ids.csv')"
   ]
  },
  {
   "cell_type": "code",
   "execution_count": null,
   "metadata": {},
   "outputs": [],
   "source": []
  }
 ],
 "metadata": {
  "kernelspec": {
   "display_name": "MLBpy",
   "language": "python",
   "name": "python3"
  },
  "language_info": {
   "codemirror_mode": {
    "name": "ipython",
    "version": 3
   },
   "file_extension": ".py",
   "mimetype": "text/x-python",
   "name": "python",
   "nbconvert_exporter": "python",
   "pygments_lexer": "ipython3",
   "version": "3.12.2"
  }
 },
 "nbformat": 4,
 "nbformat_minor": 2
}
