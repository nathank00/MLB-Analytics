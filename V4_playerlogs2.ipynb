{
 "cells": [
  {
   "cell_type": "code",
   "execution_count": 59,
   "metadata": {},
   "outputs": [],
   "source": [
    "import os\n",
    "import re\n",
    "import pandas as pd\n",
    "from pybaseball import statcast_batter, statcast_pitcher, playerid_lookup, pitching_stats_range, batting_stats_range, schedule_and_record, team_game_logs, batting_stats\n",
    "from datetime import timedelta, datetime\n",
    "import statsapi\n",
    "from statsapi import player_stat_data\n",
    "import pprint"
   ]
  },
  {
   "cell_type": "code",
   "execution_count": 2,
   "metadata": {},
   "outputs": [],
   "source": [
    "# Function to create a directory for player data if it doesn't exist\n",
    "def create_player_dir(player_type):\n",
    "    if not os.path.exists(player_type):\n",
    "        os.makedirs(player_type)"
   ]
  },
  {
   "cell_type": "code",
   "execution_count": 133,
   "metadata": {},
   "outputs": [],
   "source": [
    "# Function to store player data in a CSV file\n",
    "def store_player_data(player_id, data, player_type):\n",
    "    create_player_dir(player_type)\n",
    "    file_path = f\"{player_type}/{player_id}.csv\"\n",
    "    \n",
    "    # Check if CSV file already exists for player_id\n",
    "    if os.path.exists(file_path):\n",
    "        existing_data = pd.read_csv(file_path)\n",
    "        # Filter out rows that already exist in the existing_data\n",
    "        data_to_add = data[~data.isin(existing_data)].dropna()\n",
    "        if not data_to_add.empty:\n",
    "            updated_data = pd.concat([existing_data, data_to_add])\n",
    "            # Sort the data by the game date\n",
    "            updated_data = updated_data.sort_values(by='game_date')\n",
    "            updated_data.to_csv(file_path, index=False)\n",
    "    else:\n",
    "        # Sort the new data by the game date\n",
    "        data = data.sort_values(by='game_date')\n",
    "        data.to_csv(file_path, index=False)"
   ]
  },
  {
   "cell_type": "code",
   "execution_count": 119,
   "metadata": {},
   "outputs": [
    {
     "name": "stdout",
     "output_type": "stream",
     "text": [
      " Game-Data Error on 2024-05-08: list index out of range\n",
      " Game-Data Error on 2024-05-09: list index out of range\n",
      "Error fetching data for batter 677951: No objects to concatenate\n"
     ]
    }
   ],
   "source": [
    "from datetime import timedelta, datetime\n",
    "import pandas as pd\n",
    "\n",
    "# Function to fetch and store batter data\n",
    "def fetch_and_store_batter_data(start_date, end_date, player_ids):\n",
    "    for player_id in player_ids:\n",
    "        try:\n",
    "            # Initialize an empty list to collect data\n",
    "            all_data = []\n",
    "\n",
    "            # Loop over each date in the range and collect data\n",
    "            current_date = start_date\n",
    "            while current_date <= end_date:\n",
    "                try:\n",
    "                    fetched_data = batting_stats_range(current_date.strftime('%Y-%m-%d'))\n",
    "                    player_data = fetched_data[fetched_data['mlbID'] == player_id]\n",
    "\n",
    "                    if not player_data.empty:\n",
    "                        all_data.append(player_data)\n",
    "                except Exception as e:\n",
    "                    print(f\" Game-Data Error on {current_date.strftime('%Y-%m-%d')}: {e}\")\n",
    "                current_date += timedelta(days=1)\n",
    "\n",
    "            # Concatenate all the collected data\n",
    "            final_df = pd.concat(all_data)\n",
    "\n",
    "            store_player_data(player_id, final_df, 'batters')\n",
    "        except Exception as e:\n",
    "            print(f\"Error fetching data for batter {player_id}: {e}\")\n",
    "\n",
    "# Define the player IDs and the date range\n",
    "player_ids = [677951]\n",
    "end_date = datetime.now()- timedelta(days=15)\n",
    "start_date = end_date - timedelta(days=1)  # end_date - timedelta(days=2*365)\n",
    "start_date_str = start_date.strftime('%Y-%m-%d')\n",
    "end_date_str = end_date.strftime('%Y-%m-%d')\n",
    "#print(start_date_str, end_date_str)\n",
    "\n",
    "\n",
    "fetch_and_store_batter_data(start_date, end_date, player_ids)\n"
   ]
  },
  {
   "cell_type": "markdown",
   "metadata": {},
   "source": [
    "## Original Function Below"
   ]
  },
  {
   "cell_type": "code",
   "execution_count": 123,
   "metadata": {},
   "outputs": [
    {
     "name": "stdout",
     "output_type": "stream",
     "text": [
      "Error on 2024-05-14: list index out of range\n",
      "Error on 2024-05-15: list index out of range\n"
     ]
    },
    {
     "ename": "KeyboardInterrupt",
     "evalue": "",
     "output_type": "error",
     "traceback": [
      "\u001b[1;31m---------------------------------------------------------------------------\u001b[0m",
      "\u001b[1;31mKeyboardInterrupt\u001b[0m                         Traceback (most recent call last)",
      "Cell \u001b[1;32mIn[123], line 18\u001b[0m\n\u001b[0;32m     16\u001b[0m \u001b[38;5;28;01mwhile\u001b[39;00m current_date \u001b[38;5;241m<\u001b[39m\u001b[38;5;241m=\u001b[39m end_date:\n\u001b[0;32m     17\u001b[0m     \u001b[38;5;28;01mtry\u001b[39;00m:\n\u001b[1;32m---> 18\u001b[0m         player_data \u001b[38;5;241m=\u001b[39m \u001b[43mget_player_stats\u001b[49m\u001b[43m(\u001b[49m\u001b[43mcurrent_date\u001b[49m\u001b[43m,\u001b[49m\u001b[43m \u001b[49m\u001b[43mplayer_id\u001b[49m\u001b[43m)\u001b[49m\n\u001b[0;32m     19\u001b[0m         \u001b[38;5;28;01mif\u001b[39;00m \u001b[38;5;129;01mnot\u001b[39;00m player_data\u001b[38;5;241m.\u001b[39mempty:\n\u001b[0;32m     20\u001b[0m             all_data\u001b[38;5;241m.\u001b[39mappend(player_data)\n",
      "Cell \u001b[1;32mIn[123], line 8\u001b[0m, in \u001b[0;36mget_player_stats\u001b[1;34m(date, player_id)\u001b[0m\n\u001b[0;32m      7\u001b[0m \u001b[38;5;28;01mdef\u001b[39;00m \u001b[38;5;21mget_player_stats\u001b[39m(date, player_id):\n\u001b[1;32m----> 8\u001b[0m     df \u001b[38;5;241m=\u001b[39m \u001b[43mbatting_stats_range\u001b[49m\u001b[43m(\u001b[49m\u001b[43mdate\u001b[49m\u001b[38;5;241;43m.\u001b[39;49m\u001b[43mstrftime\u001b[49m\u001b[43m(\u001b[49m\u001b[38;5;124;43m'\u001b[39;49m\u001b[38;5;124;43m%\u001b[39;49m\u001b[38;5;124;43mY-\u001b[39;49m\u001b[38;5;124;43m%\u001b[39;49m\u001b[38;5;124;43mm-\u001b[39;49m\u001b[38;5;132;43;01m%d\u001b[39;49;00m\u001b[38;5;124;43m'\u001b[39;49m\u001b[43m)\u001b[49m\u001b[43m)\u001b[49m\n\u001b[0;32m      9\u001b[0m     \u001b[38;5;28;01mreturn\u001b[39;00m df[df[\u001b[38;5;124m'\u001b[39m\u001b[38;5;124mmlbID\u001b[39m\u001b[38;5;124m'\u001b[39m] \u001b[38;5;241m==\u001b[39m player_id]\n",
      "File \u001b[1;32mc:\\Users\\kesse\\Development\\MLB-Analytics\\MLBpy\\Lib\\site-packages\\pybaseball\\league_batting_stats.py:61\u001b[0m, in \u001b[0;36mbatting_stats_range\u001b[1;34m(start_dt, end_dt)\u001b[0m\n\u001b[0;32m     59\u001b[0m     \u001b[38;5;28;01mraise\u001b[39;00m \u001b[38;5;167;01mValueError\u001b[39;00m(\u001b[38;5;124m\"\u001b[39m\u001b[38;5;124mYear must be 2008 or later\u001b[39m\u001b[38;5;124m\"\u001b[39m)\n\u001b[0;32m     60\u001b[0m \u001b[38;5;66;03m# retrieve html from baseball reference\u001b[39;00m\n\u001b[1;32m---> 61\u001b[0m soup \u001b[38;5;241m=\u001b[39m \u001b[43mget_soup\u001b[49m\u001b[43m(\u001b[49m\u001b[43mstart_dt_date\u001b[49m\u001b[43m,\u001b[49m\u001b[43m \u001b[49m\u001b[43mend_dt_date\u001b[49m\u001b[43m)\u001b[49m\n\u001b[0;32m     62\u001b[0m table \u001b[38;5;241m=\u001b[39m get_table(soup)\n\u001b[0;32m     63\u001b[0m table \u001b[38;5;241m=\u001b[39m table\u001b[38;5;241m.\u001b[39mdropna(how\u001b[38;5;241m=\u001b[39m\u001b[38;5;124m'\u001b[39m\u001b[38;5;124mall\u001b[39m\u001b[38;5;124m'\u001b[39m)  \u001b[38;5;66;03m# drop if all columns are NA\u001b[39;00m\n",
      "File \u001b[1;32mc:\\Users\\kesse\\Development\\MLB-Analytics\\MLBpy\\Lib\\site-packages\\pybaseball\\league_batting_stats.py:21\u001b[0m, in \u001b[0;36mget_soup\u001b[1;34m(start_dt, end_dt)\u001b[0m\n\u001b[0;32m     15\u001b[0m \u001b[38;5;28;01mdef\u001b[39;00m \u001b[38;5;21mget_soup\u001b[39m(start_dt: date, end_dt: date) \u001b[38;5;241m-\u001b[39m\u001b[38;5;241m>\u001b[39m BeautifulSoup:\n\u001b[0;32m     16\u001b[0m     \u001b[38;5;66;03m# get most recent standings if date not specified\u001b[39;00m\n\u001b[0;32m     17\u001b[0m     \u001b[38;5;66;03m# if((start_dt is None) or (end_dt is None)):\u001b[39;00m\n\u001b[0;32m     18\u001b[0m     \u001b[38;5;66;03m#    print('Error: a date range needs to be specified')\u001b[39;00m\n\u001b[0;32m     19\u001b[0m     \u001b[38;5;66;03m#    return None\u001b[39;00m\n\u001b[0;32m     20\u001b[0m     url \u001b[38;5;241m=\u001b[39m \u001b[38;5;124m\"\u001b[39m\u001b[38;5;124mhttp://www.baseball-reference.com/leagues/daily.cgi?user_team=&bust_cache=&type=b&lastndays=7&dates=fromandto&fromandto=\u001b[39m\u001b[38;5;132;01m{}\u001b[39;00m\u001b[38;5;124m.\u001b[39m\u001b[38;5;132;01m{}\u001b[39;00m\u001b[38;5;124m&level=mlb&franch=&stat=&stat_value=0\u001b[39m\u001b[38;5;124m\"\u001b[39m\u001b[38;5;241m.\u001b[39mformat(start_dt, end_dt)\n\u001b[1;32m---> 21\u001b[0m     s \u001b[38;5;241m=\u001b[39m \u001b[43msession\u001b[49m\u001b[38;5;241;43m.\u001b[39;49m\u001b[43mget\u001b[49m\u001b[43m(\u001b[49m\u001b[43murl\u001b[49m\u001b[43m)\u001b[49m\u001b[38;5;241m.\u001b[39mcontent\n\u001b[0;32m     22\u001b[0m     \u001b[38;5;66;03m# a workaround to avoid beautiful soup applying the wrong encoding\u001b[39;00m\n\u001b[0;32m     23\u001b[0m     s \u001b[38;5;241m=\u001b[39m \u001b[38;5;28mstr\u001b[39m(s)\u001b[38;5;241m.\u001b[39mencode()\n",
      "File \u001b[1;32mc:\\Users\\kesse\\Development\\MLB-Analytics\\MLBpy\\Lib\\site-packages\\pybaseball\\datasources\\bref.py:30\u001b[0m, in \u001b[0;36mBRefSession.get\u001b[1;34m(self, url, **kwargs)\u001b[0m\n\u001b[0;32m     28\u001b[0m     sleep_length \u001b[38;5;241m=\u001b[39m (\u001b[38;5;241m60\u001b[39m \u001b[38;5;241m/\u001b[39m \u001b[38;5;28mself\u001b[39m\u001b[38;5;241m.\u001b[39mmax_requests_per_minute) \u001b[38;5;241m-\u001b[39m delta\u001b[38;5;241m.\u001b[39mtotal_seconds()\n\u001b[0;32m     29\u001b[0m     \u001b[38;5;28;01mif\u001b[39;00m sleep_length \u001b[38;5;241m>\u001b[39m \u001b[38;5;241m0\u001b[39m:\n\u001b[1;32m---> 30\u001b[0m         \u001b[43msleep\u001b[49m\u001b[43m(\u001b[49m\u001b[43msleep_length\u001b[49m\u001b[43m)\u001b[49m\n\u001b[0;32m     32\u001b[0m \u001b[38;5;28mself\u001b[39m\u001b[38;5;241m.\u001b[39mlast_request \u001b[38;5;241m=\u001b[39m datetime\u001b[38;5;241m.\u001b[39mdatetime\u001b[38;5;241m.\u001b[39mnow()\n\u001b[0;32m     34\u001b[0m \u001b[38;5;28;01mreturn\u001b[39;00m \u001b[38;5;28mself\u001b[39m\u001b[38;5;241m.\u001b[39msession\u001b[38;5;241m.\u001b[39mget(url, \u001b[38;5;241m*\u001b[39m\u001b[38;5;241m*\u001b[39mkwargs)\n",
      "\u001b[1;31mKeyboardInterrupt\u001b[0m: "
     ]
    }
   ],
   "source": [
    "# Define the player's ID and the date range\n",
    "player_id = 677951\n",
    "end_date = datetime.today()\n",
    "start_date = end_date - timedelta(days=10)         #end_date - timedelta(days=2*365)\n",
    "\n",
    "# Function to get stats for a specific date and player\n",
    "def get_player_stats(date, player_id):\n",
    "    df = batting_stats_range(date.strftime('%Y-%m-%d'))\n",
    "    return df[df['mlbID'] == player_id]\n",
    "\n",
    "# Initialize an empty list to collect data\n",
    "all_data = []\n",
    "\n",
    "# Loop over each date in the range and collect data\n",
    "current_date = start_date\n",
    "while current_date <= end_date:\n",
    "    try:\n",
    "        player_data = get_player_stats(current_date, player_id)\n",
    "        if not player_data.empty:\n",
    "            all_data.append(player_data)\n",
    "    except Exception as e:\n",
    "        print(f\"Error on {current_date.strftime('%Y-%m-%d')}: {e}\")\n",
    "    current_date += timedelta(days=1)\n",
    "\n",
    "# Concatenate all the collected data\n",
    "final_df = pd.concat(all_data)\n",
    "\n",
    "# Display the resulting DataFrame\n",
    "print(final_df)\n",
    "\n"
   ]
  },
  {
   "cell_type": "code",
   "execution_count": 94,
   "metadata": {},
   "outputs": [],
   "source": [
    "final_df.to_csv('witt.csv')"
   ]
  },
  {
   "cell_type": "code",
   "execution_count": 134,
   "metadata": {},
   "outputs": [
    {
     "ename": "IndexError",
     "evalue": "list index out of range",
     "output_type": "error",
     "traceback": [
      "\u001b[1;31m---------------------------------------------------------------------------\u001b[0m",
      "\u001b[1;31mIndexError\u001b[0m                                Traceback (most recent call last)",
      "Cell \u001b[1;32mIn[134], line 2\u001b[0m\n\u001b[0;32m      1\u001b[0m player_id \u001b[38;5;241m=\u001b[39m \u001b[38;5;241m677951\u001b[39m\n\u001b[1;32m----> 2\u001b[0m fetched_data \u001b[38;5;241m=\u001b[39m \u001b[43mbatting_stats_range\u001b[49m\u001b[43m(\u001b[49m\u001b[38;5;124;43m'\u001b[39;49m\u001b[38;5;124;43m2024-05-23\u001b[39;49m\u001b[38;5;124;43m'\u001b[39;49m\u001b[43m)\u001b[49m\n\u001b[0;32m      3\u001b[0m player_data \u001b[38;5;241m=\u001b[39m fetched_data[fetched_data[\u001b[38;5;124m'\u001b[39m\u001b[38;5;124mmlbID\u001b[39m\u001b[38;5;124m'\u001b[39m] \u001b[38;5;241m==\u001b[39m player_id]\n",
      "File \u001b[1;32mc:\\Users\\kesse\\Development\\MLB-Analytics\\MLBpy\\Lib\\site-packages\\pybaseball\\league_batting_stats.py:62\u001b[0m, in \u001b[0;36mbatting_stats_range\u001b[1;34m(start_dt, end_dt)\u001b[0m\n\u001b[0;32m     60\u001b[0m \u001b[38;5;66;03m# retrieve html from baseball reference\u001b[39;00m\n\u001b[0;32m     61\u001b[0m soup \u001b[38;5;241m=\u001b[39m get_soup(start_dt_date, end_dt_date)\n\u001b[1;32m---> 62\u001b[0m table \u001b[38;5;241m=\u001b[39m \u001b[43mget_table\u001b[49m\u001b[43m(\u001b[49m\u001b[43msoup\u001b[49m\u001b[43m)\u001b[49m\n\u001b[0;32m     63\u001b[0m table \u001b[38;5;241m=\u001b[39m table\u001b[38;5;241m.\u001b[39mdropna(how\u001b[38;5;241m=\u001b[39m\u001b[38;5;124m'\u001b[39m\u001b[38;5;124mall\u001b[39m\u001b[38;5;124m'\u001b[39m)  \u001b[38;5;66;03m# drop if all columns are NA\u001b[39;00m\n\u001b[0;32m     64\u001b[0m \u001b[38;5;66;03m# scraped data is initially in string format.\u001b[39;00m\n\u001b[0;32m     65\u001b[0m \u001b[38;5;66;03m# convert the necessary columns to numeric.\u001b[39;00m\n",
      "File \u001b[1;32mc:\\Users\\kesse\\Development\\MLB-Analytics\\MLBpy\\Lib\\site-packages\\pybaseball\\league_batting_stats.py:28\u001b[0m, in \u001b[0;36mget_table\u001b[1;34m(soup)\u001b[0m\n\u001b[0;32m     27\u001b[0m \u001b[38;5;28;01mdef\u001b[39;00m \u001b[38;5;21mget_table\u001b[39m(soup: BeautifulSoup) \u001b[38;5;241m-\u001b[39m\u001b[38;5;241m>\u001b[39m pd\u001b[38;5;241m.\u001b[39mDataFrame:\n\u001b[1;32m---> 28\u001b[0m     table \u001b[38;5;241m=\u001b[39m \u001b[43msoup\u001b[49m\u001b[38;5;241;43m.\u001b[39;49m\u001b[43mfind_all\u001b[49m\u001b[43m(\u001b[49m\u001b[38;5;124;43m'\u001b[39;49m\u001b[38;5;124;43mtable\u001b[39;49m\u001b[38;5;124;43m'\u001b[39;49m\u001b[43m)\u001b[49m\u001b[43m[\u001b[49m\u001b[38;5;241;43m0\u001b[39;49m\u001b[43m]\u001b[49m\n\u001b[0;32m     29\u001b[0m     data \u001b[38;5;241m=\u001b[39m []\n\u001b[0;32m     30\u001b[0m     headings \u001b[38;5;241m=\u001b[39m [th\u001b[38;5;241m.\u001b[39mget_text() \u001b[38;5;28;01mfor\u001b[39;00m th \u001b[38;5;129;01min\u001b[39;00m table\u001b[38;5;241m.\u001b[39mfind(\u001b[38;5;124m\"\u001b[39m\u001b[38;5;124mtr\u001b[39m\u001b[38;5;124m\"\u001b[39m)\u001b[38;5;241m.\u001b[39mfind_all(\u001b[38;5;124m\"\u001b[39m\u001b[38;5;124mth\u001b[39m\u001b[38;5;124m\"\u001b[39m)][\u001b[38;5;241m1\u001b[39m:]\n",
      "\u001b[1;31mIndexError\u001b[0m: list index out of range"
     ]
    }
   ],
   "source": [
    "player_id = 677951\n",
    "fetched_data = batting_stats_range('2024-05-23')\n",
    "player_data = fetched_data[fetched_data['mlbID'] == player_id]"
   ]
  },
  {
   "cell_type": "code",
   "execution_count": 125,
   "metadata": {},
   "outputs": [],
   "source": [
    "def fetch_data_with_logging(date='2024-05-23'):\n",
    "    try:\n",
    "        data = batting_stats_range(date)\n",
    "        if not data or 'mlbID' not in data.columns:\n",
    "            raise ValueError(\"Incomplete data received\")\n",
    "        return data\n",
    "    except Exception as e:\n",
    "        print(f\"Error fetching data for {date}: {e}\")\n",
    "        return pd.DataFrame()"
   ]
  },
  {
   "cell_type": "code",
   "execution_count": 129,
   "metadata": {},
   "outputs": [
    {
     "name": "stdout",
     "output_type": "stream",
     "text": [
      "Error fetching data for 2024-05-23: list index out of range\n",
      "Empty DataFrame\n",
      "Columns: []\n",
      "Index: []\n"
     ]
    }
   ],
   "source": [
    "print(fetch_data_with_logging())"
   ]
  },
  {
   "cell_type": "code",
   "execution_count": null,
   "metadata": {},
   "outputs": [],
   "source": []
  }
 ],
 "metadata": {
  "kernelspec": {
   "display_name": "MLBpy",
   "language": "python",
   "name": "python3"
  },
  "language_info": {
   "codemirror_mode": {
    "name": "ipython",
    "version": 3
   },
   "file_extension": ".py",
   "mimetype": "text/x-python",
   "name": "python",
   "nbconvert_exporter": "python",
   "pygments_lexer": "ipython3",
   "version": "3.12.2"
  }
 },
 "nbformat": 4,
 "nbformat_minor": 2
}
