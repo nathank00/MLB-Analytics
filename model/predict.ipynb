{
 "cells": [
  {
   "cell_type": "markdown",
   "metadata": {},
   "source": [
    "## Use xgb_model 1"
   ]
  },
  {
   "cell_type": "code",
   "execution_count": 4,
   "metadata": {},
   "outputs": [
    {
     "name": "stdout",
     "output_type": "stream",
     "text": [
      "Game 85: Over the runline\n",
      "Game 86: Over the runline\n",
      "Game 87: Over the runline\n",
      "Game 88: Under the runline\n",
      "Game 89: Over the runline\n",
      "Game 90: Over the runline\n",
      "Game 91: Over the runline\n",
      "Game 92: Over the runline\n",
      "Game 93: Over the runline\n",
      "Game 94: Over the runline\n",
      "Game 95: Over the runline\n",
      "Game 96: Under the runline\n",
      "Game 97: Over the runline\n",
      "Game 98: Over the runline\n",
      "Game 99: Over the runline\n"
     ]
    },
    {
     "name": "stderr",
     "output_type": "stream",
     "text": [
      "C:\\Users\\kesse\\AppData\\Local\\Temp\\ipykernel_22152\\2153317967.py:40: SettingWithCopyWarning: \n",
      "A value is trying to be set on a copy of a slice from a DataFrame.\n",
      "Try using .loc[row_indexer,col_indexer] = value instead\n",
      "\n",
      "See the caveats in the documentation: https://pandas.pydata.org/pandas-docs/stable/user_guide/indexing.html#returning-a-view-versus-a-copy\n",
      "  todays_games['prediction'] = predictions\n"
     ]
    }
   ],
   "source": [
    "\n",
    "import pandas as pd\n",
    "from datetime import datetime\n",
    "import joblib\n",
    "import xgboost as xgb\n",
    "\n",
    "# Load the dataset\n",
    "df = pd.read_csv('currentdata.csv')\n",
    "\n",
    "# Convert 'game_date' column to datetime objects\n",
    "df['game_date'] = pd.to_datetime(df['game_date'])\n",
    "\n",
    "# Change the 'push' games to equal 1.\n",
    "df.loc[df['over_under_runline'] == df['runs_total'], 'over_under_target'] = 1\n",
    "\n",
    "\n",
    "# Get today's date\n",
    "today = datetime.today().strftime('%Y-%m-%d')\n",
    "\n",
    "# Separate the data for today's games\n",
    "todays_games = df[df['game_date'] == today]\n",
    "\n",
    "# Check if there are any games today\n",
    "if todays_games.empty:\n",
    "    print(\"No games found for today.\")\n",
    "else:\n",
    "    # Define the columns to drop\n",
    "    columns_to_drop = [col for col in df.columns if 'Name' in col or 'ID' in col or '_P_' in col or '12' in col or '13' in col or '14' in col or '15'in col ]\n",
    "    columns_to_drop.extend(['over_under_target', 'runs_total', 'game_date', 'runs_home', 'runs_away', 'game_id', 'home_name', 'away_name']) \n",
    "\n",
    "    # Drop the unnecessary columns\n",
    "    X_todays_games = todays_games.drop(columns=columns_to_drop)\n",
    "\n",
    "    # Load the trained model (assuming it's saved as 'model.pkl')\n",
    "    xgb_model = joblib.load('xgb_model.pkl')\n",
    "\n",
    "# Make predictions\n",
    "predictions = xgb_model.predict(X_todays_games)\n",
    "\n",
    "# Interpret and display the predictions\n",
    "todays_games['prediction'] = predictions\n",
    "for i, row in todays_games.iterrows():\n",
    "    result = 'Over' if row['prediction'] == 1 else 'Under'\n",
    "    print(f\"Game {i + 2}: {result} the runline\")\n"
   ]
  },
  {
   "cell_type": "markdown",
   "metadata": {},
   "source": [
    "## Use xbg_model 0"
   ]
  },
  {
   "cell_type": "code",
   "execution_count": 6,
   "metadata": {},
   "outputs": [
    {
     "name": "stdout",
     "output_type": "stream",
     "text": [
      "Game 86: Under the runline\n",
      "Game 87: Under the runline\n",
      "Game 88: Over the runline\n",
      "Game 89: Under the runline\n",
      "Game 90: Over the runline\n",
      "Game 91: Over the runline\n",
      "Game 92: Under the runline\n",
      "Game 93: Under the runline\n",
      "Game 94: Over the runline\n",
      "Game 95: Under the runline\n",
      "Game 96: Under the runline\n",
      "Game 97: Under the runline\n",
      "Game 98: Over the runline\n",
      "Game 99: Under the runline\n",
      "Game 100: Under the runline\n"
     ]
    },
    {
     "name": "stderr",
     "output_type": "stream",
     "text": [
      "C:\\Users\\kesse\\AppData\\Local\\Temp\\ipykernel_22504\\3199355286.py:34: SettingWithCopyWarning: \n",
      "A value is trying to be set on a copy of a slice from a DataFrame.\n",
      "Try using .loc[row_indexer,col_indexer] = value instead\n",
      "\n",
      "See the caveats in the documentation: https://pandas.pydata.org/pandas-docs/stable/user_guide/indexing.html#returning-a-view-versus-a-copy\n",
      "  todays_games['prediction'] = predictions\n"
     ]
    }
   ],
   "source": [
    "# Load the dataset\n",
    "df0 = pd.read_csv('currentdata.csv')\n",
    "\n",
    "# Convert 'game_date' column to datetime objects\n",
    "df0['game_date'] = pd.to_datetime(df0['game_date'])\n",
    "\n",
    "# Change the 'push' games to equal 0.\n",
    "df0.loc[df0['over_under_runline'] == df0['runs_total'], 'over_under_target'] = 0\n",
    "\n",
    "# Get today's date\n",
    "today = datetime.today().strftime('%Y-%m-%d')\n",
    "\n",
    "# Separate the data for today's games\n",
    "todays_games = df[df['game_date'] == today]\n",
    "\n",
    "# Check if there are any games today\n",
    "if todays_games.empty:\n",
    "    print(\"No games found for today.\")\n",
    "else:\n",
    "    # Define the columns to drop\n",
    "    columns_to_drop = [col for col in df.columns if 'Name' in col or 'ID' in col or '_P_' in col or '12' in col or '13' in col or '14' in col or '15'in col ]\n",
    "    columns_to_drop.extend(['over_under_target', 'runs_total', 'game_date', 'runs_home', 'runs_away', 'game_id', 'home_name', 'away_name']) \n",
    "\n",
    "    # Drop the unnecessary columns\n",
    "    X_todays_games = todays_games.drop(columns=columns_to_drop)\n",
    "\n",
    "    # Load the trained model (assuming it's saved as 'model.pkl')\n",
    "    xgb_model = joblib.load('xgb_model_0.pkl')\n",
    "\n",
    "# Make predictions\n",
    "predictions = xgb_model.predict(X_todays_games)\n",
    "\n",
    "# Interpret and display the predictions\n",
    "todays_games['prediction'] = predictions\n",
    "for i, row in todays_games.iterrows():\n",
    "    result = 'Over' if row['prediction'] == 1 else 'Under'\n",
    "    print(f\"Game {i + 2}: {result} the runline\")"
   ]
  },
  {
   "cell_type": "code",
   "execution_count": null,
   "metadata": {},
   "outputs": [],
   "source": []
  }
 ],
 "metadata": {
  "kernelspec": {
   "display_name": "MLBpy",
   "language": "python",
   "name": "python3"
  },
  "language_info": {
   "codemirror_mode": {
    "name": "ipython",
    "version": 3
   },
   "file_extension": ".py",
   "mimetype": "text/x-python",
   "name": "python",
   "nbconvert_exporter": "python",
   "pygments_lexer": "ipython3",
   "version": "3.12.2"
  }
 },
 "nbformat": 4,
 "nbformat_minor": 2
}
