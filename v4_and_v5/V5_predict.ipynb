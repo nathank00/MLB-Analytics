{
 "cells": [
  {
   "cell_type": "markdown",
   "metadata": {},
   "source": [
    "## Generate Predictions using 'xgb_model.pkl'"
   ]
  },
  {
   "cell_type": "code",
   "execution_count": 8,
   "metadata": {},
   "outputs": [
    {
     "name": "stdout",
     "output_type": "stream",
     "text": [
      "Game 96: Under the runline\n",
      "Game 97: Over the runline\n",
      "Game 98: Over the runline\n",
      "Game 99: Over the runline\n",
      "Game 100: Under the runline\n",
      "Game 101: Over the runline\n",
      "Predictions saved to mlb-app/src/app/api/picks/file_location/2025-02-21.csv\n"
     ]
    },
    {
     "name": "stderr",
     "output_type": "stream",
     "text": [
      "/var/folders/5h/v8qm6jqd52q00q39r0ym2qhw0000gn/T/ipykernel_95205/1706453164.py:39: SettingWithCopyWarning: \n",
      "A value is trying to be set on a copy of a slice from a DataFrame.\n",
      "Try using .loc[row_indexer,col_indexer] = value instead\n",
      "\n",
      "See the caveats in the documentation: https://pandas.pydata.org/pandas-docs/stable/user_guide/indexing.html#returning-a-view-versus-a-copy\n",
      "  todays_games['prediction'] = predictions\n",
      "/var/folders/5h/v8qm6jqd52q00q39r0ym2qhw0000gn/T/ipykernel_95205/1706453164.py:49: SettingWithCopyWarning: \n",
      "A value is trying to be set on a copy of a slice from a DataFrame.\n",
      "Try using .loc[row_indexer,col_indexer] = value instead\n",
      "\n",
      "See the caveats in the documentation: https://pandas.pydata.org/pandas-docs/stable/user_guide/indexing.html#returning-a-view-versus-a-copy\n",
      "  todays_games['pick'] = todays_games['prediction'].map({1: 'Over', 0: 'Under'})\n"
     ]
    }
   ],
   "source": [
    "import pandas as pd\n",
    "from datetime import datetime\n",
    "import joblib\n",
    "import xgboost as xgb\n",
    "\n",
    "# Load the dataset\n",
    "df = pd.read_csv('../model/currentdata.csv')\n",
    "\n",
    "# Convert 'game_date' column to datetime objects\n",
    "df['game_date'] = pd.to_datetime(df['game_date'])\n",
    "\n",
    "# Change the 'push' games to equal 1.\n",
    "df.loc[df['over_under_runline'] == df['runs_total'], 'over_under_target'] = 1\n",
    "\n",
    "# Get today's date\n",
    "today = datetime.today().strftime('%Y-%m-%d')\n",
    "\n",
    "# Separate the data for today's games\n",
    "todays_games = df[df['game_date'] == today]\n",
    "\n",
    "# Check if there are any games today\n",
    "if todays_games.empty:\n",
    "    print(\"No games found for today.\")\n",
    "else:\n",
    "    # Define the columns to drop\n",
    "    columns_to_drop = [col for col in df.columns if 'Name' in col or 'ID' in col or '_P_' in col or '12' in col or '13' in col or '14' in col or '15'in col ]\n",
    "    columns_to_drop.extend(['over_under_target', 'runs_total', 'game_date', 'runs_home', 'runs_away', 'game_id', 'home_name', 'away_name']) \n",
    "\n",
    "    # Drop the unnecessary columns\n",
    "    X_todays_games = todays_games.drop(columns=columns_to_drop)\n",
    "\n",
    "    # Load the trained model (assuming it's saved as 'model.pkl')\n",
    "    xgb_model = joblib.load('xgb_model.pkl')\n",
    "\n",
    "# Make predictions\n",
    "predictions = xgb_model.predict(X_todays_games)\n",
    "\n",
    "# Interpret and display the predictions\n",
    "todays_games['prediction'] = predictions\n",
    "for i, row in todays_games.iterrows():\n",
    "    result = 'Over' if row['prediction'] == 1 else 'Under'\n",
    "    print(f\"Game {i + 2}: {result} the runline\")\n",
    "\n",
    "# ---------- CREATE CSV -----------\n",
    "\n",
    "import os\n",
    "\n",
    "# Map predictions to \"Over\" or \"Under\"\n",
    "todays_games['pick'] = todays_games['prediction'].map({1: 'Over', 0: 'Under'})\n",
    "\n",
    "# Create the output DataFrame\n",
    "output_df = todays_games[['game_id', 'home_name', 'away_name', 'over_under_runline', 'pick']].copy()\n",
    "\n",
    "# Rename columns to match required format\n",
    "output_df.columns = ['game_id', 'home_team', 'away_team', 'runline', 'pick']\n",
    "\n",
    "# Define the file path\n",
    "output_dir = 'mlb-app/src/app/api/picks/file_location'\n",
    "os.makedirs(output_dir, exist_ok=True)  # Ensure the directory exists\n",
    "\n",
    "# Define the filename with today's date\n",
    "output_file = os.path.join(output_dir, f\"{today}.csv\")\n",
    "\n",
    "# Save to CSV\n",
    "output_df.to_csv(output_file, index=False)\n",
    "\n",
    "print(f\"Predictions saved to {output_file}\")\n"
   ]
  },
  {
   "cell_type": "code",
   "execution_count": null,
   "metadata": {},
   "outputs": [],
   "source": []
  }
 ],
 "metadata": {
  "kernelspec": {
   "display_name": "mlb",
   "language": "python",
   "name": "python3"
  },
  "language_info": {
   "codemirror_mode": {
    "name": "ipython",
    "version": 3
   },
   "file_extension": ".py",
   "mimetype": "text/x-python",
   "name": "python",
   "nbconvert_exporter": "python",
   "pygments_lexer": "ipython3",
   "version": "3.11.5"
  }
 },
 "nbformat": 4,
 "nbformat_minor": 2
}
