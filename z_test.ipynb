{
 "cells": [
  {
   "cell_type": "code",
   "execution_count": 33,
   "id": "dae5c86d",
   "metadata": {},
   "outputs": [],
   "source": [
    "import requests\n",
    "\n",
    "def get_description(gamepk):\n",
    "    \"\"\"\n",
    "    Fetches a compact game state description for a given gamepk.\n",
    "    Format: 'inning: T9, outs: 2, runners: (1,2,3)'\n",
    "    \"\"\"\n",
    "    try:\n",
    "        url = f\"https://statsapi.mlb.com/api/v1.1/game/{gamepk}/feed/live\"\n",
    "        response = requests.get(url, timeout=10)\n",
    "        response.raise_for_status()\n",
    "        data = response.json()\n",
    "\n",
    "        linescore = data.get(\"liveData\", {}).get(\"linescore\", {})\n",
    "        inning_half = linescore.get(\"inningHalf\")\n",
    "        current_inning = linescore.get(\"currentInning\")\n",
    "        outs = linescore.get(\"outs\")\n",
    "\n",
    "        offense = linescore.get(\"offense\", {})\n",
    "\n",
    "        # Build runners list\n",
    "        bases_occupied = []\n",
    "        if offense.get(\"first\"):\n",
    "            bases_occupied.append(1)\n",
    "        if offense.get(\"second\"):\n",
    "            bases_occupied.append(2)\n",
    "        if offense.get(\"third\"):\n",
    "            bases_occupied.append(3)\n",
    "\n",
    "        bases_occupied.sort()\n",
    "\n",
    "        if inning_half and current_inning is not None and outs is not None:\n",
    "            inning_code = f\"{inning_half[0]}{current_inning}\"  # T1, B5, etc.\n",
    "            runners_str = f\"({','.join(str(b) for b in bases_occupied)})\" if bases_occupied else \"()\"\n",
    "            return f\"inning: {inning_code}, outs: {outs}, runners: {runners_str}\"\n",
    "        else:\n",
    "            detailed_state = data.get(\"gameData\", {}).get(\"status\", {}).get(\"detailedState\", \"Unknown\")\n",
    "            return detailed_state\n",
    "\n",
    "    except Exception as e:\n",
    "        print(f\"[GAME STATE ERROR] Game {gamepk}: {e}\")\n",
    "        return None\n"
   ]
  },
  {
   "cell_type": "code",
   "execution_count": 35,
   "id": "517cb64a",
   "metadata": {},
   "outputs": [
    {
     "data": {
      "text/plain": [
       "'inning: B2, outs: 1, runners: (2)'"
      ]
     },
     "execution_count": 35,
     "metadata": {},
     "output_type": "execute_result"
    }
   ],
   "source": [
    "get_description(778182)"
   ]
  },
  {
   "cell_type": "code",
   "execution_count": null,
   "id": "eee5dd5e",
   "metadata": {},
   "outputs": [],
   "source": []
  }
 ],
 "metadata": {
  "language_info": {
   "name": "python"
  }
 },
 "nbformat": 4,
 "nbformat_minor": 5
}
